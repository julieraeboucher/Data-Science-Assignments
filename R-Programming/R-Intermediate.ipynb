{
 "cells": [
  {
   "cell_type": "markdown",
   "id": "60a7cfb0-e118-49d6-92ac-4afa45d3ab1d",
   "metadata": {},
   "source": [
    "# Equality\n",
    "The most basic form of comparison is equality. Let's briefly recap its syntax. The following statements all evaluate to `TRUE` (feel free to try them out in the console).\n",
    "```\n",
    "3 == (2 + 1)\n",
    "\"intermediate\" != \"r\"\n",
    "TRUE != FALSE\n",
    "\"Rchitect\" != \"rchitect\"\n",
    "```\n",
    "Notice from the last expression that R is case sensitive: \"R\" is not equal to \"r\". Keep this in mind when solving the exercises in this chapter!"
   ]
  },
  {
   "cell_type": "markdown",
   "id": "290ddb3f-f571-4a32-bcd9-eda08fc96b1b",
   "metadata": {},
   "source": [
    "- In the editor on the right, write R code to see if `TRUE` equals `FALSE`.\n",
    "- Likewise, check if `-6 * 14` is not equal to `17 - 101`.\n",
    "- Next up: comparison of character strings. Ask R whether the strings `\"useR\"` and `\"user\"` are equal.\n",
    "- Finally, find out what happens if you compare logicals to numerics: are `TRUE` and 1 equal?\n"
   ]
  },
  {
   "cell_type": "code",
   "execution_count": 1,
   "id": "cb70e7d1-76e0-4e78-a94e-a24aef3da0cd",
   "metadata": {},
   "outputs": [
    {
     "data": {
      "text/html": [
       "FALSE"
      ],
      "text/latex": [
       "FALSE"
      ],
      "text/markdown": [
       "FALSE"
      ],
      "text/plain": [
       "[1] FALSE"
      ]
     },
     "metadata": {},
     "output_type": "display_data"
    },
    {
     "data": {
      "text/html": [
       "FALSE"
      ],
      "text/latex": [
       "FALSE"
      ],
      "text/markdown": [
       "FALSE"
      ],
      "text/plain": [
       "[1] FALSE"
      ]
     },
     "metadata": {},
     "output_type": "display_data"
    },
    {
     "data": {
      "text/html": [
       "FALSE"
      ],
      "text/latex": [
       "FALSE"
      ],
      "text/markdown": [
       "FALSE"
      ],
      "text/plain": [
       "[1] FALSE"
      ]
     },
     "metadata": {},
     "output_type": "display_data"
    },
    {
     "data": {
      "text/html": [
       "TRUE"
      ],
      "text/latex": [
       "TRUE"
      ],
      "text/markdown": [
       "TRUE"
      ],
      "text/plain": [
       "[1] TRUE"
      ]
     },
     "metadata": {},
     "output_type": "display_data"
    }
   ],
   "source": [
    "# Comparison of logicals\n",
    "TRUE == FALSE\n",
    "\n",
    "# Comparison of numerics\n",
    "-6 * 14 != 17 - 101\n",
    "\n",
    "# Comparison of character strings\n",
    "\"useR\" == \"user\"\n",
    "\n",
    "# Compare a logical with a numeric\n",
    "TRUE == 1"
   ]
  },
  {
   "cell_type": "markdown",
   "id": "2f4eaf0a-213a-430c-b604-45fb577142f0",
   "metadata": {},
   "source": [
    "# Greater and less than\n",
    "Apart from equality operators, Filip also introduced the less than and greater than operators: `<` and `>`. You can also add an equal sign to express less than or equal to or greater than or equal to, respectively. Have a look at the following R expressions, that all evaluate to `FALSE`:\n",
    "```\n",
    "(1 + 2) > 4\n",
    "\"dog\" < \"Cats\"\n",
    "TRUE <= FALSE\n",
    "```\n",
    "Remember that for string comparison, R determines the greater than relationship based on alphabetical order. Also, keep in mind that `TRUE is treated as 1` for arithmetic, and `FALSE is treated as 0`. Therefore, `FALSE < TRUE` is `TRUE`."
   ]
  },
  {
   "cell_type": "markdown",
   "id": "dbf9b5c0-e6b3-4677-97a9-78cf3aefd34a",
   "metadata": {},
   "source": [
    "Write R expressions to check whether:\n",
    "\n",
    "- `-6 * 5 + 2` is greater than or equal to `-10 + 1`.\n",
    "- `\"raining\"` is less than or equal to `\"raining dogs\"`.\n",
    "- `TRUE` is greater than `FALSE`."
   ]
  },
  {
   "cell_type": "code",
   "execution_count": 2,
   "id": "1dbe3c85-c5e6-49e4-9c9f-a0a4cd82894c",
   "metadata": {},
   "outputs": [
    {
     "data": {
      "text/html": [
       "FALSE"
      ],
      "text/latex": [
       "FALSE"
      ],
      "text/markdown": [
       "FALSE"
      ],
      "text/plain": [
       "[1] FALSE"
      ]
     },
     "metadata": {},
     "output_type": "display_data"
    },
    {
     "data": {
      "text/html": [
       "TRUE"
      ],
      "text/latex": [
       "TRUE"
      ],
      "text/markdown": [
       "TRUE"
      ],
      "text/plain": [
       "[1] TRUE"
      ]
     },
     "metadata": {},
     "output_type": "display_data"
    },
    {
     "data": {
      "text/html": [
       "TRUE"
      ],
      "text/latex": [
       "TRUE"
      ],
      "text/markdown": [
       "TRUE"
      ],
      "text/plain": [
       "[1] TRUE"
      ]
     },
     "metadata": {},
     "output_type": "display_data"
    }
   ],
   "source": [
    "# Comparison of numerics\n",
    "-6 * 5 + 2 >= -10 + 1\n",
    "\n",
    "# Comparison of character strings\n",
    "\"raining\" <= \"raining dogs\"\n",
    "\n",
    "# Comparison of logicals\n",
    "TRUE > FALSE"
   ]
  },
  {
   "cell_type": "markdown",
   "id": "8eea4d95-4649-45c8-a278-ef0f66c17088",
   "metadata": {},
   "source": [
    "# Compare vectors\n",
    "You are already aware that R is very good with vectors. Without having to change anything about the syntax, R's relational operators also work on vectors.\n",
    "\n",
    "Let's go back to the example that was started in the video. You want to figure out whether your activity on social media platforms have paid off and decide to look at your results for `LinkedIn` and `Facebook`. The sample code in the editor initializes the vectors linkedin and facebook. Each of the vectors contains the number of profile views your `LinkedIn` and `Facebook` profiles had over the last seven days."
   ]
  },
  {
   "cell_type": "markdown",
   "id": "6589bf19-98d1-479e-9f2f-61badcc8f160",
   "metadata": {},
   "source": [
    "Using relational operators, find a logical answer, i.e. `TRUE` or `FALSE`, for the following questions:\n",
    "\n",
    "- On which days did the number of LinkedIn profile views exceed 15?\n",
    "- When was your LinkedIn profile viewed only 5 times or fewer?\n",
    "- When was your LinkedIn profile visited more often than your Facebook profile?"
   ]
  },
  {
   "cell_type": "code",
   "execution_count": 3,
   "id": "89946301-2197-46a9-906f-844ebacb878e",
   "metadata": {},
   "outputs": [
    {
     "data": {
      "text/html": [
       "<style>\n",
       ".list-inline {list-style: none; margin:0; padding: 0}\n",
       ".list-inline>li {display: inline-block}\n",
       ".list-inline>li:not(:last-child)::after {content: \"\\00b7\"; padding: 0 .5ex}\n",
       "</style>\n",
       "<ol class=list-inline><li>TRUE</li><li>FALSE</li><li>FALSE</li><li>FALSE</li><li>FALSE</li><li>TRUE</li><li>FALSE</li></ol>\n"
      ],
      "text/latex": [
       "\\begin{enumerate*}\n",
       "\\item TRUE\n",
       "\\item FALSE\n",
       "\\item FALSE\n",
       "\\item FALSE\n",
       "\\item FALSE\n",
       "\\item TRUE\n",
       "\\item FALSE\n",
       "\\end{enumerate*}\n"
      ],
      "text/markdown": [
       "1. TRUE\n",
       "2. FALSE\n",
       "3. FALSE\n",
       "4. FALSE\n",
       "5. FALSE\n",
       "6. TRUE\n",
       "7. FALSE\n",
       "\n",
       "\n"
      ],
      "text/plain": [
       "[1]  TRUE FALSE FALSE FALSE FALSE  TRUE FALSE"
      ]
     },
     "metadata": {},
     "output_type": "display_data"
    },
    {
     "data": {
      "text/html": [
       "2"
      ],
      "text/latex": [
       "2"
      ],
      "text/markdown": [
       "2"
      ],
      "text/plain": [
       "[1] 2"
      ]
     },
     "metadata": {},
     "output_type": "display_data"
    },
    {
     "data": {
      "text/html": [
       "<style>\n",
       ".list-inline {list-style: none; margin:0; padding: 0}\n",
       ".list-inline>li {display: inline-block}\n",
       ".list-inline>li:not(:last-child)::after {content: \"\\00b7\"; padding: 0 .5ex}\n",
       "</style>\n",
       "<ol class=list-inline><li>FALSE</li><li>FALSE</li><li>FALSE</li><li>TRUE</li><li>TRUE</li><li>FALSE</li><li>FALSE</li></ol>\n"
      ],
      "text/latex": [
       "\\begin{enumerate*}\n",
       "\\item FALSE\n",
       "\\item FALSE\n",
       "\\item FALSE\n",
       "\\item TRUE\n",
       "\\item TRUE\n",
       "\\item FALSE\n",
       "\\item FALSE\n",
       "\\end{enumerate*}\n"
      ],
      "text/markdown": [
       "1. FALSE\n",
       "2. FALSE\n",
       "3. FALSE\n",
       "4. TRUE\n",
       "5. TRUE\n",
       "6. FALSE\n",
       "7. FALSE\n",
       "\n",
       "\n"
      ],
      "text/plain": [
       "[1] FALSE FALSE FALSE  TRUE  TRUE FALSE FALSE"
      ]
     },
     "metadata": {},
     "output_type": "display_data"
    },
    {
     "data": {
      "text/html": [
       "1"
      ],
      "text/latex": [
       "1"
      ],
      "text/markdown": [
       "1"
      ],
      "text/plain": [
       "[1] 1"
      ]
     },
     "metadata": {},
     "output_type": "display_data"
    },
    {
     "data": {
      "text/html": [
       "<style>\n",
       ".list-inline {list-style: none; margin:0; padding: 0}\n",
       ".list-inline>li {display: inline-block}\n",
       ".list-inline>li:not(:last-child)::after {content: \"\\00b7\"; padding: 0 .5ex}\n",
       "</style>\n",
       "<ol class=list-inline><li>FALSE</li><li>TRUE</li><li>TRUE</li><li>FALSE</li><li>FALSE</li><li>TRUE</li><li>FALSE</li></ol>\n"
      ],
      "text/latex": [
       "\\begin{enumerate*}\n",
       "\\item FALSE\n",
       "\\item TRUE\n",
       "\\item TRUE\n",
       "\\item FALSE\n",
       "\\item FALSE\n",
       "\\item TRUE\n",
       "\\item FALSE\n",
       "\\end{enumerate*}\n"
      ],
      "text/markdown": [
       "1. FALSE\n",
       "2. TRUE\n",
       "3. TRUE\n",
       "4. FALSE\n",
       "5. FALSE\n",
       "6. TRUE\n",
       "7. FALSE\n",
       "\n",
       "\n"
      ],
      "text/plain": [
       "[1] FALSE  TRUE  TRUE FALSE FALSE  TRUE FALSE"
      ]
     },
     "metadata": {},
     "output_type": "display_data"
    }
   ],
   "source": [
    "# The linkedin and facebook vectors have already been created for you\n",
    "linkedin <- c(16, 9, 13, 5, 2, 17, 14)\n",
    "facebook <- c(17, 7, 5, 16, 8, 13, 14)\n",
    "\n",
    "# Popular days\n",
    "linkedin > 15\n",
    "Popular_days <- sum(linkedin > 15)\n",
    "Popular_days\n",
    "\n",
    "# Quiet days\n",
    "linkedin <= 5\n",
    "quite_days <- sum(linkedin < 5)\n",
    "quite_days\n",
    "\n",
    "# LinkedIn more popular than Facebook\n",
    "more_popular <- linkedin > facebook\n",
    "more_popular"
   ]
  },
  {
   "cell_type": "markdown",
   "id": "6a2d08bf-446a-4b82-b5a7-463f183470b4",
   "metadata": {},
   "source": [
    "# Compare matrices\n",
    "R's ability to deal with different data structures for comparisons does not stop at vectors. Matrices and relational operators also work together seamlessly!\n",
    "\n",
    "Instead of in vectors (as in the previous exercise), the `LinkedIn` and `Facebook` data is now stored in a matrix called `views`. The first row contains the LinkedIn information; the second row the Facebook information. The original vectors facebook and linkedin are still available as well."
   ]
  },
  {
   "cell_type": "markdown",
   "id": "821df656-fef9-40e7-b66b-89f8d07d875b",
   "metadata": {},
   "source": [
    "Using the relational operators you've learned so far, try to discover the following:\n",
    "\n",
    "- When were the views exactly equal to 13? Use the `views` matrix to return a logical matrix.\n",
    "- For which days were the number of views less than or equal to 14? Again, have R return a logical matrix."
   ]
  },
  {
   "cell_type": "code",
   "execution_count": 4,
   "id": "1ec39a7d-5f68-4a2c-b439-cbbd01a56343",
   "metadata": {},
   "outputs": [
    {
     "data": {
      "text/html": [
       "<table class=\"dataframe\">\n",
       "<caption>A matrix: 2 × 7 of type lgl</caption>\n",
       "<tbody>\n",
       "\t<tr><td>FALSE</td><td>FALSE</td><td> TRUE</td><td>FALSE</td><td>FALSE</td><td>FALSE</td><td>FALSE</td></tr>\n",
       "\t<tr><td>FALSE</td><td>FALSE</td><td>FALSE</td><td>FALSE</td><td>FALSE</td><td> TRUE</td><td>FALSE</td></tr>\n",
       "</tbody>\n",
       "</table>\n"
      ],
      "text/latex": [
       "A matrix: 2 × 7 of type lgl\n",
       "\\begin{tabular}{lllllll}\n",
       "\t FALSE & FALSE &  TRUE & FALSE & FALSE & FALSE & FALSE\\\\\n",
       "\t FALSE & FALSE & FALSE & FALSE & FALSE &  TRUE & FALSE\\\\\n",
       "\\end{tabular}\n"
      ],
      "text/markdown": [
       "\n",
       "A matrix: 2 × 7 of type lgl\n",
       "\n",
       "| FALSE | FALSE |  TRUE | FALSE | FALSE | FALSE | FALSE |\n",
       "| FALSE | FALSE | FALSE | FALSE | FALSE |  TRUE | FALSE |\n",
       "\n"
      ],
      "text/plain": [
       "     [,1]  [,2]  [,3]  [,4]  [,5]  [,6]  [,7] \n",
       "[1,] FALSE FALSE  TRUE FALSE FALSE FALSE FALSE\n",
       "[2,] FALSE FALSE FALSE FALSE FALSE  TRUE FALSE"
      ]
     },
     "metadata": {},
     "output_type": "display_data"
    },
    {
     "data": {
      "text/html": [
       "<table class=\"dataframe\">\n",
       "<caption>A matrix: 2 × 7 of type lgl</caption>\n",
       "<tbody>\n",
       "\t<tr><td>FALSE</td><td>TRUE</td><td>TRUE</td><td> TRUE</td><td>TRUE</td><td>FALSE</td><td>TRUE</td></tr>\n",
       "\t<tr><td>FALSE</td><td>TRUE</td><td>TRUE</td><td>FALSE</td><td>TRUE</td><td> TRUE</td><td>TRUE</td></tr>\n",
       "</tbody>\n",
       "</table>\n"
      ],
      "text/latex": [
       "A matrix: 2 × 7 of type lgl\n",
       "\\begin{tabular}{lllllll}\n",
       "\t FALSE & TRUE & TRUE &  TRUE & TRUE & FALSE & TRUE\\\\\n",
       "\t FALSE & TRUE & TRUE & FALSE & TRUE &  TRUE & TRUE\\\\\n",
       "\\end{tabular}\n"
      ],
      "text/markdown": [
       "\n",
       "A matrix: 2 × 7 of type lgl\n",
       "\n",
       "| FALSE | TRUE | TRUE |  TRUE | TRUE | FALSE | TRUE |\n",
       "| FALSE | TRUE | TRUE | FALSE | TRUE |  TRUE | TRUE |\n",
       "\n"
      ],
      "text/plain": [
       "     [,1]  [,2] [,3] [,4]  [,5] [,6]  [,7]\n",
       "[1,] FALSE TRUE TRUE  TRUE TRUE FALSE TRUE\n",
       "[2,] FALSE TRUE TRUE FALSE TRUE  TRUE TRUE"
      ]
     },
     "metadata": {},
     "output_type": "display_data"
    }
   ],
   "source": [
    "# The social data has been created for you\n",
    "linkedin <- c(16, 9, 13, 5, 2, 17, 14)\n",
    "facebook <- c(17, 7, 5, 16, 8, 13, 14)\n",
    "views <- matrix(c(linkedin, facebook), nrow = 2, byrow = TRUE)\n",
    "\n",
    "# When does views equal 13?\n",
    "views == 13\n",
    "\n",
    "# When is views less than or equal to 14?\n",
    "views <= 14"
   ]
  },
  {
   "cell_type": "code",
   "execution_count": null,
   "id": "4c8d96b5-23eb-440c-8f24-f8b28af244d7",
   "metadata": {},
   "outputs": [],
   "source": []
  }
 ],
 "metadata": {
  "kernelspec": {
   "display_name": "R",
   "language": "R",
   "name": "ir"
  },
  "language_info": {
   "codemirror_mode": "r",
   "file_extension": ".r",
   "mimetype": "text/x-r-source",
   "name": "R",
   "pygments_lexer": "r",
   "version": "4.2.1"
  }
 },
 "nbformat": 4,
 "nbformat_minor": 5
}
