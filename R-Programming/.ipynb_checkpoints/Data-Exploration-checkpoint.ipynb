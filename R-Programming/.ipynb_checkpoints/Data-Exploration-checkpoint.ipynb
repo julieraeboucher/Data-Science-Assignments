{
 "cells": [
  {
   "cell_type": "markdown",
   "id": "935e558f-d152-49d0-b0bc-49d55d73b280",
   "metadata": {},
   "source": [
    "# Statistical Programming in R : Data Exploration"
   ]
  },
  {
   "cell_type": "markdown",
   "id": "56c2aea8-76a2-43bc-ba22-d2a613fc2806",
   "metadata": {},
   "source": [
    "## Directions\n",
    "For this Hands-On, you will compare five countries of your choice. You can see the countries in the gapminder data frame with the below command:\n",
    "\n",
    "`levels(gapminder$country)`"
   ]
  },
  {
   "cell_type": "markdown",
   "id": "12ad8c6f-4b1d-4106-a6f7-5a24341410b9",
   "metadata": {},
   "source": [
    "## Requirements\n",
    "Choose five countries from the resulting list after running the above command. Then use them to answer each of these questions:\n",
    "\n",
    "1. Which country of the five you chose has the lowest per capita GDP in 1952? In 2007?\n",
    "2. Which has the highest per capita GDP in 1952? In 2007?\n",
    "3. Create a line plot with year on the horizontal axis and lifeExp on the vertical axis for the five countries; give each country a different color line. Describe the variations in life expectancy between the countries.\n",
    "4. On the entire gapminder data frame, compute the median of lifeExp for each year. For what years is the life expectancy for your five countries above the median life expectancy for the entire gapminder data frame?"
   ]
  },
  {
   "cell_type": "markdown",
   "id": "5828f9ad-0f4e-4473-903a-3aee53dc07a7",
   "metadata": {},
   "source": [
    "---"
   ]
  },
  {
   "cell_type": "markdown",
   "id": "930e3f37-e9ab-48b0-9711-b606811a727f",
   "metadata": {},
   "source": [
    "# Install Packages"
   ]
  },
  {
   "cell_type": "code",
   "execution_count": 2,
   "id": "6763bdb1-d859-427e-90a1-51e9707ed47c",
   "metadata": {},
   "outputs": [],
   "source": [
    "library(dplyr)\n",
    "library(ggplot2)"
   ]
  },
  {
   "cell_type": "code",
   "execution_count": null,
   "id": "c2aeccac-505c-4ab0-8090-5975098a278e",
   "metadata": {},
   "outputs": [],
   "source": []
  }
 ],
 "metadata": {
  "kernelspec": {
   "display_name": "R",
   "language": "R",
   "name": "ir"
  },
  "language_info": {
   "codemirror_mode": "r",
   "file_extension": ".r",
   "mimetype": "text/x-r-source",
   "name": "R",
   "pygments_lexer": "r",
   "version": "4.2.1"
  }
 },
 "nbformat": 4,
 "nbformat_minor": 5
}
