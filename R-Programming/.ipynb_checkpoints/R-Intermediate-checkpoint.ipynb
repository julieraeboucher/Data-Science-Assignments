{
 "cells": [
  {
   "cell_type": "markdown",
   "id": "60a7cfb0-e118-49d6-92ac-4afa45d3ab1d",
   "metadata": {},
   "source": [
    "# Equality\n",
    "The most basic form of comparison is equality. Let's briefly recap its syntax. The following statements all evaluate to `TRUE` (feel free to try them out in the console).\n",
    "```\n",
    "3 == (2 + 1)\n",
    "\"intermediate\" != \"r\"\n",
    "TRUE != FALSE\n",
    "\"Rchitect\" != \"rchitect\"\n",
    "```\n",
    "Notice from the last expression that R is case sensitive: \"R\" is not equal to \"r\". Keep this in mind when solving the exercises in this chapter!"
   ]
  },
  {
   "cell_type": "markdown",
   "id": "290ddb3f-f571-4a32-bcd9-eda08fc96b1b",
   "metadata": {},
   "source": [
    "- In the editor on the right, write R code to see if `TRUE` equals `FALSE`.\n",
    "- Likewise, check if `-6 * 14` is not equal to `17 - 101`.\n",
    "- Next up: comparison of character strings. Ask R whether the strings `\"useR\"` and `\"user\"` are equal.\n",
    "- Finally, find out what happens if you compare logicals to numerics: are `TRUE` and 1 equal?\n"
   ]
  },
  {
   "cell_type": "code",
   "execution_count": 1,
   "id": "cb70e7d1-76e0-4e78-a94e-a24aef3da0cd",
   "metadata": {},
   "outputs": [
    {
     "data": {
      "text/html": [
       "FALSE"
      ],
      "text/latex": [
       "FALSE"
      ],
      "text/markdown": [
       "FALSE"
      ],
      "text/plain": [
       "[1] FALSE"
      ]
     },
     "metadata": {},
     "output_type": "display_data"
    },
    {
     "data": {
      "text/html": [
       "FALSE"
      ],
      "text/latex": [
       "FALSE"
      ],
      "text/markdown": [
       "FALSE"
      ],
      "text/plain": [
       "[1] FALSE"
      ]
     },
     "metadata": {},
     "output_type": "display_data"
    },
    {
     "data": {
      "text/html": [
       "FALSE"
      ],
      "text/latex": [
       "FALSE"
      ],
      "text/markdown": [
       "FALSE"
      ],
      "text/plain": [
       "[1] FALSE"
      ]
     },
     "metadata": {},
     "output_type": "display_data"
    },
    {
     "data": {
      "text/html": [
       "TRUE"
      ],
      "text/latex": [
       "TRUE"
      ],
      "text/markdown": [
       "TRUE"
      ],
      "text/plain": [
       "[1] TRUE"
      ]
     },
     "metadata": {},
     "output_type": "display_data"
    }
   ],
   "source": [
    "# Comparison of logicals\n",
    "TRUE == FALSE\n",
    "\n",
    "# Comparison of numerics\n",
    "-6 * 14 != 17 - 101\n",
    "\n",
    "# Comparison of character strings\n",
    "\"useR\" == \"user\"\n",
    "\n",
    "# Compare a logical with a numeric\n",
    "TRUE == 1"
   ]
  },
  {
   "cell_type": "code",
   "execution_count": null,
   "id": "4937bbbe-432b-42aa-b196-21533144b7c1",
   "metadata": {},
   "outputs": [],
   "source": []
  }
 ],
 "metadata": {
  "kernelspec": {
   "display_name": "R",
   "language": "R",
   "name": "ir"
  },
  "language_info": {
   "codemirror_mode": "r",
   "file_extension": ".r",
   "mimetype": "text/x-r-source",
   "name": "R",
   "pygments_lexer": "r",
   "version": "4.2.1"
  }
 },
 "nbformat": 4,
 "nbformat_minor": 5
}
