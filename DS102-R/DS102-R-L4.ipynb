{
 "cells": [
  {
   "cell_type": "markdown",
   "id": "e2ef9d05-19bb-4c69-8c43-9b36f696a087",
   "metadata": {},
   "source": [
    "# DS102 Statistical Programming in R  : Lesson Four - Vectors and Sample Statistics\n",
    "\n",
    "## Requirements\n",
    "\n",
    "The eruption times for Old Faithful are clustered into two different groups. One group is short eruptions, and the other group is long eruptions. Short eruptions last three minutes or less, while long eruptions last more than three minutes. As below, define the vector ```eruptions.times``` as:\n",
    "\n",
    "```eruptions.times <- faithful$eruptions```\n",
    "\n",
    "Split the vector ```eruptions.times``` into two vectors: a vector ```short``` that contains the times less than or equal to three minutes, and a vector ```long``` that contains the times greater than three minutes. Answer the following questions:\n",
    "\n",
    "1. How many elements are in the vector ```short```?\n",
    "\n",
    "2. How many elements are in the vector ```long```?\n",
    "\n",
    "3. What is the mean erruption time of the short eruptions?\n",
    "\n",
    "4. What is the mean erruption time of the long eruptions?\n",
    "\n",
    "5. What is the standard deviation of the short eruption times?\n",
    "\n",
    "6. What is the standard deviation of the long eruption times?"
   ]
  },
  {
   "cell_type": "code",
   "execution_count": 2,
   "id": "01b9a23e-6318-451d-922b-e1895a2ac3e9",
   "metadata": {},
   "outputs": [
    {
     "data": {
      "text/html": [
       "<table class=\"dataframe\">\n",
       "<caption>A data.frame: 6 × 2</caption>\n",
       "<thead>\n",
       "\t<tr><th></th><th scope=col>eruptions</th><th scope=col>waiting</th></tr>\n",
       "\t<tr><th></th><th scope=col>&lt;dbl&gt;</th><th scope=col>&lt;dbl&gt;</th></tr>\n",
       "</thead>\n",
       "<tbody>\n",
       "\t<tr><th scope=row>1</th><td>3.600</td><td>79</td></tr>\n",
       "\t<tr><th scope=row>2</th><td>1.800</td><td>54</td></tr>\n",
       "\t<tr><th scope=row>3</th><td>3.333</td><td>74</td></tr>\n",
       "\t<tr><th scope=row>4</th><td>2.283</td><td>62</td></tr>\n",
       "\t<tr><th scope=row>5</th><td>4.533</td><td>85</td></tr>\n",
       "\t<tr><th scope=row>6</th><td>2.883</td><td>55</td></tr>\n",
       "</tbody>\n",
       "</table>\n"
      ],
      "text/latex": [
       "A data.frame: 6 × 2\n",
       "\\begin{tabular}{r|ll}\n",
       "  & eruptions & waiting\\\\\n",
       "  & <dbl> & <dbl>\\\\\n",
       "\\hline\n",
       "\t1 & 3.600 & 79\\\\\n",
       "\t2 & 1.800 & 54\\\\\n",
       "\t3 & 3.333 & 74\\\\\n",
       "\t4 & 2.283 & 62\\\\\n",
       "\t5 & 4.533 & 85\\\\\n",
       "\t6 & 2.883 & 55\\\\\n",
       "\\end{tabular}\n"
      ],
      "text/markdown": [
       "\n",
       "A data.frame: 6 × 2\n",
       "\n",
       "| <!--/--> | eruptions &lt;dbl&gt; | waiting &lt;dbl&gt; |\n",
       "|---|---|---|\n",
       "| 1 | 3.600 | 79 |\n",
       "| 2 | 1.800 | 54 |\n",
       "| 3 | 3.333 | 74 |\n",
       "| 4 | 2.283 | 62 |\n",
       "| 5 | 4.533 | 85 |\n",
       "| 6 | 2.883 | 55 |\n",
       "\n"
      ],
      "text/plain": [
       "  eruptions waiting\n",
       "1 3.600     79     \n",
       "2 1.800     54     \n",
       "3 3.333     74     \n",
       "4 2.283     62     \n",
       "5 4.533     85     \n",
       "6 2.883     55     "
      ]
     },
     "metadata": {},
     "output_type": "display_data"
    }
   ],
   "source": [
    "head(faithful)"
   ]
  },
  {
   "cell_type": "markdown",
   "id": "a0b510b1-1ffa-4eec-a0f7-9ba0cf28297a",
   "metadata": {},
   "source": [
    "1. How many elements are in the vector ```short```?"
   ]
  },
  {
   "cell_type": "code",
   "execution_count": 8,
   "id": "3cf10e63-189a-4443-ba93-4924b77fcc7d",
   "metadata": {},
   "outputs": [],
   "source": [
    "short <- (faithful$eruptions <= 3)"
   ]
  },
  {
   "cell_type": "code",
   "execution_count": 25,
   "id": "b81217a2-556f-4354-a36b-12586ad04435",
   "metadata": {},
   "outputs": [],
   "source": [
    "# short[1:272]"
   ]
  },
  {
   "cell_type": "markdown",
   "id": "4d42c4a1-5dcd-4f2d-a0d2-9197637da9b0",
   "metadata": {},
   "source": [
    "2. How many elements are in the vector ```long```?"
   ]
  },
  {
   "cell_type": "code",
   "execution_count": 9,
   "id": "5b30f153-f786-4ec3-871c-3ca768fe800b",
   "metadata": {},
   "outputs": [],
   "source": [
    "long <- (faithful$eruptions > 3)"
   ]
  },
  {
   "cell_type": "code",
   "execution_count": 28,
   "id": "de2d68d9-bc47-47f8-8b69-17820d1c73df",
   "metadata": {},
   "outputs": [],
   "source": [
    "# long[1:272]"
   ]
  },
  {
   "cell_type": "markdown",
   "id": "1ec94073-415b-45bc-9e98-b0d7b5d9b3e9",
   "metadata": {},
   "source": [
    "3. What is the mean erruption time of the short eruptions?"
   ]
  },
  {
   "cell_type": "code",
   "execution_count": 10,
   "id": "390ecb22-86c4-40b8-8b29-3c44ede59d8b",
   "metadata": {},
   "outputs": [
    {
     "data": {
      "text/html": [
       "0.356617647058824"
      ],
      "text/latex": [
       "0.356617647058824"
      ],
      "text/markdown": [
       "0.356617647058824"
      ],
      "text/plain": [
       "[1] 0.3566176"
      ]
     },
     "metadata": {},
     "output_type": "display_data"
    }
   ],
   "source": [
    "mean(short)"
   ]
  },
  {
   "cell_type": "markdown",
   "id": "ccfef41d-645f-47e7-ba23-4d39515a0cfb",
   "metadata": {},
   "source": [
    "4. What is the mean erruption time of the long eruptions?"
   ]
  },
  {
   "cell_type": "code",
   "execution_count": 11,
   "id": "da2a38b1-0997-4f1c-aff2-5929fc51a750",
   "metadata": {},
   "outputs": [
    {
     "data": {
      "text/html": [
       "0.643382352941177"
      ],
      "text/latex": [
       "0.643382352941177"
      ],
      "text/markdown": [
       "0.643382352941177"
      ],
      "text/plain": [
       "[1] 0.6433824"
      ]
     },
     "metadata": {},
     "output_type": "display_data"
    }
   ],
   "source": [
    "mean(long)"
   ]
  },
  {
   "cell_type": "markdown",
   "id": "a8fe5ca7-8c41-4264-a6c9-60d1b73f99ce",
   "metadata": {},
   "source": [
    "5. What is the standard deviation of the short eruption times?"
   ]
  },
  {
   "cell_type": "code",
   "execution_count": 12,
   "id": "35f96718-c3bb-43be-a4c4-cbb15ca00810",
   "metadata": {},
   "outputs": [
    {
     "data": {
      "text/html": [
       "0.479883473845181"
      ],
      "text/latex": [
       "0.479883473845181"
      ],
      "text/markdown": [
       "0.479883473845181"
      ],
      "text/plain": [
       "[1] 0.4798835"
      ]
     },
     "metadata": {},
     "output_type": "display_data"
    }
   ],
   "source": [
    "sd(short)"
   ]
  },
  {
   "cell_type": "markdown",
   "id": "90328e0d-ed19-457a-b9c5-5f4f9ca10091",
   "metadata": {},
   "source": [
    "6. What is the standard deviation of the long eruption times?"
   ]
  },
  {
   "cell_type": "code",
   "execution_count": 13,
   "id": "1643332a-e7e3-4108-a66f-59f9b5410bf1",
   "metadata": {},
   "outputs": [
    {
     "data": {
      "text/html": [
       "0.479883473845181"
      ],
      "text/latex": [
       "0.479883473845181"
      ],
      "text/markdown": [
       "0.479883473845181"
      ],
      "text/plain": [
       "[1] 0.4798835"
      ]
     },
     "metadata": {},
     "output_type": "display_data"
    }
   ],
   "source": [
    "sd(long)"
   ]
  },
  {
   "cell_type": "code",
   "execution_count": null,
   "id": "ad845572-31b3-47ac-a803-e8731395928d",
   "metadata": {},
   "outputs": [],
   "source": []
  }
 ],
 "metadata": {
  "kernelspec": {
   "display_name": "R",
   "language": "R",
   "name": "ir"
  },
  "language_info": {
   "codemirror_mode": "r",
   "file_extension": ".r",
   "mimetype": "text/x-r-source",
   "name": "R",
   "pygments_lexer": "r",
   "version": "4.1.2"
  }
 },
 "nbformat": 4,
 "nbformat_minor": 5
}
