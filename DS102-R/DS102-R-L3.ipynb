{
 "cells": [
  {
   "cell_type": "markdown",
   "id": "67162c79-952d-4dc3-9dc9-74e78680ccc9",
   "metadata": {},
   "source": [
    "# Lesson 3 - R For Loops\n",
    "\n",
    "## Requirements\n",
    "\n",
    "Premier restaurants and bars are now serving drinks with ice spheres rather than ice cubes to chill the drink. Suppose you work for an ice vendor, and are tasked with measuring the size of manufactured ice spheres. Rather than measure the diameter directly, you weigh each sphere. You consulted with your company's ice scientist, and they gave you the following formula to convert the ice sphere's weight in grams to its diameter in inches (assuming it is weighed at 0 degrees Fahrenheit and is perfectly spherical); d is the sphere's diameter, and w is the sphere's weight.\n",
    "\n",
    "---\n",
    "![d equals two divided by two point five four open parentheses w divided by zero point nine two times four thirds times pi close parentheses to one third power.](Media/L03-Exam.png)\n",
    "\n",
    "---\n",
    "Create a function called ```diam()``` that computes the diameter of the sphere from its argument.\n",
    "Create a for loop that will use your ```diam()``` function to compute the diameters of spheres with the following weights in grams: 0.96, 1.51, 2.17, 3.85, 4.45, and 6.02.\n"
   ]
  },
  {
   "cell_type": "markdown",
   "id": "b541de4c-8b71-46fe-aebc-81275049434e",
   "metadata": {},
   "source": []
  }
 ],
 "metadata": {
  "kernelspec": {
   "display_name": "R",
   "language": "R",
   "name": "ir"
  },
  "language_info": {
   "codemirror_mode": "r",
   "file_extension": ".r",
   "mimetype": "text/x-r-source",
   "name": "R",
   "pygments_lexer": "r",
   "version": "4.1.2"
  }
 },
 "nbformat": 4,
 "nbformat_minor": 5
}
