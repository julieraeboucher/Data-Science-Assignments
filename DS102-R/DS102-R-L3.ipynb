{
 "cells": [
  {
   "cell_type": "markdown",
   "id": "67162c79-952d-4dc3-9dc9-74e78680ccc9",
   "metadata": {},
   "source": [
    "# Lesson 3 - R For Loops\n",
    "\n",
    "## Requirements\n",
    "\n",
    "Premier restaurants and bars are now serving drinks with ice spheres rather than ice cubes to chill the drink. Suppose you work for an ice vendor, and are tasked with measuring the size of manufactured ice spheres. Rather than measure the diameter directly, you weigh each sphere. You consulted with your company's ice scientist, and they gave you the following formula to convert the ice sphere's weight in grams to its diameter in inches (assuming it is weighed at 0 degrees Fahrenheit and is perfectly spherical); d is the sphere's diameter, and w is the sphere's weight.\n",
    "\n",
    "---\n",
    "![d equals two divided by two point five four open parentheses w divided by zero point nine two times four thirds times pi close parentheses to one third power.](Media/SphereDiameterFormula.png)\n",
    "\n",
    "---\n",
    "Create a function called ```diam()``` that computes the diameter of the sphere from its argument.\n",
    "Create a for loop that will use your ```diam()``` function to compute the diameters of spheres with the following weights in grams: 0.96, 1.51, 2.17, 3.85, 4.45, and 6.02.\n"
   ]
  },
  {
   "cell_type": "markdown",
   "id": "b541de4c-8b71-46fe-aebc-81275049434e",
   "metadata": {},
   "source": [
    "# Step by Step\n",
    "- Vector\n",
    "- Function\n",
    "- For Loop"
   ]
  },
  {
   "cell_type": "markdown",
   "id": "6e9a1264-f7dd-49f2-9512-78cde211762a",
   "metadata": {},
   "source": [
    "# Create Vector:"
   ]
  },
  {
   "cell_type": "code",
   "execution_count": 2,
   "id": "06dd9052-9f5b-45e5-954e-29805a0674b4",
   "metadata": {},
   "outputs": [],
   "source": [
    "# Create a vector aka list called \"diam\", use \"c()\" function to create the vector\n",
    "weights <- c(0.96, 1.51, 2.17, 3.85, 4.45, 6.02)"
   ]
  },
  {
   "cell_type": "markdown",
   "id": "aa7579b1-2884-4fa3-9bc6-5e1a1ac4160e",
   "metadata": {},
   "source": [
    "# Create Function:"
   ]
  },
  {
   "cell_type": "code",
   "execution_count": 3,
   "id": "35a89641-7273-4380-8438-ecbac6c4bb65",
   "metadata": {},
   "outputs": [],
   "source": [
    "# Using the \"function()\" called \"diam\". Naming our variable \"w\" \n",
    "diam = function(w){ (2/2.54) * (w/ 0.92 * (4/3) * pi) ^ 1/3}"
   ]
  },
  {
   "cell_type": "markdown",
   "id": "cbf10172-a0b8-4550-91a2-6a532c414a4f",
   "metadata": {},
   "source": [
    "- We have our Vector and Function created. \n",
    "- Now Let's combined the Vector and Function through iterating the vector into the function. "
   ]
  },
  {
   "cell_type": "markdown",
   "id": "402dff01-4f7c-41a5-ac68-e6d0b2631d48",
   "metadata": {},
   "source": [
    "# Create For Loop:"
   ]
  },
  {
   "cell_type": "markdown",
   "id": "af0b0b94-62d2-401d-8e3a-105729ba7e55",
   "metadata": {},
   "source": [
    "## Example 1\n",
    "```{r}\n",
    "for (variable in iterable) {\n",
    "   print(function(variable))\n",
    "}\n",
    "```"
   ]
  },
  {
   "cell_type": "code",
   "execution_count": 4,
   "id": "12499930-ccf6-4b76-99c7-95294adca8f1",
   "metadata": {},
   "outputs": [
    {
     "name": "stdout",
     "output_type": "stream",
     "text": [
      "[1] 1.147221\n",
      "[1] 1.804483\n",
      "[1] 2.593197\n",
      "[1] 4.600834\n",
      "[1] 5.317847\n",
      "[1] 7.194031\n"
     ]
    }
   ],
   "source": [
    "for (w in weights) {\n",
    "  print(diam(w))\n",
    "}"
   ]
  },
  {
   "cell_type": "markdown",
   "id": "08d0e4b1-dc21-4737-99b8-c84fe1a8f6a6",
   "metadata": {},
   "source": [
    "## Example 2 \n",
    "```{r}\n",
    "for (variable in iterable) {\n",
    "   cat(variable, function(variable),\"\\n\")\n",
    "}\n",
    "```"
   ]
  },
  {
   "cell_type": "code",
   "execution_count": 5,
   "id": "7484873a-c927-4ca4-a21a-128164ba525a",
   "metadata": {},
   "outputs": [
    {
     "name": "stdout",
     "output_type": "stream",
     "text": [
      "0.96 1.147221 \n",
      "1.51 1.804483 \n",
      "2.17 2.593197 \n",
      "3.85 4.600834 \n",
      "4.45 5.317847 \n",
      "6.02 7.194031 \n"
     ]
    }
   ],
   "source": [
    "for (w in weights) {\n",
    "  cat(w,diam(w),\"\\n\")\n",
    "}"
   ]
  },
  {
   "cell_type": "markdown",
   "id": "65a2f511-cea5-474f-8812-c404fab28bee",
   "metadata": {},
   "source": [
    "## Example 3\n",
    "```{r}\n",
    "for (variable in iterable) {\n",
    "    NewVariableName= FunctionName(variable)\n",
    "    cat(variable, NewVariableName,\"\\n\")\n",
    "}\n",
    "```"
   ]
  },
  {
   "cell_type": "code",
   "execution_count": 6,
   "id": "ba505b9e-c201-46e3-be5d-df354a19aac5",
   "metadata": {},
   "outputs": [
    {
     "name": "stdout",
     "output_type": "stream",
     "text": [
      "0.96 1.147221 \n",
      "1.51 1.804483 \n",
      "2.17 2.593197 \n",
      "3.85 4.600834 \n",
      "4.45 5.317847 \n",
      "6.02 7.194031 \n"
     ]
    }
   ],
   "source": [
    "for (w in weights) {\n",
    "  connect = diam(w)\n",
    "  cat(w,connect,\"\\n\")\n",
    "}"
   ]
  },
  {
   "cell_type": "markdown",
   "id": "db4fb3f4-c053-4571-872e-9586a74fd4be",
   "metadata": {},
   "source": [
    "## Example 4\n",
    "```{r}\n",
    "for (variable in iterable) {\n",
    "    NewVariableName= FunctionName(variable)\n",
    "    cat(\" Write what ever you want\" ,variable, \" inside these quotes\" , NewVariableName,\"\\n\")\n",
    "}\n",
    "```"
   ]
  },
  {
   "cell_type": "code",
   "execution_count": 9,
   "id": "ff81ace6-89ae-4cd8-b547-7987ec0f966b",
   "metadata": {},
   "outputs": [
    {
     "name": "stdout",
     "output_type": "stream",
     "text": [
      "The weight 0.96 grams, computes the the sphere to 1.147221 diameter. \n",
      "The weight 1.51 grams, computes the the sphere to 1.804483 diameter. \n",
      "The weight 2.17 grams, computes the the sphere to 2.593197 diameter. \n",
      "The weight 3.85 grams, computes the the sphere to 4.600834 diameter. \n",
      "The weight 4.45 grams, computes the the sphere to 5.317847 diameter. \n",
      "The weight 6.02 grams, computes the the sphere to 7.194031 diameter. \n"
     ]
    }
   ],
   "source": [
    "for (w in weights) {\n",
    "  connect = diam(w)\n",
    "  cat(\"The weight\", w,\"grams, computes the the sphere to\", connect, \"diameter. \\n\")\n",
    "}"
   ]
  },
  {
   "cell_type": "code",
   "execution_count": null,
   "id": "aa711584-76f2-4384-bccd-421d4409a653",
   "metadata": {},
   "outputs": [],
   "source": []
  }
 ],
 "metadata": {
  "kernelspec": {
   "display_name": "R",
   "language": "R",
   "name": "ir"
  },
  "language_info": {
   "codemirror_mode": "r",
   "file_extension": ".r",
   "mimetype": "text/x-r-source",
   "name": "R",
   "pygments_lexer": "r",
   "version": "4.1.2"
  }
 },
 "nbformat": 4,
 "nbformat_minor": 5
}
