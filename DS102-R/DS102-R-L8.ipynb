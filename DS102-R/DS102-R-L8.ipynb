{
 "cells": [
  {
   "cell_type": "markdown",
   "id": "ecee3d7e-1536-4c73-b1c3-b7f1df203804",
   "metadata": {},
   "source": [
    "# DS102 Statistical Programming in R : Lesson Eight - Linear Regression"
   ]
  },
  {
   "cell_type": "markdown",
   "id": "bd7faac0-6603-42e2-a6b5-1ce8182752e4",
   "metadata": {},
   "source": [
    "For your Lesson 8 Hands-On, use the `mtcars` data frame to examine the effect that engine horsepower (`hp`) and vehicle weight (`wt`), measured in thousands of pounds) have on the time necessary to travel one quarter mile from a standing start (`qsec`). Use this information to answer the below questions. This Hands-On will **not** be graded, but you are encouraged to complete it. The best way to become a great Data Scientist is to practice! Please write your answers within an R Script file, and submit your project in the below area. \n",
    "\n",
    "\n",
    "## Requirements\n",
    "\n",
    "1. Create a scatter plot with a trend line where the horizontal axis is engine horsepower and the vertical axis is quarter mile time. What is the relationship between time and engine horsepower: positively correlated, negatively correlated, or uncorrelated? \n",
    "\n",
    "2. Compute the linear regression for time and engine horsepower.  What is the equation of the line? What is the R-squared value? Is this what you would expect?\n",
    "\n",
    "3. Create a scatter plot with a trend line where the horizontal axis is vehicle weight and the vertical axis is quarter mile time. What is this relationship: positively correlated, negatively correlated, or uncorrelated? \n",
    "\n",
    "4. Compute the linear regression for these two variables. What is the equation of the line? What is the R-squared value? Is this what you would expect?\n",
    "\n",
    "5. Create a report (MS Powerpoint or equivalent) that shows your results and the code you used to generate the results. Please include your interpretation of the data included and answer all the questions posed above. "
   ]
  },
  {
   "cell_type": "markdown",
   "id": "a6a5155a-47e7-4d55-8ceb-35c0e8698312",
   "metadata": {},
   "source": [
    "---"
   ]
  },
  {
   "cell_type": "markdown",
   "id": "edbc9579-2c0a-4d2f-8259-d54f39279ad2",
   "metadata": {},
   "source": [
    "# Install Packages"
   ]
  },
  {
   "cell_type": "code",
   "execution_count": null,
   "id": "063a5942-1d6f-479a-9d26-8cad699b08be",
   "metadata": {},
   "outputs": [],
   "source": []
  }
 ],
 "metadata": {
  "kernelspec": {
   "display_name": "R",
   "language": "R",
   "name": "ir"
  },
  "language_info": {
   "codemirror_mode": "r",
   "file_extension": ".r",
   "mimetype": "text/x-r-source",
   "name": "R",
   "pygments_lexer": "r",
   "version": "4.1.2"
  }
 },
 "nbformat": 4,
 "nbformat_minor": 5
}
