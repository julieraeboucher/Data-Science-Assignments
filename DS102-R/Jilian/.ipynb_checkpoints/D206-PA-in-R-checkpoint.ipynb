{
 "cells": [
  {
   "cell_type": "markdown",
   "id": "9264c7ef-05aa-4d76-845a-7ed74e6c2332",
   "metadata": {},
   "source": [
    "## Jilian Dickson \n",
    "#### D206- PA / WGU- Dr. Eric Straw / July 8, 2022\n",
    "#"
   ]
  },
  {
   "cell_type": "markdown",
   "id": "cd85c064-e0ae-4b3b-b111-fa747fc85b70",
   "metadata": {},
   "source": [
    "## Part 1- A: \n",
    "Research question: \n",
    "- Taking into account patient data provided, what is the relationship between the age and state of the patient and the risk of being readmitted to the hospital within a month of first admission/release? "
   ]
  },
  {
   "cell_type": "markdown",
   "id": "6001c1eb-0241-4d71-a5e6-c708732fe4dd",
   "metadata": {},
   "source": [
    "## Import packages \n",
    "- To be used in PA"
   ]
  },
  {
   "cell_type": "code",
   "execution_count": 15,
   "id": "52a6692d-6501-49ff-be85-6b32f7fa1433",
   "metadata": {},
   "outputs": [],
   "source": [
    "library(tidyverse)\n",
    "library(readr)"
   ]
  },
  {
   "cell_type": "markdown",
   "id": "33551bf7-ea5a-40a2-859b-7f523594ba5d",
   "metadata": {},
   "source": [
    "## Import Data\n",
    "- I chose the medical dataset"
   ]
  },
  {
   "cell_type": "code",
   "execution_count": 12,
   "id": "536330df-a982-4e00-a6c8-3023f871737c",
   "metadata": {},
   "outputs": [
    {
     "name": "stderr",
     "output_type": "stream",
     "text": [
      "New names:\n",
      "* `` -> ...1\n",
      "\n"
     ]
    }
   ],
   "source": [
    "medical= read_csv('/Users/julieraeboucher/Desktop/Work/WozU Curriculum /Datasets/medical_raw_data.csv', show_col_types = FALSE)\n",
    "\n"
   ]
  },
  {
   "cell_type": "markdown",
   "id": "2d2c2b46-34bc-4257-8783-80639f6dc3a2",
   "metadata": {},
   "source": [
    "## View Data \n",
    "- Before beginning so that I can see what I have to work with. I will use the head command to view the first few rows since the data set is large."
   ]
  },
  {
   "cell_type": "code",
   "execution_count": 14,
   "id": "0e80c16b-efe9-486b-8493-0b8db0bdc4fe",
   "metadata": {},
   "outputs": [
    {
     "data": {
      "text/html": [
       "<table class=\"dataframe\">\n",
       "<caption>A tibble: 6 × 53</caption>\n",
       "<thead>\n",
       "\t<tr><th scope=col>...1</th><th scope=col>CaseOrder</th><th scope=col>Customer_id</th><th scope=col>Interaction</th><th scope=col>UID</th><th scope=col>City</th><th scope=col>State</th><th scope=col>County</th><th scope=col>Zip</th><th scope=col>Lat</th><th scope=col>⋯</th><th scope=col>TotalCharge</th><th scope=col>Additional_charges</th><th scope=col>Item1</th><th scope=col>Item2</th><th scope=col>Item3</th><th scope=col>Item4</th><th scope=col>Item5</th><th scope=col>Item6</th><th scope=col>Item7</th><th scope=col>Item8</th></tr>\n",
       "\t<tr><th scope=col>&lt;dbl&gt;</th><th scope=col>&lt;dbl&gt;</th><th scope=col>&lt;chr&gt;</th><th scope=col>&lt;chr&gt;</th><th scope=col>&lt;chr&gt;</th><th scope=col>&lt;chr&gt;</th><th scope=col>&lt;chr&gt;</th><th scope=col>&lt;chr&gt;</th><th scope=col>&lt;dbl&gt;</th><th scope=col>&lt;dbl&gt;</th><th scope=col>⋯</th><th scope=col>&lt;dbl&gt;</th><th scope=col>&lt;dbl&gt;</th><th scope=col>&lt;dbl&gt;</th><th scope=col>&lt;dbl&gt;</th><th scope=col>&lt;dbl&gt;</th><th scope=col>&lt;dbl&gt;</th><th scope=col>&lt;dbl&gt;</th><th scope=col>&lt;dbl&gt;</th><th scope=col>&lt;dbl&gt;</th><th scope=col>&lt;dbl&gt;</th></tr>\n",
       "</thead>\n",
       "<tbody>\n",
       "\t<tr><td>1</td><td>1</td><td>C412403</td><td>8cd49b13-f45a-4b47-a2bd-173ffa932c2f</td><td>3a83ddb66e2ae73798bdf1d705dc0932</td><td>Eva         </td><td>AL</td><td>Morgan      </td><td>35621</td><td>34.34960</td><td>⋯</td><td>3191.049</td><td>17939.403</td><td>3</td><td>3</td><td>2</td><td>2</td><td>4</td><td>3</td><td>3</td><td>4</td></tr>\n",
       "\t<tr><td>2</td><td>2</td><td>Z919181</td><td>d2450b70-0337-4406-bdbb-bc1037f1734c</td><td>176354c5eef714957d486009feabf195</td><td>Marianna    </td><td>FL</td><td>Jackson     </td><td>32446</td><td>30.84513</td><td>⋯</td><td>4214.905</td><td>17612.998</td><td>3</td><td>4</td><td>3</td><td>4</td><td>4</td><td>4</td><td>3</td><td>3</td></tr>\n",
       "\t<tr><td>3</td><td>3</td><td>F995323</td><td>a2057123-abf5-4a2c-abad-8ffe33512562</td><td>e19a0fa00aeda885b8a436757e889bc9</td><td>Sioux Falls </td><td>SD</td><td>Minnehaha   </td><td>57110</td><td>43.54321</td><td>⋯</td><td>2177.587</td><td>17505.192</td><td>2</td><td>4</td><td>4</td><td>4</td><td>3</td><td>4</td><td>3</td><td>3</td></tr>\n",
       "\t<tr><td>4</td><td>4</td><td>A879973</td><td>1dec528d-eb34-4079-adce-0d7a40e82205</td><td>cd17d7b6d152cb6f23957346d11c3f07</td><td>New Richland</td><td>MN</td><td>Waseca      </td><td>56072</td><td>43.89744</td><td>⋯</td><td>2465.119</td><td>12993.437</td><td>3</td><td>5</td><td>5</td><td>3</td><td>4</td><td>5</td><td>5</td><td>5</td></tr>\n",
       "\t<tr><td>5</td><td>5</td><td>C544523</td><td>5885f56b-d6da-43a3-8760-83583af94266</td><td>d2f0425877b10ed6bb381f3e2579424a</td><td>West Point  </td><td>VA</td><td>King William</td><td>23181</td><td>37.59894</td><td>⋯</td><td>1885.655</td><td> 3716.526</td><td>2</td><td>1</td><td>3</td><td>3</td><td>5</td><td>3</td><td>4</td><td>3</td></tr>\n",
       "\t<tr><td>6</td><td>6</td><td>S543885</td><td>e3b0a319-9e2e-4a23-8752-2fdc736c30f4</td><td>03e447146d4a32e1aaf75727c3d1230c</td><td>Braggs      </td><td>OK</td><td>Muskogee    </td><td>74423</td><td>35.67302</td><td>⋯</td><td>2774.090</td><td>12742.590</td><td>4</td><td>5</td><td>4</td><td>4</td><td>3</td><td>5</td><td>4</td><td>6</td></tr>\n",
       "</tbody>\n",
       "</table>\n"
      ],
      "text/latex": [
       "A tibble: 6 × 53\n",
       "\\begin{tabular}{lllllllllllllllllllll}\n",
       " ...1 & CaseOrder & Customer\\_id & Interaction & UID & City & State & County & Zip & Lat & ⋯ & TotalCharge & Additional\\_charges & Item1 & Item2 & Item3 & Item4 & Item5 & Item6 & Item7 & Item8\\\\\n",
       " <dbl> & <dbl> & <chr> & <chr> & <chr> & <chr> & <chr> & <chr> & <dbl> & <dbl> & ⋯ & <dbl> & <dbl> & <dbl> & <dbl> & <dbl> & <dbl> & <dbl> & <dbl> & <dbl> & <dbl>\\\\\n",
       "\\hline\n",
       "\t 1 & 1 & C412403 & 8cd49b13-f45a-4b47-a2bd-173ffa932c2f & 3a83ddb66e2ae73798bdf1d705dc0932 & Eva          & AL & Morgan       & 35621 & 34.34960 & ⋯ & 3191.049 & 17939.403 & 3 & 3 & 2 & 2 & 4 & 3 & 3 & 4\\\\\n",
       "\t 2 & 2 & Z919181 & d2450b70-0337-4406-bdbb-bc1037f1734c & 176354c5eef714957d486009feabf195 & Marianna     & FL & Jackson      & 32446 & 30.84513 & ⋯ & 4214.905 & 17612.998 & 3 & 4 & 3 & 4 & 4 & 4 & 3 & 3\\\\\n",
       "\t 3 & 3 & F995323 & a2057123-abf5-4a2c-abad-8ffe33512562 & e19a0fa00aeda885b8a436757e889bc9 & Sioux Falls  & SD & Minnehaha    & 57110 & 43.54321 & ⋯ & 2177.587 & 17505.192 & 2 & 4 & 4 & 4 & 3 & 4 & 3 & 3\\\\\n",
       "\t 4 & 4 & A879973 & 1dec528d-eb34-4079-adce-0d7a40e82205 & cd17d7b6d152cb6f23957346d11c3f07 & New Richland & MN & Waseca       & 56072 & 43.89744 & ⋯ & 2465.119 & 12993.437 & 3 & 5 & 5 & 3 & 4 & 5 & 5 & 5\\\\\n",
       "\t 5 & 5 & C544523 & 5885f56b-d6da-43a3-8760-83583af94266 & d2f0425877b10ed6bb381f3e2579424a & West Point   & VA & King William & 23181 & 37.59894 & ⋯ & 1885.655 &  3716.526 & 2 & 1 & 3 & 3 & 5 & 3 & 4 & 3\\\\\n",
       "\t 6 & 6 & S543885 & e3b0a319-9e2e-4a23-8752-2fdc736c30f4 & 03e447146d4a32e1aaf75727c3d1230c & Braggs       & OK & Muskogee     & 74423 & 35.67302 & ⋯ & 2774.090 & 12742.590 & 4 & 5 & 4 & 4 & 3 & 5 & 4 & 6\\\\\n",
       "\\end{tabular}\n"
      ],
      "text/markdown": [
       "\n",
       "A tibble: 6 × 53\n",
       "\n",
       "| ...1 &lt;dbl&gt; | CaseOrder &lt;dbl&gt; | Customer_id &lt;chr&gt; | Interaction &lt;chr&gt; | UID &lt;chr&gt; | City &lt;chr&gt; | State &lt;chr&gt; | County &lt;chr&gt; | Zip &lt;dbl&gt; | Lat &lt;dbl&gt; | ⋯ ⋯ | TotalCharge &lt;dbl&gt; | Additional_charges &lt;dbl&gt; | Item1 &lt;dbl&gt; | Item2 &lt;dbl&gt; | Item3 &lt;dbl&gt; | Item4 &lt;dbl&gt; | Item5 &lt;dbl&gt; | Item6 &lt;dbl&gt; | Item7 &lt;dbl&gt; | Item8 &lt;dbl&gt; |\n",
       "|---|---|---|---|---|---|---|---|---|---|---|---|---|---|---|---|---|---|---|---|---|\n",
       "| 1 | 1 | C412403 | 8cd49b13-f45a-4b47-a2bd-173ffa932c2f | 3a83ddb66e2ae73798bdf1d705dc0932 | Eva          | AL | Morgan       | 35621 | 34.34960 | ⋯ | 3191.049 | 17939.403 | 3 | 3 | 2 | 2 | 4 | 3 | 3 | 4 |\n",
       "| 2 | 2 | Z919181 | d2450b70-0337-4406-bdbb-bc1037f1734c | 176354c5eef714957d486009feabf195 | Marianna     | FL | Jackson      | 32446 | 30.84513 | ⋯ | 4214.905 | 17612.998 | 3 | 4 | 3 | 4 | 4 | 4 | 3 | 3 |\n",
       "| 3 | 3 | F995323 | a2057123-abf5-4a2c-abad-8ffe33512562 | e19a0fa00aeda885b8a436757e889bc9 | Sioux Falls  | SD | Minnehaha    | 57110 | 43.54321 | ⋯ | 2177.587 | 17505.192 | 2 | 4 | 4 | 4 | 3 | 4 | 3 | 3 |\n",
       "| 4 | 4 | A879973 | 1dec528d-eb34-4079-adce-0d7a40e82205 | cd17d7b6d152cb6f23957346d11c3f07 | New Richland | MN | Waseca       | 56072 | 43.89744 | ⋯ | 2465.119 | 12993.437 | 3 | 5 | 5 | 3 | 4 | 5 | 5 | 5 |\n",
       "| 5 | 5 | C544523 | 5885f56b-d6da-43a3-8760-83583af94266 | d2f0425877b10ed6bb381f3e2579424a | West Point   | VA | King William | 23181 | 37.59894 | ⋯ | 1885.655 |  3716.526 | 2 | 1 | 3 | 3 | 5 | 3 | 4 | 3 |\n",
       "| 6 | 6 | S543885 | e3b0a319-9e2e-4a23-8752-2fdc736c30f4 | 03e447146d4a32e1aaf75727c3d1230c | Braggs       | OK | Muskogee     | 74423 | 35.67302 | ⋯ | 2774.090 | 12742.590 | 4 | 5 | 4 | 4 | 3 | 5 | 4 | 6 |\n",
       "\n"
      ],
      "text/plain": [
       "  ...1 CaseOrder Customer_id Interaction                         \n",
       "1 1    1         C412403     8cd49b13-f45a-4b47-a2bd-173ffa932c2f\n",
       "2 2    2         Z919181     d2450b70-0337-4406-bdbb-bc1037f1734c\n",
       "3 3    3         F995323     a2057123-abf5-4a2c-abad-8ffe33512562\n",
       "4 4    4         A879973     1dec528d-eb34-4079-adce-0d7a40e82205\n",
       "5 5    5         C544523     5885f56b-d6da-43a3-8760-83583af94266\n",
       "6 6    6         S543885     e3b0a319-9e2e-4a23-8752-2fdc736c30f4\n",
       "  UID                              City         State County       Zip  \n",
       "1 3a83ddb66e2ae73798bdf1d705dc0932 Eva          AL    Morgan       35621\n",
       "2 176354c5eef714957d486009feabf195 Marianna     FL    Jackson      32446\n",
       "3 e19a0fa00aeda885b8a436757e889bc9 Sioux Falls  SD    Minnehaha    57110\n",
       "4 cd17d7b6d152cb6f23957346d11c3f07 New Richland MN    Waseca       56072\n",
       "5 d2f0425877b10ed6bb381f3e2579424a West Point   VA    King William 23181\n",
       "6 03e447146d4a32e1aaf75727c3d1230c Braggs       OK    Muskogee     74423\n",
       "  Lat      ⋯ TotalCharge Additional_charges Item1 Item2 Item3 Item4 Item5 Item6\n",
       "1 34.34960 ⋯ 3191.049    17939.403          3     3     2     2     4     3    \n",
       "2 30.84513 ⋯ 4214.905    17612.998          3     4     3     4     4     4    \n",
       "3 43.54321 ⋯ 2177.587    17505.192          2     4     4     4     3     4    \n",
       "4 43.89744 ⋯ 2465.119    12993.437          3     5     5     3     4     5    \n",
       "5 37.59894 ⋯ 1885.655     3716.526          2     1     3     3     5     3    \n",
       "6 35.67302 ⋯ 2774.090    12742.590          4     5     4     4     3     5    \n",
       "  Item7 Item8\n",
       "1 3     4    \n",
       "2 3     3    \n",
       "3 3     3    \n",
       "4 5     5    \n",
       "5 4     3    \n",
       "6 4     6    "
      ]
     },
     "metadata": {},
     "output_type": "display_data"
    }
   ],
   "source": [
    "head(medical)"
   ]
  },
  {
   "cell_type": "markdown",
   "id": "df7b5c88-aceb-44e0-aad8-bd979bc1f770",
   "metadata": {
    "jp-MarkdownHeadingCollapsed": true,
    "tags": []
   },
   "source": [
    "## Part 1- B:\n",
    "- Further explore the data while taking into consideration the following provided data dictionary and the data types using `str(medical)`."
   ]
  },
  {
   "cell_type": "raw",
   "id": "23b96120-0417-4d9a-8336-9ea5a3885963",
   "metadata": {},
   "source": [
    "#- Unnamed: integer index\n",
    "#- CaseOrder: integer index, purpose is to preserve the original order of the raw data\n",
    "#- Customer_id: character string, unique, purpose is to identify each patient\n",
    "#- Interaction: character string, unique, purpose is to identify patient transactions, procedures, and admissions\n",
    "#- UID: character string, unique, purpose is to identify patient transactions, procedures, and admissions\n",
    "#- City: character string, purpose is to indicate patient's city of residence as listed on the billing statement\n",
    "#- State: character string, purpose is to show patient's state of residence as listed on the billing statement\n",
    "#- County: character string, purpose is to indicate patient's county of residence as listed on the billing statement\n",
    "#- Zip: integer, purpose is to indicate patient's zip code of residence as listed on the billing statement\n",
    "#- Lat: continuous numeric of latitude GPS coordinates of residence; listed on the billing statement\n",
    "#- Lng: continuous numeric, purpose is to show longitude GPS coordinates of residence as listed on the billing statement\n",
    "#- Population: integer value, purpose is to show population within a mile radius of a patient based on census data\n",
    "#- Area: a nominal categorical, purpose is to show character string area type (rural, urban, suburban) based on unofficial census data\n",
    "#- Timezone: a nominal categorical string, purpose is to show character string of time zone of patient residence based on patient’s sign-up information\n",
    "#- Job: a nominal categorical string, purpose is to show the job of the patient and/or primary insurance holder as reported in the admissions information\n",
    "#- Children: float, purpose is to show the number of children in the patient’s household as reported in the admissions information\n",
    "#- Age: float, purpose is to show the age of the patient as reported in admissions information\n",
    "#- Education: a nominal categorical string, purpose is to show the highest earned degree of a patient as reported in admissions information\n",
    "#- Employment: a categorical string, purpose is to show the employment status of a patient as reported in admissions information\n",
    "#- Income: float, purpose is to show the annual income of the patient and/or primary insurance holder as reported at the time of admission\n",
    "#- Marital: a nominal categorical string, purpose is to show the marital status of the patient and/or primary insurance holder as reported on admission information\n",
    "#- Gender: a nominal categorical string, purpose is to show the patient's self-identification as male, female, or nonbinary\n",
    "#- ReAdmis: a binary categorical string, purpose is to show whether the patient was readmitted within a month of release or not with the options of yes or no\n",
    "#- VitD_levels: continuous float, purpose is to show the patient’s vitamin D levels as measured in ng/mL\n",
    "#- Doc_visits: integer, purpose is to show the number of times the primary physician visited the patient during the first hospitalization\n",
    "#- Full_meals_eaten: integer, purpose is to show the number of complete meals the patient ate while hospitalized with the options of partial meals count being shown as 0; also noted- some patients were served more than three meals per day day if requested\n",
    "#- VitD_supp: integer, purpose is to show the number of instances that a vitamin D supplement was given to the patient \n",
    "#- Soft_drink: a binary categorical string, purpose is to show if the patient habitually drinks three or more sodas in a day with the options of yes or no\n",
    "#- Initial_admin: a nominal cateogorical string, purpose is to show how the patient was admitted into the hospital for their first visit with the options of emergency admission, elective admission, or observation\n",
    "#- HighBlood: a string, purpose is to show if the patient has high blood pressure with the options of yes or no\n",
    "#- Stroke: a string, purpose is show whether or not the patient has had a stroke with the options of yes or no\n",
    "#- Complication_risk: a string, purpose is to show the level of complication risk for the patient as indicated by a primary patient assessment with the options of high, medium, low\n",
    "#- Overweight: a float, purpose is to show if the patient is considered overweight based on age, gender, and height with the options of yes or no\n",
    "#- Arthritis: a string, purpose is show if the patient has arthritis with the options of yes or no\n",
    "#- Diabetes: a string, purpose is show if the patient has diabetes with the options of yes or no\n",
    "#- Hyperlipidemia: a string, purpose is show if the patient has hyperlipidemia with the options of yes or no\n",
    "#- BackPain: a string, purpose is show if the patient has chronic back pain with the options of yes or no\n",
    "#- Anxiety: a float, purpose is show if the patient has an anxiety disorder with the options of yes or no\n",
    "#- Allergic_rhinitis: a string, purpose is show if the patient has allergic rhinitis with the options of yes or no\n",
    "#- Reflux_esophigitis: a string, purpose is show if the patient has reflux esophagitis with the options of yes or no\n",
    "#- Asthma: a string, purpose is to show if the patient has asthma with the options of yes or no\n",
    "#- Services: a string, purpose is to show what main/primary service the patient received while hospitalized with the options of blood work, intravenous, CT scan, or MRI\n",
    "#- Initial_days: a float, purpose is show how many days the patient stayed in the hospital during the initial visit\n",
    "#- TotalCharge: a float, purpose is show the dollar amount charged to the patient daily which reflects an average per patient based on the total charge divided by the number of days hospitalized; also shows the typical charges billed to patients while not including specialized treatments\n",
    "#- Additional_charges: a float, purpose is to show the average amount charged to the patient for miscellaneous procedures, treatments, medicines, anesthesiology, etc. that aren't otherwise indicated elsewhere\n",
    "# The following eight variables represent responses to a survey asking customers to rate the importance of various factors on a scale of 1 to 8 (1 = most important, 8 = least important):\n",
    "#- Item1: an integer, describes timely admission\n",
    "#- Item2: an integer, describes timely treatment\n",
    "#- Item3: an integer, describes timely visits\n",
    "#- Item4: an integer, describes reliability\n",
    "#- Item5: an integer, describes options\n",
    "#- Item6: an integer, describes hours of treatment\n",
    "#- Item7: an integer, describes courteous staff\n",
    "#- Item8: an integer, describes evidence of active listening from doctor"
   ]
  },
  {
   "cell_type": "raw",
   "id": "966a7d4d-628a-4cc3-a754-28a726feb9ff",
   "metadata": {},
   "source": [
    "str(medical)"
   ]
  },
  {
   "cell_type": "markdown",
   "id": "9ef4ae85-4351-4638-82d6-8204825dfd13",
   "metadata": {},
   "source": [
    "## Part 2- C: \n",
    "- Develop a plan for cleaning my data in R. \n",
    "\n",
    "R is a great choice for data cleaning because it has some excellent packages like `tidyverse` (for cleaning or tidying messy data), `dplyr` (for data manipulation), and `ggplot2` (for data visualizations).\n",
    "\n",
    "My plan for cleaning is to do the following:\n",
    "1) Find any NA values in columns across the entire dataset. These will be detected with the code `colSums(is.na(medical))`.\n",
    "2) Convert any categorical columns to numeric before making boxplots using the code `medical$column <- as.numeric(medical$column)`.\n",
    "3) Use boxplots to detect any outliers after checking the summary of the entire dataset. I will first use the code to see any anomalies, then will double check them with boxplots by using the code `boxplot(df$column)`."
   ]
  },
  {
   "cell_type": "markdown",
   "id": "9e5c0b14-7a3a-456d-a1ab-d05a22b57c09",
   "metadata": {
    "tags": []
   },
   "source": [
    "## Part 3- D: \n",
    "- Data cleaning plan in action..."
   ]
  },
  {
   "cell_type": "markdown",
   "id": "4e4216b9-6505-4402-993a-a4edc0752afd",
   "metadata": {
    "jp-MarkdownHeadingCollapsed": true,
    "tags": []
   },
   "source": [
    "### 1- Find outliers"
   ]
  },
  {
   "cell_type": "code",
   "execution_count": 24,
   "id": "af8e5aec-778f-4282-910e-ccccbde944ba",
   "metadata": {},
   "outputs": [
    {
     "data": {
      "text/html": [
       "<style>\n",
       ".dl-inline {width: auto; margin:0; padding: 0}\n",
       ".dl-inline>dt, .dl-inline>dd {float: none; width: auto; display: inline-block}\n",
       ".dl-inline>dt::after {content: \":\\0020\"; padding-right: .5ex}\n",
       ".dl-inline>dt:not(:first-of-type) {padding-left: .5ex}\n",
       "</style><dl class=dl-inline><dt>...1</dt><dd>0</dd><dt>CaseOrder</dt><dd>0</dd><dt>Customer_id</dt><dd>0</dd><dt>Interaction</dt><dd>0</dd><dt>UID</dt><dd>0</dd><dt>City</dt><dd>0</dd><dt>State</dt><dd>0</dd><dt>County</dt><dd>0</dd><dt>Zip</dt><dd>0</dd><dt>Lat</dt><dd>0</dd><dt>Lng</dt><dd>0</dd><dt>Population</dt><dd>0</dd><dt>Area</dt><dd>0</dd><dt>Timezone</dt><dd>0</dd><dt>Job</dt><dd>0</dd><dt>Children</dt><dd>2588</dd><dt>Age</dt><dd>2414</dd><dt>Education</dt><dd>0</dd><dt>Employment</dt><dd>0</dd><dt>Income</dt><dd>2464</dd><dt>Marital</dt><dd>0</dd><dt>Gender</dt><dd>0</dd><dt>ReAdmis</dt><dd>0</dd><dt>VitD_levels</dt><dd>0</dd><dt>Doc_visits</dt><dd>0</dd><dt>Full_meals_eaten</dt><dd>0</dd><dt>VitD_supp</dt><dd>0</dd><dt>Soft_drink</dt><dd>2467</dd><dt>Initial_admin</dt><dd>0</dd><dt>HighBlood</dt><dd>0</dd><dt>Stroke</dt><dd>0</dd><dt>Complication_risk</dt><dd>0</dd><dt>Overweight</dt><dd>982</dd><dt>Arthritis</dt><dd>0</dd><dt>Diabetes</dt><dd>0</dd><dt>Hyperlipidemia</dt><dd>0</dd><dt>BackPain</dt><dd>0</dd><dt>Anxiety</dt><dd>984</dd><dt>Allergic_rhinitis</dt><dd>0</dd><dt>Reflux_esophagitis</dt><dd>0</dd><dt>Asthma</dt><dd>0</dd><dt>Services</dt><dd>0</dd><dt>Initial_days</dt><dd>1056</dd><dt>TotalCharge</dt><dd>0</dd><dt>Additional_charges</dt><dd>0</dd><dt>Item1</dt><dd>0</dd><dt>Item2</dt><dd>0</dd><dt>Item3</dt><dd>0</dd><dt>Item4</dt><dd>0</dd><dt>Item5</dt><dd>0</dd><dt>Item6</dt><dd>0</dd><dt>Item7</dt><dd>0</dd><dt>Item8</dt><dd>0</dd></dl>\n"
      ],
      "text/latex": [
       "\\begin{description*}\n",
       "\\item[...1] 0\n",
       "\\item[CaseOrder] 0\n",
       "\\item[Customer\\textbackslash{}\\_id] 0\n",
       "\\item[Interaction] 0\n",
       "\\item[UID] 0\n",
       "\\item[City] 0\n",
       "\\item[State] 0\n",
       "\\item[County] 0\n",
       "\\item[Zip] 0\n",
       "\\item[Lat] 0\n",
       "\\item[Lng] 0\n",
       "\\item[Population] 0\n",
       "\\item[Area] 0\n",
       "\\item[Timezone] 0\n",
       "\\item[Job] 0\n",
       "\\item[Children] 2588\n",
       "\\item[Age] 2414\n",
       "\\item[Education] 0\n",
       "\\item[Employment] 0\n",
       "\\item[Income] 2464\n",
       "\\item[Marital] 0\n",
       "\\item[Gender] 0\n",
       "\\item[ReAdmis] 0\n",
       "\\item[VitD\\textbackslash{}\\_levels] 0\n",
       "\\item[Doc\\textbackslash{}\\_visits] 0\n",
       "\\item[Full\\textbackslash{}\\_meals\\textbackslash{}\\_eaten] 0\n",
       "\\item[VitD\\textbackslash{}\\_supp] 0\n",
       "\\item[Soft\\textbackslash{}\\_drink] 2467\n",
       "\\item[Initial\\textbackslash{}\\_admin] 0\n",
       "\\item[HighBlood] 0\n",
       "\\item[Stroke] 0\n",
       "\\item[Complication\\textbackslash{}\\_risk] 0\n",
       "\\item[Overweight] 982\n",
       "\\item[Arthritis] 0\n",
       "\\item[Diabetes] 0\n",
       "\\item[Hyperlipidemia] 0\n",
       "\\item[BackPain] 0\n",
       "\\item[Anxiety] 984\n",
       "\\item[Allergic\\textbackslash{}\\_rhinitis] 0\n",
       "\\item[Reflux\\textbackslash{}\\_esophagitis] 0\n",
       "\\item[Asthma] 0\n",
       "\\item[Services] 0\n",
       "\\item[Initial\\textbackslash{}\\_days] 1056\n",
       "\\item[TotalCharge] 0\n",
       "\\item[Additional\\textbackslash{}\\_charges] 0\n",
       "\\item[Item1] 0\n",
       "\\item[Item2] 0\n",
       "\\item[Item3] 0\n",
       "\\item[Item4] 0\n",
       "\\item[Item5] 0\n",
       "\\item[Item6] 0\n",
       "\\item[Item7] 0\n",
       "\\item[Item8] 0\n",
       "\\end{description*}\n"
      ],
      "text/markdown": [
       "...1\n",
       ":   0CaseOrder\n",
       ":   0Customer_id\n",
       ":   0Interaction\n",
       ":   0UID\n",
       ":   0City\n",
       ":   0State\n",
       ":   0County\n",
       ":   0Zip\n",
       ":   0Lat\n",
       ":   0Lng\n",
       ":   0Population\n",
       ":   0Area\n",
       ":   0Timezone\n",
       ":   0Job\n",
       ":   0Children\n",
       ":   2588Age\n",
       ":   2414Education\n",
       ":   0Employment\n",
       ":   0Income\n",
       ":   2464Marital\n",
       ":   0Gender\n",
       ":   0ReAdmis\n",
       ":   0VitD_levels\n",
       ":   0Doc_visits\n",
       ":   0Full_meals_eaten\n",
       ":   0VitD_supp\n",
       ":   0Soft_drink\n",
       ":   2467Initial_admin\n",
       ":   0HighBlood\n",
       ":   0Stroke\n",
       ":   0Complication_risk\n",
       ":   0Overweight\n",
       ":   982Arthritis\n",
       ":   0Diabetes\n",
       ":   0Hyperlipidemia\n",
       ":   0BackPain\n",
       ":   0Anxiety\n",
       ":   984Allergic_rhinitis\n",
       ":   0Reflux_esophagitis\n",
       ":   0Asthma\n",
       ":   0Services\n",
       ":   0Initial_days\n",
       ":   1056TotalCharge\n",
       ":   0Additional_charges\n",
       ":   0Item1\n",
       ":   0Item2\n",
       ":   0Item3\n",
       ":   0Item4\n",
       ":   0Item5\n",
       ":   0Item6\n",
       ":   0Item7\n",
       ":   0Item8\n",
       ":   0\n",
       "\n"
      ],
      "text/plain": [
       "              ...1          CaseOrder        Customer_id        Interaction \n",
       "                 0                  0                  0                  0 \n",
       "               UID               City              State             County \n",
       "                 0                  0                  0                  0 \n",
       "               Zip                Lat                Lng         Population \n",
       "                 0                  0                  0                  0 \n",
       "              Area           Timezone                Job           Children \n",
       "                 0                  0                  0               2588 \n",
       "               Age          Education         Employment             Income \n",
       "              2414                  0                  0               2464 \n",
       "           Marital             Gender            ReAdmis        VitD_levels \n",
       "                 0                  0                  0                  0 \n",
       "        Doc_visits   Full_meals_eaten          VitD_supp         Soft_drink \n",
       "                 0                  0                  0               2467 \n",
       "     Initial_admin          HighBlood             Stroke  Complication_risk \n",
       "                 0                  0                  0                  0 \n",
       "        Overweight          Arthritis           Diabetes     Hyperlipidemia \n",
       "               982                  0                  0                  0 \n",
       "          BackPain            Anxiety  Allergic_rhinitis Reflux_esophagitis \n",
       "                 0                984                  0                  0 \n",
       "            Asthma           Services       Initial_days        TotalCharge \n",
       "                 0                  0               1056                  0 \n",
       "Additional_charges              Item1              Item2              Item3 \n",
       "                 0                  0                  0                  0 \n",
       "             Item4              Item5              Item6              Item7 \n",
       "                 0                  0                  0                  0 \n",
       "             Item8 \n",
       "                 0 "
      ]
     },
     "metadata": {},
     "output_type": "display_data"
    }
   ],
   "source": [
    "colSums(is.na(medical))"
   ]
  },
  {
   "cell_type": "markdown",
   "id": "e6931c7b-bbad-434b-a37d-e76d5670d173",
   "metadata": {},
   "source": [
    "### The results:\n",
    "- Number 1 (NA values in columns) are as follows: \n",
    "    - children column= 2588\n",
    "    - age column= 2414\n",
    "    - income column= 2464\n",
    "    - soft drink column= 2467\n",
    "    - overweight column= 982\n",
    "    - anxiety column = 984"
   ]
  },
  {
   "cell_type": "code",
   "execution_count": null,
   "id": "53e4249a-2de5-43b1-80fc-2eace0d380e0",
   "metadata": {},
   "outputs": [],
   "source": []
  },
  {
   "cell_type": "markdown",
   "id": "9789b238-5198-4cc3-971b-415aa64807d2",
   "metadata": {
    "jp-MarkdownHeadingCollapsed": true,
    "tags": []
   },
   "source": [
    "### 2- Convert categorical columns to numeric. \n",
    "- Refering to the `str(medical)` code above, we see that any `chr` data types are categorical. We will convert them to numeric next."
   ]
  },
  {
   "cell_type": "code",
   "execution_count": 53,
   "id": "7bbc6fc0-9fb7-42ec-a5e6-073edbd42832",
   "metadata": {},
   "outputs": [],
   "source": [
    "medical$Customer_id <- as.numeric(medical$Customer_id)"
   ]
  },
  {
   "cell_type": "code",
   "execution_count": 54,
   "id": "ba2bac27-cfb3-4c80-81c3-20223a2b6bf9",
   "metadata": {},
   "outputs": [],
   "source": [
    "medical$Interaction <- as.numeric(medical$Interaction)"
   ]
  },
  {
   "cell_type": "code",
   "execution_count": 55,
   "id": "e6460c9f-05d1-4019-8d75-8494d7089c07",
   "metadata": {},
   "outputs": [],
   "source": [
    "medical$UID <- as.numeric(medical$UID)"
   ]
  },
  {
   "cell_type": "code",
   "execution_count": 56,
   "id": "1444a23b-5099-4a98-8127-aa433ed36f20",
   "metadata": {},
   "outputs": [],
   "source": [
    "medical$City <- as.numeric(medical$City)"
   ]
  },
  {
   "cell_type": "code",
   "execution_count": 57,
   "id": "0ffd2773-7847-4574-a9c2-14471f089f58",
   "metadata": {},
   "outputs": [],
   "source": [
    "medical$State <- as.numeric(medical$State)"
   ]
  },
  {
   "cell_type": "code",
   "execution_count": 58,
   "id": "5ab1e281-f4d4-4408-9393-67bca478a719",
   "metadata": {},
   "outputs": [],
   "source": [
    "medical$County <- as.numeric(medical$County)"
   ]
  },
  {
   "cell_type": "code",
   "execution_count": 59,
   "id": "fe8bff40-95be-40b6-a3ac-4da5f15f8ce4",
   "metadata": {},
   "outputs": [],
   "source": [
    "medical$Area <- as.numeric(medical$Area)"
   ]
  },
  {
   "cell_type": "code",
   "execution_count": 60,
   "id": "13b60132-6c9a-45b5-8f40-81a24cd0ae05",
   "metadata": {},
   "outputs": [],
   "source": [
    "medical$Timezone <- as.numeric(medical$Timezone)"
   ]
  },
  {
   "cell_type": "code",
   "execution_count": 61,
   "id": "16d5cc9d-fb86-4bc7-b060-bbb2245f0ad2",
   "metadata": {},
   "outputs": [],
   "source": [
    "medical$Job <- as.numeric(medical$Job)"
   ]
  },
  {
   "cell_type": "code",
   "execution_count": 62,
   "id": "2d37da7e-b91c-428f-9d62-8f5bd01314dc",
   "metadata": {},
   "outputs": [],
   "source": [
    "medical$Education <- as.numeric(medical$Education)"
   ]
  },
  {
   "cell_type": "code",
   "execution_count": 63,
   "id": "e584a67c-8585-40c5-a5b0-d278eff6b47d",
   "metadata": {},
   "outputs": [],
   "source": [
    "medical$Employment <- as.numeric(medical$Employment)"
   ]
  },
  {
   "cell_type": "code",
   "execution_count": 64,
   "id": "76c55f51-9e6a-47b3-8cb3-35ca1a0260dd",
   "metadata": {},
   "outputs": [],
   "source": [
    "medical$Marital <- as.numeric(medical$Marital)"
   ]
  },
  {
   "cell_type": "code",
   "execution_count": 65,
   "id": "34d01bc9-1f39-4464-99da-e816cfd386dc",
   "metadata": {},
   "outputs": [],
   "source": [
    "medical$Gender <- as.numeric(medical$Gender)"
   ]
  },
  {
   "cell_type": "code",
   "execution_count": 66,
   "id": "080dd883-0445-4061-8441-9c9653774ae2",
   "metadata": {},
   "outputs": [],
   "source": [
    "medical$ReAdmis <- as.numeric(medical$ReAdmis)"
   ]
  },
  {
   "cell_type": "code",
   "execution_count": 67,
   "id": "184f7277-d9b3-4a3d-97f0-b42582261c30",
   "metadata": {},
   "outputs": [],
   "source": [
    "medical$Soft_drink <- as.numeric(medical$Soft_drink)"
   ]
  },
  {
   "cell_type": "code",
   "execution_count": 68,
   "id": "b7907238-825f-407e-a917-1719ae960904",
   "metadata": {},
   "outputs": [],
   "source": [
    "medical$Initial_admin <- as.numeric(medical$Initial_admin)"
   ]
  },
  {
   "cell_type": "code",
   "execution_count": 69,
   "id": "8b3b23bf-b062-4439-aaee-d9ba078a6258",
   "metadata": {},
   "outputs": [],
   "source": [
    "medical$HighBlood <- as.numeric(medical$HighBlood)"
   ]
  },
  {
   "cell_type": "code",
   "execution_count": 70,
   "id": "aa351287-758e-4a4e-ba15-acc0206429fb",
   "metadata": {},
   "outputs": [],
   "source": [
    "medical$Stroke <- as.numeric(medical$Stroke)"
   ]
  },
  {
   "cell_type": "code",
   "execution_count": 71,
   "id": "aa48d9f4-e788-471a-be7c-87fe4b9e93b1",
   "metadata": {},
   "outputs": [],
   "source": [
    "medical$Complication_risk <- as.numeric(medical$Complication_risk)"
   ]
  },
  {
   "cell_type": "code",
   "execution_count": 72,
   "id": "4964fe8b-51e9-4f1d-83b2-f15db090d45d",
   "metadata": {},
   "outputs": [],
   "source": [
    "medical$Arthritis <- as.numeric(medical$Arthritis)"
   ]
  },
  {
   "cell_type": "code",
   "execution_count": 73,
   "id": "52b743e9-47c6-4c8f-b463-85098d540885",
   "metadata": {},
   "outputs": [],
   "source": [
    "medical$Diabetes <- as.numeric(medical$Diabetes)"
   ]
  },
  {
   "cell_type": "code",
   "execution_count": 74,
   "id": "78a4f866-da33-4f38-bd25-ede13532d973",
   "metadata": {},
   "outputs": [],
   "source": [
    "medical$Hyperlipidemia <- as.numeric(medical$Hyperlipidemia)"
   ]
  },
  {
   "cell_type": "code",
   "execution_count": 75,
   "id": "964d74fa-79fd-404f-8cc8-25071ef749ba",
   "metadata": {},
   "outputs": [],
   "source": [
    "medical$BackPain <- as.numeric(medical$BackPain)"
   ]
  },
  {
   "cell_type": "code",
   "execution_count": 76,
   "id": "c560f9ae-7da6-436e-89b9-1e0fabcd6d31",
   "metadata": {},
   "outputs": [],
   "source": [
    "medical$Allergic_rhinitis <- as.numeric(medical$Allergic_rhinitis)"
   ]
  },
  {
   "cell_type": "code",
   "execution_count": 77,
   "id": "5125242a-f243-45bb-ae45-5f7cdd6cde64",
   "metadata": {},
   "outputs": [],
   "source": [
    "medical$Reflux_esophagitis <- as.numeric(medical$Reflux_esophagitis)"
   ]
  },
  {
   "cell_type": "code",
   "execution_count": 78,
   "id": "67aaba02-68cd-4497-987a-365c118f05f6",
   "metadata": {},
   "outputs": [],
   "source": [
    "medical$Asthma <- as.numeric(medical$Asthma)"
   ]
  },
  {
   "cell_type": "code",
   "execution_count": 79,
   "id": "6782c5cd-01b8-4965-a855-11381bfb04ca",
   "metadata": {},
   "outputs": [],
   "source": [
    "medical$Services <- as.numeric(medical$Services)"
   ]
  },
  {
   "cell_type": "markdown",
   "id": "2c265397-64a1-45a7-8705-0006bf6a39a6",
   "metadata": {
    "jp-MarkdownHeadingCollapsed": true,
    "tags": []
   },
   "source": [
    "### Double Check:\n",
    "- Now, let's check to make sure that we converted everything correctly using `str(medical)`."
   ]
  },
  {
   "cell_type": "code",
   "execution_count": 80,
   "id": "4e81aabc-4686-48a1-b24a-1117b1b2fce9",
   "metadata": {},
   "outputs": [
    {
     "name": "stdout",
     "output_type": "stream",
     "text": [
      "spec_tbl_df [10,000 x 53] (S3: spec_tbl_df/tbl_df/tbl/data.frame)\n",
      " $ ...1              : num [1:10000] 1 2 3 4 5 6 7 8 9 10 ...\n",
      " $ CaseOrder         : num [1:10000] 1 2 3 4 5 6 7 8 9 10 ...\n",
      " $ Customer_id       : num [1:10000] 1 3 3 0 NA NA 0 7 NA 2 ...\n",
      " $ Interaction       : num [1:10000] 53 51 53 78 22 76 50 40 48 78 ...\n",
      " $ UID               : num [1:10000] 86576 46806 14370 39741 1210 ...\n",
      " $ City              : num [1:10000] NA NA NA NA NA NA NA NA NA NA ...\n",
      " $ State             : num [1:10000] NA NA NA NA NA NA NA NA NA NA ...\n",
      " $ County            : num [1:10000] NA NA NA NA NA NA NA NA NA NA ...\n",
      " $ Zip               : num [1:10000] 35621 32446 57110 56072 23181 ...\n",
      " $ Lat               : num [1:10000] 34.3 30.8 43.5 43.9 37.6 ...\n",
      " $ Lng               : num [1:10000] -86.7 -85.2 -96.6 -93.5 -76.9 ...\n",
      " $ Population        : num [1:10000] 2951 11303 17125 2162 5287 ...\n",
      " $ Area              : num [1:10000] NA NA NA NA NA NA NA NA NA NA ...\n",
      " $ Timezone          : num [1:10000] NA NA NA NA NA NA NA NA NA NA ...\n",
      " $ Job               : num [1:10000] NA NA NA NA NA NA NA NA NA NA ...\n",
      " $ Children          : num [1:10000] 1 3 3 0 NA NA 0 7 NA 2 ...\n",
      " $ Age               : num [1:10000] 53 51 53 78 22 76 50 40 48 78 ...\n",
      " $ Education         : num [1:10000] NA NA NA NA NA NA NA NA NA NA ...\n",
      " $ Employment        : num [1:10000] NA NA NA NA NA NA NA NA NA NA ...\n",
      " $ Income            : num [1:10000] 86576 46806 14370 39741 1210 ...\n",
      " $ Marital           : num [1:10000] NA NA NA NA NA NA NA NA NA NA ...\n",
      " $ Gender            : num [1:10000] NA NA NA NA NA NA NA NA NA NA ...\n",
      " $ ReAdmis           : num [1:10000] NA NA NA NA NA NA NA NA NA NA ...\n",
      " $ VitD_levels       : num [1:10000] 17.8 19 17.4 17.4 16.9 ...\n",
      " $ Doc_visits        : num [1:10000] 6 4 4 4 5 6 6 7 6 7 ...\n",
      " $ Full_meals_eaten  : num [1:10000] 0 2 1 1 0 0 0 2 3 1 ...\n",
      " $ VitD_supp         : num [1:10000] 0 1 0 0 2 0 0 0 0 2 ...\n",
      " $ Soft_drink        : num [1:10000] NA NA NA NA NA NA NA NA NA NA ...\n",
      " $ Initial_admin     : num [1:10000] NA NA NA NA NA NA NA NA NA NA ...\n",
      " $ HighBlood         : num [1:10000] NA NA NA NA NA NA NA NA NA NA ...\n",
      " $ Stroke            : num [1:10000] NA NA NA NA NA NA NA NA NA NA ...\n",
      " $ Complication_risk : num [1:10000] NA NA NA NA NA NA NA NA NA NA ...\n",
      " $ Overweight        : num [1:10000] 0 1 1 0 0 1 1 1 1 1 ...\n",
      " $ Arthritis         : num [1:10000] NA NA NA NA NA NA NA NA NA NA ...\n",
      " $ Diabetes          : num [1:10000] NA NA NA NA NA NA NA NA NA NA ...\n",
      " $ Hyperlipidemia    : num [1:10000] NA NA NA NA NA NA NA NA NA NA ...\n",
      " $ BackPain          : num [1:10000] NA NA NA NA NA NA NA NA NA NA ...\n",
      " $ Anxiety           : num [1:10000] 1 NA NA NA 0 0 1 0 NA 0 ...\n",
      " $ Allergic_rhinitis : num [1:10000] NA NA NA NA NA NA NA NA NA NA ...\n",
      " $ Reflux_esophagitis: num [1:10000] NA NA NA NA NA NA NA NA NA NA ...\n",
      " $ Asthma            : num [1:10000] NA NA NA NA NA NA NA NA NA NA ...\n",
      " $ Services          : num [1:10000] NA NA NA NA NA NA NA NA NA NA ...\n",
      " $ Initial_days      : num [1:10000] 10.59 15.13 4.77 1.71 1.25 ...\n",
      " $ TotalCharge       : num [1:10000] 3191 4215 2178 2465 1886 ...\n",
      " $ Additional_charges: num [1:10000] 17939 17613 17505 12993 3717 ...\n",
      " $ Item1             : num [1:10000] 3 3 2 3 2 4 4 1 3 5 ...\n",
      " $ Item2             : num [1:10000] 3 4 4 5 1 5 3 2 3 5 ...\n",
      " $ Item3             : num [1:10000] 2 3 4 5 3 4 3 2 2 5 ...\n",
      " $ Item4             : num [1:10000] 2 4 4 3 3 4 2 5 3 3 ...\n",
      " $ Item5             : num [1:10000] 4 4 3 4 5 3 3 4 3 4 ...\n",
      " $ Item6             : num [1:10000] 3 4 4 5 3 5 4 2 3 2 ...\n",
      " $ Item7             : num [1:10000] 3 3 3 5 4 4 5 4 4 3 ...\n",
      " $ Item8             : num [1:10000] 4 3 3 5 3 6 5 2 2 2 ...\n",
      " - attr(*, \"spec\")=\n",
      "  .. cols(\n",
      "  ..   ...1 = \u001b[32mcol_double()\u001b[39m,\n",
      "  ..   CaseOrder = \u001b[32mcol_double()\u001b[39m,\n",
      "  ..   Customer_id = \u001b[31mcol_character()\u001b[39m,\n",
      "  ..   Interaction = \u001b[31mcol_character()\u001b[39m,\n",
      "  ..   UID = \u001b[31mcol_character()\u001b[39m,\n",
      "  ..   City = \u001b[31mcol_character()\u001b[39m,\n",
      "  ..   State = \u001b[31mcol_character()\u001b[39m,\n",
      "  ..   County = \u001b[31mcol_character()\u001b[39m,\n",
      "  ..   Zip = \u001b[32mcol_double()\u001b[39m,\n",
      "  ..   Lat = \u001b[32mcol_double()\u001b[39m,\n",
      "  ..   Lng = \u001b[32mcol_double()\u001b[39m,\n",
      "  ..   Population = \u001b[32mcol_double()\u001b[39m,\n",
      "  ..   Area = \u001b[31mcol_character()\u001b[39m,\n",
      "  ..   Timezone = \u001b[31mcol_character()\u001b[39m,\n",
      "  ..   Job = \u001b[31mcol_character()\u001b[39m,\n",
      "  ..   Children = \u001b[32mcol_double()\u001b[39m,\n",
      "  ..   Age = \u001b[32mcol_double()\u001b[39m,\n",
      "  ..   Education = \u001b[31mcol_character()\u001b[39m,\n",
      "  ..   Employment = \u001b[31mcol_character()\u001b[39m,\n",
      "  ..   Income = \u001b[32mcol_double()\u001b[39m,\n",
      "  ..   Marital = \u001b[31mcol_character()\u001b[39m,\n",
      "  ..   Gender = \u001b[31mcol_character()\u001b[39m,\n",
      "  ..   ReAdmis = \u001b[31mcol_character()\u001b[39m,\n",
      "  ..   VitD_levels = \u001b[32mcol_double()\u001b[39m,\n",
      "  ..   Doc_visits = \u001b[32mcol_double()\u001b[39m,\n",
      "  ..   Full_meals_eaten = \u001b[32mcol_double()\u001b[39m,\n",
      "  ..   VitD_supp = \u001b[32mcol_double()\u001b[39m,\n",
      "  ..   Soft_drink = \u001b[31mcol_character()\u001b[39m,\n",
      "  ..   Initial_admin = \u001b[31mcol_character()\u001b[39m,\n",
      "  ..   HighBlood = \u001b[31mcol_character()\u001b[39m,\n",
      "  ..   Stroke = \u001b[31mcol_character()\u001b[39m,\n",
      "  ..   Complication_risk = \u001b[31mcol_character()\u001b[39m,\n",
      "  ..   Overweight = \u001b[32mcol_double()\u001b[39m,\n",
      "  ..   Arthritis = \u001b[31mcol_character()\u001b[39m,\n",
      "  ..   Diabetes = \u001b[31mcol_character()\u001b[39m,\n",
      "  ..   Hyperlipidemia = \u001b[31mcol_character()\u001b[39m,\n",
      "  ..   BackPain = \u001b[31mcol_character()\u001b[39m,\n",
      "  ..   Anxiety = \u001b[32mcol_double()\u001b[39m,\n",
      "  ..   Allergic_rhinitis = \u001b[31mcol_character()\u001b[39m,\n",
      "  ..   Reflux_esophagitis = \u001b[31mcol_character()\u001b[39m,\n",
      "  ..   Asthma = \u001b[31mcol_character()\u001b[39m,\n",
      "  ..   Services = \u001b[31mcol_character()\u001b[39m,\n",
      "  ..   Initial_days = \u001b[32mcol_double()\u001b[39m,\n",
      "  ..   TotalCharge = \u001b[32mcol_double()\u001b[39m,\n",
      "  ..   Additional_charges = \u001b[32mcol_double()\u001b[39m,\n",
      "  ..   Item1 = \u001b[32mcol_double()\u001b[39m,\n",
      "  ..   Item2 = \u001b[32mcol_double()\u001b[39m,\n",
      "  ..   Item3 = \u001b[32mcol_double()\u001b[39m,\n",
      "  ..   Item4 = \u001b[32mcol_double()\u001b[39m,\n",
      "  ..   Item5 = \u001b[32mcol_double()\u001b[39m,\n",
      "  ..   Item6 = \u001b[32mcol_double()\u001b[39m,\n",
      "  ..   Item7 = \u001b[32mcol_double()\u001b[39m,\n",
      "  ..   Item8 = \u001b[32mcol_double()\u001b[39m\n",
      "  .. )\n",
      " - attr(*, \"problems\")=<externalptr> \n"
     ]
    }
   ],
   "source": [
    "str(medical)"
   ]
  },
  {
   "cell_type": "markdown",
   "id": "04f563f7-0b36-4daa-9140-3198637bacf9",
   "metadata": {},
   "source": [
    "### Excellent! \n",
    "- We see that every `chr` (categorical) value is now `num` (numeric). "
   ]
  },
  {
   "cell_type": "markdown",
   "id": "3042589f-199a-4402-819c-b7f70b488990",
   "metadata": {
    "jp-MarkdownHeadingCollapsed": true,
    "tags": []
   },
   "source": [
    "### 3- Finding Outliers\n",
    "- Run the built-in `summary(data)` function to see what the data shows us."
   ]
  },
  {
   "cell_type": "code",
   "execution_count": 91,
   "id": "d2747c58-e45c-4789-ac91-47e65920b2e8",
   "metadata": {},
   "outputs": [
    {
     "data": {
      "text/plain": [
       "      ...1         CaseOrder      Customer_id      Interaction  \n",
       " Min.   :    1   Min.   :    1   Min.   : 0.000   Min.   :18.0  \n",
       " 1st Qu.: 2501   1st Qu.: 2501   1st Qu.: 0.000   1st Qu.:35.0  \n",
       " Median : 5000   Median : 5000   Median : 1.000   Median :53.0  \n",
       " Mean   : 5000   Mean   : 5000   Mean   : 2.098   Mean   :53.3  \n",
       " 3rd Qu.: 7500   3rd Qu.: 7500   3rd Qu.: 3.000   3rd Qu.:71.0  \n",
       " Max.   :10000   Max.   :10000   Max.   :10.000   Max.   :89.0  \n",
       "                                 NA's   :2588     NA's   :2414  \n",
       "      UID                City           State           County     \n",
       " Min.   :   154.1   Min.   : NA     Min.   : NA     Min.   : NA    \n",
       " 1st Qu.: 19450.8   1st Qu.: NA     1st Qu.: NA     1st Qu.: NA    \n",
       " Median : 33942.3   Median : NA     Median : NA     Median : NA    \n",
       " Mean   : 40484.4   Mean   :NaN     Mean   :NaN     Mean   :NaN    \n",
       " 3rd Qu.: 54075.2   3rd Qu.: NA     3rd Qu.: NA     3rd Qu.: NA    \n",
       " Max.   :207249.1   Max.   : NA     Max.   : NA     Max.   : NA    \n",
       " NA's   :2464       NA's   :10000   NA's   :10000   NA's   :10000  \n",
       "      Zip             Lat             Lng            Population      \n",
       " Min.   :  610   Min.   :17.97   Min.   :-174.21   Min.   :     0.0  \n",
       " 1st Qu.:27592   1st Qu.:35.26   1st Qu.: -97.35   1st Qu.:   694.8  \n",
       " Median :50207   Median :39.42   Median : -88.40   Median :  2769.0  \n",
       " Mean   :50159   Mean   :38.75   Mean   : -91.24   Mean   :  9965.2  \n",
       " 3rd Qu.:72412   3rd Qu.:42.04   3rd Qu.: -80.44   3rd Qu.: 13945.0  \n",
       " Max.   :99929   Max.   :70.56   Max.   : -65.29   Max.   :122814.0  \n",
       "                                                                     \n",
       "      Area          Timezone          Job           Children     \n",
       " Min.   : NA     Min.   : NA     Min.   : NA     Min.   : 0.000  \n",
       " 1st Qu.: NA     1st Qu.: NA     1st Qu.: NA     1st Qu.: 0.000  \n",
       " Median : NA     Median : NA     Median : NA     Median : 1.000  \n",
       " Mean   :NaN     Mean   :NaN     Mean   :NaN     Mean   : 2.098  \n",
       " 3rd Qu.: NA     3rd Qu.: NA     3rd Qu.: NA     3rd Qu.: 3.000  \n",
       " Max.   : NA     Max.   : NA     Max.   : NA     Max.   :10.000  \n",
       " NA's   :10000   NA's   :10000   NA's   :10000   NA's   :2588    \n",
       "      Age         Education       Employment        Income        \n",
       " Min.   :18.0   Min.   : NA     Min.   : NA     Min.   :   154.1  \n",
       " 1st Qu.:35.0   1st Qu.: NA     1st Qu.: NA     1st Qu.: 19450.8  \n",
       " Median :53.0   Median : NA     Median : NA     Median : 33942.3  \n",
       " Mean   :53.3   Mean   :NaN     Mean   :NaN     Mean   : 40484.4  \n",
       " 3rd Qu.:71.0   3rd Qu.: NA     3rd Qu.: NA     3rd Qu.: 54075.2  \n",
       " Max.   :89.0   Max.   : NA     Max.   : NA     Max.   :207249.1  \n",
       " NA's   :2414   NA's   :10000   NA's   :10000   NA's   :2464      \n",
       "    Marital          Gender         ReAdmis       VitD_levels    \n",
       " Min.   : NA     Min.   : NA     Min.   : NA     Min.   : 9.519  \n",
       " 1st Qu.: NA     1st Qu.: NA     1st Qu.: NA     1st Qu.:16.513  \n",
       " Median : NA     Median : NA     Median : NA     Median :18.081  \n",
       " Mean   :NaN     Mean   :NaN     Mean   :NaN     Mean   :19.413  \n",
       " 3rd Qu.: NA     3rd Qu.: NA     3rd Qu.: NA     3rd Qu.:19.790  \n",
       " Max.   : NA     Max.   : NA     Max.   : NA     Max.   :53.019  \n",
       " NA's   :10000   NA's   :10000   NA's   :10000                   \n",
       "   Doc_visits    Full_meals_eaten   VitD_supp        Soft_drink   \n",
       " Min.   :1.000   Min.   :0.000    Min.   :0.0000   Min.   : NA    \n",
       " 1st Qu.:4.000   1st Qu.:0.000    1st Qu.:0.0000   1st Qu.: NA    \n",
       " Median :5.000   Median :1.000    Median :0.0000   Median : NA    \n",
       " Mean   :5.012   Mean   :1.001    Mean   :0.3989   Mean   :NaN    \n",
       " 3rd Qu.:6.000   3rd Qu.:2.000    3rd Qu.:1.0000   3rd Qu.: NA    \n",
       " Max.   :9.000   Max.   :7.000    Max.   :5.0000   Max.   : NA    \n",
       "                                                   NA's   :10000  \n",
       " Initial_admin     HighBlood         Stroke      Complication_risk\n",
       " Min.   : NA     Min.   : NA     Min.   : NA     Min.   : NA      \n",
       " 1st Qu.: NA     1st Qu.: NA     1st Qu.: NA     1st Qu.: NA      \n",
       " Median : NA     Median : NA     Median : NA     Median : NA      \n",
       " Mean   :NaN     Mean   :NaN     Mean   :NaN     Mean   :NaN      \n",
       " 3rd Qu.: NA     3rd Qu.: NA     3rd Qu.: NA     3rd Qu.: NA      \n",
       " Max.   : NA     Max.   : NA     Max.   : NA     Max.   : NA      \n",
       " NA's   :10000   NA's   :10000   NA's   :10000   NA's   :10000    \n",
       "   Overweight       Arthritis        Diabetes     Hyperlipidemia \n",
       " Min.   :0.0000   Min.   : NA     Min.   : NA     Min.   : NA    \n",
       " 1st Qu.:0.0000   1st Qu.: NA     1st Qu.: NA     1st Qu.: NA    \n",
       " Median :1.0000   Median : NA     Median : NA     Median : NA    \n",
       " Mean   :0.7091   Mean   :NaN     Mean   :NaN     Mean   :NaN    \n",
       " 3rd Qu.:1.0000   3rd Qu.: NA     3rd Qu.: NA     3rd Qu.: NA    \n",
       " Max.   :1.0000   Max.   : NA     Max.   : NA     Max.   : NA    \n",
       " NA's   :982      NA's   :10000   NA's   :10000   NA's   :10000  \n",
       "    BackPain        Anxiety       Allergic_rhinitis Reflux_esophagitis\n",
       " Min.   : NA     Min.   :0.0000   Min.   : NA       Min.   : NA       \n",
       " 1st Qu.: NA     1st Qu.:0.0000   1st Qu.: NA       1st Qu.: NA       \n",
       " Median : NA     Median :0.0000   Median : NA       Median : NA       \n",
       " Mean   :NaN     Mean   :0.3223   Mean   :NaN       Mean   :NaN       \n",
       " 3rd Qu.: NA     3rd Qu.:1.0000   3rd Qu.: NA       3rd Qu.: NA       \n",
       " Max.   : NA     Max.   :1.0000   Max.   : NA       Max.   : NA       \n",
       " NA's   :10000   NA's   :984      NA's   :10000     NA's   :10000     \n",
       "     Asthma         Services      Initial_days     TotalCharge   \n",
       " Min.   : NA     Min.   : NA     Min.   : 1.002   Min.   : 1257  \n",
       " 1st Qu.: NA     1st Qu.: NA     1st Qu.: 7.912   1st Qu.: 3253  \n",
       " Median : NA     Median : NA     Median :34.447   Median : 5852  \n",
       " Mean   :NaN     Mean   :NaN     Mean   :34.432   Mean   : 5892  \n",
       " 3rd Qu.: NA     3rd Qu.: NA     3rd Qu.:61.125   3rd Qu.: 7615  \n",
       " Max.   : NA     Max.   : NA     Max.   :71.981   Max.   :21524  \n",
       " NA's   :10000   NA's   :10000   NA's   :1056                    \n",
       " Additional_charges     Item1           Item2           Item3      \n",
       " Min.   : 3126      Min.   :1.000   Min.   :1.000   Min.   :1.000  \n",
       " 1st Qu.: 7986      1st Qu.:3.000   1st Qu.:3.000   1st Qu.:3.000  \n",
       " Median :11574      Median :4.000   Median :3.000   Median :4.000  \n",
       " Mean   :12935      Mean   :3.519   Mean   :3.507   Mean   :3.511  \n",
       " 3rd Qu.:15626      3rd Qu.:4.000   3rd Qu.:4.000   3rd Qu.:4.000  \n",
       " Max.   :30566      Max.   :8.000   Max.   :7.000   Max.   :8.000  \n",
       "                                                                   \n",
       "     Item4           Item5           Item6           Item7           Item8     \n",
       " Min.   :1.000   Min.   :1.000   Min.   :1.000   Min.   :1.000   Min.   :1.00  \n",
       " 1st Qu.:3.000   1st Qu.:3.000   1st Qu.:3.000   1st Qu.:3.000   1st Qu.:3.00  \n",
       " Median :4.000   Median :3.000   Median :4.000   Median :3.000   Median :3.00  \n",
       " Mean   :3.515   Mean   :3.497   Mean   :3.522   Mean   :3.494   Mean   :3.51  \n",
       " 3rd Qu.:4.000   3rd Qu.:4.000   3rd Qu.:4.000   3rd Qu.:4.000   3rd Qu.:4.00  \n",
       " Max.   :7.000   Max.   :7.000   Max.   :7.000   Max.   :7.000   Max.   :7.00  \n",
       "                                                                               "
      ]
     },
     "metadata": {},
     "output_type": "display_data"
    }
   ],
   "source": [
    "summary(medical)"
   ]
  },
  {
   "cell_type": "markdown",
   "id": "0473b2f8-8b9d-4a59-9f91-813b9e34f305",
   "metadata": {},
   "source": [
    "### Descriptive statistics \n",
    "We know that the `summary()` function automatically calculates the following summary statistics:\n",
    "- Min: The minimum value\n",
    "- 1st Qu: The value of the 1st quartile (25th percentile)\n",
    "- Median: The median value\n",
    "- 3rd Qu: The value of the 3rd quartile (75th percentile)\n",
    "- Max: The maximum value\n",
    "\n",
    "By looking at the results above, we see some columns that need a further analysis via boxplot."
   ]
  },
  {
   "cell_type": "markdown",
   "id": "c2f5cc2d-6789-4ea6-aa23-27c42327ec92",
   "metadata": {},
   "source": [
    "### 3- (continued)\n",
    "#### Boxplots & Normal Probablity Plots \n",
    "- Columns to determine outliers."
   ]
  },
  {
   "cell_type": "code",
   "execution_count": null,
   "id": "782a3118-dc61-49ce-a852-7c7713ae2134",
   "metadata": {},
   "outputs": [],
   "source": []
  },
  {
   "cell_type": "code",
   "execution_count": 44,
   "id": "d656f4ec-daca-4fa5-af26-4f94b4a217af",
   "metadata": {},
   "outputs": [
    {
     "data": {
      "image/png": "[encoded data removed]",
      "text/plain": [
       "plot without title"
      ]
     },
     "metadata": {
      "image/png": {
       "height": 420,
       "width": 420
      }
     },
     "output_type": "display_data"
    }
   ],
   "source": [
    "boxplot(medical$Children)"
   ]
  },
  {
   "cell_type": "code",
   "execution_count": 86,
   "id": "a602a2ad-9f7b-4609-87c3-49ac71b43433",
   "metadata": {},
   "outputs": [
    {
     "data": {
      "image/png": "[encoded data removed]",
      "text/plain": [
       "plot without title"
      ]
     },
     "metadata": {
      "image/png": {
       "height": 420,
       "width": 420
      }
     },
     "output_type": "display_data"
    }
   ],
   "source": [
    "boxplot(medical$VitD_levels)"
   ]
  },
  {
   "cell_type": "code",
   "execution_count": 87,
   "id": "779c435f-75bf-46c7-a5bf-de04404b2660",
   "metadata": {},
   "outputs": [
    {
     "data": {
      "image/png": "[encoded data removed]",
      "text/plain": [
       "plot without title"
      ]
     },
     "metadata": {
      "image/png": {
       "height": 420,
       "width": 420
      }
     },
     "output_type": "display_data"
    }
   ],
   "source": [
    "boxplot(medical$VitD_supp)"
   ]
  },
  {
   "cell_type": "code",
   "execution_count": 88,
   "id": "05b38a17-a5f3-4872-84be-6fc7c0431a9d",
   "metadata": {},
   "outputs": [
    {
     "data": {
      "image/png": "[encoded data removed]",
      "text/plain": [
       "plot without title"
      ]
     },
     "metadata": {
      "image/png": {
       "height": 420,
       "width": 420
      }
     },
     "output_type": "display_data"
    }
   ],
   "source": [
    "boxplot(medical$Full_meals_eaten)"
   ]
  },
  {
   "cell_type": "code",
   "execution_count": 89,
   "id": "8bc9b305-ff7c-4d06-9f36-1dca18a56f6a",
   "metadata": {},
   "outputs": [
    {
     "data": {
      "image/png": "[encoded data removed]",
      "text/plain": [
       "plot without title"
      ]
     },
     "metadata": {
      "image/png": {
       "height": 420,
       "width": 420
      }
     },
     "output_type": "display_data"
    }
   ],
   "source": [
    "boxplot(medical$Population)"
   ]
  },
  {
   "cell_type": "code",
   "execution_count": 90,
   "id": "5a122823-366e-4fac-85c1-3d9146be5912",
   "metadata": {},
   "outputs": [
    {
     "data": {
      "image/png": "[encoded data removed]",
      "text/plain": [
       "plot without title"
      ]
     },
     "metadata": {
      "image/png": {
       "height": 420,
       "width": 420
      }
     },
     "output_type": "display_data"
    }
   ],
   "source": [
    "boxplot(medical$Income)"
   ]
  },
  {
   "cell_type": "code",
   "execution_count": 83,
   "id": "df2b96cd-86ff-4267-b660-e0b93365e6b5",
   "metadata": {},
   "outputs": [
    {
     "data": {
      "image/png": "[encoded data removed]",
      "text/plain": [
       "plot without title"
      ]
     },
     "metadata": {
      "image/png": {
       "height": 420,
       "width": 420
      }
     },
     "output_type": "display_data"
    }
   ],
   "source": [
    "boxplot(medical$Customer_id)"
   ]
  },
  {
   "cell_type": "code",
   "execution_count": 84,
   "id": "083ba19a-33b7-46eb-baf0-523d78edd895",
   "metadata": {},
   "outputs": [
    {
     "data": {
      "image/png": "[encoded data removed]",
      "text/plain": [
       "plot without title"
      ]
     },
     "metadata": {
      "image/png": {
       "height": 420,
       "width": 420
      }
     },
     "output_type": "display_data"
    }
   ],
   "source": [
    "boxplot(medical$Interaction)\n"
   ]
  },
  {
   "cell_type": "code",
   "execution_count": 85,
   "id": "f03a640a-b989-48af-aa97-d1463696667c",
   "metadata": {},
   "outputs": [
    {
     "data": {
      "image/png": "[encoded data removed]",
      "text/plain": [
       "plot without title"
      ]
     },
     "metadata": {
      "image/png": {
       "height": 420,
       "width": 420
      }
     },
     "output_type": "display_data"
    }
   ],
   "source": [
    "boxplot(medical$UID)"
   ]
  },
  {
   "cell_type": "code",
   "execution_count": null,
   "id": "1bdc3026-ecd5-48c5-aa51-5995fc88bd6a",
   "metadata": {},
   "outputs": [],
   "source": []
  },
  {
   "cell_type": "code",
   "execution_count": null,
   "id": "01fbd695-8b8f-4b89-98ce-896b8d627996",
   "metadata": {},
   "outputs": [],
   "source": []
  },
  {
   "cell_type": "markdown",
   "id": "2c95371a-a20b-46cc-a30e-e168e950c50f",
   "metadata": {},
   "source": [
    "### The results for number 3 show that the following columns had outliers confirmed by boxplot: children, vitamin D levels, vitamin D supplements, full meals eaten, population, and income."
   ]
  },
  {
   "cell_type": "code",
   "execution_count": 94,
   "id": "7b026fe7-2f89-4ca5-84cc-6024e10fbb4f",
   "metadata": {},
   "outputs": [],
   "source": [
    "## Part 3- E: Principal Component Analysis (PCA)\n",
    "## The PCA is a method for creating related groupings of variables."
   ]
  },
  {
   "cell_type": "code",
   "execution_count": null,
   "id": "18a35a69-97a2-4e3b-bb92-b6dc76a74a0a",
   "metadata": {},
   "outputs": [],
   "source": []
  },
  {
   "cell_type": "code",
   "execution_count": null,
   "id": "ca815388-7f1e-4add-8147-d355b4534269",
   "metadata": {},
   "outputs": [],
   "source": []
  },
  {
   "cell_type": "code",
   "execution_count": null,
   "id": "1f55e33c-3bab-4f8f-bcef-eb8bff65a2e3",
   "metadata": {},
   "outputs": [],
   "source": []
  },
  {
   "cell_type": "code",
   "execution_count": null,
   "id": "0e28a1ec-2935-4fbe-85be-8dde771a03d7",
   "metadata": {},
   "outputs": [],
   "source": []
  },
  {
   "cell_type": "code",
   "execution_count": 35,
   "id": "dbf48e22-4ef3-4119-bde9-24d69f693f22",
   "metadata": {},
   "outputs": [],
   "source": [
    "options(warn = - 1)        "
   ]
  },
  {
   "cell_type": "code",
   "execution_count": null,
   "id": "0bee0e32-54b9-4ad0-b606-1dcf89a51959",
   "metadata": {},
   "outputs": [],
   "source": []
  }
 ],
 "metadata": {
  "kernelspec": {
   "display_name": "R",
   "language": "R",
   "name": "ir"
  },
  "language_info": {
   "codemirror_mode": "r",
   "file_extension": ".r",
   "mimetype": "text/x-r-source",
   "name": "R",
   "pygments_lexer": "r",
   "version": "4.1.2"
  }
 },
 "nbformat": 4,
 "nbformat_minor": 5
}
