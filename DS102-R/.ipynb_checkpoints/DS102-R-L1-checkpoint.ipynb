{
 "cells": [
  {
   "cell_type": "markdown",
   "id": "a09e5fb7-288a-44e4-81a6-62f3c9631755",
   "metadata": {},
   "source": [
    "# Lesson 1 Hands-On 45 points\n",
    "\n",
    "## Requirements\n",
    "You have a bag filled with jellybeans of three different colors: pink, green, and yellow and 3 cups that cannot be moved arranged in a line in front of you. The end result should be that all the jellybeans have been removed from the bag and placed into cups. Each cup should only contain 1 color. The jellybeans should be placed into the cups so that the pile that is the smallest is on the left, and the pile that is the largest is on the right. Jellybeans cannot be placed anywhere except in the bag or in a cup."
   ]
  },
  {
   "cell_type": "markdown",
   "id": "1e5a98ec-d0cb-4898-be0c-b38f75f3c0e0",
   "metadata": {},
   "source": [
    "- Start pulling out jelly beans and organize inside cups by color\n",
    "- once organized by color, count each cup of jelly beans \n",
    "- then arrange cups accordingly"
   ]
  },
  {
   "cell_type": "code",
   "execution_count": null,
   "id": "b2820f53-5dc7-45c5-a06a-30a1c8cc3904",
   "metadata": {},
   "outputs": [],
   "source": []
  }
 ],
 "metadata": {
  "kernelspec": {
   "display_name": "R",
   "language": "R",
   "name": "ir"
  },
  "language_info": {
   "codemirror_mode": "r",
   "file_extension": ".r",
   "mimetype": "text/x-r-source",
   "name": "R",
   "pygments_lexer": "r",
   "version": "4.1.2"
  }
 },
 "nbformat": 4,
 "nbformat_minor": 5
}
