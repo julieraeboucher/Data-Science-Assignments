{
 "cells": [
  {
   "cell_type": "markdown",
   "id": "41a6ea07-9149-4800-b9bd-fa882bbad4c9",
   "metadata": {},
   "source": [
    "# DS0104 Data Wrangling & Visualization L2"
   ]
  },
  {
   "cell_type": "code",
   "execution_count": null,
   "id": "457cd90c-44cb-4d16-a297-ca3f82b1eaac",
   "metadata": {},
   "outputs": [],
   "source": [
    "# Import Packages"
   ]
  },
  {
   "cell_type": "code",
   "execution_count": 1,
   "id": "061d750c-fbe2-4cdd-9bc0-4566e9839533",
   "metadata": {},
   "outputs": [],
   "source": [
    "library('readr')"
   ]
  },
  {
   "cell_type": "code",
   "execution_count": 2,
   "id": "ee11f63c-2dae-4476-9648-2d75dd458ee4",
   "metadata": {},
   "outputs": [],
   "source": [
    "# Import Data"
   ]
  },
  {
   "cell_type": "code",
   "execution_count": 3,
   "id": "098dc010-ad96-4131-b90f-c822d1858142",
   "metadata": {},
   "outputs": [],
   "source": [
    "FakeNews <- read.csv(\"../../../Data/FakeNews.csv\")"
   ]
  },
  {
   "cell_type": "code",
   "execution_count": 4,
   "id": "b32c8bcf-ad36-456b-98fc-2deec20d5caf",
   "metadata": {},
   "outputs": [],
   "source": [
    "# Look at Dataset"
   ]
  },
  {
   "cell_type": "code",
   "execution_count": 5,
   "id": "bfd6d717-852f-4652-ba2e-37b07cebba55",
   "metadata": {},
   "outputs": [
    {
     "data": {
      "text/html": [
       "<table class=\"dataframe\">\n",
       "<caption>A data.frame: 6 × 3</caption>\n",
       "<thead>\n",
       "\t<tr><th></th><th scope=col>when</th><th scope=col>url</th><th scope=col>tracker</th></tr>\n",
       "\t<tr><th></th><th scope=col>&lt;chr&gt;</th><th scope=col>&lt;chr&gt;</th><th scope=col>&lt;chr&gt;</th></tr>\n",
       "</thead>\n",
       "<tbody>\n",
       "\t<tr><th scope=row>1</th><td>before-nov-2016</td><td>http://wayback.archive.org/web/20161004072420id_/http://alertchild.com/</td><td>DoubleClick                   </td></tr>\n",
       "\t<tr><th scope=row>2</th><td>before-nov-2016</td><td>http://wayback.archive.org/web/20161004072420id_/http://alertchild.com/</td><td>RevContent                    </td></tr>\n",
       "\t<tr><th scope=row>3</th><td>before-nov-2016</td><td>http://wayback.archive.org/web/20161004072420id_/http://alertchild.com/</td><td>DoubleClick                   </td></tr>\n",
       "\t<tr><th scope=row>4</th><td>before-nov-2016</td><td>http://wayback.archive.org/web/20161004072420id_/http://alertchild.com/</td><td>Google Syndication            </td></tr>\n",
       "\t<tr><th scope=row>5</th><td>before-nov-2016</td><td>http://wayback.archive.org/web/20161004072420id_/http://alertchild.com/</td><td>DoubleClick Ad Exchange-Seller</td></tr>\n",
       "\t<tr><th scope=row>6</th><td>before-nov-2016</td><td>http://wayback.archive.org/web/20161004072420id_/http://alertchild.com/</td><td>Kixer                         </td></tr>\n",
       "</tbody>\n",
       "</table>\n"
      ],
      "text/latex": [
       "A data.frame: 6 × 3\n",
       "\\begin{tabular}{r|lll}\n",
       "  & when & url & tracker\\\\\n",
       "  & <chr> & <chr> & <chr>\\\\\n",
       "\\hline\n",
       "\t1 & before-nov-2016 & http://wayback.archive.org/web/20161004072420id\\_/http://alertchild.com/ & DoubleClick                   \\\\\n",
       "\t2 & before-nov-2016 & http://wayback.archive.org/web/20161004072420id\\_/http://alertchild.com/ & RevContent                    \\\\\n",
       "\t3 & before-nov-2016 & http://wayback.archive.org/web/20161004072420id\\_/http://alertchild.com/ & DoubleClick                   \\\\\n",
       "\t4 & before-nov-2016 & http://wayback.archive.org/web/20161004072420id\\_/http://alertchild.com/ & Google Syndication            \\\\\n",
       "\t5 & before-nov-2016 & http://wayback.archive.org/web/20161004072420id\\_/http://alertchild.com/ & DoubleClick Ad Exchange-Seller\\\\\n",
       "\t6 & before-nov-2016 & http://wayback.archive.org/web/20161004072420id\\_/http://alertchild.com/ & Kixer                         \\\\\n",
       "\\end{tabular}\n"
      ],
      "text/markdown": [
       "\n",
       "A data.frame: 6 × 3\n",
       "\n",
       "| <!--/--> | when &lt;chr&gt; | url &lt;chr&gt; | tracker &lt;chr&gt; |\n",
       "|---|---|---|---|\n",
       "| 1 | before-nov-2016 | http://wayback.archive.org/web/20161004072420id_/http://alertchild.com/ | DoubleClick                    |\n",
       "| 2 | before-nov-2016 | http://wayback.archive.org/web/20161004072420id_/http://alertchild.com/ | RevContent                     |\n",
       "| 3 | before-nov-2016 | http://wayback.archive.org/web/20161004072420id_/http://alertchild.com/ | DoubleClick                    |\n",
       "| 4 | before-nov-2016 | http://wayback.archive.org/web/20161004072420id_/http://alertchild.com/ | Google Syndication             |\n",
       "| 5 | before-nov-2016 | http://wayback.archive.org/web/20161004072420id_/http://alertchild.com/ | DoubleClick Ad Exchange-Seller |\n",
       "| 6 | before-nov-2016 | http://wayback.archive.org/web/20161004072420id_/http://alertchild.com/ | Kixer                          |\n",
       "\n"
      ],
      "text/plain": [
       "  when           \n",
       "1 before-nov-2016\n",
       "2 before-nov-2016\n",
       "3 before-nov-2016\n",
       "4 before-nov-2016\n",
       "5 before-nov-2016\n",
       "6 before-nov-2016\n",
       "  url                                                                    \n",
       "1 http://wayback.archive.org/web/20161004072420id_/http://alertchild.com/\n",
       "2 http://wayback.archive.org/web/20161004072420id_/http://alertchild.com/\n",
       "3 http://wayback.archive.org/web/20161004072420id_/http://alertchild.com/\n",
       "4 http://wayback.archive.org/web/20161004072420id_/http://alertchild.com/\n",
       "5 http://wayback.archive.org/web/20161004072420id_/http://alertchild.com/\n",
       "6 http://wayback.archive.org/web/20161004072420id_/http://alertchild.com/\n",
       "  tracker                       \n",
       "1 DoubleClick                   \n",
       "2 RevContent                    \n",
       "3 DoubleClick                   \n",
       "4 Google Syndication            \n",
       "5 DoubleClick Ad Exchange-Seller\n",
       "6 Kixer                         "
      ]
     },
     "metadata": {},
     "output_type": "display_data"
    }
   ],
   "source": [
    "head(FakeNews)"
   ]
  },
  {
   "cell_type": "code",
   "execution_count": null,
   "id": "b1d8408b-57fa-4efe-8216-b0d0fc4586f2",
   "metadata": {},
   "outputs": [],
   "source": []
  }
 ],
 "metadata": {
  "kernelspec": {
   "display_name": "R",
   "language": "R",
   "name": "ir"
  },
  "language_info": {
   "codemirror_mode": "r",
   "file_extension": ".r",
   "mimetype": "text/x-r-source",
   "name": "R",
   "pygments_lexer": "r",
   "version": "4.1.2"
  }
 },
 "nbformat": 4,
 "nbformat_minor": 5
}
