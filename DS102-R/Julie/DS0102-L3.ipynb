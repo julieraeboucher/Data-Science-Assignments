{
 "cells": [
  {
   "cell_type": "markdown",
   "id": "a1b760f8-adba-41b9-92ad-0e8a05cfcca6",
   "metadata": {},
   "source": [
    "#\n",
    "# DS0102: L3. Variables, Functions, and For Loops"
   ]
  },
  {
   "cell_type": "markdown",
   "id": "b66eba78-f175-49a9-86fb-a7e311c68081",
   "metadata": {},
   "source": [
    "#\n",
    "# Requirements"
   ]
  },
  {
   "cell_type": "code",
   "execution_count": null,
   "id": "efccb7ea-f73a-4018-ba27-394fed734aea",
   "metadata": {},
   "outputs": [],
   "source": [
    "# Premier restaurants and bars are now serving drinks with \n",
    "# ice spheres rather than ice cubes to chill the drink. \n",
    "# Suppose you work for an ice vendor, and are tasked with \n",
    "# measuring the size of manufactured ice spheres. \n",
    "# Rather than measure the diameter directly, you weigh each sphere. \n",
    "# You consulted with your company's ice scientist,\n",
    "# and they gave you the following formula to convert the \n",
    "# ice sphere's weight in grams to its diameter in inches \n",
    "# (assuming it is weighed at 0 degrees Fahrenheit and is \n",
    "# perfectly spherical); \n",
    "# d is the sphere's diameter, and w is the sphere's weight.\n",
    "\n",
    "# Create Formula:\n",
    "# d equals two divided by two point five four open parentheses \n",
    "# w divided by zero point nine two times four thirds times pi \n",
    "# close parentheses to one third power.\n",
    "\n",
    "# Create a function:\n",
    "# called diam()\n",
    "# that computes the diameter of the sphere from its argument. \n",
    "\n",
    "# Create a for loop:\n",
    "# that will use your diam() \n",
    "# function to compute the diameters of spheres with the following \n",
    "# weights in grams: 0.96, 1.51, 2.17, 3.85, 4.45, and 6.02."
   ]
  },
  {
   "cell_type": "markdown",
   "id": "cc0298f6-ab5e-4dc9-b2ab-cb38698d234b",
   "metadata": {},
   "source": [
    "#\n",
    "# Create Formula: (name it diam)"
   ]
  },
  {
   "cell_type": "code",
   "execution_count": 6,
   "id": "8da7af83-c0a5-4550-8eed-ab68deff6272",
   "metadata": {},
   "outputs": [],
   "source": [
    "diam = function(w) {(2 / 2.54) * (w / (0.92) * 4/3 * pi)^(1/3)}"
   ]
  },
  {
   "cell_type": "markdown",
   "id": "6d844570-d7bb-4007-a225-2a474a4fa2fb",
   "metadata": {},
   "source": [
    "#\n",
    "# Create Vector with the Weights:"
   ]
  },
  {
   "cell_type": "code",
   "execution_count": 11,
   "id": "41e222b6-592b-4b1b-b10b-4c07e500af53",
   "metadata": {},
   "outputs": [],
   "source": [
    "weights = c(0.96, 1.51, 2.17, 3.85, 4.45, 6.02)"
   ]
  },
  {
   "cell_type": "markdown",
   "id": "196bfb20-6646-49d0-90ae-905cdcf7677a",
   "metadata": {},
   "source": [
    "#\n",
    "# Create basic For Loop:"
   ]
  },
  {
   "cell_type": "code",
   "execution_count": 12,
   "id": "af67c1c4-aaa6-4cee-adc7-86ef73b27a5b",
   "metadata": {},
   "outputs": [
    {
     "name": "stdout",
     "output_type": "stream",
     "text": [
      "0.96  grams =  1.28742  inches\n",
      "1.51  grams =  1.497231  inches\n",
      "2.17  grams =  1.689597  inches\n",
      "3.85  grams =  2.045424  inches\n",
      "4.45  grams =  2.146594  inches\n",
      "6.02  grams =  2.37408  inches\n"
     ]
    }
   ],
   "source": [
    "for (w in weights) {\n",
    "  d = diam(w) \n",
    "  cat(w, \" grams = \", d, \" inches\\n\")\n",
    "}"
   ]
  },
  {
   "cell_type": "markdown",
   "id": "604d31ef-2c6b-458c-9fe8-14b84bea9fb1",
   "metadata": {},
   "source": [
    "#\n",
    "# Get creative with the cat(), which is just an a fancier print function"
   ]
  },
  {
   "cell_type": "code",
   "execution_count": 10,
   "id": "54264203-64cc-4258-8761-eebcfc925d31",
   "metadata": {},
   "outputs": [
    {
     "name": "stdout",
     "output_type": "stream",
     "text": [
      "For the weight  0.96  in grams, the diameter is  1.28742  in inches\n",
      "For the weight  1.51  in grams, the diameter is  1.497231  in inches\n",
      "For the weight  2.17  in grams, the diameter is  1.689597  in inches\n",
      "For the weight  3.85  in grams, the diameter is  2.045424  in inches\n",
      "For the weight  4.45  in grams, the diameter is  2.146594  in inches\n",
      "For the weight  6.02  in grams, the diameter is  2.37408  in inches\n"
     ]
    }
   ],
   "source": [
    "for (w in weights) {\n",
    "  d = diam(w) \n",
    "  cat(\"For the weight \", w, \" in grams, the diameter is \", d, \" in inches\\n\")\n",
    "}"
   ]
  }
 ],
 "metadata": {
  "kernelspec": {
   "display_name": "R",
   "language": "R",
   "name": "ir"
  },
  "language_info": {
   "codemirror_mode": "r",
   "file_extension": ".r",
   "mimetype": "text/x-r-source",
   "name": "R",
   "pygments_lexer": "r",
   "version": "4.2.1"
  }
 },
 "nbformat": 4,
 "nbformat_minor": 5
}
