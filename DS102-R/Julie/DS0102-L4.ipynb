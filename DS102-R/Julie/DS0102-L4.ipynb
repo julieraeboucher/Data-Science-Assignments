{
 "cells": [
  {
   "cell_type": "markdown",
   "id": "35e08cf3-b70a-40a7-9278-8f60e95923f0",
   "metadata": {},
   "source": [
    "#\n",
    "# DS0102: L4. Vectors and Sample Statistics"
   ]
  },
  {
   "cell_type": "markdown",
   "id": "059d6a28-fde2-4729-a43f-af05c81b0e97",
   "metadata": {},
   "source": [
    "#\n",
    "# Requirements"
   ]
  },
  {
   "cell_type": "code",
   "execution_count": 2,
   "id": "8396b879-6e65-4cce-8779-40cf30c7851a",
   "metadata": {},
   "outputs": [],
   "source": [
    "# The eruption times for Old Faithful are clustered into \n",
    "# two different groups. One group is short eruptions, \n",
    "# and the other group is long eruptions. Short eruptions last\n",
    "# three minutes or less, while long eruptions last more than \n",
    "# three minutes. As below, define the vector e.times as:\n",
    "\n",
    "# e.times <- faithful$eruptions\n",
    "\n",
    "# Split the vector e.times into two vectors: \n",
    "# vector 1: short that contains the times less than or equal to three minutes, \n",
    "# vector 2: long that contains the times greater than three minutes.\n",
    "\n",
    "#Answer the following questions:\n",
    "\n",
    "# How many elements are in the vector short?\n",
    "\n",
    "# How many elements are in the vector long?\n",
    "\n",
    "# What is the mean erruption time of the short eruptions?\n",
    "\n",
    "# What is the mean erruption time of the long eruptions?\n",
    "\n",
    "# What is the standard deviation of the short eruption times?\n",
    "\n",
    "# What is the standard deviation of the long eruption times?"
   ]
  },
  {
   "cell_type": "markdown",
   "id": "e4c562ba-a54f-49a1-9919-d89471c2191f",
   "metadata": {},
   "source": [
    "#\n",
    "# Import Packages"
   ]
  },
  {
   "cell_type": "code",
   "execution_count": 4,
   "id": "59529a90-0458-4fb4-9e2b-101cddb483c7",
   "metadata": {},
   "outputs": [],
   "source": [
    "library(datasets)"
   ]
  },
  {
   "cell_type": "markdown",
   "id": "a5a37df9-4026-482c-9d07-9eb9ab0e25ba",
   "metadata": {},
   "source": [
    "#\n",
    "# Explore the Dataset to Investigate the Column Names"
   ]
  },
  {
   "cell_type": "code",
   "execution_count": 53,
   "id": "243d55b3-c3cf-47bb-9122-e6ef9bce194a",
   "metadata": {},
   "outputs": [
    {
     "data": {
      "text/html": [
       "<table class=\"dataframe\">\n",
       "<caption>A data.frame: 6 × 2</caption>\n",
       "<thead>\n",
       "\t<tr><th></th><th scope=col>eruptions</th><th scope=col>waiting</th></tr>\n",
       "\t<tr><th></th><th scope=col>&lt;dbl&gt;</th><th scope=col>&lt;dbl&gt;</th></tr>\n",
       "</thead>\n",
       "<tbody>\n",
       "\t<tr><th scope=row>1</th><td>3.600</td><td>79</td></tr>\n",
       "\t<tr><th scope=row>2</th><td>1.800</td><td>54</td></tr>\n",
       "\t<tr><th scope=row>3</th><td>3.333</td><td>74</td></tr>\n",
       "\t<tr><th scope=row>4</th><td>2.283</td><td>62</td></tr>\n",
       "\t<tr><th scope=row>5</th><td>4.533</td><td>85</td></tr>\n",
       "\t<tr><th scope=row>6</th><td>2.883</td><td>55</td></tr>\n",
       "</tbody>\n",
       "</table>\n"
      ],
      "text/latex": [
       "A data.frame: 6 × 2\n",
       "\\begin{tabular}{r|ll}\n",
       "  & eruptions & waiting\\\\\n",
       "  & <dbl> & <dbl>\\\\\n",
       "\\hline\n",
       "\t1 & 3.600 & 79\\\\\n",
       "\t2 & 1.800 & 54\\\\\n",
       "\t3 & 3.333 & 74\\\\\n",
       "\t4 & 2.283 & 62\\\\\n",
       "\t5 & 4.533 & 85\\\\\n",
       "\t6 & 2.883 & 55\\\\\n",
       "\\end{tabular}\n"
      ],
      "text/markdown": [
       "\n",
       "A data.frame: 6 × 2\n",
       "\n",
       "| <!--/--> | eruptions &lt;dbl&gt; | waiting &lt;dbl&gt; |\n",
       "|---|---|---|\n",
       "| 1 | 3.600 | 79 |\n",
       "| 2 | 1.800 | 54 |\n",
       "| 3 | 3.333 | 74 |\n",
       "| 4 | 2.283 | 62 |\n",
       "| 5 | 4.533 | 85 |\n",
       "| 6 | 2.883 | 55 |\n",
       "\n"
      ],
      "text/plain": [
       "  eruptions waiting\n",
       "1 3.600     79     \n",
       "2 1.800     54     \n",
       "3 3.333     74     \n",
       "4 2.283     62     \n",
       "5 4.533     85     \n",
       "6 2.883     55     "
      ]
     },
     "metadata": {},
     "output_type": "display_data"
    }
   ],
   "source": [
    "head(faithful)"
   ]
  },
  {
   "cell_type": "markdown",
   "id": "0fa8799a-4233-47db-b021-8407455d31c4",
   "metadata": {},
   "source": [
    "#\n",
    "# Go to the instructions and Run the Vector above"
   ]
  },
  {
   "cell_type": "markdown",
   "id": "33c037cf-34b6-4e84-8cae-c570f6531faf",
   "metadata": {},
   "source": [
    "##### NewVectorName <- DataFrameName$Column"
   ]
  },
  {
   "cell_type": "code",
   "execution_count": 43,
   "id": "01638c2e-19c1-4f12-8f20-961639730f69",
   "metadata": {},
   "outputs": [],
   "source": [
    "eruption.times <- faithful$eruptions"
   ]
  },
  {
   "cell_type": "markdown",
   "id": "0c0aa12a-f06c-4842-a1f2-a5a5fd34cf6c",
   "metadata": {},
   "source": [
    "#\n",
    "##### As you can see, we want to extract info from the column eruption\n",
    "##### But... we need to set some conditions\n",
    "##### Create two vectors for short_eruptions & long_eruptions\n",
    "#"
   ]
  },
  {
   "cell_type": "markdown",
   "id": "e55c5f53-acc6-4df1-9388-30f104aae0a9",
   "metadata": {},
   "source": [
    "# Vector 1:"
   ]
  },
  {
   "cell_type": "markdown",
   "id": "092b511e-b584-4894-a857-44928fa7ac19",
   "metadata": {},
   "source": [
    "##### NewVectorName <- oldVector[oldVector operatorInfo]"
   ]
  },
  {
   "cell_type": "code",
   "execution_count": 56,
   "id": "6b96a165-c003-4930-b92d-32151004191d",
   "metadata": {},
   "outputs": [],
   "source": [
    "short_eruptions <- eruption.times[eruption.times > 3]"
   ]
  },
  {
   "cell_type": "markdown",
   "id": "b6c2655f-6ee3-429c-bca8-78b0845e01c0",
   "metadata": {},
   "source": [
    "# Vector 2:"
   ]
  },
  {
   "cell_type": "markdown",
   "id": "afedb133-7131-4121-a5b2-8714c16453d9",
   "metadata": {},
   "source": [
    "##### NewVectorName <- oldVector[oldVector operatorInfo]"
   ]
  },
  {
   "cell_type": "code",
   "execution_count": 58,
   "id": "7d260244-bd09-4c63-8909-f1b5b287bb84",
   "metadata": {},
   "outputs": [],
   "source": [
    "long_eruptions <- eruption.times[eruption.times < 3]"
   ]
  },
  {
   "cell_type": "markdown",
   "id": "a971eb8c-555b-4fea-a9b8-7d4aeca3ddab",
   "metadata": {},
   "source": [
    "#\n",
    "# Run your Sample Statistics Functions\n",
    "#### length() counts how many elements\n",
    "#### max() max value\n",
    "#### min() min value\n",
    "#### mean()average\n",
    "#### median() middle number\n",
    "#### var() variance\n",
    "#### sd() standard deviation\n",
    "#### summary() quartiles\n",
    "#"
   ]
  },
  {
   "cell_type": "markdown",
   "id": "c801a7ac-994c-41dd-8465-3f4ce91c84e7",
   "metadata": {},
   "source": [
    "# How many elements are in the vector short?"
   ]
  },
  {
   "cell_type": "code",
   "execution_count": 66,
   "id": "ea850336-30a1-4cb6-9cfd-85b455319c4c",
   "metadata": {},
   "outputs": [
    {
     "data": {
      "text/html": [
       "175"
      ],
      "text/latex": [
       "175"
      ],
      "text/markdown": [
       "175"
      ],
      "text/plain": [
       "[1] 175"
      ]
     },
     "metadata": {},
     "output_type": "display_data"
    }
   ],
   "source": [
    "length(short_eruptions)"
   ]
  },
  {
   "cell_type": "markdown",
   "id": "e6e83a17-ae04-4cd4-b6af-fd1c839e9671",
   "metadata": {},
   "source": [
    "#\n",
    "# How many elements are in the vector long?"
   ]
  },
  {
   "cell_type": "markdown",
   "id": "4d7448c7-6c9c-49ab-943b-18db9510075d",
   "metadata": {},
   "source": [
    "length(long_eruptions)"
   ]
  },
  {
   "cell_type": "markdown",
   "id": "e4bb536f-b103-4ef8-81ab-3528142b9ef6",
   "metadata": {},
   "source": [
    "#\n",
    "# What is the mean erruption time of the short eruptions?"
   ]
  },
  {
   "cell_type": "code",
   "execution_count": 67,
   "id": "54fd213f-8993-49f7-83ee-530f3bb7482b",
   "metadata": {},
   "outputs": [
    {
     "data": {
      "text/html": [
       "4.29130285714286"
      ],
      "text/latex": [
       "4.29130285714286"
      ],
      "text/markdown": [
       "4.29130285714286"
      ],
      "text/plain": [
       "[1] 4.291303"
      ]
     },
     "metadata": {},
     "output_type": "display_data"
    }
   ],
   "source": [
    "mean(short_eruptions)"
   ]
  },
  {
   "cell_type": "markdown",
   "id": "c1adb430-139e-4581-a30f-ad57a2348d1e",
   "metadata": {},
   "source": [
    "#\n",
    "# What is the mean erruption time of the long eruptions?"
   ]
  },
  {
   "cell_type": "code",
   "execution_count": 68,
   "id": "cca6d8ee-69bd-4f02-ab5d-827eebb54615",
   "metadata": {},
   "outputs": [
    {
     "data": {
      "text/html": [
       "2.03813402061856"
      ],
      "text/latex": [
       "2.03813402061856"
      ],
      "text/markdown": [
       "2.03813402061856"
      ],
      "text/plain": [
       "[1] 2.038134"
      ]
     },
     "metadata": {},
     "output_type": "display_data"
    }
   ],
   "source": [
    "mean(long_eruptions)"
   ]
  },
  {
   "cell_type": "markdown",
   "id": "b2be7c19-7844-4b99-993f-2c250279a336",
   "metadata": {},
   "source": [
    "#\n",
    "# What is the standard deviation of the short eruption times?"
   ]
  },
  {
   "cell_type": "code",
   "execution_count": 69,
   "id": "f063e5fa-6892-47c3-a27b-9ce3746047f7",
   "metadata": {},
   "outputs": [
    {
     "data": {
      "text/html": [
       "0.410851589311841"
      ],
      "text/latex": [
       "0.410851589311841"
      ],
      "text/markdown": [
       "0.410851589311841"
      ],
      "text/plain": [
       "[1] 0.4108516"
      ]
     },
     "metadata": {},
     "output_type": "display_data"
    }
   ],
   "source": [
    "sd(short_eruptions)"
   ]
  },
  {
   "cell_type": "markdown",
   "id": "99741445-83ad-4552-9f21-8b20c8d29a05",
   "metadata": {},
   "source": [
    "#\n",
    "# What is the standard deviation of the long eruption times?"
   ]
  },
  {
   "cell_type": "code",
   "execution_count": 65,
   "id": "6e70cce4-fa7e-4745-a11e-3432f0c89d49",
   "metadata": {},
   "outputs": [
    {
     "data": {
      "text/html": [
       "0.266865471292262"
      ],
      "text/latex": [
       "0.266865471292262"
      ],
      "text/markdown": [
       "0.266865471292262"
      ],
      "text/plain": [
       "[1] 0.2668655"
      ]
     },
     "metadata": {},
     "output_type": "display_data"
    }
   ],
   "source": [
    "sd(long_eruptions)"
   ]
  }
 ],
 "metadata": {
  "kernelspec": {
   "display_name": "R",
   "language": "R",
   "name": "ir"
  },
  "language_info": {
   "codemirror_mode": "r",
   "file_extension": ".r",
   "mimetype": "text/x-r-source",
   "name": "R",
   "pygments_lexer": "r",
   "version": "4.2.1"
  }
 },
 "nbformat": 4,
 "nbformat_minor": 5
}
