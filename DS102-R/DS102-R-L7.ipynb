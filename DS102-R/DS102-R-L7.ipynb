{
 "cells": [
  {
   "cell_type": "markdown",
   "id": "763a9cdb-e0ad-49e5-bdba-30f3dbbd8a4c",
   "metadata": {},
   "source": [
    "## Requirements\n",
    "\n",
    "The ```nhtemp``` built-in data set gives the mean annual temperature in New Haven, CT, for the years 1912 to 1971.\n",
    "\n",
    "Suppose you want to test whether the average over the first 25 years (1912 to 1936) of the data is statistically significantly different than the average over the last 25 years (1947 to 1971) of the data set. You create two vectors from the data set: ```first25``` and ```last25```, using the following code:\n",
    "\n",
    "```{r}\n",
    "first25 <- nhtemp[1:25]\n",
    "last25 <- nhtemp[36:60]\n",
    "```\n",
    "\n",
    "Compute a test to see if these two vectors have the same mean. \n",
    "\n",
    "What type of *t*-test should you use? \n",
    "\n",
    "* Single sample\n",
    "* Independent \n",
    "* Dependent \n",
    "\n",
    "### The correct answer is Dependent t-test!\n",
    "\n",
    "\n",
    "Within a text document, discuss the following: \n",
    "\n",
    "* The problem to be solved\n",
    "* The hypotheses \n",
    "* The results of the hypothesis test and the conclusion\n",
    ">What is the *p*-value for this test? Based on this *p*-value, do you reject the null hypothesis?\n"
   ]
  },
  {
   "cell_type": "markdown",
   "id": "44b3b31c-aa56-486d-a898-57aa721a6e38",
   "metadata": {},
   "source": [
    "---"
   ]
  },
  {
   "cell_type": "markdown",
   "id": "7692d1f2-3dfd-42b1-bb33-2b3b47b83827",
   "metadata": {},
   "source": [
    "# Look at Built in Dataset"
   ]
  },
  {
   "cell_type": "code",
   "execution_count": 18,
   "id": "2c99bfc9-2232-49fc-98bc-07867a8295b4",
   "metadata": {},
   "outputs": [
    {
     "data": {
      "text/html": [
       "<style>\n",
       ".list-inline {list-style: none; margin:0; padding: 0}\n",
       ".list-inline>li {display: inline-block}\n",
       ".list-inline>li:not(:last-child)::after {content: \"\\00b7\"; padding: 0 .5ex}\n",
       "</style>\n",
       "<ol class=list-inline><li>49.9</li><li>52.3</li><li>49.4</li><li>51.1</li><li>49.4</li><li>47.9</li></ol>\n"
      ],
      "text/latex": [
       "\\begin{enumerate*}\n",
       "\\item 49.9\n",
       "\\item 52.3\n",
       "\\item 49.4\n",
       "\\item 51.1\n",
       "\\item 49.4\n",
       "\\item 47.9\n",
       "\\end{enumerate*}\n"
      ],
      "text/markdown": [
       "1. 49.9\n",
       "2. 52.3\n",
       "3. 49.4\n",
       "4. 51.1\n",
       "5. 49.4\n",
       "6. 47.9\n",
       "\n",
       "\n"
      ],
      "text/plain": [
       "[1] 49.9 52.3 49.4 51.1 49.4 47.9"
      ]
     },
     "metadata": {},
     "output_type": "display_data"
    }
   ],
   "source": [
    "head(nhtemp)"
   ]
  },
  {
   "cell_type": "markdown",
   "id": "01e2c8db-3b67-41e6-bc33-dc640a58e59d",
   "metadata": {},
   "source": [
    "# Change to Dataframe"
   ]
  },
  {
   "cell_type": "code",
   "execution_count": 19,
   "id": "90f7c397-d6aa-44cd-80fd-e6e32b733196",
   "metadata": {},
   "outputs": [],
   "source": [
    "# We need to change the built in dataset called `rivers` into a dataframe to \n",
    "# properly look at it and create the structure for the dataset. \n",
    "# You can see the difference in structure from the line above and below.  \n",
    "\n",
    "temp = data.frame(nhtemp)"
   ]
  },
  {
   "cell_type": "markdown",
   "id": "a4f96e84-c8ee-4214-a4ba-46965954518d",
   "metadata": {},
   "source": [
    "# Look at Data"
   ]
  },
  {
   "cell_type": "code",
   "execution_count": 20,
   "id": "2daa5e00-915f-4284-9495-24db2cdf6b75",
   "metadata": {},
   "outputs": [
    {
     "data": {
      "text/html": [
       "<table class=\"dataframe\">\n",
       "<caption>A data.frame: 6 × 1</caption>\n",
       "<thead>\n",
       "\t<tr><th></th><th scope=col>nhtemp</th></tr>\n",
       "\t<tr><th></th><th scope=col>&lt;dbl&gt;</th></tr>\n",
       "</thead>\n",
       "<tbody>\n",
       "\t<tr><th scope=row>1</th><td>49.9</td></tr>\n",
       "\t<tr><th scope=row>2</th><td>52.3</td></tr>\n",
       "\t<tr><th scope=row>3</th><td>49.4</td></tr>\n",
       "\t<tr><th scope=row>4</th><td>51.1</td></tr>\n",
       "\t<tr><th scope=row>5</th><td>49.4</td></tr>\n",
       "\t<tr><th scope=row>6</th><td>47.9</td></tr>\n",
       "</tbody>\n",
       "</table>\n"
      ],
      "text/latex": [
       "A data.frame: 6 × 1\n",
       "\\begin{tabular}{r|l}\n",
       "  & nhtemp\\\\\n",
       "  & <dbl>\\\\\n",
       "\\hline\n",
       "\t1 & 49.9\\\\\n",
       "\t2 & 52.3\\\\\n",
       "\t3 & 49.4\\\\\n",
       "\t4 & 51.1\\\\\n",
       "\t5 & 49.4\\\\\n",
       "\t6 & 47.9\\\\\n",
       "\\end{tabular}\n"
      ],
      "text/markdown": [
       "\n",
       "A data.frame: 6 × 1\n",
       "\n",
       "| <!--/--> | nhtemp &lt;dbl&gt; |\n",
       "|---|---|\n",
       "| 1 | 49.9 |\n",
       "| 2 | 52.3 |\n",
       "| 3 | 49.4 |\n",
       "| 4 | 51.1 |\n",
       "| 5 | 49.4 |\n",
       "| 6 | 47.9 |\n",
       "\n"
      ],
      "text/plain": [
       "  nhtemp\n",
       "1 49.9  \n",
       "2 52.3  \n",
       "3 49.4  \n",
       "4 51.1  \n",
       "5 49.4  \n",
       "6 47.9  "
      ]
     },
     "metadata": {},
     "output_type": "display_data"
    }
   ],
   "source": [
    "head(temp)"
   ]
  },
  {
   "cell_type": "markdown",
   "id": "053e7829-395a-4f7d-9f8b-078b695969f4",
   "metadata": {},
   "source": [
    "# Create a Vector:\n",
    "### We want to know what the first 25 years and the last 25 years have any differences. "
   ]
  },
  {
   "cell_type": "code",
   "execution_count": 21,
   "id": "9959bbf8-fcf9-49f4-ac77-2f6df1423d8c",
   "metadata": {},
   "outputs": [],
   "source": [
    "first25 <- nhtemp[1:25]\n",
    "last25 <- nhtemp[36:60]"
   ]
  },
  {
   "cell_type": "markdown",
   "id": "c52c41ba-cd81-42cb-8eb9-c720372ed633",
   "metadata": {},
   "source": [
    "# Run Dependent T-test"
   ]
  },
  {
   "cell_type": "code",
   "execution_count": 22,
   "id": "10a539cc-3ed2-450f-b27b-9376b355e7f0",
   "metadata": {},
   "outputs": [
    {
     "data": {
      "text/plain": [
       "\n",
       "\tPaired t-test\n",
       "\n",
       "data:  first25 and last25\n",
       "t = -3.924, df = 24, p-value = 0.0006383\n",
       "alternative hypothesis: true difference in means is not equal to 0\n",
       "95 percent confidence interval:\n",
       " -2.2645321 -0.7034679\n",
       "sample estimates:\n",
       "mean of the differences \n",
       "                 -1.484 \n"
      ]
     },
     "metadata": {},
     "output_type": "display_data"
    }
   ],
   "source": [
    "t_dep <- t.test(first25, last25, paired = TRUE)\n",
    "t_dep"
   ]
  },
  {
   "cell_type": "markdown",
   "id": "dffdbeff-c3bb-4766-a4f2-dff87371e244",
   "metadata": {},
   "source": [
    "# State Hypothesis:"
   ]
  },
  {
   "cell_type": "markdown",
   "id": "42ab1e77-2d8d-4014-b130-ce7c56c5b1b1",
   "metadata": {},
   "source": [
    "- Null: There is no difference\n",
    "- Alternative: There is a difference\n",
    "    - p-value = 0.0006383\n",
    "\n",
    "Reject Null and Accpet Alternative; There is a difference from the first 25 years to the last 25 years average tempertures in New Haven, CT, for the years 1912 to 1971.\n"
   ]
  },
  {
   "cell_type": "markdown",
   "id": "e18cdebb-5cb9-4088-a740-081ed12ce9a8",
   "metadata": {},
   "source": [
    "# Graphing Data for an Dependent T-test"
   ]
  },
  {
   "cell_type": "code",
   "execution_count": 23,
   "id": "84d1ee89-6a31-431f-abaa-3414c7d113f9",
   "metadata": {},
   "outputs": [],
   "source": [
    "library(reshape2)"
   ]
  },
  {
   "cell_type": "code",
   "execution_count": 30,
   "id": "bd29d09d-9ae7-4fc8-9d1a-e364584c0ad7",
   "metadata": {},
   "outputs": [],
   "source": [
    "temp1 <- melt(temp, measure.vars = \"nhtemp\")"
   ]
  },
  {
   "cell_type": "code",
   "execution_count": null,
   "id": "a08c52cb-3cb5-4372-bca8-7a3236b98bc7",
   "metadata": {},
   "outputs": [],
   "source": []
  }
 ],
 "metadata": {
  "kernelspec": {
   "display_name": "R",
   "language": "R",
   "name": "ir"
  },
  "language_info": {
   "codemirror_mode": "r",
   "file_extension": ".r",
   "mimetype": "text/x-r-source",
   "name": "R",
   "pygments_lexer": "r",
   "version": "4.1.2"
  }
 },
 "nbformat": 4,
 "nbformat_minor": 5
}
