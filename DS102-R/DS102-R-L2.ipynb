{
 "cells": [
  {
   "cell_type": "markdown",
   "id": "362532aa-3955-4193-9b2c-1f23de22f650",
   "metadata": {},
   "source": [
    "# Lesson 2 Quiz 4 points"
   ]
  },
  {
   "cell_type": "markdown",
   "id": "3de82bd6-ad71-4a63-854d-aedec0e7a5bb",
   "metadata": {},
   "source": [
    "## Question 1 \n",
    "- 12 points\n",
    "- Suppose you want to change the message from \"Hello World!\" to \"It's a Small World\". Which of the following would do this successfully?"
   ]
  },
  {
   "cell_type": "markdown",
   "id": "a33d17ef-f19b-47d2-9430-ea2aed6f39fd",
   "metadata": {},
   "source": [
    "D. `print(\"It's a Small World\")`"
   ]
  },
  {
   "cell_type": "markdown",
   "id": "8f9fe3f1-ff7e-4b22-90a0-fecdb29ca95e",
   "metadata": {},
   "source": [
    "## Question 2\n",
    "- 2 points\n",
    "- R has several datasets included in it. You will use these datasets in future lessons. You can get information on these datasets by using the command:\n",
    "\n",
    "`help(\"datasets\")`\n",
    "\n",
    "- Execute this command. What does the information displayed in the Help pane tell you to do to get a complete list of the datasets?"
   ]
  },
  {
   "cell_type": "markdown",
   "id": "42c640a6-ea87-4404-841d-9d798c7a83c3",
   "metadata": {},
   "source": [
    "A. Type `library(help = \"datasets\")`"
   ]
  }
 ],
 "metadata": {
  "kernelspec": {
   "display_name": "R",
   "language": "R",
   "name": "ir"
  },
  "language_info": {
   "codemirror_mode": "r",
   "file_extension": ".r",
   "mimetype": "text/x-r-source",
   "name": "R",
   "pygments_lexer": "r",
   "version": "4.1.2"
  }
 },
 "nbformat": 4,
 "nbformat_minor": 5
}
