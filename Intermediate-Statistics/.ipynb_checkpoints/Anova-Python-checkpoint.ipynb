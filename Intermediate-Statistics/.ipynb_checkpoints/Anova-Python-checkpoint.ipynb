{
 "cells": [
  {
   "cell_type": "code",
   "execution_count": 1,
   "id": "147b5119-a7aa-450d-84b7-7199a216c743",
   "metadata": {},
   "outputs": [],
   "source": [
    "import pandas as pd\n",
    "import numpy as np\n",
    "import seaborn as sns\n",
    "import scipy\n",
    "from scipy import stats\n",
    "from statsmodels.stats.multicomp import pairwise_tukeyhsd\n",
    "from statsmodels.stats.multicomp import MultiComparison"
   ]
  },
  {
   "cell_type": "code",
   "execution_count": 2,
   "id": "391c075f-ef06-45fc-a792-c6dc98c54b09",
   "metadata": {},
   "outputs": [],
   "source": [
    "df= pd.read_csv(\"/Users/julieraeboucher/Desktop/avocados.csv\")"
   ]
  },
  {
   "cell_type": "code",
   "execution_count": 3,
   "id": "4d906abc-493c-425a-96f1-7e46da1a6b66",
   "metadata": {},
   "outputs": [
    {
     "data": {
      "text/html": [
       "<div><div id=7e615fdd-afe3-4a10-a0a4-d39758754a4c style=\"display:none; background-color:#9D6CFF; color:white; width:200px; height:30px; padding-left:5px; border-radius:4px; flex-direction:row; justify-content:space-around; align-items:center;\" onmouseover=\"this.style.backgroundColor='#BA9BF8'\" onmouseout=\"this.style.backgroundColor='#9D6CFF'\" onclick=\"window.commands?.execute('create-mitosheet-from-dataframe-output');\">See Full Dataframe in Mito</div> <script> if (window.commands?.hasCommand('create-mitosheet-from-dataframe-output')) document.getElementById('7e615fdd-afe3-4a10-a0a4-d39758754a4c').style.display = 'flex' </script> <table border=\"1\" class=\"dataframe\">\n",
       "  <thead>\n",
       "    <tr style=\"text-align: right;\">\n",
       "      <th></th>\n",
       "      <th>Unnamed: 0</th>\n",
       "      <th>Date</th>\n",
       "      <th>AveragePrice</th>\n",
       "      <th>Total Volume</th>\n",
       "      <th>4046</th>\n",
       "      <th>4225</th>\n",
       "      <th>4770</th>\n",
       "      <th>Total Bags</th>\n",
       "      <th>Small Bags</th>\n",
       "      <th>Large Bags</th>\n",
       "      <th>XLarge Bags</th>\n",
       "      <th>type</th>\n",
       "      <th>year</th>\n",
       "      <th>region</th>\n",
       "    </tr>\n",
       "  </thead>\n",
       "  <tbody>\n",
       "    <tr>\n",
       "      <th>0</th>\n",
       "      <td>0</td>\n",
       "      <td>12/27/2015</td>\n",
       "      <td>1.33</td>\n",
       "      <td>64236.62</td>\n",
       "      <td>1036.74</td>\n",
       "      <td>54454.85</td>\n",
       "      <td>48.16</td>\n",
       "      <td>8696.87</td>\n",
       "      <td>8603.62</td>\n",
       "      <td>93.25</td>\n",
       "      <td>0.0</td>\n",
       "      <td>conventional</td>\n",
       "      <td>2015</td>\n",
       "      <td>Albany</td>\n",
       "    </tr>\n",
       "    <tr>\n",
       "      <th>1</th>\n",
       "      <td>1</td>\n",
       "      <td>12/20/2015</td>\n",
       "      <td>1.35</td>\n",
       "      <td>54876.98</td>\n",
       "      <td>674.28</td>\n",
       "      <td>44638.81</td>\n",
       "      <td>58.33</td>\n",
       "      <td>9505.56</td>\n",
       "      <td>9408.07</td>\n",
       "      <td>97.49</td>\n",
       "      <td>0.0</td>\n",
       "      <td>conventional</td>\n",
       "      <td>2015</td>\n",
       "      <td>Albany</td>\n",
       "    </tr>\n",
       "    <tr>\n",
       "      <th>2</th>\n",
       "      <td>2</td>\n",
       "      <td>12/13/2015</td>\n",
       "      <td>0.93</td>\n",
       "      <td>118220.22</td>\n",
       "      <td>794.70</td>\n",
       "      <td>109149.67</td>\n",
       "      <td>130.50</td>\n",
       "      <td>8145.35</td>\n",
       "      <td>8042.21</td>\n",
       "      <td>103.14</td>\n",
       "      <td>0.0</td>\n",
       "      <td>conventional</td>\n",
       "      <td>2015</td>\n",
       "      <td>Albany</td>\n",
       "    </tr>\n",
       "    <tr>\n",
       "      <th>3</th>\n",
       "      <td>3</td>\n",
       "      <td>12/6/2015</td>\n",
       "      <td>1.08</td>\n",
       "      <td>78992.15</td>\n",
       "      <td>1132.00</td>\n",
       "      <td>71976.41</td>\n",
       "      <td>72.58</td>\n",
       "      <td>5811.16</td>\n",
       "      <td>5677.40</td>\n",
       "      <td>133.76</td>\n",
       "      <td>0.0</td>\n",
       "      <td>conventional</td>\n",
       "      <td>2015</td>\n",
       "      <td>Albany</td>\n",
       "    </tr>\n",
       "    <tr>\n",
       "      <th>4</th>\n",
       "      <td>4</td>\n",
       "      <td>11/29/2015</td>\n",
       "      <td>1.28</td>\n",
       "      <td>51039.60</td>\n",
       "      <td>941.48</td>\n",
       "      <td>43838.39</td>\n",
       "      <td>75.78</td>\n",
       "      <td>6183.95</td>\n",
       "      <td>5986.26</td>\n",
       "      <td>197.69</td>\n",
       "      <td>0.0</td>\n",
       "      <td>conventional</td>\n",
       "      <td>2015</td>\n",
       "      <td>Albany</td>\n",
       "    </tr>\n",
       "  </tbody>\n",
       "</table></div>"
      ],
      "text/plain": [
       "   Unnamed: 0        Date  AveragePrice  Total Volume     4046       4225  \\\n",
       "0           0  12/27/2015          1.33      64236.62  1036.74   54454.85   \n",
       "1           1  12/20/2015          1.35      54876.98   674.28   44638.81   \n",
       "2           2  12/13/2015          0.93     118220.22   794.70  109149.67   \n",
       "3           3   12/6/2015          1.08      78992.15  1132.00   71976.41   \n",
       "4           4  11/29/2015          1.28      51039.60   941.48   43838.39   \n",
       "\n",
       "     4770  Total Bags  Small Bags  Large Bags  XLarge Bags          type  \\\n",
       "0   48.16     8696.87     8603.62       93.25          0.0  conventional   \n",
       "1   58.33     9505.56     9408.07       97.49          0.0  conventional   \n",
       "2  130.50     8145.35     8042.21      103.14          0.0  conventional   \n",
       "3   72.58     5811.16     5677.40      133.76          0.0  conventional   \n",
       "4   75.78     6183.95     5986.26      197.69          0.0  conventional   \n",
       "\n",
       "   year  region  \n",
       "0  2015  Albany  \n",
       "1  2015  Albany  \n",
       "2  2015  Albany  \n",
       "3  2015  Albany  \n",
       "4  2015  Albany  "
      ]
     },
     "execution_count": 3,
     "metadata": {},
     "output_type": "execute_result"
    }
   ],
   "source": [
    "df.head()"
   ]
  },
  {
   "cell_type": "markdown",
   "id": "fbf3cd66-4337-4e7f-9848-b855fc2bf48b",
   "metadata": {},
   "source": [
    "# Part II: ANOVAs in Python¶\n",
    "### Does the total volume of avocados sold differ between Indianapolis, Orlando, and PhoenixTuscon?"
   ]
  },
  {
   "cell_type": "code",
   "execution_count": 4,
   "id": "36c9e724-c617-4e70-bf60-eae405cb1245",
   "metadata": {},
   "outputs": [
    {
     "data": {
      "text/plain": [
       "Index(['Unnamed: 0', 'Date', 'AveragePrice', 'Total Volume', '4046', '4225',\n",
       "       '4770', 'Total Bags', 'Small Bags', 'Large Bags', 'XLarge Bags', 'type',\n",
       "       'year', 'region'],\n",
       "      dtype='object')"
      ]
     },
     "execution_count": 4,
     "metadata": {},
     "output_type": "execute_result"
    }
   ],
   "source": [
    "df.columns"
   ]
  },
  {
   "cell_type": "code",
   "execution_count": 5,
   "id": "33079232-115e-4cac-98ae-0090f7d2395a",
   "metadata": {},
   "outputs": [],
   "source": [
    "#df.region.value_counts()"
   ]
  },
  {
   "cell_type": "code",
   "execution_count": 6,
   "id": "7b6f1756-4eee-476d-ac3a-97acf776297a",
   "metadata": {},
   "outputs": [],
   "source": [
    "df = df.loc[df['region'].isin(['Indianapolis', 'Orlando', 'PhoenixTucson'])]"
   ]
  },
  {
   "cell_type": "code",
   "execution_count": 7,
   "id": "45c70796-6e3c-4722-a072-8c76f8913768",
   "metadata": {},
   "outputs": [
    {
     "data": {
      "text/plain": [
       "region\n",
       "Indianapolis     338\n",
       "Orlando          338\n",
       "PhoenixTucson    338\n",
       "dtype: int64"
      ]
     },
     "execution_count": 7,
     "metadata": {},
     "output_type": "execute_result"
    }
   ],
   "source": [
    "df.value_counts('region')"
   ]
  },
  {
   "cell_type": "code",
   "execution_count": 8,
   "id": "cc15c39f-3a4b-4e47-8485-b17841caae49",
   "metadata": {},
   "outputs": [
    {
     "data": {
      "text/plain": [
       "region\n",
       "Indianapolis     1.313994\n",
       "Orlando          1.506213\n",
       "PhoenixTucson    1.224438\n",
       "Name: AveragePrice, dtype: float64"
      ]
     },
     "execution_count": 8,
     "metadata": {},
     "output_type": "execute_result"
    }
   ],
   "source": [
    "df.groupby('region').mean()['AveragePrice']"
   ]
  },
  {
   "cell_type": "code",
   "execution_count": 9,
   "id": "08c48924-43da-48b2-89bc-12b44793ecc6",
   "metadata": {},
   "outputs": [],
   "source": [
    "df['RegionR'] = df['region'].replace([\"Indianapolis\", \"Orlando\", \"PhoenixTucson\"],[0,1,2])\n",
    "# droppping orginal column and keeping recoding column\n",
    "df1 = df[['RegionR','Total Volume']]"
   ]
  },
  {
   "cell_type": "markdown",
   "id": "badd18e7-2425-4042-8d1a-55cfa658afcc",
   "metadata": {},
   "source": [
    "## Homogeneity of Variance\n",
    "Just like in R, you can test for homogeneity of variance easily using either Bartlett's test or Fligner's Test. Bartlett's test is for when your data is normally distributed, and Fligner's test is for when your data is non-parametric. No matter which test you are using, you are looking for a non-significant test. The null hypothesis for both of these is that the data has equal variance, so you'd like to have a p value of > .05. Since you have corrected your data, you can use Bartlett's test, but just for learning purposes, you'll try both here."
   ]
  },
  {
   "cell_type": "code",
   "execution_count": 10,
   "id": "4e1d3e4b-cf32-488a-a7df-fe4608be24d7",
   "metadata": {},
   "outputs": [
    {
     "name": "stderr",
     "output_type": "stream",
     "text": [
      "/opt/homebrew/lib/python3.9/site-packages/seaborn/distributions.py:2619: FutureWarning: `distplot` is a deprecated function and will be removed in a future version. Please adapt your code to use either `displot` (a figure-level function with similar flexibility) or `histplot` (an axes-level function for histograms).\n",
      "  warnings.warn(msg, FutureWarning)\n"
     ]
    },
    {
     "data": {
      "text/plain": [
       "<AxesSubplot:xlabel='Total Volume', ylabel='Density'>"
      ]
     },
     "execution_count": 10,
     "metadata": {},
     "output_type": "execute_result"
    },
    {
     "data": {
      "image/png": "[encoded data removed]",
      "text/plain": [
       "<Figure size 432x288 with 1 Axes>"
      ]
     },
     "metadata": {
      "needs_background": "light"
     },
     "output_type": "display_data"
    }
   ],
   "source": [
    "# normal plot\n",
    "sns.distplot(df1['Total Volume'])"
   ]
  },
  {
   "cell_type": "code",
   "execution_count": 13,
   "id": "9df4e45e-b1be-433e-a15c-9c99ec3851d9",
   "metadata": {},
   "outputs": [
    {
     "name": "stderr",
     "output_type": "stream",
     "text": [
      "/var/folders/pv/pw6305z15g782z7d207y2v4c0000gn/T/ipykernel_18059/4149386658.py:2: SettingWithCopyWarning: \n",
      "A value is trying to be set on a copy of a slice from a DataFrame.\n",
      "Try using .loc[row_indexer,col_indexer] = value instead\n",
      "\n",
      "See the caveats in the documentation: https://pandas.pydata.org/pandas-docs/stable/user_guide/indexing.html#returning-a-view-versus-a-copy\n",
      "  df1['TotalVolumeSQRT'] = np.sqrt(df1['Total Volume'])\n",
      "/opt/homebrew/lib/python3.9/site-packages/seaborn/distributions.py:2619: FutureWarning: `distplot` is a deprecated function and will be removed in a future version. Please adapt your code to use either `displot` (a figure-level function with similar flexibility) or `histplot` (an axes-level function for histograms).\n",
      "  warnings.warn(msg, FutureWarning)\n"
     ]
    },
    {
     "data": {
      "text/plain": [
       "<AxesSubplot:xlabel='TotalVolumeSQRT', ylabel='Density'>"
      ]
     },
     "execution_count": 13,
     "metadata": {},
     "output_type": "execute_result"
    },
    {
     "data": {
      "image/png": "[encoded data removed]",
      "text/plain": [
       "<Figure size 432x288 with 1 Axes>"
      ]
     },
     "metadata": {
      "needs_background": "light"
     },
     "output_type": "display_data"
    }
   ],
   "source": [
    "# SQRT and normally distrubute data\n",
    "df1['TotalVolumeSQRT'] = np.sqrt(df1['Total Volume'])\n",
    "sns.distplot(df1['TotalVolumeSQRT'])"
   ]
  },
  {
   "cell_type": "code",
   "execution_count": 14,
   "id": "06b389f1-3c5d-48c2-8d0e-d83755b83888",
   "metadata": {},
   "outputs": [
    {
     "name": "stderr",
     "output_type": "stream",
     "text": [
      "/var/folders/pv/pw6305z15g782z7d207y2v4c0000gn/T/ipykernel_18059/1796305953.py:2: SettingWithCopyWarning: \n",
      "A value is trying to be set on a copy of a slice from a DataFrame.\n",
      "Try using .loc[row_indexer,col_indexer] = value instead\n",
      "\n",
      "See the caveats in the documentation: https://pandas.pydata.org/pandas-docs/stable/user_guide/indexing.html#returning-a-view-versus-a-copy\n",
      "  df1['TotalVolumeLOG'] = np.log(df1['Total Volume'])\n",
      "/opt/homebrew/lib/python3.9/site-packages/seaborn/distributions.py:2619: FutureWarning: `distplot` is a deprecated function and will be removed in a future version. Please adapt your code to use either `displot` (a figure-level function with similar flexibility) or `histplot` (an axes-level function for histograms).\n",
      "  warnings.warn(msg, FutureWarning)\n"
     ]
    },
    {
     "data": {
      "text/plain": [
       "<AxesSubplot:xlabel='TotalVolumeLOG', ylabel='Density'>"
      ]
     },
     "execution_count": 14,
     "metadata": {},
     "output_type": "execute_result"
    },
    {
     "data": {
      "image/png": "[encoded data removed]",
      "text/plain": [
       "<Figure size 432x288 with 1 Axes>"
      ]
     },
     "metadata": {
      "needs_background": "light"
     },
     "output_type": "display_data"
    }
   ],
   "source": [
    "# Cube it\n",
    "df1['TotalVolumeLOG'] = np.log(df1['Total Volume'])\n",
    "sns.distplot(df1['TotalVolumeLOG'])"
   ]
  },
  {
   "cell_type": "markdown",
   "id": "2e64d95f-698a-418f-974f-d11a961a4508",
   "metadata": {},
   "source": [
    "# Logged is the closest to Noraml Distribution.... but not really considering there is a huge dip in the middle"
   ]
  },
  {
   "cell_type": "markdown",
   "id": "ce1d56f8-ce42-4aac-9aed-1b236fdec000",
   "metadata": {},
   "source": [
    "## Bartlett's Test"
   ]
  },
  {
   "cell_type": "code",
   "execution_count": 15,
   "id": "3ce51b82-c320-4f47-a45c-fcb16e138eaa",
   "metadata": {},
   "outputs": [
    {
     "data": {
      "text/plain": [
       "BartlettResult(statistic=883.7919675933721, pvalue=3.2755760094735546e-194)"
      ]
     },
     "execution_count": 15,
     "metadata": {},
     "output_type": "execute_result"
    }
   ],
   "source": [
    "scipy.stats.bartlett(df1['TotalVolumeLOG'], df1['RegionR'])"
   ]
  },
  {
   "cell_type": "markdown",
   "id": "a5abf4ce-67bc-4e13-ad92-53b58175924e",
   "metadata": {},
   "source": [
    "## Fligner's Test"
   ]
  },
  {
   "cell_type": "code",
   "execution_count": 16,
   "id": "ae330c17-c8d3-4ee6-8941-fbabaa1e00de",
   "metadata": {},
   "outputs": [
    {
     "data": {
      "text/plain": [
       "FlignerResult(statistic=1106.1971206828098, pvalue=1.4858650815524343e-242)"
      ]
     },
     "execution_count": 16,
     "metadata": {},
     "output_type": "execute_result"
    }
   ],
   "source": [
    "scipy.stats.fligner(df1['TotalVolumeLOG'], df1['RegionR'])"
   ]
  },
  {
   "cell_type": "markdown",
   "id": "ff5d8ee5-ae8a-4204-9679-c01a0bfb6ce3",
   "metadata": {},
   "source": [
    "## Computing ANOVAs with Equal Variance (Met Homogeneity of Variance Assumption)"
   ]
  },
  {
   "cell_type": "code",
   "execution_count": 17,
   "id": "53b33856-4225-453e-b306-9e7414c43fcd",
   "metadata": {},
   "outputs": [
    {
     "data": {
      "text/html": [
       "<div><div id=a3e229f1-446d-42fb-a94e-c4f75a913139 style=\"display:none; background-color:#9D6CFF; color:white; width:200px; height:30px; padding-left:5px; border-radius:4px; flex-direction:row; justify-content:space-around; align-items:center;\" onmouseover=\"this.style.backgroundColor='#BA9BF8'\" onmouseout=\"this.style.backgroundColor='#9D6CFF'\" onclick=\"window.commands?.execute('create-mitosheet-from-dataframe-output');\">See Full Dataframe in Mito</div> <script> if (window.commands?.hasCommand('create-mitosheet-from-dataframe-output')) document.getElementById('a3e229f1-446d-42fb-a94e-c4f75a913139').style.display = 'flex' </script> <table border=\"1\" class=\"dataframe\">\n",
       "  <thead>\n",
       "    <tr style=\"text-align: right;\">\n",
       "      <th></th>\n",
       "      <th>RegionR</th>\n",
       "      <th>Total Volume</th>\n",
       "      <th>TotalVolumeSQRT</th>\n",
       "      <th>TotalVolumeLOG</th>\n",
       "    </tr>\n",
       "  </thead>\n",
       "  <tbody>\n",
       "    <tr>\n",
       "      <th>988</th>\n",
       "      <td>0</td>\n",
       "      <td>123096.09</td>\n",
       "      <td>350.850524</td>\n",
       "      <td>11.720721</td>\n",
       "    </tr>\n",
       "    <tr>\n",
       "      <th>989</th>\n",
       "      <td>0</td>\n",
       "      <td>116353.68</td>\n",
       "      <td>341.106552</td>\n",
       "      <td>11.664390</td>\n",
       "    </tr>\n",
       "    <tr>\n",
       "      <th>990</th>\n",
       "      <td>0</td>\n",
       "      <td>125342.89</td>\n",
       "      <td>354.037978</td>\n",
       "      <td>11.738808</td>\n",
       "    </tr>\n",
       "    <tr>\n",
       "      <th>991</th>\n",
       "      <td>0</td>\n",
       "      <td>145740.44</td>\n",
       "      <td>381.759663</td>\n",
       "      <td>11.889583</td>\n",
       "    </tr>\n",
       "    <tr>\n",
       "      <th>992</th>\n",
       "      <td>0</td>\n",
       "      <td>108444.41</td>\n",
       "      <td>329.308989</td>\n",
       "      <td>11.593993</td>\n",
       "    </tr>\n",
       "  </tbody>\n",
       "</table></div>"
      ],
      "text/plain": [
       "     RegionR  Total Volume  TotalVolumeSQRT  TotalVolumeLOG\n",
       "988        0     123096.09       350.850524       11.720721\n",
       "989        0     116353.68       341.106552       11.664390\n",
       "990        0     125342.89       354.037978       11.738808\n",
       "991        0     145740.44       381.759663       11.889583\n",
       "992        0     108444.41       329.308989       11.593993"
      ]
     },
     "execution_count": 17,
     "metadata": {},
     "output_type": "execute_result"
    }
   ],
   "source": [
    "df1.head()"
   ]
  },
  {
   "cell_type": "code",
   "execution_count": 18,
   "id": "678eb04e-5c40-4973-88fd-0447ac995354",
   "metadata": {},
   "outputs": [
    {
     "data": {
      "text/plain": [
       "F_onewayResult(statistic=174.05378837225294, pvalue=1.101276256457687e-65)"
      ]
     },
     "execution_count": 18,
     "metadata": {},
     "output_type": "execute_result"
    }
   ],
   "source": [
    "stats.f_oneway(df['Total Volume'][df['region']== \"Indianapolis\"],\n",
    "               df['Total Volume'][df['region']== \"Orlando\"],\n",
    "               df['Total Volume'][df['region']== \"PhoenixTucson\"])"
   ]
  },
  {
   "cell_type": "markdown",
   "id": "55ca9fa9-980c-4765-88b6-c6b3ed964578",
   "metadata": {},
   "source": [
    "## Post Hocs\n",
    "Computing Post Hocs with Tukey's¶"
   ]
  },
  {
   "cell_type": "code",
   "execution_count": 20,
   "id": "ddef3f67-f44a-41a3-8f70-56051b19e003",
   "metadata": {},
   "outputs": [
    {
     "name": "stdout",
     "output_type": "stream",
     "text": [
      " Multiple Comparison of Means - Tukey HSD, FWER=0.05  \n",
      "======================================================\n",
      "group1 group2 meandiff p-adj   lower    upper   reject\n",
      "------------------------------------------------------\n",
      "     0      1  84.1993 0.0032  23.7296 144.6689   True\n",
      "     0      2 345.3913  0.001 284.9216 405.8609   True\n",
      "     1      2  261.192  0.001 200.7223 321.6616   True\n",
      "------------------------------------------------------\n"
     ]
    }
   ],
   "source": [
    "postHoc = MultiComparison(df1['TotalVolumeSQRT'], df1['RegionR'])\n",
    "postHocResults = postHoc.tukeyhsd()\n",
    "print(postHocResults)"
   ]
  },
  {
   "cell_type": "markdown",
   "id": "177373f9-8d50-426f-adc1-9af6aaee099c",
   "metadata": {},
   "source": [
    "# Determine Means and Draw Conclusions¶"
   ]
  },
  {
   "cell_type": "code",
   "execution_count": 21,
   "id": "2c4de413-3780-49e1-9448-e7b7e1884158",
   "metadata": {},
   "outputs": [
    {
     "data": {
      "text/html": [
       "<div><div id=6ef95b6e-4f50-47c3-93eb-db5a9e29def8 style=\"display:none; background-color:#9D6CFF; color:white; width:200px; height:30px; padding-left:5px; border-radius:4px; flex-direction:row; justify-content:space-around; align-items:center;\" onmouseover=\"this.style.backgroundColor='#BA9BF8'\" onmouseout=\"this.style.backgroundColor='#9D6CFF'\" onclick=\"window.commands?.execute('create-mitosheet-from-dataframe-output');\">See Full Dataframe in Mito</div> <script> if (window.commands?.hasCommand('create-mitosheet-from-dataframe-output')) document.getElementById('6ef95b6e-4f50-47c3-93eb-db5a9e29def8').style.display = 'flex' </script> <table border=\"1\" class=\"dataframe\">\n",
       "  <thead>\n",
       "    <tr style=\"text-align: right;\">\n",
       "      <th></th>\n",
       "      <th>Total Volume</th>\n",
       "      <th>TotalVolumeSQRT</th>\n",
       "      <th>TotalVolumeLOG</th>\n",
       "    </tr>\n",
       "    <tr>\n",
       "      <th>RegionR</th>\n",
       "      <th></th>\n",
       "      <th></th>\n",
       "      <th></th>\n",
       "    </tr>\n",
       "  </thead>\n",
       "  <tbody>\n",
       "    <tr>\n",
       "      <th>0</th>\n",
       "      <td>89536.661036</td>\n",
       "      <td>240.446599</td>\n",
       "      <td>10.157564</td>\n",
       "    </tr>\n",
       "    <tr>\n",
       "      <th>1</th>\n",
       "      <td>173552.378373</td>\n",
       "      <td>324.645892</td>\n",
       "      <td>10.586744</td>\n",
       "    </tr>\n",
       "    <tr>\n",
       "      <th>2</th>\n",
       "      <td>578826.368343</td>\n",
       "      <td>585.837880</td>\n",
       "      <td>11.634171</td>\n",
       "    </tr>\n",
       "  </tbody>\n",
       "</table></div>"
      ],
      "text/plain": [
       "          Total Volume  TotalVolumeSQRT  TotalVolumeLOG\n",
       "RegionR                                                \n",
       "0         89536.661036       240.446599       10.157564\n",
       "1        173552.378373       324.645892       10.586744\n",
       "2        578826.368343       585.837880       11.634171"
      ]
     },
     "execution_count": 21,
     "metadata": {},
     "output_type": "execute_result"
    }
   ],
   "source": [
    "df1.groupby('RegionR').mean()"
   ]
  },
  {
   "cell_type": "code",
   "execution_count": null,
   "id": "c90b5335-64d4-447c-b48f-4087febe1030",
   "metadata": {},
   "outputs": [],
   "source": []
  }
 ],
 "metadata": {
  "kernelspec": {
   "display_name": "Python 3 (ipykernel)",
   "language": "python",
   "name": "python3"
  },
  "language_info": {
   "codemirror_mode": {
    "name": "ipython",
    "version": 3
   },
   "file_extension": ".py",
   "mimetype": "text/x-python",
   "name": "python",
   "nbconvert_exporter": "python",
   "pygments_lexer": "ipython3",
   "version": "3.9.13"
  }
 },
 "nbformat": 4,
 "nbformat_minor": 5
}
