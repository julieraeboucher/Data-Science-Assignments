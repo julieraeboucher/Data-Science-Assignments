{
 "cells": [
  {
   "cell_type": "markdown",
   "id": "6ea684a2-2784-4301-9280-624c42559b41",
   "metadata": {
    "tags": []
   },
   "source": [
    "# McNemar Chi-Squares"
   ]
  },
  {
   "cell_type": "markdown",
   "id": "1480ab86-7f76-4f80-ae1a-706c7560cf81",
   "metadata": {},
   "source": [
    "The McNemar Chi-Square is used when you are trying to look at something over time, and have only two timepoints; maybe a pre and a post. The timepoints are your independent variable. You are also limited to two levels of your dependent variable. You can think of a McNemar Chi-Square like a dependent *t*-test for categorical data."
   ]
  },
  {
   "cell_type": "code",
   "execution_count": 6,
   "id": "2068f9b1-7fa5-446f-acfb-83b82e3beb40",
   "metadata": {},
   "outputs": [],
   "source": [
    "library(gmodels)\n",
    "library(tidyr)\n",
    "library(readr)"
   ]
  },
  {
   "cell_type": "code",
   "execution_count": 8,
   "id": "cdecfa94-5804-4279-84b6-1c5ed21d61ab",
   "metadata": {},
   "outputs": [
    {
     "name": "stderr",
     "output_type": "stream",
     "text": [
      "\u001b[1mRows: \u001b[22m\u001b[34m21293\u001b[39m \u001b[1mColumns: \u001b[22m\u001b[34m4\u001b[39m\n",
      "\u001b[36m──\u001b[39m \u001b[1mColumn specification\u001b[22m \u001b[36m────────────────────────────────────────────────────────\u001b[39m\n",
      "\u001b[1mDelimiter:\u001b[22m \",\"\n",
      "\u001b[31mchr\u001b[39m  (2): Date, Item\n",
      "\u001b[32mdbl\u001b[39m  (1): Transaction\n",
      "\u001b[34mtime\u001b[39m (1): Time\n",
      "\n",
      "\u001b[36mℹ\u001b[39m Use `spec()` to retrieve the full column specification for this data.\n",
      "\u001b[36mℹ\u001b[39m Specify the column types or set `show_col_types = FALSE` to quiet this message.\n"
     ]
    }
   ],
   "source": [
    "bake_sales = read_csv(\"/Users/julieraeboucher/Desktop/WORK/WozU /Datasets/bakery_sales.csv\")"
   ]
  },
  {
   "cell_type": "code",
   "execution_count": 9,
   "id": "e1bf5394-00fe-402d-88df-8f7874b6bee8",
   "metadata": {},
   "outputs": [
    {
     "data": {
      "text/html": [
       "<table class=\"dataframe\">\n",
       "<caption>A tibble: 6 × 4</caption>\n",
       "<thead>\n",
       "\t<tr><th scope=col>Date</th><th scope=col>Time</th><th scope=col>Transaction</th><th scope=col>Item</th></tr>\n",
       "\t<tr><th scope=col>&lt;chr&gt;</th><th scope=col>&lt;time&gt;</th><th scope=col>&lt;dbl&gt;</th><th scope=col>&lt;chr&gt;</th></tr>\n",
       "</thead>\n",
       "<tbody>\n",
       "\t<tr><td>10/30/2016</td><td>09:58:11</td><td>1</td><td>Bread        </td></tr>\n",
       "\t<tr><td>10/30/2016</td><td>10:05:34</td><td>2</td><td>Scandinavian </td></tr>\n",
       "\t<tr><td>10/30/2016</td><td>10:05:34</td><td>2</td><td>Scandinavian </td></tr>\n",
       "\t<tr><td>10/30/2016</td><td>10:07:57</td><td>3</td><td>Hot chocolate</td></tr>\n",
       "\t<tr><td>10/30/2016</td><td>10:07:57</td><td>3</td><td>Jam          </td></tr>\n",
       "\t<tr><td>10/30/2016</td><td>10:07:57</td><td>3</td><td>Cookies      </td></tr>\n",
       "</tbody>\n",
       "</table>\n"
      ],
      "text/latex": [
       "A tibble: 6 × 4\n",
       "\\begin{tabular}{llll}\n",
       " Date & Time & Transaction & Item\\\\\n",
       " <chr> & <time> & <dbl> & <chr>\\\\\n",
       "\\hline\n",
       "\t 10/30/2016 & 09:58:11 & 1 & Bread        \\\\\n",
       "\t 10/30/2016 & 10:05:34 & 2 & Scandinavian \\\\\n",
       "\t 10/30/2016 & 10:05:34 & 2 & Scandinavian \\\\\n",
       "\t 10/30/2016 & 10:07:57 & 3 & Hot chocolate\\\\\n",
       "\t 10/30/2016 & 10:07:57 & 3 & Jam          \\\\\n",
       "\t 10/30/2016 & 10:07:57 & 3 & Cookies      \\\\\n",
       "\\end{tabular}\n"
      ],
      "text/markdown": [
       "\n",
       "A tibble: 6 × 4\n",
       "\n",
       "| Date &lt;chr&gt; | Time &lt;time&gt; | Transaction &lt;dbl&gt; | Item &lt;chr&gt; |\n",
       "|---|---|---|---|\n",
       "| 10/30/2016 | 09:58:11 | 1 | Bread         |\n",
       "| 10/30/2016 | 10:05:34 | 2 | Scandinavian  |\n",
       "| 10/30/2016 | 10:05:34 | 2 | Scandinavian  |\n",
       "| 10/30/2016 | 10:07:57 | 3 | Hot chocolate |\n",
       "| 10/30/2016 | 10:07:57 | 3 | Jam           |\n",
       "| 10/30/2016 | 10:07:57 | 3 | Cookies       |\n",
       "\n"
      ],
      "text/plain": [
       "  Date       Time     Transaction Item         \n",
       "1 10/30/2016 09:58:11 1           Bread        \n",
       "2 10/30/2016 10:05:34 2           Scandinavian \n",
       "3 10/30/2016 10:05:34 2           Scandinavian \n",
       "4 10/30/2016 10:07:57 3           Hot chocolate\n",
       "5 10/30/2016 10:07:57 3           Jam          \n",
       "6 10/30/2016 10:07:57 3           Cookies      "
      ]
     },
     "metadata": {},
     "output_type": "display_data"
    }
   ],
   "source": [
    "head(bake_sales)"
   ]
  },
  {
   "cell_type": "code",
   "execution_count": 10,
   "id": "1ae67a01-0eec-4c51-b46c-a23187f72228",
   "metadata": {},
   "outputs": [
    {
     "data": {
      "text/html": [
       "<style>\n",
       ".list-inline {list-style: none; margin:0; padding: 0}\n",
       ".list-inline>li {display: inline-block}\n",
       ".list-inline>li:not(:last-child)::after {content: \"\\00b7\"; padding: 0 .5ex}\n",
       "</style>\n",
       "<ol class=list-inline><li>'Date'</li><li>'Time'</li><li>'Transaction'</li><li>'Item'</li></ol>\n"
      ],
      "text/latex": [
       "\\begin{enumerate*}\n",
       "\\item 'Date'\n",
       "\\item 'Time'\n",
       "\\item 'Transaction'\n",
       "\\item 'Item'\n",
       "\\end{enumerate*}\n"
      ],
      "text/markdown": [
       "1. 'Date'\n",
       "2. 'Time'\n",
       "3. 'Transaction'\n",
       "4. 'Item'\n",
       "\n",
       "\n"
      ],
      "text/plain": [
       "[1] \"Date\"        \"Time\"        \"Transaction\" \"Item\"       "
      ]
     },
     "metadata": {},
     "output_type": "display_data"
    }
   ],
   "source": [
    "names(bake_sales)"
   ]
  },
  {
   "cell_type": "code",
   "execution_count": 11,
   "id": "69a0c87d-2052-480f-ab8f-b943fed1ad3b",
   "metadata": {},
   "outputs": [
    {
     "name": "stdout",
     "output_type": "stream",
     "text": [
      "spc_tbl_ [21,293 × 4] (S3: spec_tbl_df/tbl_df/tbl/data.frame)\n",
      " $ Date       : chr [1:21293] \"10/30/2016\" \"10/30/2016\" \"10/30/2016\" \"10/30/2016\" ...\n",
      " $ Time       : 'hms' num [1:21293] 09:58:11 10:05:34 10:05:34 10:07:57 ...\n",
      "  ..- attr(*, \"units\")= chr \"secs\"\n",
      " $ Transaction: num [1:21293] 1 2 2 3 3 3 4 5 5 5 ...\n",
      " $ Item       : chr [1:21293] \"Bread\" \"Scandinavian\" \"Scandinavian\" \"Hot chocolate\" ...\n",
      " - attr(*, \"spec\")=\n",
      "  .. cols(\n",
      "  ..   Date = \u001b[31mcol_character()\u001b[39m,\n",
      "  ..   Time = \u001b[34mcol_time(format = \"\")\u001b[39m,\n",
      "  ..   Transaction = \u001b[32mcol_double()\u001b[39m,\n",
      "  ..   Item = \u001b[31mcol_character()\u001b[39m\n",
      "  .. )\n",
      " - attr(*, \"problems\")=<externalptr> \n"
     ]
    }
   ],
   "source": [
    "str(bake_sales)"
   ]
  },
  {
   "cell_type": "code",
   "execution_count": 49,
   "id": "2f091970-8ea9-4ba5-9ae7-e7ef5a1b17df",
   "metadata": {},
   "outputs": [
    {
     "data": {
      "text/html": [
       "<table class=\"dataframe\">\n",
       "<caption>A data.frame: 95 × 2</caption>\n",
       "<thead>\n",
       "\t<tr><th scope=col>Item</th><th scope=col>Transaction</th></tr>\n",
       "\t<tr><th scope=col>&lt;chr&gt;</th><th scope=col>&lt;dbl&gt;</th></tr>\n",
       "</thead>\n",
       "<tbody>\n",
       "\t<tr><td>Adjustment               </td><td>     938</td></tr>\n",
       "\t<tr><td>Afternoon with the baker </td><td>  286028</td></tr>\n",
       "\t<tr><td>Alfajores                </td><td> 1512575</td></tr>\n",
       "\t<tr><td>Argentina Night          </td><td>   64153</td></tr>\n",
       "\t<tr><td>Art Tray                 </td><td>  140877</td></tr>\n",
       "\t<tr><td>Bacon                    </td><td>    1248</td></tr>\n",
       "\t<tr><td>Baguette                 </td><td> 1109334</td></tr>\n",
       "\t<tr><td>Bakewell                 </td><td>  272027</td></tr>\n",
       "\t<tr><td>Bare Popcorn             </td><td>   22420</td></tr>\n",
       "\t<tr><td>Basket                   </td><td>    2369</td></tr>\n",
       "\t<tr><td>Bowl Nic Pitt            </td><td>    2028</td></tr>\n",
       "\t<tr><td>Bread                    </td><td>16213533</td></tr>\n",
       "\t<tr><td>Bread Pudding            </td><td>    3662</td></tr>\n",
       "\t<tr><td>Brioche and salami       </td><td>   17936</td></tr>\n",
       "\t<tr><td>Brownie                  </td><td> 1585847</td></tr>\n",
       "\t<tr><td>Cake                     </td><td> 5932362</td></tr>\n",
       "\t<tr><td>Caramel bites            </td><td>    5101</td></tr>\n",
       "\t<tr><td>Cherry me Dried fruit    </td><td>   26411</td></tr>\n",
       "\t<tr><td>Chicken sand             </td><td>      68</td></tr>\n",
       "\t<tr><td>Chicken Stew             </td><td>  876528</td></tr>\n",
       "\t<tr><td>Chimichurri Oil          </td><td>    2068</td></tr>\n",
       "\t<tr><td>Chocolates               </td><td>   71184</td></tr>\n",
       "\t<tr><td>Christmas common         </td><td>   98322</td></tr>\n",
       "\t<tr><td>Coffee                   </td><td>27084057</td></tr>\n",
       "\t<tr><td>Coffee granules          </td><td>   59719</td></tr>\n",
       "\t<tr><td>Coke                     </td><td> 1036206</td></tr>\n",
       "\t<tr><td>Cookies                  </td><td> 2930952</td></tr>\n",
       "\t<tr><td>Crepes                   </td><td>   16095</td></tr>\n",
       "\t<tr><td>Crisps                   </td><td>   79758</td></tr>\n",
       "\t<tr><td>Drinking chocolate spoons</td><td>   68926</td></tr>\n",
       "\t<tr><td>⋮</td><td>⋮</td></tr>\n",
       "\t<tr><td>Panatone                     </td><td>  18674</td></tr>\n",
       "\t<tr><td>Pastry                       </td><td>4098061</td></tr>\n",
       "\t<tr><td>Pick and Mix Bowls           </td><td>   5191</td></tr>\n",
       "\t<tr><td>Pintxos                      </td><td>  20297</td></tr>\n",
       "\t<tr><td>Polenta                      </td><td>   1922</td></tr>\n",
       "\t<tr><td>Postcard                     </td><td>  60204</td></tr>\n",
       "\t<tr><td>Raspberry shortbread sandwich</td><td>  15221</td></tr>\n",
       "\t<tr><td>Raw bars                     </td><td>   9022</td></tr>\n",
       "\t<tr><td>Salad                        </td><td> 749298</td></tr>\n",
       "\t<tr><td>Sandwich                     </td><td>4344466</td></tr>\n",
       "\t<tr><td>Scandinavian                 </td><td>1029932</td></tr>\n",
       "\t<tr><td>Scone                        </td><td>1961007</td></tr>\n",
       "\t<tr><td>Siblings                     </td><td>   2953</td></tr>\n",
       "\t<tr><td>Smoothies                    </td><td> 463455</td></tr>\n",
       "\t<tr><td>Soup                         </td><td>1791445</td></tr>\n",
       "\t<tr><td>Spanish Brunch               </td><td>1294146</td></tr>\n",
       "\t<tr><td>Spread                       </td><td>   3660</td></tr>\n",
       "\t<tr><td>Tacos/Fajita                 </td><td> 105884</td></tr>\n",
       "\t<tr><td>Tartine                      </td><td>  45953</td></tr>\n",
       "\t<tr><td>Tea                          </td><td>7030856</td></tr>\n",
       "\t<tr><td>The BART                     </td><td>    475</td></tr>\n",
       "\t<tr><td>The Nomad                    </td><td> 351445</td></tr>\n",
       "\t<tr><td>Tiffin                       </td><td>1024523</td></tr>\n",
       "\t<tr><td>Toast                        </td><td>1930582</td></tr>\n",
       "\t<tr><td>Truffles                     </td><td>1105743</td></tr>\n",
       "\t<tr><td>Tshirt                       </td><td> 126226</td></tr>\n",
       "\t<tr><td>Valentine's card             </td><td>  79821</td></tr>\n",
       "\t<tr><td>Vegan Feast                  </td><td> 135944</td></tr>\n",
       "\t<tr><td>Vegan mincepie               </td><td> 223407</td></tr>\n",
       "\t<tr><td>Victorian Sponge             </td><td>   3132</td></tr>\n",
       "</tbody>\n",
       "</table>\n"
      ],
      "text/latex": [
       "A data.frame: 95 × 2\n",
       "\\begin{tabular}{ll}\n",
       " Item & Transaction\\\\\n",
       " <chr> & <dbl>\\\\\n",
       "\\hline\n",
       "\t Adjustment                &      938\\\\\n",
       "\t Afternoon with the baker  &   286028\\\\\n",
       "\t Alfajores                 &  1512575\\\\\n",
       "\t Argentina Night           &    64153\\\\\n",
       "\t Art Tray                  &   140877\\\\\n",
       "\t Bacon                     &     1248\\\\\n",
       "\t Baguette                  &  1109334\\\\\n",
       "\t Bakewell                  &   272027\\\\\n",
       "\t Bare Popcorn              &    22420\\\\\n",
       "\t Basket                    &     2369\\\\\n",
       "\t Bowl Nic Pitt             &     2028\\\\\n",
       "\t Bread                     & 16213533\\\\\n",
       "\t Bread Pudding             &     3662\\\\\n",
       "\t Brioche and salami        &    17936\\\\\n",
       "\t Brownie                   &  1585847\\\\\n",
       "\t Cake                      &  5932362\\\\\n",
       "\t Caramel bites             &     5101\\\\\n",
       "\t Cherry me Dried fruit     &    26411\\\\\n",
       "\t Chicken sand              &       68\\\\\n",
       "\t Chicken Stew              &   876528\\\\\n",
       "\t Chimichurri Oil           &     2068\\\\\n",
       "\t Chocolates                &    71184\\\\\n",
       "\t Christmas common          &    98322\\\\\n",
       "\t Coffee                    & 27084057\\\\\n",
       "\t Coffee granules           &    59719\\\\\n",
       "\t Coke                      &  1036206\\\\\n",
       "\t Cookies                   &  2930952\\\\\n",
       "\t Crepes                    &    16095\\\\\n",
       "\t Crisps                    &    79758\\\\\n",
       "\t Drinking chocolate spoons &    68926\\\\\n",
       "\t ⋮ & ⋮\\\\\n",
       "\t Panatone                      &   18674\\\\\n",
       "\t Pastry                        & 4098061\\\\\n",
       "\t Pick and Mix Bowls            &    5191\\\\\n",
       "\t Pintxos                       &   20297\\\\\n",
       "\t Polenta                       &    1922\\\\\n",
       "\t Postcard                      &   60204\\\\\n",
       "\t Raspberry shortbread sandwich &   15221\\\\\n",
       "\t Raw bars                      &    9022\\\\\n",
       "\t Salad                         &  749298\\\\\n",
       "\t Sandwich                      & 4344466\\\\\n",
       "\t Scandinavian                  & 1029932\\\\\n",
       "\t Scone                         & 1961007\\\\\n",
       "\t Siblings                      &    2953\\\\\n",
       "\t Smoothies                     &  463455\\\\\n",
       "\t Soup                          & 1791445\\\\\n",
       "\t Spanish Brunch                & 1294146\\\\\n",
       "\t Spread                        &    3660\\\\\n",
       "\t Tacos/Fajita                  &  105884\\\\\n",
       "\t Tartine                       &   45953\\\\\n",
       "\t Tea                           & 7030856\\\\\n",
       "\t The BART                      &     475\\\\\n",
       "\t The Nomad                     &  351445\\\\\n",
       "\t Tiffin                        & 1024523\\\\\n",
       "\t Toast                         & 1930582\\\\\n",
       "\t Truffles                      & 1105743\\\\\n",
       "\t Tshirt                        &  126226\\\\\n",
       "\t Valentine's card              &   79821\\\\\n",
       "\t Vegan Feast                   &  135944\\\\\n",
       "\t Vegan mincepie                &  223407\\\\\n",
       "\t Victorian Sponge              &    3132\\\\\n",
       "\\end{tabular}\n"
      ],
      "text/markdown": [
       "\n",
       "A data.frame: 95 × 2\n",
       "\n",
       "| Item &lt;chr&gt; | Transaction &lt;dbl&gt; |\n",
       "|---|---|\n",
       "| Adjustment                |      938 |\n",
       "| Afternoon with the baker  |   286028 |\n",
       "| Alfajores                 |  1512575 |\n",
       "| Argentina Night           |    64153 |\n",
       "| Art Tray                  |   140877 |\n",
       "| Bacon                     |     1248 |\n",
       "| Baguette                  |  1109334 |\n",
       "| Bakewell                  |   272027 |\n",
       "| Bare Popcorn              |    22420 |\n",
       "| Basket                    |     2369 |\n",
       "| Bowl Nic Pitt             |     2028 |\n",
       "| Bread                     | 16213533 |\n",
       "| Bread Pudding             |     3662 |\n",
       "| Brioche and salami        |    17936 |\n",
       "| Brownie                   |  1585847 |\n",
       "| Cake                      |  5932362 |\n",
       "| Caramel bites             |     5101 |\n",
       "| Cherry me Dried fruit     |    26411 |\n",
       "| Chicken sand              |       68 |\n",
       "| Chicken Stew              |   876528 |\n",
       "| Chimichurri Oil           |     2068 |\n",
       "| Chocolates                |    71184 |\n",
       "| Christmas common          |    98322 |\n",
       "| Coffee                    | 27084057 |\n",
       "| Coffee granules           |    59719 |\n",
       "| Coke                      |  1036206 |\n",
       "| Cookies                   |  2930952 |\n",
       "| Crepes                    |    16095 |\n",
       "| Crisps                    |    79758 |\n",
       "| Drinking chocolate spoons |    68926 |\n",
       "| ⋮ | ⋮ |\n",
       "| Panatone                      |   18674 |\n",
       "| Pastry                        | 4098061 |\n",
       "| Pick and Mix Bowls            |    5191 |\n",
       "| Pintxos                       |   20297 |\n",
       "| Polenta                       |    1922 |\n",
       "| Postcard                      |   60204 |\n",
       "| Raspberry shortbread sandwich |   15221 |\n",
       "| Raw bars                      |    9022 |\n",
       "| Salad                         |  749298 |\n",
       "| Sandwich                      | 4344466 |\n",
       "| Scandinavian                  | 1029932 |\n",
       "| Scone                         | 1961007 |\n",
       "| Siblings                      |    2953 |\n",
       "| Smoothies                     |  463455 |\n",
       "| Soup                          | 1791445 |\n",
       "| Spanish Brunch                | 1294146 |\n",
       "| Spread                        |    3660 |\n",
       "| Tacos/Fajita                  |  105884 |\n",
       "| Tartine                       |   45953 |\n",
       "| Tea                           | 7030856 |\n",
       "| The BART                      |     475 |\n",
       "| The Nomad                     |  351445 |\n",
       "| Tiffin                        | 1024523 |\n",
       "| Toast                         | 1930582 |\n",
       "| Truffles                      | 1105743 |\n",
       "| Tshirt                        |  126226 |\n",
       "| Valentine's card              |   79821 |\n",
       "| Vegan Feast                   |  135944 |\n",
       "| Vegan mincepie                |  223407 |\n",
       "| Victorian Sponge              |    3132 |\n",
       "\n"
      ],
      "text/plain": [
       "   Item                          Transaction\n",
       "1  Adjustment                         938   \n",
       "2  Afternoon with the baker        286028   \n",
       "3  Alfajores                      1512575   \n",
       "4  Argentina Night                  64153   \n",
       "5  Art Tray                        140877   \n",
       "6  Bacon                             1248   \n",
       "7  Baguette                       1109334   \n",
       "8  Bakewell                        272027   \n",
       "9  Bare Popcorn                     22420   \n",
       "10 Basket                            2369   \n",
       "11 Bowl Nic Pitt                     2028   \n",
       "12 Bread                         16213533   \n",
       "13 Bread Pudding                     3662   \n",
       "14 Brioche and salami               17936   \n",
       "15 Brownie                        1585847   \n",
       "16 Cake                           5932362   \n",
       "17 Caramel bites                     5101   \n",
       "18 Cherry me Dried fruit            26411   \n",
       "19 Chicken sand                        68   \n",
       "20 Chicken Stew                    876528   \n",
       "21 Chimichurri Oil                   2068   \n",
       "22 Chocolates                       71184   \n",
       "23 Christmas common                 98322   \n",
       "24 Coffee                        27084057   \n",
       "25 Coffee granules                  59719   \n",
       "26 Coke                           1036206   \n",
       "27 Cookies                        2930952   \n",
       "28 Crepes                           16095   \n",
       "29 Crisps                           79758   \n",
       "30 Drinking chocolate spoons        68926   \n",
       "⋮  ⋮                             ⋮          \n",
       "66 Panatone                        18674    \n",
       "67 Pastry                        4098061    \n",
       "68 Pick and Mix Bowls               5191    \n",
       "69 Pintxos                         20297    \n",
       "70 Polenta                          1922    \n",
       "71 Postcard                        60204    \n",
       "72 Raspberry shortbread sandwich   15221    \n",
       "73 Raw bars                         9022    \n",
       "74 Salad                          749298    \n",
       "75 Sandwich                      4344466    \n",
       "76 Scandinavian                  1029932    \n",
       "77 Scone                         1961007    \n",
       "78 Siblings                         2953    \n",
       "79 Smoothies                      463455    \n",
       "80 Soup                          1791445    \n",
       "81 Spanish Brunch                1294146    \n",
       "82 Spread                           3660    \n",
       "83 Tacos/Fajita                   105884    \n",
       "84 Tartine                         45953    \n",
       "85 Tea                           7030856    \n",
       "86 The BART                          475    \n",
       "87 The Nomad                      351445    \n",
       "88 Tiffin                        1024523    \n",
       "89 Toast                         1930582    \n",
       "90 Truffles                      1105743    \n",
       "91 Tshirt                         126226    \n",
       "92 Valentine's card                79821    \n",
       "93 Vegan Feast                    135944    \n",
       "94 Vegan mincepie                 223407    \n",
       "95 Victorian Sponge                 3132    "
      ]
     },
     "metadata": {},
     "output_type": "display_data"
    }
   ],
   "source": [
    "bake_sales1 <- aggregate(Transaction~Item, bake_sales, sum)\n",
    "bake_sales1"
   ]
  },
  {
   "cell_type": "markdown",
   "id": "1259abd3-0890-49b0-b10c-b4290070c3e8",
   "metadata": {},
   "source": [
    "#### Reformatting to a Date"
   ]
  },
  {
   "cell_type": "code",
   "execution_count": 12,
   "id": "48c77726-ba0e-430e-9c89-463d2f905fe6",
   "metadata": {},
   "outputs": [],
   "source": [
    "bake_sales$DateR <- as.Date(bake_sales$Date, format=\"%m/%d/%Y\")"
   ]
  },
  {
   "cell_type": "markdown",
   "id": "d5ad691b-3322-44a7-bbfa-484cd1bf7692",
   "metadata": {},
   "source": [
    "#### Separating the Date Variable"
   ]
  },
  {
   "cell_type": "code",
   "execution_count": 13,
   "id": "5b3e38fe-aceb-4938-98ad-fc6ae8bc38c5",
   "metadata": {},
   "outputs": [],
   "source": [
    "bake_sales1 <- separate(bake_sales, DateR, c(\"Year\", \"Month\", \"Day\"), sep=\"-\")"
   ]
  },
  {
   "cell_type": "markdown",
   "id": "31105e1d-1266-4897-8fc6-231a39f12103",
   "metadata": {},
   "source": [
    "#### Recoding to seperate the `Beginning` or `End` of Month"
   ]
  },
  {
   "cell_type": "code",
   "execution_count": 14,
   "id": "16bae839-f7f1-4472-999b-55549abefa54",
   "metadata": {},
   "outputs": [],
   "source": [
    "bake_sales1$DayR <- NA\n",
    "bake_sales1$DayR[bake_sales1$Day <= 15] <- 0\n",
    "bake_sales1$DayR[bake_sales1$Day > 15] <- 1"
   ]
  },
  {
   "cell_type": "markdown",
   "id": "982e9e8e-9a82-496d-bab8-2f0cc66c3267",
   "metadata": {},
   "source": [
    "#### Recoding to Coffee or Other"
   ]
  },
  {
   "cell_type": "markdown",
   "id": "dab88431-1aa6-4ede-baf1-bed1c2774d84",
   "metadata": {},
   "source": [
    "The last recode you have left to undertake is to recode the ```Item``` variable from listing every single item out to recoding into the discrete categories of coffee or not coffee. Below, you'll find code that creates a new variable named ```CoffeeSales``` and fills it with a 1 for anything that is ```Coffee``` and fills it with a 0 for anything that is not coffee."
   ]
  },
  {
   "cell_type": "code",
   "execution_count": 19,
   "id": "8bbf5d81-9129-4e24-aa9e-95e059a3b952",
   "metadata": {},
   "outputs": [
    {
     "data": {
      "text/html": [
       "<style>\n",
       ".list-inline {list-style: none; margin:0; padding: 0}\n",
       ".list-inline>li {display: inline-block}\n",
       ".list-inline>li:not(:last-child)::after {content: \"\\00b7\"; padding: 0 .5ex}\n",
       "</style>\n",
       "<ol class=list-inline><li>'Bread'</li><li>'Scandinavian'</li><li>'Hot chocolate'</li><li>'Jam'</li><li>'Cookies'</li><li>'Muffin'</li><li>'Coffee'</li><li>'Pastry'</li><li>'Medialuna'</li><li>'Tea'</li><li>'NONE'</li><li>'Tartine'</li><li>'Basket'</li><li>'Mineral water'</li><li>'Farm House'</li><li>'Fudge'</li><li>'Juice'</li><li>'Ella\\'s Kitchen Pouches'</li><li>'Victorian Sponge'</li><li>'Frittata'</li><li>'Hearty &amp; Seasonal'</li><li>'Soup'</li><li>'Pick and Mix Bowls'</li><li>'Smoothies'</li><li>'Cake'</li><li>'Mighty Protein'</li><li>'Chicken sand'</li><li>'Coke'</li><li>'My-5 Fruit Shoot'</li><li>'Focaccia'</li><li>'Sandwich'</li><li>'Alfajores'</li><li>'Eggs'</li><li>'Brownie'</li><li>'Dulce de Leche'</li><li>'Honey'</li><li>'The BART'</li><li>'Granola'</li><li>'Fairy Doors'</li><li>'Empanadas'</li><li>'Keeping It Local'</li><li>'Art Tray'</li><li>'Bowl Nic Pitt'</li><li>'Bread Pudding'</li><li>'Adjustment'</li><li>'Truffles'</li><li>'Chimichurri Oil'</li><li>'Bacon'</li><li>'Spread'</li><li>'Kids biscuit'</li><li>'Siblings'</li><li>'Caramel bites'</li><li>'Jammie Dodgers'</li><li>'Tiffin'</li><li>'Olum &amp; polenta'</li><li>'Polenta'</li><li>'The Nomad'</li><li>'Hack the stack'</li><li>'Bakewell'</li><li>'Lemon and coconut'</li><li>'Toast'</li><li>'Scone'</li><li>'Crepes'</li><li>'Vegan mincepie'</li><li>'Bare Popcorn'</li><li>'Muesli'</li><li>'Crisps'</li><li>'Pintxos'</li><li>'Gingerbread syrup'</li><li>'Panatone'</li><li>'Brioche and salami'</li><li>'Afternoon with the baker'</li><li>'Salad'</li><li>'Chicken Stew'</li><li>'Spanish Brunch'</li><li>'Raspberry shortbread sandwich'</li><li>'Extra Salami or Feta'</li><li>'Duck egg'</li><li>'Baguette'</li><li>'Valentine\\'s card'</li><li>'Tshirt'</li><li>'Vegan Feast'</li><li>'Postcard'</li><li>'Nomad bag'</li><li>'Chocolates'</li><li>'Coffee granules'</li><li>'Drinking chocolate spoons'</li><li>'Christmas common'</li><li>'Argentina Night'</li><li>'Half slice Monster'</li><li>'Gift voucher'</li><li>'Cherry me Dried fruit'</li><li>'Mortimer'</li><li>'Raw bars'</li><li>'Tacos/Fajita'</li></ol>\n"
      ],
      "text/latex": [
       "\\begin{enumerate*}\n",
       "\\item 'Bread'\n",
       "\\item 'Scandinavian'\n",
       "\\item 'Hot chocolate'\n",
       "\\item 'Jam'\n",
       "\\item 'Cookies'\n",
       "\\item 'Muffin'\n",
       "\\item 'Coffee'\n",
       "\\item 'Pastry'\n",
       "\\item 'Medialuna'\n",
       "\\item 'Tea'\n",
       "\\item 'NONE'\n",
       "\\item 'Tartine'\n",
       "\\item 'Basket'\n",
       "\\item 'Mineral water'\n",
       "\\item 'Farm House'\n",
       "\\item 'Fudge'\n",
       "\\item 'Juice'\n",
       "\\item 'Ella\\textbackslash{}'s Kitchen Pouches'\n",
       "\\item 'Victorian Sponge'\n",
       "\\item 'Frittata'\n",
       "\\item 'Hearty \\& Seasonal'\n",
       "\\item 'Soup'\n",
       "\\item 'Pick and Mix Bowls'\n",
       "\\item 'Smoothies'\n",
       "\\item 'Cake'\n",
       "\\item 'Mighty Protein'\n",
       "\\item 'Chicken sand'\n",
       "\\item 'Coke'\n",
       "\\item 'My-5 Fruit Shoot'\n",
       "\\item 'Focaccia'\n",
       "\\item 'Sandwich'\n",
       "\\item 'Alfajores'\n",
       "\\item 'Eggs'\n",
       "\\item 'Brownie'\n",
       "\\item 'Dulce de Leche'\n",
       "\\item 'Honey'\n",
       "\\item 'The BART'\n",
       "\\item 'Granola'\n",
       "\\item 'Fairy Doors'\n",
       "\\item 'Empanadas'\n",
       "\\item 'Keeping It Local'\n",
       "\\item 'Art Tray'\n",
       "\\item 'Bowl Nic Pitt'\n",
       "\\item 'Bread Pudding'\n",
       "\\item 'Adjustment'\n",
       "\\item 'Truffles'\n",
       "\\item 'Chimichurri Oil'\n",
       "\\item 'Bacon'\n",
       "\\item 'Spread'\n",
       "\\item 'Kids biscuit'\n",
       "\\item 'Siblings'\n",
       "\\item 'Caramel bites'\n",
       "\\item 'Jammie Dodgers'\n",
       "\\item 'Tiffin'\n",
       "\\item 'Olum \\& polenta'\n",
       "\\item 'Polenta'\n",
       "\\item 'The Nomad'\n",
       "\\item 'Hack the stack'\n",
       "\\item 'Bakewell'\n",
       "\\item 'Lemon and coconut'\n",
       "\\item 'Toast'\n",
       "\\item 'Scone'\n",
       "\\item 'Crepes'\n",
       "\\item 'Vegan mincepie'\n",
       "\\item 'Bare Popcorn'\n",
       "\\item 'Muesli'\n",
       "\\item 'Crisps'\n",
       "\\item 'Pintxos'\n",
       "\\item 'Gingerbread syrup'\n",
       "\\item 'Panatone'\n",
       "\\item 'Brioche and salami'\n",
       "\\item 'Afternoon with the baker'\n",
       "\\item 'Salad'\n",
       "\\item 'Chicken Stew'\n",
       "\\item 'Spanish Brunch'\n",
       "\\item 'Raspberry shortbread sandwich'\n",
       "\\item 'Extra Salami or Feta'\n",
       "\\item 'Duck egg'\n",
       "\\item 'Baguette'\n",
       "\\item 'Valentine\\textbackslash{}'s card'\n",
       "\\item 'Tshirt'\n",
       "\\item 'Vegan Feast'\n",
       "\\item 'Postcard'\n",
       "\\item 'Nomad bag'\n",
       "\\item 'Chocolates'\n",
       "\\item 'Coffee granules'\n",
       "\\item 'Drinking chocolate spoons'\n",
       "\\item 'Christmas common'\n",
       "\\item 'Argentina Night'\n",
       "\\item 'Half slice Monster'\n",
       "\\item 'Gift voucher'\n",
       "\\item 'Cherry me Dried fruit'\n",
       "\\item 'Mortimer'\n",
       "\\item 'Raw bars'\n",
       "\\item 'Tacos/Fajita'\n",
       "\\end{enumerate*}\n"
      ],
      "text/markdown": [
       "1. 'Bread'\n",
       "2. 'Scandinavian'\n",
       "3. 'Hot chocolate'\n",
       "4. 'Jam'\n",
       "5. 'Cookies'\n",
       "6. 'Muffin'\n",
       "7. 'Coffee'\n",
       "8. 'Pastry'\n",
       "9. 'Medialuna'\n",
       "10. 'Tea'\n",
       "11. 'NONE'\n",
       "12. 'Tartine'\n",
       "13. 'Basket'\n",
       "14. 'Mineral water'\n",
       "15. 'Farm House'\n",
       "16. 'Fudge'\n",
       "17. 'Juice'\n",
       "18. 'Ella\\'s Kitchen Pouches'\n",
       "19. 'Victorian Sponge'\n",
       "20. 'Frittata'\n",
       "21. 'Hearty &amp; Seasonal'\n",
       "22. 'Soup'\n",
       "23. 'Pick and Mix Bowls'\n",
       "24. 'Smoothies'\n",
       "25. 'Cake'\n",
       "26. 'Mighty Protein'\n",
       "27. 'Chicken sand'\n",
       "28. 'Coke'\n",
       "29. 'My-5 Fruit Shoot'\n",
       "30. 'Focaccia'\n",
       "31. 'Sandwich'\n",
       "32. 'Alfajores'\n",
       "33. 'Eggs'\n",
       "34. 'Brownie'\n",
       "35. 'Dulce de Leche'\n",
       "36. 'Honey'\n",
       "37. 'The BART'\n",
       "38. 'Granola'\n",
       "39. 'Fairy Doors'\n",
       "40. 'Empanadas'\n",
       "41. 'Keeping It Local'\n",
       "42. 'Art Tray'\n",
       "43. 'Bowl Nic Pitt'\n",
       "44. 'Bread Pudding'\n",
       "45. 'Adjustment'\n",
       "46. 'Truffles'\n",
       "47. 'Chimichurri Oil'\n",
       "48. 'Bacon'\n",
       "49. 'Spread'\n",
       "50. 'Kids biscuit'\n",
       "51. 'Siblings'\n",
       "52. 'Caramel bites'\n",
       "53. 'Jammie Dodgers'\n",
       "54. 'Tiffin'\n",
       "55. 'Olum &amp; polenta'\n",
       "56. 'Polenta'\n",
       "57. 'The Nomad'\n",
       "58. 'Hack the stack'\n",
       "59. 'Bakewell'\n",
       "60. 'Lemon and coconut'\n",
       "61. 'Toast'\n",
       "62. 'Scone'\n",
       "63. 'Crepes'\n",
       "64. 'Vegan mincepie'\n",
       "65. 'Bare Popcorn'\n",
       "66. 'Muesli'\n",
       "67. 'Crisps'\n",
       "68. 'Pintxos'\n",
       "69. 'Gingerbread syrup'\n",
       "70. 'Panatone'\n",
       "71. 'Brioche and salami'\n",
       "72. 'Afternoon with the baker'\n",
       "73. 'Salad'\n",
       "74. 'Chicken Stew'\n",
       "75. 'Spanish Brunch'\n",
       "76. 'Raspberry shortbread sandwich'\n",
       "77. 'Extra Salami or Feta'\n",
       "78. 'Duck egg'\n",
       "79. 'Baguette'\n",
       "80. 'Valentine\\'s card'\n",
       "81. 'Tshirt'\n",
       "82. 'Vegan Feast'\n",
       "83. 'Postcard'\n",
       "84. 'Nomad bag'\n",
       "85. 'Chocolates'\n",
       "86. 'Coffee granules'\n",
       "87. 'Drinking chocolate spoons'\n",
       "88. 'Christmas common'\n",
       "89. 'Argentina Night'\n",
       "90. 'Half slice Monster'\n",
       "91. 'Gift voucher'\n",
       "92. 'Cherry me Dried fruit'\n",
       "93. 'Mortimer'\n",
       "94. 'Raw bars'\n",
       "95. 'Tacos/Fajita'\n",
       "\n",
       "\n"
      ],
      "text/plain": [
       " [1] \"Bread\"                         \"Scandinavian\"                 \n",
       " [3] \"Hot chocolate\"                 \"Jam\"                          \n",
       " [5] \"Cookies\"                       \"Muffin\"                       \n",
       " [7] \"Coffee\"                        \"Pastry\"                       \n",
       " [9] \"Medialuna\"                     \"Tea\"                          \n",
       "[11] \"NONE\"                          \"Tartine\"                      \n",
       "[13] \"Basket\"                        \"Mineral water\"                \n",
       "[15] \"Farm House\"                    \"Fudge\"                        \n",
       "[17] \"Juice\"                         \"Ella's Kitchen Pouches\"       \n",
       "[19] \"Victorian Sponge\"              \"Frittata\"                     \n",
       "[21] \"Hearty & Seasonal\"             \"Soup\"                         \n",
       "[23] \"Pick and Mix Bowls\"            \"Smoothies\"                    \n",
       "[25] \"Cake\"                          \"Mighty Protein\"               \n",
       "[27] \"Chicken sand\"                  \"Coke\"                         \n",
       "[29] \"My-5 Fruit Shoot\"              \"Focaccia\"                     \n",
       "[31] \"Sandwich\"                      \"Alfajores\"                    \n",
       "[33] \"Eggs\"                          \"Brownie\"                      \n",
       "[35] \"Dulce de Leche\"                \"Honey\"                        \n",
       "[37] \"The BART\"                      \"Granola\"                      \n",
       "[39] \"Fairy Doors\"                   \"Empanadas\"                    \n",
       "[41] \"Keeping It Local\"              \"Art Tray\"                     \n",
       "[43] \"Bowl Nic Pitt\"                 \"Bread Pudding\"                \n",
       "[45] \"Adjustment\"                    \"Truffles\"                     \n",
       "[47] \"Chimichurri Oil\"               \"Bacon\"                        \n",
       "[49] \"Spread\"                        \"Kids biscuit\"                 \n",
       "[51] \"Siblings\"                      \"Caramel bites\"                \n",
       "[53] \"Jammie Dodgers\"                \"Tiffin\"                       \n",
       "[55] \"Olum & polenta\"                \"Polenta\"                      \n",
       "[57] \"The Nomad\"                     \"Hack the stack\"               \n",
       "[59] \"Bakewell\"                      \"Lemon and coconut\"            \n",
       "[61] \"Toast\"                         \"Scone\"                        \n",
       "[63] \"Crepes\"                        \"Vegan mincepie\"               \n",
       "[65] \"Bare Popcorn\"                  \"Muesli\"                       \n",
       "[67] \"Crisps\"                        \"Pintxos\"                      \n",
       "[69] \"Gingerbread syrup\"             \"Panatone\"                     \n",
       "[71] \"Brioche and salami\"            \"Afternoon with the baker\"     \n",
       "[73] \"Salad\"                         \"Chicken Stew\"                 \n",
       "[75] \"Spanish Brunch\"                \"Raspberry shortbread sandwich\"\n",
       "[77] \"Extra Salami or Feta\"          \"Duck egg\"                     \n",
       "[79] \"Baguette\"                      \"Valentine's card\"             \n",
       "[81] \"Tshirt\"                        \"Vegan Feast\"                  \n",
       "[83] \"Postcard\"                      \"Nomad bag\"                    \n",
       "[85] \"Chocolates\"                    \"Coffee granules\"              \n",
       "[87] \"Drinking chocolate spoons\"     \"Christmas common\"             \n",
       "[89] \"Argentina Night\"               \"Half slice Monster\"           \n",
       "[91] \"Gift voucher\"                  \"Cherry me Dried fruit\"        \n",
       "[93] \"Mortimer\"                      \"Raw bars\"                     \n",
       "[95] \"Tacos/Fajita\"                 "
      ]
     },
     "metadata": {},
     "output_type": "display_data"
    }
   ],
   "source": [
    "unique(bake_sales1$Item)"
   ]
  },
  {
   "cell_type": "code",
   "execution_count": 20,
   "id": "d8d246e9-08e2-4d6c-87c5-efa258f0ac5c",
   "metadata": {},
   "outputs": [],
   "source": [
    "bake_sales1$CoffeeSales <- NA\n",
    "bake_sales1$CoffeeSales[bake_sales1$Item == \"Coffee\"] <- 1\n",
    "bake_sales1$CoffeeSales[bake_sales1$Item != \"Coffee\"] <- 0"
   ]
  },
  {
   "cell_type": "code",
   "execution_count": 22,
   "id": "bcb02970-d493-4019-87eb-a684ba47681a",
   "metadata": {},
   "outputs": [
    {
     "data": {
      "text/html": [
       "<style>\n",
       ".list-inline {list-style: none; margin:0; padding: 0}\n",
       ".list-inline>li {display: inline-block}\n",
       ".list-inline>li:not(:last-child)::after {content: \"\\00b7\"; padding: 0 .5ex}\n",
       "</style>\n",
       "<ol class=list-inline><li>0</li><li>1</li></ol>\n"
      ],
      "text/latex": [
       "\\begin{enumerate*}\n",
       "\\item 0\n",
       "\\item 1\n",
       "\\end{enumerate*}\n"
      ],
      "text/markdown": [
       "1. 0\n",
       "2. 1\n",
       "\n",
       "\n"
      ],
      "text/plain": [
       "[1] 0 1"
      ]
     },
     "metadata": {},
     "output_type": "display_data"
    }
   ],
   "source": [
    "# double checking recode\n",
    "unique(bake_sales1$CoffeeSales)"
   ]
  },
  {
   "cell_type": "markdown",
   "id": "fb9991f6-5f56-4674-a15a-772fc6ff8e55",
   "metadata": {},
   "source": [
    "## Test Assumptions and Run Analyses\n",
    "\n",
    "The assumptions for a McNemar Chi-Square is the same as for an independent Chi-Square: you need to have at least 5 expected observations in each cell.  And just like the independent Chi-Square, in R, you will need to run the entire analysis first and then check the assumption.  All the code is nearly the same, too, except that you will add in the argument of ```mcnemar=TRUE```.  Take a look: "
   ]
  },
  {
   "cell_type": "code",
   "execution_count": 23,
   "id": "7a72017e-3bce-48a2-ae11-770eee046844",
   "metadata": {},
   "outputs": [
    {
     "name": "stdout",
     "output_type": "stream",
     "text": [
      "\n",
      "   Cell Contents\n",
      "|-------------------------|\n",
      "|                   Count |\n",
      "|         Expected Values |\n",
      "| Chi-square contribution |\n",
      "|             Row Percent |\n",
      "|          Column Percent |\n",
      "|           Total Percent |\n",
      "|            Std Residual |\n",
      "|-------------------------|\n",
      "\n",
      "Total Observations in Table:  21293 \n",
      "\n",
      "                 | bake_sales1$CoffeeSales \n",
      "bake_sales1$DayR |        0  |        1  | Row Total | \n",
      "-----------------|-----------|-----------|-----------|\n",
      "               0 |     8238  |     2841  |    11079  | \n",
      "                 | 8232.374  | 2846.626  |           | \n",
      "                 |    0.004  |    0.011  |           | \n",
      "                 |   74.357% |   25.643% |   52.031% | \n",
      "                 |   52.067% |   51.928% |           | \n",
      "                 |   38.689% |   13.342% |           | \n",
      "                 |    0.062  |   -0.105  |           | \n",
      "-----------------|-----------|-----------|-----------|\n",
      "               1 |     7584  |     2630  |    10214  | \n",
      "                 | 7589.626  | 2624.374  |           | \n",
      "                 |    0.004  |    0.012  |           | \n",
      "                 |   74.251% |   25.749% |   47.969% | \n",
      "                 |   47.933% |   48.072% |           | \n",
      "                 |   35.617% |   12.351% |           | \n",
      "                 |   -0.065  |    0.110  |           | \n",
      "-----------------|-----------|-----------|-----------|\n",
      "    Column Total |    15822  |     5471  |    21293  | \n",
      "                 |   74.306% |   25.694% |           | \n",
      "-----------------|-----------|-----------|-----------|\n",
      "\n",
      " \n",
      "Statistics for All Table Factors\n",
      "\n",
      "\n",
      "Pearson's Chi-squared test \n",
      "------------------------------------------------------------\n",
      "Chi^2 =  0.03119586     d.f. =  1     p =  0.8598041 \n",
      "\n",
      "Pearson's Chi-squared test with Yates' continuity correction \n",
      "------------------------------------------------------------\n",
      "Chi^2 =  0.02589738     d.f. =  1     p =  0.8721512 \n",
      "\n",
      " \n",
      "McNemar's Chi-squared test \n",
      "------------------------------------------------------------\n",
      "Chi^2 =  2157.894     d.f. =  1     p =  0 \n",
      "\n",
      "McNemar's Chi-squared test with continuity correction \n",
      "------------------------------------------------------------\n",
      "Chi^2 =  2156.985     d.f. =  1     p =  0 \n",
      "\n",
      " \n",
      "Fisher's Exact Test for Count Data\n",
      "------------------------------------------------------------\n",
      "Sample estimate odds ratio:  1.00556 \n",
      "\n",
      "Alternative hypothesis: true odds ratio is not equal to 1\n",
      "p =  0.8629243 \n",
      "95% confidence interval:  0.9450908 1.06987 \n",
      "\n",
      "Alternative hypothesis: true odds ratio is less than 1\n",
      "p =  0.5762927 \n",
      "95% confidence interval:  0 1.059359 \n",
      "\n",
      "Alternative hypothesis: true odds ratio is greater than 1\n",
      "p =  0.4360365 \n",
      "95% confidence interval:  0.9545028 Inf \n",
      "\n",
      "\n",
      " \n",
      "       Minimum expected frequency: 2624.374 \n",
      "\n"
     ]
    }
   ],
   "source": [
    "CrossTable(bake_sales1$DayR, bake_sales1$CoffeeSales, fisher=TRUE, chisq = TRUE, mcnemar = TRUE, expected = TRUE, sresid=TRUE, format=\"SPSS\")"
   ]
  },
  {
   "cell_type": "markdown",
   "id": "9f3eb321-fec1-4686-95ab-6fd100cd871b",
   "metadata": {},
   "source": [
    "#### Check Assumption of Expected Frequencies"
   ]
  },
  {
   "cell_type": "markdown",
   "id": "7d4a6fa3-4361-4f27-82ce-313a3e994a8d",
   "metadata": {},
   "source": [
    "Assumption for McNemar needs to be minimum 5 expected for cell. Our lowest expected value is 2624.374. We met this assumption."
   ]
  },
  {
   "cell_type": "markdown",
   "id": "0a98823b-269c-4990-8fad-5b3bad32b458",
   "metadata": {},
   "source": [
    "### Interpret Results\n",
    "\n",
    "The p-value is < 0.05, which means this test is significant. There is a difference in coffee sales from the beginning and end of the month. "
   ]
  },
  {
   "cell_type": "markdown",
   "id": "28f53850-4609-4a62-af19-9d1a4f4f91b7",
   "metadata": {},
   "source": [
    "### Post Hocs"
   ]
  },
  {
   "cell_type": "markdown",
   "id": "409349f8-10b5-424d-846f-ec338e4adbeb",
   "metadata": {},
   "source": [
    "Examining the difference between groups, as determined by post hoc analyses, is crucial. Similar to the independent Chi-Square test, it's essential to scrutinize the standardized residuals. Any value with an absolute score of 2 (whether positive or negative) deviates significantly from the expected values. However, upon careful inspection of the post hoc results (adjusted to mitigate Type I errors), it becomes apparent that none of the standardized residuals surpass the threshold of 2. Consequently, this suggests that the test lacks statistical significance.\n",
    "\n",
    "A useful gauge in such situations is to observe the row total percentages. For instance, consider the comparison between sales percentages at the beginning and end of the month: 52% and 48% respectively. While these figures are technically distinct, they are remarkably close. The test concludes that these percentages are similar enough to be considered statistically nonsignificant"
   ]
  },
  {
   "cell_type": "code",
   "execution_count": 25,
   "id": "ad8cce0d-0a84-4e42-90dd-3900822804fd",
   "metadata": {},
   "outputs": [
    {
     "name": "stdout",
     "output_type": "stream",
     "text": [
      "[1] 0.7498385 0.7660334\n",
      "attr(,\"conf.level\")\n",
      "[1] 0.95\n"
     ]
    }
   ],
   "source": [
    "# Counts from McNemar's test\n",
    "a <- 8238\n",
    "b <- 2841\n",
    "c <- 7584\n",
    "d <- 2630\n",
    "\n",
    "# Calculate confidence intervals for differences in proportions\n",
    "conf_intervals <- binom.test(c(a, d), c(a + b, c + d), conf.level = 0.95)$conf.int\n",
    "\n",
    "# Print the confidence intervals\n",
    "print(conf_intervals)\n"
   ]
  },
  {
   "cell_type": "markdown",
   "id": "33eb610e-2d17-44e6-ae53-c929df7a360e",
   "metadata": {},
   "source": [
    "Imagine you have two groups (let's say \"A\" and \"B\") that you're comparing, like \"Before\" and \"After\" or \"Group 1\" and \"Group 2\". McNemar's test helps you figure out if there's a difference in proportions between these two groups. In your case, you found that there is a difference.\n",
    "\n",
    "Now, the numbers 0.7498385 and 0.7660334 represent a range. This range is like a guess at the difference between the groups. Imagine it's like a weather forecast saying, \"We're pretty sure the temperature will be between 75.0°F and 76.6°F tomorrow.\" In your case, the difference between your groups is somewhere between 0.7498385 and 0.7660334.\n",
    "\n",
    "If this range includes zero (like saying the temperature could be between -0.5°F and 1.0°F), it means there might not be a real difference between the groups. But in your case, the range doesn't include zero. It's all positive numbers. So, it suggests that there is a real difference between your two groups – the proportions are not the same.\n",
    "\n",
    "In simpler terms, your data shows that Group A (or the \"Before\" condition, or whatever your groups represent) is different from Group B (or the \"After\" condition) in terms of the thing you're measuring. The exact difference falls somewhere in that range, but you can be quite confident there's a difference because the whole range is positive.\n",
    "\n",
    "chatGPT"
   ]
  },
  {
   "cell_type": "markdown",
   "id": "905903cb-4ca1-4c63-bce7-15af34d6db2a",
   "metadata": {},
   "source": [
    "### 1. Summary Statistics:\n",
    "Start by calculating summary statistics for your variables of interest. For numerical variables, this includes mean, median, standard deviation, minimum, and maximum. For categorical variables, you can calculate frequencies and proportions for each category."
   ]
  },
  {
   "cell_type": "code",
   "execution_count": 26,
   "id": "d744b6e3-2bea-481c-a6ab-241f1a391ce4",
   "metadata": {},
   "outputs": [
    {
     "data": {
      "text/plain": [
       "   Min. 1st Qu.  Median    Mean 3rd Qu.    Max. \n",
       "      1    2548    5067    4952    7329    9684 "
      ]
     },
     "metadata": {},
     "output_type": "display_data"
    },
    {
     "data": {
      "text/plain": [
       "\n",
       "                   Adjustment      Afternoon with the baker \n",
       "                            1                            44 \n",
       "                    Alfajores               Argentina Night \n",
       "                          369                             7 \n",
       "                     Art Tray                         Bacon \n",
       "                           38                             1 \n",
       "                     Baguette                      Bakewell \n",
       "                          152                            48 \n",
       "                 Bare Popcorn                        Basket \n",
       "                            5                             6 \n",
       "                Bowl Nic Pitt                         Bread \n",
       "                            2                          3325 \n",
       "                Bread Pudding            Brioche and salami \n",
       "                            4                             3 \n",
       "                      Brownie                          Cake \n",
       "                          379                          1025 \n",
       "                Caramel bites         Cherry me Dried fruit \n",
       "                            3                             3 \n",
       "                 Chicken sand                  Chicken Stew \n",
       "                            1                           123 \n",
       "              Chimichurri Oil                    Chocolates \n",
       "                            2                            10 \n",
       "             Christmas common                        Coffee \n",
       "                           11                          5471 \n",
       "              Coffee granules                          Coke \n",
       "                            7                           185 \n",
       "                      Cookies                        Crepes \n",
       "                          540                             6 \n",
       "                       Crisps     Drinking chocolate spoons \n",
       "                           14                             8 \n",
       "                     Duck egg                Dulce de Leche \n",
       "                           12                            13 \n",
       "                         Eggs        Ella's Kitchen Pouches \n",
       "                           28                            17 \n",
       "                    Empanadas          Extra Salami or Feta \n",
       "                            7                            38 \n",
       "                  Fairy Doors                    Farm House \n",
       "                            2                           374 \n",
       "                     Focaccia                      Frittata \n",
       "                           54                            81 \n",
       "                        Fudge                  Gift voucher \n",
       "                          159                             1 \n",
       "            Gingerbread syrup                       Granola \n",
       "                            9                            28 \n",
       "               Hack the stack            Half slice Monster \n",
       "                            2                             6 \n",
       "            Hearty & Seasonal                         Honey \n",
       "                          107                             6 \n",
       "                Hot chocolate                           Jam \n",
       "                          590                           149 \n",
       "               Jammie Dodgers                         Juice \n",
       "                          125                           369 \n",
       "             Keeping It Local                  Kids biscuit \n",
       "                           63                            12 \n",
       "            Lemon and coconut                     Medialuna \n",
       "                            6                           616 \n",
       "               Mighty Protein                 Mineral water \n",
       "                           11                           136 \n",
       "                     Mortimer                        Muesli \n",
       "                            5                             8 \n",
       "                       Muffin              My-5 Fruit Shoot \n",
       "                          370                            18 \n",
       "                    Nomad bag                          NONE \n",
       "                            8                           786 \n",
       "               Olum & polenta                      Panatone \n",
       "                            1                             5 \n",
       "                       Pastry            Pick and Mix Bowls \n",
       "                          856                            12 \n",
       "                      Pintxos                       Polenta \n",
       "                            6                             1 \n",
       "                     Postcard Raspberry shortbread sandwich \n",
       "                           10                             3 \n",
       "                     Raw bars                         Salad \n",
       "                            1                            99 \n",
       "                     Sandwich                  Scandinavian \n",
       "                          771                           277 \n",
       "                        Scone                      Siblings \n",
       "                          327                             2 \n",
       "                    Smoothies                          Soup \n",
       "                           77                           342 \n",
       "               Spanish Brunch                        Spread \n",
       "                          172                             2 \n",
       "                 Tacos/Fajita                       Tartine \n",
       "                           11                            47 \n",
       "                          Tea                      The BART \n",
       "                         1435                             1 \n",
       "                    The Nomad                        Tiffin \n",
       "                           58                           146 \n",
       "                        Toast                      Truffles \n",
       "                          318                           193 \n",
       "                       Tshirt              Valentine's card \n",
       "                           21                            13 \n",
       "                  Vegan Feast                Vegan mincepie \n",
       "                           16                            54 \n",
       "             Victorian Sponge \n",
       "                            7 "
      ]
     },
     "metadata": {},
     "output_type": "display_data"
    }
   ],
   "source": [
    "# Summary statistics for numerical variables\n",
    "summary(bake_sales1$Transaction)\n",
    "\n",
    "# Frequency table for categorical variables\n",
    "table(bake_sales1$Item)"
   ]
  },
  {
   "cell_type": "markdown",
   "id": "5a0c1f0b-2854-421f-aecd-91c47a3bd3fe",
   "metadata": {},
   "source": [
    "### 2. Data Visualization:\n",
    "Visualizations can provide valuable insights into your data. Here are a few types of plots you can create:\n",
    "\n",
    "#### a. Histograms:\n",
    "Histograms help you understand the distribution of numerical variables."
   ]
  },
  {
   "cell_type": "code",
   "execution_count": 27,
   "id": "c7540087-bbb9-42ef-8985-5c0dacadc495",
   "metadata": {},
   "outputs": [
    {
     "data": {
      "image/png": "[encoded data removed]",
      "text/plain": [
       "Plot with title “Transaction Histogram”"
      ]
     },
     "metadata": {
      "image/png": {
       "height": 420,
       "width": 420
      }
     },
     "output_type": "display_data"
    }
   ],
   "source": [
    "hist(bake_sales1$Transaction, main = \"Transaction Histogram\", xlab = \"Transaction\")\n"
   ]
  },
  {
   "cell_type": "markdown",
   "id": "4fc875a9-2b53-4040-96f2-f862338eb5b2",
   "metadata": {},
   "source": [
    "#### b. Bar Charts:\n",
    "Bar charts are useful for visualizing the frequency of categorical variables."
   ]
  },
  {
   "cell_type": "code",
   "execution_count": 28,
   "id": "c2ba380a-5e5f-4c74-b1cc-49903d6549bc",
   "metadata": {},
   "outputs": [
    {
     "data": {
      "image/png": "[encoded data removed]",
      "text/plain": [
       "Plot with title “Item Frequency”"
      ]
     },
     "metadata": {
      "image/png": {
       "height": 420,
       "width": 420
      }
     },
     "output_type": "display_data"
    }
   ],
   "source": [
    "barplot(table(bake_sales1$Item), main = \"Item Frequency\", xlab = \"Item\", ylab = \"Frequency\")\n"
   ]
  },
  {
   "cell_type": "markdown",
   "id": "dc18ba3b-d067-4d00-a261-ef55be189156",
   "metadata": {},
   "source": [
    "#### c. Box Plots:\n",
    "Box plots can help you identify outliers in numerical variables."
   ]
  },
  {
   "cell_type": "code",
   "execution_count": 29,
   "id": "97696324-d91f-48a0-b605-19c5be26bb67",
   "metadata": {},
   "outputs": [
    {
     "data": {
      "image/png": "[encoded data removed]",
      "text/plain": [
       "Plot with title “Transaction Box Plot”"
      ]
     },
     "metadata": {
      "image/png": {
       "height": 420,
       "width": 420
      }
     },
     "output_type": "display_data"
    }
   ],
   "source": [
    "boxplot(bake_sales1$Transaction, main = \"Transaction Box Plot\", ylab = \"Transaction\")\n"
   ]
  },
  {
   "cell_type": "markdown",
   "id": "1e2ea7d6-58ca-4044-8527-06d04b904cae",
   "metadata": {},
   "source": [
    "#### d. Scatter Plots:\n",
    "Scatter plots are useful for visualizing relationships between two numerical variables."
   ]
  },
  {
   "cell_type": "code",
   "execution_count": 30,
   "id": "b92e099b-451a-462c-9d30-d0f6ca8a6e7d",
   "metadata": {},
   "outputs": [
    {
     "data": {
      "image/png": "[encoded data removed]",
      "text/plain": [
       "Plot with title “Scatter Plot”"
      ]
     },
     "metadata": {
      "image/png": {
       "height": 420,
       "width": 420
      }
     },
     "output_type": "display_data"
    }
   ],
   "source": [
    "plot(bake_sales1$Transaction, bake_sales1$CoffeeSales, main = \"Scatter Plot\", xlab = \"Transaction\", ylab = \"Coffee Sales\")\n"
   ]
  },
  {
   "cell_type": "markdown",
   "id": "6629bd93-6bbe-459b-b14f-b8e047519b78",
   "metadata": {},
   "source": [
    "### 3. Correlation Analysis:\n",
    "If you have multiple numerical variables, you can calculate correlations to identify relationships between them."
   ]
  },
  {
   "cell_type": "code",
   "execution_count": 31,
   "id": "fa19aa36-d281-43d3-89de-7ecd9968db34",
   "metadata": {},
   "outputs": [
    {
     "data": {
      "text/html": [
       "-0.000319441690391093"
      ],
      "text/latex": [
       "-0.000319441690391093"
      ],
      "text/markdown": [
       "-0.000319441690391093"
      ],
      "text/plain": [
       "[1] -0.0003194417"
      ]
     },
     "metadata": {},
     "output_type": "display_data"
    }
   ],
   "source": [
    "cor(bake_sales1$Transaction, bake_sales1$CoffeeSales)\n"
   ]
  },
  {
   "cell_type": "markdown",
   "id": "d663d328-37f6-49f0-a576-14c1eff7520c",
   "metadata": {},
   "source": [
    "### 4. Grouped Analysis:\n",
    "Explore the relationship between variables by grouping your data and creating summary statistics or visualizations for each group."
   ]
  },
  {
   "cell_type": "code",
   "execution_count": 32,
   "id": "864906bf-7d21-48a5-9e9c-3a13e30709d2",
   "metadata": {},
   "outputs": [
    {
     "data": {
      "text/html": [
       "<table class=\"dataframe\">\n",
       "<caption>A data.frame: 95 × 2</caption>\n",
       "<thead>\n",
       "\t<tr><th scope=col>Item</th><th scope=col>x</th></tr>\n",
       "\t<tr><th scope=col>&lt;chr&gt;</th><th scope=col>&lt;dbl&gt;</th></tr>\n",
       "</thead>\n",
       "<tbody>\n",
       "\t<tr><td>Adjustment               </td><td> 938.0000</td></tr>\n",
       "\t<tr><td>Afternoon with the baker </td><td>6500.6364</td></tr>\n",
       "\t<tr><td>Alfajores                </td><td>4099.1192</td></tr>\n",
       "\t<tr><td>Argentina Night          </td><td>9164.7143</td></tr>\n",
       "\t<tr><td>Art Tray                 </td><td>3707.2895</td></tr>\n",
       "\t<tr><td>Bacon                    </td><td>1248.0000</td></tr>\n",
       "\t<tr><td>Baguette                 </td><td>7298.2500</td></tr>\n",
       "\t<tr><td>Bakewell                 </td><td>5667.2292</td></tr>\n",
       "\t<tr><td>Bare Popcorn             </td><td>4484.0000</td></tr>\n",
       "\t<tr><td>Basket                   </td><td> 394.8333</td></tr>\n",
       "\t<tr><td>Bowl Nic Pitt            </td><td>1014.0000</td></tr>\n",
       "\t<tr><td>Bread                    </td><td>4876.2505</td></tr>\n",
       "\t<tr><td>Bread Pudding            </td><td> 915.5000</td></tr>\n",
       "\t<tr><td>Brioche and salami       </td><td>5978.6667</td></tr>\n",
       "\t<tr><td>Brownie                  </td><td>4184.2929</td></tr>\n",
       "\t<tr><td>Cake                     </td><td>5787.6702</td></tr>\n",
       "\t<tr><td>Caramel bites            </td><td>1700.3333</td></tr>\n",
       "\t<tr><td>Cherry me Dried fruit    </td><td>8803.6667</td></tr>\n",
       "\t<tr><td>Chicken sand             </td><td>  68.0000</td></tr>\n",
       "\t<tr><td>Chicken Stew             </td><td>7126.2439</td></tr>\n",
       "\t<tr><td>Chimichurri Oil          </td><td>1034.0000</td></tr>\n",
       "\t<tr><td>Chocolates               </td><td>7118.4000</td></tr>\n",
       "\t<tr><td>Christmas common         </td><td>8938.3636</td></tr>\n",
       "\t<tr><td>Coffee                   </td><td>4950.4765</td></tr>\n",
       "\t<tr><td>Coffee granules          </td><td>8531.2857</td></tr>\n",
       "\t<tr><td>Coke                     </td><td>5601.1135</td></tr>\n",
       "\t<tr><td>Cookies                  </td><td>5427.6889</td></tr>\n",
       "\t<tr><td>Crepes                   </td><td>2682.5000</td></tr>\n",
       "\t<tr><td>Crisps                   </td><td>5697.0000</td></tr>\n",
       "\t<tr><td>Drinking chocolate spoons</td><td>8615.7500</td></tr>\n",
       "\t<tr><td>⋮</td><td>⋮</td></tr>\n",
       "\t<tr><td>Panatone                     </td><td>3734.8000</td></tr>\n",
       "\t<tr><td>Pastry                       </td><td>4787.4544</td></tr>\n",
       "\t<tr><td>Pick and Mix Bowls           </td><td> 432.5833</td></tr>\n",
       "\t<tr><td>Pintxos                      </td><td>3382.8333</td></tr>\n",
       "\t<tr><td>Polenta                      </td><td>1922.0000</td></tr>\n",
       "\t<tr><td>Postcard                     </td><td>6020.4000</td></tr>\n",
       "\t<tr><td>Raspberry shortbread sandwich</td><td>5073.6667</td></tr>\n",
       "\t<tr><td>Raw bars                     </td><td>9022.0000</td></tr>\n",
       "\t<tr><td>Salad                        </td><td>7568.6667</td></tr>\n",
       "\t<tr><td>Sandwich                     </td><td>5634.8457</td></tr>\n",
       "\t<tr><td>Scandinavian                 </td><td>3718.1661</td></tr>\n",
       "\t<tr><td>Scone                        </td><td>5996.9633</td></tr>\n",
       "\t<tr><td>Siblings                     </td><td>1476.5000</td></tr>\n",
       "\t<tr><td>Smoothies                    </td><td>6018.8961</td></tr>\n",
       "\t<tr><td>Soup                         </td><td>5238.1433</td></tr>\n",
       "\t<tr><td>Spanish Brunch               </td><td>7524.1047</td></tr>\n",
       "\t<tr><td>Spread                       </td><td>1830.0000</td></tr>\n",
       "\t<tr><td>Tacos/Fajita                 </td><td>9625.8182</td></tr>\n",
       "\t<tr><td>Tartine                      </td><td> 977.7234</td></tr>\n",
       "\t<tr><td>Tea                          </td><td>4899.5512</td></tr>\n",
       "\t<tr><td>The BART                     </td><td> 475.0000</td></tr>\n",
       "\t<tr><td>The Nomad                    </td><td>6059.3966</td></tr>\n",
       "\t<tr><td>Tiffin                       </td><td>7017.2808</td></tr>\n",
       "\t<tr><td>Toast                        </td><td>6071.0126</td></tr>\n",
       "\t<tr><td>Truffles                     </td><td>5729.2383</td></tr>\n",
       "\t<tr><td>Tshirt                       </td><td>6010.7619</td></tr>\n",
       "\t<tr><td>Valentine's card             </td><td>6140.0769</td></tr>\n",
       "\t<tr><td>Vegan Feast                  </td><td>8496.5000</td></tr>\n",
       "\t<tr><td>Vegan mincepie               </td><td>4137.1667</td></tr>\n",
       "\t<tr><td>Victorian Sponge             </td><td> 447.4286</td></tr>\n",
       "</tbody>\n",
       "</table>\n"
      ],
      "text/latex": [
       "A data.frame: 95 × 2\n",
       "\\begin{tabular}{ll}\n",
       " Item & x\\\\\n",
       " <chr> & <dbl>\\\\\n",
       "\\hline\n",
       "\t Adjustment                &  938.0000\\\\\n",
       "\t Afternoon with the baker  & 6500.6364\\\\\n",
       "\t Alfajores                 & 4099.1192\\\\\n",
       "\t Argentina Night           & 9164.7143\\\\\n",
       "\t Art Tray                  & 3707.2895\\\\\n",
       "\t Bacon                     & 1248.0000\\\\\n",
       "\t Baguette                  & 7298.2500\\\\\n",
       "\t Bakewell                  & 5667.2292\\\\\n",
       "\t Bare Popcorn              & 4484.0000\\\\\n",
       "\t Basket                    &  394.8333\\\\\n",
       "\t Bowl Nic Pitt             & 1014.0000\\\\\n",
       "\t Bread                     & 4876.2505\\\\\n",
       "\t Bread Pudding             &  915.5000\\\\\n",
       "\t Brioche and salami        & 5978.6667\\\\\n",
       "\t Brownie                   & 4184.2929\\\\\n",
       "\t Cake                      & 5787.6702\\\\\n",
       "\t Caramel bites             & 1700.3333\\\\\n",
       "\t Cherry me Dried fruit     & 8803.6667\\\\\n",
       "\t Chicken sand              &   68.0000\\\\\n",
       "\t Chicken Stew              & 7126.2439\\\\\n",
       "\t Chimichurri Oil           & 1034.0000\\\\\n",
       "\t Chocolates                & 7118.4000\\\\\n",
       "\t Christmas common          & 8938.3636\\\\\n",
       "\t Coffee                    & 4950.4765\\\\\n",
       "\t Coffee granules           & 8531.2857\\\\\n",
       "\t Coke                      & 5601.1135\\\\\n",
       "\t Cookies                   & 5427.6889\\\\\n",
       "\t Crepes                    & 2682.5000\\\\\n",
       "\t Crisps                    & 5697.0000\\\\\n",
       "\t Drinking chocolate spoons & 8615.7500\\\\\n",
       "\t ⋮ & ⋮\\\\\n",
       "\t Panatone                      & 3734.8000\\\\\n",
       "\t Pastry                        & 4787.4544\\\\\n",
       "\t Pick and Mix Bowls            &  432.5833\\\\\n",
       "\t Pintxos                       & 3382.8333\\\\\n",
       "\t Polenta                       & 1922.0000\\\\\n",
       "\t Postcard                      & 6020.4000\\\\\n",
       "\t Raspberry shortbread sandwich & 5073.6667\\\\\n",
       "\t Raw bars                      & 9022.0000\\\\\n",
       "\t Salad                         & 7568.6667\\\\\n",
       "\t Sandwich                      & 5634.8457\\\\\n",
       "\t Scandinavian                  & 3718.1661\\\\\n",
       "\t Scone                         & 5996.9633\\\\\n",
       "\t Siblings                      & 1476.5000\\\\\n",
       "\t Smoothies                     & 6018.8961\\\\\n",
       "\t Soup                          & 5238.1433\\\\\n",
       "\t Spanish Brunch                & 7524.1047\\\\\n",
       "\t Spread                        & 1830.0000\\\\\n",
       "\t Tacos/Fajita                  & 9625.8182\\\\\n",
       "\t Tartine                       &  977.7234\\\\\n",
       "\t Tea                           & 4899.5512\\\\\n",
       "\t The BART                      &  475.0000\\\\\n",
       "\t The Nomad                     & 6059.3966\\\\\n",
       "\t Tiffin                        & 7017.2808\\\\\n",
       "\t Toast                         & 6071.0126\\\\\n",
       "\t Truffles                      & 5729.2383\\\\\n",
       "\t Tshirt                        & 6010.7619\\\\\n",
       "\t Valentine's card              & 6140.0769\\\\\n",
       "\t Vegan Feast                   & 8496.5000\\\\\n",
       "\t Vegan mincepie                & 4137.1667\\\\\n",
       "\t Victorian Sponge              &  447.4286\\\\\n",
       "\\end{tabular}\n"
      ],
      "text/markdown": [
       "\n",
       "A data.frame: 95 × 2\n",
       "\n",
       "| Item &lt;chr&gt; | x &lt;dbl&gt; |\n",
       "|---|---|\n",
       "| Adjustment                |  938.0000 |\n",
       "| Afternoon with the baker  | 6500.6364 |\n",
       "| Alfajores                 | 4099.1192 |\n",
       "| Argentina Night           | 9164.7143 |\n",
       "| Art Tray                  | 3707.2895 |\n",
       "| Bacon                     | 1248.0000 |\n",
       "| Baguette                  | 7298.2500 |\n",
       "| Bakewell                  | 5667.2292 |\n",
       "| Bare Popcorn              | 4484.0000 |\n",
       "| Basket                    |  394.8333 |\n",
       "| Bowl Nic Pitt             | 1014.0000 |\n",
       "| Bread                     | 4876.2505 |\n",
       "| Bread Pudding             |  915.5000 |\n",
       "| Brioche and salami        | 5978.6667 |\n",
       "| Brownie                   | 4184.2929 |\n",
       "| Cake                      | 5787.6702 |\n",
       "| Caramel bites             | 1700.3333 |\n",
       "| Cherry me Dried fruit     | 8803.6667 |\n",
       "| Chicken sand              |   68.0000 |\n",
       "| Chicken Stew              | 7126.2439 |\n",
       "| Chimichurri Oil           | 1034.0000 |\n",
       "| Chocolates                | 7118.4000 |\n",
       "| Christmas common          | 8938.3636 |\n",
       "| Coffee                    | 4950.4765 |\n",
       "| Coffee granules           | 8531.2857 |\n",
       "| Coke                      | 5601.1135 |\n",
       "| Cookies                   | 5427.6889 |\n",
       "| Crepes                    | 2682.5000 |\n",
       "| Crisps                    | 5697.0000 |\n",
       "| Drinking chocolate spoons | 8615.7500 |\n",
       "| ⋮ | ⋮ |\n",
       "| Panatone                      | 3734.8000 |\n",
       "| Pastry                        | 4787.4544 |\n",
       "| Pick and Mix Bowls            |  432.5833 |\n",
       "| Pintxos                       | 3382.8333 |\n",
       "| Polenta                       | 1922.0000 |\n",
       "| Postcard                      | 6020.4000 |\n",
       "| Raspberry shortbread sandwich | 5073.6667 |\n",
       "| Raw bars                      | 9022.0000 |\n",
       "| Salad                         | 7568.6667 |\n",
       "| Sandwich                      | 5634.8457 |\n",
       "| Scandinavian                  | 3718.1661 |\n",
       "| Scone                         | 5996.9633 |\n",
       "| Siblings                      | 1476.5000 |\n",
       "| Smoothies                     | 6018.8961 |\n",
       "| Soup                          | 5238.1433 |\n",
       "| Spanish Brunch                | 7524.1047 |\n",
       "| Spread                        | 1830.0000 |\n",
       "| Tacos/Fajita                  | 9625.8182 |\n",
       "| Tartine                       |  977.7234 |\n",
       "| Tea                           | 4899.5512 |\n",
       "| The BART                      |  475.0000 |\n",
       "| The Nomad                     | 6059.3966 |\n",
       "| Tiffin                        | 7017.2808 |\n",
       "| Toast                         | 6071.0126 |\n",
       "| Truffles                      | 5729.2383 |\n",
       "| Tshirt                        | 6010.7619 |\n",
       "| Valentine's card              | 6140.0769 |\n",
       "| Vegan Feast                   | 8496.5000 |\n",
       "| Vegan mincepie                | 4137.1667 |\n",
       "| Victorian Sponge              |  447.4286 |\n",
       "\n"
      ],
      "text/plain": [
       "   Item                          x        \n",
       "1  Adjustment                     938.0000\n",
       "2  Afternoon with the baker      6500.6364\n",
       "3  Alfajores                     4099.1192\n",
       "4  Argentina Night               9164.7143\n",
       "5  Art Tray                      3707.2895\n",
       "6  Bacon                         1248.0000\n",
       "7  Baguette                      7298.2500\n",
       "8  Bakewell                      5667.2292\n",
       "9  Bare Popcorn                  4484.0000\n",
       "10 Basket                         394.8333\n",
       "11 Bowl Nic Pitt                 1014.0000\n",
       "12 Bread                         4876.2505\n",
       "13 Bread Pudding                  915.5000\n",
       "14 Brioche and salami            5978.6667\n",
       "15 Brownie                       4184.2929\n",
       "16 Cake                          5787.6702\n",
       "17 Caramel bites                 1700.3333\n",
       "18 Cherry me Dried fruit         8803.6667\n",
       "19 Chicken sand                    68.0000\n",
       "20 Chicken Stew                  7126.2439\n",
       "21 Chimichurri Oil               1034.0000\n",
       "22 Chocolates                    7118.4000\n",
       "23 Christmas common              8938.3636\n",
       "24 Coffee                        4950.4765\n",
       "25 Coffee granules               8531.2857\n",
       "26 Coke                          5601.1135\n",
       "27 Cookies                       5427.6889\n",
       "28 Crepes                        2682.5000\n",
       "29 Crisps                        5697.0000\n",
       "30 Drinking chocolate spoons     8615.7500\n",
       "⋮  ⋮                             ⋮        \n",
       "66 Panatone                      3734.8000\n",
       "67 Pastry                        4787.4544\n",
       "68 Pick and Mix Bowls             432.5833\n",
       "69 Pintxos                       3382.8333\n",
       "70 Polenta                       1922.0000\n",
       "71 Postcard                      6020.4000\n",
       "72 Raspberry shortbread sandwich 5073.6667\n",
       "73 Raw bars                      9022.0000\n",
       "74 Salad                         7568.6667\n",
       "75 Sandwich                      5634.8457\n",
       "76 Scandinavian                  3718.1661\n",
       "77 Scone                         5996.9633\n",
       "78 Siblings                      1476.5000\n",
       "79 Smoothies                     6018.8961\n",
       "80 Soup                          5238.1433\n",
       "81 Spanish Brunch                7524.1047\n",
       "82 Spread                        1830.0000\n",
       "83 Tacos/Fajita                  9625.8182\n",
       "84 Tartine                        977.7234\n",
       "85 Tea                           4899.5512\n",
       "86 The BART                       475.0000\n",
       "87 The Nomad                     6059.3966\n",
       "88 Tiffin                        7017.2808\n",
       "89 Toast                         6071.0126\n",
       "90 Truffles                      5729.2383\n",
       "91 Tshirt                        6010.7619\n",
       "92 Valentine's card              6140.0769\n",
       "93 Vegan Feast                   8496.5000\n",
       "94 Vegan mincepie                4137.1667\n",
       "95 Victorian Sponge               447.4286"
      ]
     },
     "metadata": {},
     "output_type": "display_data"
    }
   ],
   "source": [
    "# Example: Mean Transaction for each Item category\n",
    "aggregate(bake_sales1$Transaction, by = list(Item = bake_sales1$Item), FUN = mean)\n"
   ]
  },
  {
   "cell_type": "markdown",
   "id": "a15cc7e7-2752-4a7d-aaed-6ed39273a63b",
   "metadata": {},
   "source": [
    "### 5. Time Series Analysis (if applicable):\n",
    "If your data has a time component, explore trends, patterns, and seasonality."
   ]
  },
  {
   "cell_type": "code",
   "execution_count": 33,
   "id": "f3e3dad2-82e4-4bb2-9918-afa36092fe78",
   "metadata": {},
   "outputs": [
    {
     "data": {
      "image/png": "[encoded data removed]",
      "text/plain": [
       "plot without title"
      ]
     },
     "metadata": {
      "image/png": {
       "height": 420,
       "width": 420
      }
     },
     "output_type": "display_data"
    }
   ],
   "source": [
    "# Example: Time series plot for transactions over time\n",
    "bake_sales1$DateTime <- as.POSIXct(paste(bake_sales1$Date, bake_sales1$Time), format=\"%m/%d/%Y %H:%M:%S\")\n",
    "plot(bake_sales1$DateTime, bake_sales1$Transaction, type = \"l\", xlab = \"Date Time\", ylab = \"Transaction\")\n"
   ]
  },
  {
   "cell_type": "code",
   "execution_count": null,
   "id": "d0343041-6384-4eb5-b4d9-1cecd7ab43bb",
   "metadata": {},
   "outputs": [],
   "source": []
  }
 ],
 "metadata": {
  "kernelspec": {
   "display_name": "R",
   "language": "R",
   "name": "ir"
  },
  "language_info": {
   "codemirror_mode": "r",
   "file_extension": ".r",
   "mimetype": "text/x-r-source",
   "name": "R",
   "pygments_lexer": "r",
   "version": "4.2.1"
  }
 },
 "nbformat": 4,
 "nbformat_minor": 5
}
