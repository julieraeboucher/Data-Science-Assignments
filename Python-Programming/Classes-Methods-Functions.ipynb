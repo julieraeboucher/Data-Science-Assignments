{
 "cells": [
  {
   "cell_type": "markdown",
   "id": "4784f50a-55e5-4ed3-93e6-e22996c2c9b2",
   "metadata": {},
   "source": [
    "# Part 1"
   ]
  },
  {
   "cell_type": "markdown",
   "id": "1c227ce6-bad5-4faf-81a8-378b9eaf32e2",
   "metadata": {},
   "source": [
    "1. Create a `class` named `Stadium`"
   ]
  },
  {
   "cell_type": "code",
   "execution_count": 10,
   "id": "687f3b9b-e248-4ec0-b43d-62b9874b234e",
   "metadata": {},
   "outputs": [],
   "source": [
    "class Stadium: \n",
    "    '''This is a class called Stadium, triple quotes are called Doc String'''"
   ]
  },
  {
   "cell_type": "markdown",
   "id": "3583b27d-0528-4113-ba70-f3673914adf7",
   "metadata": {},
   "source": [
    "2. Use the `init` method to include the following three properties:\n",
    "```\n",
    "name\n",
    "city_state\n",
    "capacity\n",
    "```\n",
    "\n",
    "Hint! What is the property that is included in every method? Don't forget that one!\n",
    "\n",
    "3. Initialize each property/attribute within the `init` method\n",
    "4. Include a `docString` for the `class` and `method`"
   ]
  },
  {
   "cell_type": "code",
   "execution_count": 11,
   "id": "d50a44a8-fcc6-4dfa-af2c-59c1bbd031a3",
   "metadata": {},
   "outputs": [],
   "source": [
    "def __init__ (self, name, city_state, capacity):\n",
    "    '''This is a Initialize Method, triple quotes are called Doc String'''\n",
    "    self.name = name\n",
    "    self.city_state = city_state\n",
    "    self.capacity = capacity"
   ]
  },
  {
   "cell_type": "markdown",
   "id": "874b47fe-b68e-47f2-aeaf-7aac51dbb7c1",
   "metadata": {},
   "source": [
    "5. Create another method within the `Stadium` class named `describe_stadium`\n",
    "6. The `describe_stadium` method should utilize each method from the `Stadium` class which will then print a description of the arena (see step 10 for an example of a description)."
   ]
  },
  {
   "cell_type": "code",
   "execution_count": 18,
   "id": "f37a803a-f6de-4b28-a871-20cf0b98744f",
   "metadata": {},
   "outputs": [],
   "source": [
    "# Creates a function/method\n",
    "def describe_stadium(self):\n",
    "    print(self.name + \" is located in \" + self.city_state + \" and the stadium can hold up to ,\" + self.capacity + \" people.\")"
   ]
  },
  {
   "cell_type": "markdown",
   "id": "b4727c06-9daa-4f79-bbba-7d8e0df89815",
   "metadata": {},
   "source": [
    "7. Create a new instance of the `Stadium` class named `stadium1`.\n",
    "8. The `stadium1` instance should provide values for each of the three properties of the `Stadium` class"
   ]
  },
  {
   "cell_type": "code",
   "execution_count": 19,
   "id": "e712f81c-85f8-4af9-9664-7a1d51502c59",
   "metadata": {},
   "outputs": [],
   "source": [
    "# Create an instance of that class\n",
    "stadium1 = Stadium(\"The Mercedes Benz Arena\", \"Atlanta, GA\", \"70,000\")"
   ]
  },
  {
   "cell_type": "markdown",
   "id": "c3146391-9197-4137-ac39-7212f260ce26",
   "metadata": {},
   "source": [
    "9. Finally, `stadium1` should call the `describe_stadium` method.\n",
    "10. The output should be similar to the following: `(The Mercedes Benz Arena is located in Atlanta, GA and holds 70,000 fans.)`"
   ]
  },
  {
   "cell_type": "code",
   "execution_count": 20,
   "id": "cbfce9eb-f44f-4b15-b15e-c960776b3dd1",
   "metadata": {},
   "outputs": [
    {
     "name": "stdout",
     "output_type": "stream",
     "text": [
      "The Mercedes Benz Arena is located in Atlanta, GA and the stadium can hold up to ,70,000 people.\n"
     ]
    }
   ],
   "source": [
    "stadium1.describe_stadium()"
   ]
  },
  {
   "cell_type": "markdown",
   "id": "7444e6fb-ef52-4b90-b80a-d99f448bb2cd",
   "metadata": {},
   "source": [
    "---"
   ]
  },
  {
   "cell_type": "code",
   "execution_count": 21,
   "id": "3560aa5f-fb9c-40e2-864e-21dc580419b4",
   "metadata": {},
   "outputs": [
    {
     "name": "stdout",
     "output_type": "stream",
     "text": [
      "The Mercedes Benz Arena is located in Atlanta, GA and the stadium can hold up to ,70,000 people.\n"
     ]
    }
   ],
   "source": [
    "class Stadium: \n",
    "    '''This is a class called Stadium, triple quotes are called Doc String'''\n",
    "    \n",
    "    def __init__ (self, name, city_state, capacity, sports_played=None, seats_avaliable=None):\n",
    "        self.name = name\n",
    "        self.city_state = city_state\n",
    "        self.capacity = capacity\n",
    "    \n",
    "    # Creates a function/method\n",
    "    def describe_stadium(self):\n",
    "        print(self.name + \" is located in \" + self.city_state + \" and the stadium can hold up to ,\" + self.capacity + \" people.\")\n",
    "        \n",
    "# Create an instance of that class\n",
    "stadium1 = Stadium(\"The Mercedes Benz Arena\", \"Atlanta, GA\", \"70,000\")\n",
    "stadium1.describe_stadium()\n"
   ]
  },
  {
   "cell_type": "markdown",
   "id": "2a3487b4-5a8d-4eb8-81bb-4db5833148ce",
   "metadata": {},
   "source": [
    "---"
   ]
  },
  {
   "cell_type": "markdown",
   "id": "188e6fa5-70fa-424c-9ba0-42ab3f877877",
   "metadata": {},
   "source": [
    "# Part 2"
   ]
  },
  {
   "cell_type": "markdown",
   "id": "4429b6f0-5c88-4670-b889-bcca9d0bbcef",
   "metadata": {},
   "source": [
    "1. Add two more methods to the `Stadium` class:\n",
    "    * `sport_played` - This method should accept one argument that specifies the sport that is played\n",
    "    * `seats_available` - This method should accept one argument that specifies how many seats are available\n",
    "2. Each of the above method should print out a sentence using the argument provided (see step 4 for output)"
   ]
  },
  {
   "cell_type": "code",
   "execution_count": 22,
   "id": "a3a29d9b-3d34-4395-b0b2-d7b7c94eaf78",
   "metadata": {},
   "outputs": [],
   "source": [
    "# This is a function/method\n",
    "def sport_played(self, sport):\n",
    "    print(\"The following sport is mainly played in this stadium:\" + sport + \".\")"
   ]
  },
  {
   "cell_type": "code",
   "execution_count": 23,
   "id": "5271c510-d8f2-44fb-b65a-923128e9a77b",
   "metadata": {},
   "outputs": [],
   "source": [
    "# This is a function/method\n",
    "def seats_available(self, seats):\n",
    "    print(\"There are \" + seats + \" seats still available for tonight's game.\" )"
   ]
  },
  {
   "cell_type": "markdown",
   "id": "b40c1bac-01dc-44d9-83a8-a3a10f6de425",
   "metadata": {},
   "source": [
    "3. Using the `stadium1` instance, call each of the new methods, providing the relevant arguments. As an example, if the following code to use the class were added:"
   ]
  },
  {
   "cell_type": "code",
   "execution_count": null,
   "id": "4d2f0327-3af5-4b7f-a805-5a21fa95fd46",
   "metadata": {},
   "outputs": [],
   "source": [
    "stadium1.describe_stadium()\n",
    "stadium1.sport_played(\"Football\")\n",
    "stadium1.seats_available(\"15,000\")"
   ]
  },
  {
   "cell_type": "markdown",
   "id": "5c08fcbe-b028-429c-985e-18be79292e04",
   "metadata": {},
   "source": [
    "4. After running this program in your terminal, the output should be similar to the following:\n",
    "    ```text\n",
    "    The Mercedes Benz Arena is in Atlanta, GA and holds 70000 fans.\n",
    "    The following sport is mainly played in this stadium: Football\n",
    "    There are 15000 seats still available for tonight's game.\n",
    "    ```"
   ]
  },
  {
   "cell_type": "markdown",
   "id": "d420914d-e23b-45fd-b5cf-36c0807ae38e",
   "metadata": {},
   "source": [
    "---"
   ]
  },
  {
   "cell_type": "code",
   "execution_count": 25,
   "id": "4122e6be-7818-4d9a-8a30-bb1667c7c2fb",
   "metadata": {},
   "outputs": [
    {
     "name": "stdout",
     "output_type": "stream",
     "text": [
      "The Mercedes Benz Arena is located in Atlanta, GA and holds 70,000 fans\n",
      "The following sport is played in this arena: Football\n",
      "There are 15000 seats still available for tonight's game!\n"
     ]
    }
   ],
   "source": [
    "class Stadium:\n",
    "    \"\"\"This class represents an area\"\"\"\n",
    "    def __init__(self, name, city_state, capacity):\n",
    "        \"\"\"This describes the arena\"\"\"\n",
    "        self.name = name\n",
    "        self.city_state = city_state\n",
    "        self.capacity = capacity\n",
    "\n",
    "    def describe_stadium(self):\n",
    "        print(\"The \" + self.name + \" is located in \" + self.city_state + \" and holds \" + self.capacity + \" fans\")\n",
    "\n",
    "    def sport_played(self, sport):\n",
    "        print(\"The following sport is played in this arena: \" + sport)\n",
    "\n",
    "    def seats_available(self, seats):\n",
    "        print(\"There are \" + seats + \" seats still available for tonight's game!\")\n",
    "\n",
    "stadium1 = Stadium(\"Mercedes Benz Arena\", \"Atlanta, GA\", \"70,000\")\n",
    "\n",
    "stadium1.describe_stadium()\n",
    "stadium1.sport_played(\"Football\")\n",
    "stadium1.seats_available(\"15000\")\n"
   ]
  },
  {
   "cell_type": "code",
   "execution_count": null,
   "id": "e9ca5f75-f25e-4cfd-bf7c-8828d9b89bdb",
   "metadata": {},
   "outputs": [],
   "source": []
  }
 ],
 "metadata": {
  "kernelspec": {
   "display_name": "Python 3 (ipykernel)",
   "language": "python",
   "name": "python3"
  },
  "language_info": {
   "codemirror_mode": {
    "name": "ipython",
    "version": 3
   },
   "file_extension": ".py",
   "mimetype": "text/x-python",
   "name": "python",
   "nbconvert_exporter": "python",
   "pygments_lexer": "ipython3",
   "version": "3.9.13"
  }
 },
 "nbformat": 4,
 "nbformat_minor": 5
}
