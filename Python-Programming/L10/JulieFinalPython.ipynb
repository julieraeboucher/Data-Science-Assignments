{
 "cells": [
  {
   "cell_type": "markdown",
   "id": "955625cf-eb3b-4411-a89b-24b07782484d",
   "metadata": {},
   "source": [
    "# Julie Python Final"
   ]
  },
  {
   "cell_type": "code",
   "execution_count": 1,
   "id": "17c0a9f0-e745-4950-82bb-dcf032614d96",
   "metadata": {},
   "outputs": [],
   "source": [
    "tasks = [\n",
    "    {'name' : 'Write email to Jan', 'completed' : True},\n",
    "    {'name' : 'Sweep front porch', 'completed' : True},\n",
    "    {'name' : 'Call mom', 'completed' : False}\n",
    "]"
   ]
  },
  {
   "cell_type": "code",
   "execution_count": 2,
   "id": "232d8056-b29e-455a-aab1-f4154f90d6df",
   "metadata": {},
   "outputs": [],
   "source": [
    "def list_tasks():\n",
    "    for index, task in enumerate(tasks):\n",
    "        print(str.format('{}: {} (Completed: {})', index, task['name'], task['completed']))"
   ]
  },
  {
   "cell_type": "code",
   "execution_count": 3,
   "id": "3b27bf46-7fe0-44e8-892b-8baee477f28c",
   "metadata": {},
   "outputs": [
    {
     "name": "stdout",
     "output_type": "stream",
     "text": [
      "0: Write email to Jan (Completed: True)\n",
      "1: Sweep front porch (Completed: True)\n",
      "2: Call mom (Completed: False)\n"
     ]
    }
   ],
   "source": [
    "list_tasks()"
   ]
  },
  {
   "cell_type": "code",
   "execution_count": 4,
   "id": "617baed3-817e-4ecc-8320-801dfa9de637",
   "metadata": {},
   "outputs": [],
   "source": [
    "def add_task():\n",
    "    task_text = input('Please add a task: ')\n",
    "    new_task = {'message' : task_text, 'completed' : False}\n",
    "    tasks.append(new_task)"
   ]
  },
  {
   "cell_type": "code",
   "execution_count": 5,
   "id": "a8774c88-f46e-44e3-b3c3-65c5e877bb1c",
   "metadata": {},
   "outputs": [],
   "source": [
    "def remove_task():\n",
    "    list_tasks()\n",
    "    delete_task = int(input('Input the index of the task you would like to delete: '))\n",
    "    del tasks[delete_task]"
   ]
  },
  {
   "cell_type": "code",
   "execution_count": 6,
   "id": "accf7406-7eab-464f-b4f8-cf7430b9eaf1",
   "metadata": {},
   "outputs": [],
   "source": [
    "def mark_task_complete():\n",
    "    list_tasks()\n",
    "    task_to_be_marked_completed = int(input('Input the index of the task you would like to mark as completed: '))\n",
    "    tasks[task_to_be_marked_completed]['completed'] = True\n",
    "    "
   ]
  },
  {
   "cell_type": "code",
   "execution_count": 7,
   "id": "3b4ff83c-2fc4-43f2-a6ac-68248d730793",
   "metadata": {},
   "outputs": [],
   "source": [
    "menu_text = \"\"\"\n",
    "====================\n",
    "1. List the tasks\n",
    "2. Add a task\n",
    "3. Remove a task\n",
    "4. Mark task complete\n",
    "5. Quit\n",
    "\n",
    "What would you like to do? \"\"\""
   ]
  },
  {
   "cell_type": "code",
   "execution_count": null,
   "id": "b3c1a560-4f9f-405d-b468-cd74cdb17ac1",
   "metadata": {},
   "outputs": [],
   "source": [
    "\n",
    "program_is_running = True\n",
    "\n",
    "while program_is_running:\n",
    "    decision = input(menu_text)\n",
    "    \n",
    "    if decision == '1':\n",
    "        list_tasks()\n",
    "    elif decision == '2':\n",
    "        add_task()\n",
    "    elif decision == '3':\n",
    "        remove_task()\n",
    "    elif decision == '4':\n",
    "        mark_task_complete()\n",
    "    elif decision == '5':\n",
    "        program_is_running = False\n",
    "    else:\n",
    "        print('please choose a valid option')\n"
   ]
  },
  {
   "cell_type": "code",
   "execution_count": null,
   "id": "9bafdad6-0fd2-4229-acb7-28d36e460a29",
   "metadata": {},
   "outputs": [],
   "source": []
  }
 ],
 "metadata": {
  "kernelspec": {
   "display_name": "Python 3 (ipykernel)",
   "language": "python",
   "name": "python3"
  },
  "language_info": {
   "codemirror_mode": {
    "name": "ipython",
    "version": 3
   },
   "file_extension": ".py",
   "mimetype": "text/x-python",
   "name": "python",
   "nbconvert_exporter": "python",
   "pygments_lexer": "ipython3",
   "version": "3.9.10"
  }
 },
 "nbformat": 4,
 "nbformat_minor": 5
}
