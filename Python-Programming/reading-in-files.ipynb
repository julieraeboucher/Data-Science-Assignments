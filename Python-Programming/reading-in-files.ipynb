{
 "cells": [
  {
   "cell_type": "code",
   "execution_count": 1,
   "id": "4b6dad21-94f8-4667-8a24-b8a1387ac521",
   "metadata": {},
   "outputs": [],
   "source": [
    "new_text = 'Python was conceived in the late 1990s by Guido van Rossum.'"
   ]
  },
  {
   "cell_type": "code",
   "execution_count": 2,
   "id": "b6974f35-1f74-49c1-bff9-f28f4bfa855f",
   "metadata": {},
   "outputs": [],
   "source": [
    "with open('updating.txt', 'w') as file:\n",
    "    file.write(new_text)"
   ]
  },
  {
   "cell_type": "code",
   "execution_count": 3,
   "id": "d54d1a96-0cdd-423d-8494-83ba1f6e6c32",
   "metadata": {},
   "outputs": [
    {
     "name": "stdout",
     "output_type": "stream",
     "text": [
      "\n",
      "File Now Closed?: True\n"
     ]
    }
   ],
   "source": [
    "print('\\nFile Now Closed?:', file.closed)"
   ]
  },
  {
   "cell_type": "code",
   "execution_count": 4,
   "id": "da81221e-59c7-4c34-9da2-94c73b9f59de",
   "metadata": {},
   "outputs": [
    {
     "name": "stdout",
     "output_type": "stream",
     "text": [
      "File Now Closed?: True\n"
     ]
    }
   ],
   "source": [
    "print('File Now Closed?:', file.closed)"
   ]
  },
  {
   "cell_type": "code",
   "execution_count": 5,
   "id": "13a8f26a-dbc3-4695-bb32-a3aa477db08f",
   "metadata": {},
   "outputs": [],
   "source": [
    "with open('updating.txt', 'r+') as file:\n",
    "    new_text = file.read()"
   ]
  },
  {
   "cell_type": "code",
   "execution_count": 6,
   "id": "1e97acb8-f17a-4f7d-a57a-f5e293d34c2d",
   "metadata": {},
   "outputs": [
    {
     "name": "stdout",
     "output_type": "stream",
     "text": [
      "\n",
      "String: Python was conceived in the late 1990s by Guido van Rossum.\n"
     ]
    }
   ],
   "source": [
    "print('\\nString:', new_text)"
   ]
  },
  {
   "cell_type": "code",
   "execution_count": 17,
   "id": "66ccbfa1-2ea8-46b1-857f-c6b1c9788b53",
   "metadata": {},
   "outputs": [
    {
     "name": "stdout",
     "output_type": "stream",
     "text": [
      "\n",
      "String: Python was conceived in the late 1980s by Guido van Rossum.\n",
      "\n",
      "Position In File Now: 59\n"
     ]
    }
   ],
   "source": [
    "with open('updating.txt', 'r+') as file:\n",
    "    new_text = file.read()\n",
    "    print('\\nString:', new_text)\n",
    "    print('\\nPosition In File Now:', file.tell())"
   ]
  },
  {
   "cell_type": "code",
   "execution_count": 24,
   "id": "efd96956-e889-4a87-9fe7-8cd1e28a0e86",
   "metadata": {},
   "outputs": [
    {
     "ename": "ValueError",
     "evalue": "I/O operation on closed file.",
     "output_type": "error",
     "traceback": [
      "\u001b[0;31m---------------------------------------------------------------------------\u001b[0m",
      "\u001b[0;31mValueError\u001b[0m                                Traceback (most recent call last)",
      "\u001b[0;32m/var/folders/pv/pw6305z15g782z7d207y2v4c0000gn/T/ipykernel_57653/3002945827.py\u001b[0m in \u001b[0;36m<module>\u001b[0;34m\u001b[0m\n\u001b[0;32m----> 1\u001b[0;31m \u001b[0mposition\u001b[0m \u001b[0;34m=\u001b[0m \u001b[0mfile\u001b[0m\u001b[0;34m.\u001b[0m\u001b[0mseek\u001b[0m\u001b[0;34m(\u001b[0m\u001b[0;36m33\u001b[0m\u001b[0;34m)\u001b[0m\u001b[0;34m\u001b[0m\u001b[0;34m\u001b[0m\u001b[0m\n\u001b[0m\u001b[1;32m      2\u001b[0m \u001b[0mprint\u001b[0m\u001b[0;34m(\u001b[0m\u001b[0;34m'Position In File Now:'\u001b[0m\u001b[0;34m,\u001b[0m \u001b[0mfile\u001b[0m\u001b[0;34m.\u001b[0m\u001b[0mtell\u001b[0m\u001b[0;34m(\u001b[0m\u001b[0;34m)\u001b[0m\u001b[0;34m)\u001b[0m\u001b[0;34m\u001b[0m\u001b[0;34m\u001b[0m\u001b[0m\n",
      "\u001b[0;31mValueError\u001b[0m: I/O operation on closed file."
     ]
    }
   ],
   "source": [
    "position = file.seek(33)\n",
    "print('Position In File Now:', file.tell())"
   ]
  },
  {
   "cell_type": "code",
   "execution_count": 25,
   "id": "f30519cc-726e-42a2-bfc8-2243ecd1c81b",
   "metadata": {},
   "outputs": [
    {
     "ename": "ValueError",
     "evalue": "I/O operation on closed file.",
     "output_type": "error",
     "traceback": [
      "\u001b[0;31m---------------------------------------------------------------------------\u001b[0m",
      "\u001b[0;31mValueError\u001b[0m                                Traceback (most recent call last)",
      "\u001b[0;32m/var/folders/pv/pw6305z15g782z7d207y2v4c0000gn/T/ipykernel_57653/450865583.py\u001b[0m in \u001b[0;36m<module>\u001b[0;34m\u001b[0m\n\u001b[0;32m----> 1\u001b[0;31m \u001b[0mfile\u001b[0m\u001b[0;34m.\u001b[0m\u001b[0mwrite\u001b[0m\u001b[0;34m(\u001b[0m\u001b[0;34m'1980s'\u001b[0m\u001b[0;34m)\u001b[0m\u001b[0;34m\u001b[0m\u001b[0;34m\u001b[0m\u001b[0m\n\u001b[0m\u001b[1;32m      2\u001b[0m \u001b[0mfile\u001b[0m\u001b[0;34m.\u001b[0m\u001b[0mseek\u001b[0m\u001b[0;34m(\u001b[0m\u001b[0;36m0\u001b[0m\u001b[0;34m)\u001b[0m\u001b[0;34m\u001b[0m\u001b[0;34m\u001b[0m\u001b[0m\n\u001b[1;32m      3\u001b[0m \u001b[0mnew_text\u001b[0m \u001b[0;34m=\u001b[0m \u001b[0mfile\u001b[0m\u001b[0;34m.\u001b[0m\u001b[0mread\u001b[0m\u001b[0;34m(\u001b[0m\u001b[0;34m)\u001b[0m\u001b[0;34m\u001b[0m\u001b[0;34m\u001b[0m\u001b[0m\n\u001b[1;32m      4\u001b[0m \u001b[0mprint\u001b[0m\u001b[0;34m(\u001b[0m\u001b[0;34m'\\nString:'\u001b[0m\u001b[0;34m,\u001b[0m \u001b[0mnew_text\u001b[0m\u001b[0;34m)\u001b[0m\u001b[0;34m\u001b[0m\u001b[0;34m\u001b[0m\u001b[0m\n",
      "\u001b[0;31mValueError\u001b[0m: I/O operation on closed file."
     ]
    }
   ],
   "source": [
    "file.write('1980s')\n",
    "file.seek(0)\n",
    "new_text = file.read()\n",
    "print('\\nString:', new_text)"
   ]
  },
  {
   "cell_type": "code",
   "execution_count": null,
   "id": "141bc232-8cf6-4098-b627-7b1737f06472",
   "metadata": {},
   "outputs": [],
   "source": []
  }
 ],
 "metadata": {
  "kernelspec": {
   "display_name": "Python 3 (ipykernel)",
   "language": "python",
   "name": "python3"
  },
  "language_info": {
   "codemirror_mode": {
    "name": "ipython",
    "version": 3
   },
   "file_extension": ".py",
   "mimetype": "text/x-python",
   "name": "python",
   "nbconvert_exporter": "python",
   "pygments_lexer": "ipython3",
   "version": "3.9.13"
  }
 },
 "nbformat": 4,
 "nbformat_minor": 5
}
