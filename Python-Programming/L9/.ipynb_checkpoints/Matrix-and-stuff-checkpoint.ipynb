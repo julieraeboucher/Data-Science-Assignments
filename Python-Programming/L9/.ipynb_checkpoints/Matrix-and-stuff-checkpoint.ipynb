{
 "cells": [
  {
   "cell_type": "markdown",
   "id": "8ac72efb-f1ff-4a6c-8a7f-1c1adeafbfa4",
   "metadata": {},
   "source": [
    "# DS109 Python : Lesson Nine Matrix Operations"
   ]
  },
  {
   "cell_type": "code",
   "execution_count": 2,
   "id": "6472f3d9-1456-4c80-9eaf-eaa2472983ae",
   "metadata": {},
   "outputs": [],
   "source": [
    "import numpy as np"
   ]
  },
  {
   "cell_type": "markdown",
   "id": "ce4fe4fd-8d9a-4e72-903c-4bc995a8b764",
   "metadata": {},
   "source": [
    "### Create a five element array using your favorite numbers named `myFavorites`."
   ]
  },
  {
   "cell_type": "code",
   "execution_count": 3,
   "id": "a7bcbbd9-62fa-4941-98d2-daa513023db6",
   "metadata": {},
   "outputs": [],
   "source": [
    "myFavorites = np.array([1,2,3,4,5])"
   ]
  },
  {
   "cell_type": "code",
   "execution_count": 4,
   "id": "1dec60bc-fa78-4fab-89fa-1f9d935fda25",
   "metadata": {},
   "outputs": [
    {
     "data": {
      "text/plain": [
       "array([1, 2, 3, 4, 5])"
      ]
     },
     "execution_count": 4,
     "metadata": {},
     "output_type": "execute_result"
    }
   ],
   "source": [
    "myFavorites"
   ]
  },
  {
   "cell_type": "markdown",
   "id": "43151c5a-e93a-4fff-84b9-4f7ad3e3cfb7",
   "metadata": {},
   "source": [
    "### Perform each of the five aggregate functions on your array."
   ]
  },
  {
   "cell_type": "code",
   "execution_count": 5,
   "id": "e62d3fb0-ee9d-43af-98e2-97b7ecaf4148",
   "metadata": {},
   "outputs": [
    {
     "data": {
      "text/plain": [
       "5"
      ]
     },
     "execution_count": 5,
     "metadata": {},
     "output_type": "execute_result"
    }
   ],
   "source": [
    "myFavorites.max()"
   ]
  },
  {
   "cell_type": "code",
   "execution_count": 6,
   "id": "7d2b866b-2c46-4532-8403-e3b8e7e6dd90",
   "metadata": {},
   "outputs": [
    {
     "data": {
      "text/plain": [
       "1"
      ]
     },
     "execution_count": 6,
     "metadata": {},
     "output_type": "execute_result"
    }
   ],
   "source": [
    "myFavorites.min()"
   ]
  },
  {
   "cell_type": "code",
   "execution_count": 7,
   "id": "4f6c0130-6fa3-4c42-b2da-5a29e4e3994f",
   "metadata": {},
   "outputs": [
    {
     "data": {
      "text/plain": [
       "3.0"
      ]
     },
     "execution_count": 7,
     "metadata": {},
     "output_type": "execute_result"
    }
   ],
   "source": [
    "myFavorites.mean()"
   ]
  },
  {
   "cell_type": "code",
   "execution_count": 8,
   "id": "a29650b5-14dc-4cd9-905a-eed24d8d53b2",
   "metadata": {},
   "outputs": [
    {
     "data": {
      "text/plain": [
       "1.4142135623730951"
      ]
     },
     "execution_count": 8,
     "metadata": {},
     "output_type": "execute_result"
    }
   ],
   "source": [
    "myFavorites.std()"
   ]
  },
  {
   "cell_type": "code",
   "execution_count": 9,
   "id": "54c54a64-cac0-431e-a752-f8c363d9eade",
   "metadata": {},
   "outputs": [
    {
     "data": {
      "text/plain": [
       "15"
      ]
     },
     "execution_count": 9,
     "metadata": {},
     "output_type": "execute_result"
    }
   ],
   "source": [
    "myFavorites.sum()"
   ]
  },
  {
   "cell_type": "markdown",
   "id": "5a2894f3-e7ab-48ac-8daf-69e36b791448",
   "metadata": {},
   "source": [
    "### Create a five element array containing only ones named `OneArrayToRuleThemAll`."
   ]
  },
  {
   "cell_type": "code",
   "execution_count": 10,
   "id": "b1418e3f-60e8-41b0-8a0c-e09f18f1d753",
   "metadata": {},
   "outputs": [],
   "source": [
    "OneArrayToRuleThemAll = np.ones(5)"
   ]
  },
  {
   "cell_type": "code",
   "execution_count": 11,
   "id": "efbd09e4-4402-4cd9-8d17-ee5a11f0bcf3",
   "metadata": {},
   "outputs": [
    {
     "data": {
      "text/plain": [
       "array([1., 1., 1., 1., 1.])"
      ]
     },
     "execution_count": 11,
     "metadata": {},
     "output_type": "execute_result"
    }
   ],
   "source": [
    "OneArrayToRuleThemAll"
   ]
  },
  {
   "cell_type": "markdown",
   "id": "9bc02283-4d91-4810-ac4a-880ee93fba84",
   "metadata": {},
   "source": [
    "### Add `myFavorites` and `OneArrayToRuleThemAll`."
   ]
  },
  {
   "cell_type": "code",
   "execution_count": 12,
   "id": "a753abbb-e4bf-4aa1-a1e4-beae9244aacb",
   "metadata": {},
   "outputs": [
    {
     "data": {
      "text/plain": [
       "array([2., 3., 4., 5., 6.])"
      ]
     },
     "execution_count": 12,
     "metadata": {},
     "output_type": "execute_result"
    }
   ],
   "source": [
    "array = myFavorites + OneArrayToRuleThemAll\n",
    "array"
   ]
  },
  {
   "cell_type": "markdown",
   "id": "73bcb3e6-3410-4ba6-8ad6-188c90e5c74e",
   "metadata": {},
   "source": [
    "### Multiply every element in `myFavorites` by two."
   ]
  },
  {
   "cell_type": "code",
   "execution_count": 13,
   "id": "78596e9e-daaf-44a6-b1dc-b0b77a4a3559",
   "metadata": {},
   "outputs": [
    {
     "data": {
      "text/plain": [
       "array([ 2,  4,  6,  8, 10])"
      ]
     },
     "execution_count": 13,
     "metadata": {},
     "output_type": "execute_result"
    }
   ],
   "source": [
    "array2 = myFavorites * 2\n",
    "array2"
   ]
  },
  {
   "cell_type": "markdown",
   "id": "05da9972-d431-43c0-b48d-2148ec030afa",
   "metadata": {},
   "source": [
    "### Call the third element in `myFavorites` using indexing."
   ]
  },
  {
   "cell_type": "code",
   "execution_count": 14,
   "id": "443bc8ac-04e2-4429-a27e-73d54eeeec49",
   "metadata": {},
   "outputs": [
    {
     "data": {
      "text/plain": [
       "3"
      ]
     },
     "execution_count": 14,
     "metadata": {},
     "output_type": "execute_result"
    }
   ],
   "source": [
    "myFavorites[2]"
   ]
  },
  {
   "cell_type": "markdown",
   "id": "a64a8cc3-6eb1-439f-a825-c922d683c46f",
   "metadata": {},
   "source": [
    "### Create a four element, two-by-two matrix of numbers named `TheMatrixHasYou`."
   ]
  },
  {
   "cell_type": "code",
   "execution_count": 18,
   "id": "f935a790-a336-4ac1-8576-9f94e824c5c9",
   "metadata": {},
   "outputs": [
    {
     "data": {
      "text/plain": [
       "array([[6, 7],\n",
       "       [8, 9]])"
      ]
     },
     "execution_count": 18,
     "metadata": {},
     "output_type": "execute_result"
    }
   ],
   "source": [
    "TheMatrixHasYou = np.array([[6, 7],[8, 9]])\n",
    "TheMatrixHasYou"
   ]
  },
  {
   "cell_type": "markdown",
   "id": "5fa5dadd-2b50-40da-a9d8-67c62be61bfe",
   "metadata": {},
   "source": [
    "### Access the upper left element in `TheMatrixHasYou` using indexing."
   ]
  },
  {
   "cell_type": "code",
   "execution_count": 21,
   "id": "fe6fe963-eb98-4a71-b5a7-47935ad23f27",
   "metadata": {},
   "outputs": [
    {
     "data": {
      "text/plain": [
       "array([6])"
      ]
     },
     "execution_count": 21,
     "metadata": {},
     "output_type": "execute_result"
    }
   ],
   "source": [
    "TheMatrixHasYou[0:1,0]"
   ]
  },
  {
   "cell_type": "markdown",
   "id": "e741670a-90aa-49c9-90a2-65f2ded1241d",
   "metadata": {},
   "source": [
    "### Find the largest number in each row for `TheMatrixHasYou`."
   ]
  },
  {
   "cell_type": "code",
   "execution_count": null,
   "id": "03af8a33-58fa-419f-ab1b-ee86e082d5cc",
   "metadata": {},
   "outputs": [],
   "source": [
    "TheMatrixHasYou.max(axis=1)"
   ]
  },
  {
   "cell_type": "markdown",
   "id": "22844134-a128-4d31-afbb-9e4dcb67f985",
   "metadata": {},
   "source": [
    "### Reshape `TheMatrixHasYou` into a matrix with one row and four columns."
   ]
  },
  {
   "cell_type": "code",
   "execution_count": 22,
   "id": "fdc52925-17ca-4058-aed9-469342d70950",
   "metadata": {},
   "outputs": [
    {
     "data": {
      "text/plain": [
       "array([[6, 7, 8, 9]])"
      ]
     },
     "execution_count": 22,
     "metadata": {},
     "output_type": "execute_result"
    }
   ],
   "source": [
    "TheMatrixHasYou.reshape(1,4)"
   ]
  }
 ],
 "metadata": {
  "kernelspec": {
   "display_name": "Python 3 (ipykernel)",
   "language": "python",
   "name": "python3"
  },
  "language_info": {
   "codemirror_mode": {
    "name": "ipython",
    "version": 3
   },
   "file_extension": ".py",
   "mimetype": "text/x-python",
   "name": "python",
   "nbconvert_exporter": "python",
   "pygments_lexer": "ipython3",
   "version": "3.9.10"
  }
 },
 "nbformat": 4,
 "nbformat_minor": 5
}
