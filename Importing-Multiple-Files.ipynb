{
 "cells": [
  {
   "cell_type": "markdown",
   "id": "1b2e808f-37db-45e4-ae05-ed0bced275c6",
   "metadata": {},
   "source": [
    "# Importing Multiple Files"
   ]
  },
  {
   "cell_type": "code",
   "execution_count": null,
   "id": "5d791c9b-c119-4693-ae0a-3399942362ea",
   "metadata": {},
   "outputs": [],
   "source": [
    "import pandas as pd"
   ]
  },
  {
   "cell_type": "code",
   "execution_count": null,
   "id": "929d3146-5929-4095-8be2-71986dfd797c",
   "metadata": {},
   "outputs": [],
   "source": [
    "# create a list of file names to combine\n",
    "\n",
    "file_list = ['file1.xlsx', 'file2.xlsx', 'file3.xlsx']"
   ]
  },
  {
   "cell_type": "code",
   "execution_count": null,
   "id": "afc4a381-cba1-47fa-81ef-d0c0a356f666",
   "metadata": {},
   "outputs": [],
   "source": [
    "# specify the specific columns to extract and combine\n",
    "\n",
    "cols_to_use = ['Column1', 'Column2', 'Column3']"
   ]
  },
  {
   "cell_type": "code",
   "execution_count": null,
   "id": "f0d6867f-36cf-446f-8a53-16c298efc1d2",
   "metadata": {},
   "outputs": [],
   "source": [
    "# create an empty DataFrame to store the combined data\n",
    "\n",
    "combined_df = pd.DataFrame()"
   ]
  },
  {
   "cell_type": "code",
   "execution_count": null,
   "id": "b7c09830-537d-4217-8f17-01f8c4ee4cdf",
   "metadata": {},
   "outputs": [],
   "source": [
    "# loop through each file and extract the specific columns\n",
    "\n",
    "for file_name in file_list:\n",
    "    df = pd.read_excel(file_name)  # read in the Excel file\n",
    "    df_subset = df[cols_to_use] # extract the specific columns\n",
    "    combined_df = combined_df.append(df_subset) # append the subset to the combined DataFrame"
   ]
  },
  {
   "cell_type": "code",
   "execution_count": null,
   "id": "6db49e30-0d89-4933-878f-07e5dc53629b",
   "metadata": {},
   "outputs": [],
   "source": [
    "# output the combined data to a new Excel file\n",
    "\n",
    "output_file = 'combined_data.xlsx'\n",
    "combined_df.to_excel(output_file, index=False)"
   ]
  },
  {
   "cell_type": "code",
   "execution_count": null,
   "id": "f6c19f2a-4020-450a-a1e2-bc18468bc66b",
   "metadata": {},
   "outputs": [],
   "source": []
  },
  {
   "cell_type": "code",
   "execution_count": null,
   "id": "6fb3cc4b-64bf-49a6-9cd4-74c96c58dba4",
   "metadata": {},
   "outputs": [],
   "source": []
  }
 ],
 "metadata": {
  "kernelspec": {
   "display_name": "Python 3 (ipykernel)",
   "language": "python",
   "name": "python3"
  },
  "language_info": {
   "codemirror_mode": {
    "name": "ipython",
    "version": 3
   },
   "file_extension": ".py",
   "mimetype": "text/x-python",
   "name": "python",
   "nbconvert_exporter": "python",
   "pygments_lexer": "ipython3",
   "version": "3.9.13"
  }
 },
 "nbformat": 4,
 "nbformat_minor": 5
}
