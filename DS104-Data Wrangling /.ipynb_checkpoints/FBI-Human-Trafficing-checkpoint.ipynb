{
 "cells": [
  {
   "cell_type": "markdown",
   "id": "8a21a10a-f484-4dcf-bfa4-989f2f1e716b",
   "metadata": {},
   "source": [
    "<hr style=\"height:10px;border-width:0;color:midnightblue;background-color:midnightblue\">\n",
    "\n",
    "# Federal Bureau of Investigation Human Trafficking Reports<a class=\"anchor\" id=\"FBI_crime_page_1\"></a>\n",
    "\n",
    "\n",
    "<hr style=\"height:10px;border-width:0;color:midnightblue;background-color:midnightblue\">"
   ]
  },
  {
   "cell_type": "markdown",
   "id": "5f627723-f8e1-48fa-b034-c87ea6440af9",
   "metadata": {},
   "source": [
    "<p style=\"text-align: center \">\n",
    "  <img  src=\"https://crime-data-explorer.fr.cloud.gov/assets/images/fbi-logo.png\" width=\"200\" height = \"100\" alt=\"FBI Logo\">\n",
    "</p>\n"
   ]
  },
  {
   "cell_type": "markdown",
   "id": "98a07187-ef22-4e1d-a651-3e6570258128",
   "metadata": {},
   "source": [
    "<hr style=\"height:10px;border-width:0;color:midnightblue;background-color:midnightblue\">"
   ]
  },
  {
   "cell_type": "markdown",
   "id": "ee26ccf2-0074-4d25-953b-9ffba87e3718",
   "metadata": {},
   "source": [
    "### Table of Contents <a class=\"anchor\" id=\"FBI_crime_toc\"></a>\n",
    "\n",
    "* [Table of Contents](#FBI_crime_toc)\n",
    "    * [Page 1 - Introduction](#FBI_crime_page_1)\n",
    "    * [Page 2 - Explanation of Data](#FBI_crime_page_2)\n",
    "    * [Page 3 - Importing Libraries and Reading in the Data](#FBI_crime_page_3)\n",
    "    * [Page 4 - A Preliminary Look at Data Types](#FBI_crime_page_4)\n",
    "    * [Page 5 - Exploratory Data Analysis](#FBI_crime_page_5)\n",
    "    * [Page 6 - Graphing Relationships](#FBI_crime_page_6)\n",
    "    * [Page 7 - Rankings with the Highest Occurrences of Human Trafficking](#FBI_crime_page_7)\n",
    "    * [Page 8 - Nevada Highlighted ](#FBI_crime_page_8)\n",
    "    * [Page 9 - Conclusions and Findings](#FBI_crime_page_9)"
   ]
  },
  {
   "cell_type": "markdown",
   "id": "43d071db-ca3c-4c8b-8691-6f2dea2793ee",
   "metadata": {},
   "source": [
    "<hr style=\"height:10px;border-width:0;color:midnightblue;background-color:midnightblue\">\n",
    "\n",
    "# Page 1 - Introduction<a class=\"anchor\" id=\"FBI_crime_page_1\"></a>\n",
    "\n",
    "[Back to Top](#FBI_crime_toc)\n",
    "\n",
    "<hr style=\"height:10px;border-width:0;color:midnightblue;background-color:midnightblue\">"
   ]
  },
  {
   "cell_type": "code",
   "execution_count": null,
   "id": "b8b31e3b-79fb-4a12-a6f1-e910e7d92e32",
   "metadata": {},
   "outputs": [],
   "source": []
  },
  {
   "cell_type": "markdown",
   "id": "dd903c21-82a9-49e4-b042-a6d2afa18f47",
   "metadata": {},
   "source": [
    "<hr style=\"height:10px;border-width:0;color:midnightblue;background-color:midnightblue\">\n",
    "\n",
    "# Page 2 - Data Dictionary<a class=\"anchor\" id=\"FBI_crime_page_1\"></a>\n",
    "\n",
    "[Back to Top](#FBI_crime_toc)\n",
    "\n",
    "<hr style=\"height:10px;border-width:0;color:midnightblue;background-color:midnightblue\">"
   ]
  },
  {
   "cell_type": "markdown",
   "id": "778f89d9-36be-45e6-b0c7-d95736dc394a",
   "metadata": {},
   "source": [
    "The below are explanations of what is found in each column of the HT Download on CDE. \n",
    "\n",
    "- DATA_YEAR: The year in which the incident occurred.\n",
    "\n",
    "- ORI: ORIGINATING AGENCY IDENTIFIER (ORI) - This identifies the agency in which the offense occurred.\n",
    "\n",
    "- PUB_AGENCY_NAME: Agency name as it appears in FBI UCR Publications.\n",
    "\n",
    "- PUB_AGENCY_UNIT:  The specific unit name for which a Publication Agency report UCR data as.\n",
    "\n",
    "- AGENCY_TYPE_NAME: Type of agency that reports UCR data (city/county/federal agency, etc).\n",
    "\n",
    "- STATE_ABBR: This is the state abbreviation.\n",
    "\n",
    "- STATE_NAME: Full name of the state.\n",
    "\n",
    "- DIVISION_NAME: The geographic division in which the agency is located.\n",
    "\n",
    "- COUNTY_NAME: The name of the county within the state.\n",
    "\n",
    "- REGION_NAME: Geographic region in which the agency is located.\n",
    "\n",
    "- POPULATION_GROUP_CODE: Group 0 is possessions; 1-7 are cities; 8-9 are counties.\n",
    "\n",
    "- POPULATION_GROUP_DESC: The name of the population groups. \n",
    "\n",
    "- OFFENSE_SUBCAT_ID: A numeric code assigned to the Offense_Subcat_Name.\n",
    "\n",
    "- ACTUAL_COUNT: Total number of Human Trafficking offenses reported to the UCR Program.\n",
    "\n",
    "- UNFOUNDED_COUNT: Total number of false or baseless complaints reported to the UCR Program from law enforcement agencies.\n",
    "\n",
    "- CLEARED_COUNT: Total number of Human Trafficking offenses that were cleared or closed.\n",
    "\n",
    "- JUVENILE_CLEARED_COUNT: Total number of Human Trafficking offenses that involved a juvenile offender that were cleared or closed.\n",
    "\n",
    "- OFFENSE_SUBCAT_NAME: \n",
    "    - Commercial Sex Acts – Human trafficking commercial sex acts is defined as inducing a person by force, fraud, or coercion to participate in commercial sex acts, or in which the person induced to perform such act(s) has not attained 18 years of age.  <br>\n",
    "    - Involuntary Servitude –Human trafficking involuntary servitude is defined as the obtaining of a person(s) through recruitment, harboring, transportation, or provision, and subjecting such persons by force, fraud, or coercion into involuntary servitude, peonage, debt bondage, or slavery __(not to include commercial sex acts)__.  <br>\n",
    "\n"
   ]
  },
  {
   "cell_type": "markdown",
   "id": "46b141e9-6ff1-40bb-890b-03ceb29f0ae9",
   "metadata": {},
   "source": [
    "<hr style=\"height:10px;border-width:0;color:midnightblue;background-color:midnightblue\">\n",
    "\n",
    "# Page 3 - Loading in Data from URL<a class=\"anchor\" id=\"FBI_crime_page_1\"></a>\n",
    "\n",
    "[Back to Top](#FBI_crime_toc)\n",
    "\n",
    "<hr style=\"height:10px;border-width:0;color:midnightblue;background-color:midnightblue\">"
   ]
  },
  {
   "cell_type": "code",
   "execution_count": 1,
   "id": "c1451842-86fa-4b14-a7f7-18d6e641df79",
   "metadata": {},
   "outputs": [],
   "source": [
    "import pandas as pd\n",
    "import seaborn as sns\n",
    "from datetime import datetime\n",
    "import numpy as np\n",
    "import matplotlib.pyplot as plt\n",
    "from IPython.display import display, HTML\n",
    "import requests, io\n",
    "from zipfile import ZipFile"
   ]
  },
  {
   "cell_type": "code",
   "execution_count": 2,
   "id": "80f88b22-bfc3-4366-b7dd-2f6075b5500f",
   "metadata": {},
   "outputs": [],
   "source": [
    "url = 'https://s3-us-gov-west-1.amazonaws.com/cg-d4b776d0-d898-4153-90c8-8336f86bdfec/HT_2013-2021.zip'\n",
    "filename = 'HT_2013-2021.csv'\n",
    "r = requests.get(url)\n",
    "z = ZipFile(io.BytesIO(r.content))\n",
    "z.extractall()"
   ]
  },
  {
   "cell_type": "code",
   "execution_count": 3,
   "id": "41368313-7572-4cc4-b630-bb2e1fb7d9d3",
   "metadata": {},
   "outputs": [],
   "source": [
    "ht = pd.read_csv(filename, sep=',')"
   ]
  },
  {
   "cell_type": "code",
   "execution_count": 4,
   "id": "4be6d91a-c375-4352-8ece-c1b859474ee4",
   "metadata": {},
   "outputs": [
    {
     "data": {
      "text/html": [
       "<div><div id=01d56950-1b28-4aac-99cc-ca53d961b8bd style=\"display:none; background-color:#9D6CFF; color:white; width:200px; height:30px; padding-left:5px; border-radius:4px; flex-direction:row; justify-content:space-around; align-items:center;\" onmouseover=\"this.style.backgroundColor='#BA9BF8'\" onmouseout=\"this.style.backgroundColor='#9D6CFF'\" onclick=\"window.commands?.execute('create-mitosheet-from-dataframe-output');\">See Full Dataframe in Mito</div> <script> if (window.commands?.hasCommand('create-mitosheet-from-dataframe-output')) document.getElementById('01d56950-1b28-4aac-99cc-ca53d961b8bd').style.display = 'flex' </script> <table border=\"1\" class=\"dataframe\">\n",
       "  <thead>\n",
       "    <tr style=\"text-align: right;\">\n",
       "      <th></th>\n",
       "      <th>DATA_YEAR</th>\n",
       "      <th>ORI</th>\n",
       "      <th>PUB_AGENCY_NAME</th>\n",
       "      <th>PUB_AGENCY_UNIT</th>\n",
       "      <th>AGENCY_TYPE_NAME</th>\n",
       "      <th>STATE_ABBR</th>\n",
       "      <th>STATE_NAME</th>\n",
       "      <th>DIVISION_NAME</th>\n",
       "      <th>COUNTY_NAME</th>\n",
       "      <th>REGION_NAME</th>\n",
       "      <th>POPULATION_GROUP_CODE</th>\n",
       "      <th>POPULATION_GROUP_DESC</th>\n",
       "      <th>OFFENSE_SUBCAT_ID</th>\n",
       "      <th>OFFENSE_NAME</th>\n",
       "      <th>OFFENSE_SUBCAT_NAME</th>\n",
       "      <th>ACTUAL_COUNT</th>\n",
       "      <th>UNFOUNDED_COUNT</th>\n",
       "      <th>CLEARED_COUNT</th>\n",
       "      <th>JUVENILE_CLEARED_COUNT</th>\n",
       "    </tr>\n",
       "  </thead>\n",
       "  <tbody>\n",
       "    <tr>\n",
       "      <th>0</th>\n",
       "      <td>2013</td>\n",
       "      <td>MO0950000</td>\n",
       "      <td>St. Louis County Police Department</td>\n",
       "      <td>NaN</td>\n",
       "      <td>County</td>\n",
       "      <td>MO</td>\n",
       "      <td>Missouri</td>\n",
       "      <td>West North Central</td>\n",
       "      <td>ST LOUIS</td>\n",
       "      <td>Midwest</td>\n",
       "      <td>9A</td>\n",
       "      <td>MSA counties 100,000 or over</td>\n",
       "      <td>HTCSA</td>\n",
       "      <td>Human Trafficking</td>\n",
       "      <td>Commercial Sex Acts</td>\n",
       "      <td>384</td>\n",
       "      <td>0.0</td>\n",
       "      <td>384</td>\n",
       "      <td>0</td>\n",
       "    </tr>\n",
       "    <tr>\n",
       "      <th>1</th>\n",
       "      <td>2013</td>\n",
       "      <td>OH0020000</td>\n",
       "      <td>Allen</td>\n",
       "      <td>NaN</td>\n",
       "      <td>County</td>\n",
       "      <td>OH</td>\n",
       "      <td>Ohio</td>\n",
       "      <td>East North Central</td>\n",
       "      <td>ALLEN</td>\n",
       "      <td>Midwest</td>\n",
       "      <td>9C</td>\n",
       "      <td>MSA counties from 10,000 thru 24,999</td>\n",
       "      <td>HTCSA</td>\n",
       "      <td>Human Trafficking</td>\n",
       "      <td>Commercial Sex Acts</td>\n",
       "      <td>64</td>\n",
       "      <td>0.0</td>\n",
       "      <td>64</td>\n",
       "      <td>0</td>\n",
       "    </tr>\n",
       "    <tr>\n",
       "      <th>2</th>\n",
       "      <td>2013</td>\n",
       "      <td>OH0020000</td>\n",
       "      <td>Allen</td>\n",
       "      <td>NaN</td>\n",
       "      <td>County</td>\n",
       "      <td>OH</td>\n",
       "      <td>Ohio</td>\n",
       "      <td>East North Central</td>\n",
       "      <td>ALLEN</td>\n",
       "      <td>Midwest</td>\n",
       "      <td>9C</td>\n",
       "      <td>MSA counties from 10,000 thru 24,999</td>\n",
       "      <td>HTIS</td>\n",
       "      <td>Human Trafficking</td>\n",
       "      <td>Involuntary Servitude</td>\n",
       "      <td>64</td>\n",
       "      <td>0.0</td>\n",
       "      <td>0</td>\n",
       "      <td>0</td>\n",
       "    </tr>\n",
       "    <tr>\n",
       "      <th>3</th>\n",
       "      <td>2013</td>\n",
       "      <td>TN0320100</td>\n",
       "      <td>Morristown</td>\n",
       "      <td>NaN</td>\n",
       "      <td>City</td>\n",
       "      <td>TN</td>\n",
       "      <td>Tennessee</td>\n",
       "      <td>East South Central</td>\n",
       "      <td>HAMBLEN, JEFFERSON</td>\n",
       "      <td>South</td>\n",
       "      <td>4</td>\n",
       "      <td>Cities from 25,000 thru 49,999</td>\n",
       "      <td>HTCSA</td>\n",
       "      <td>Human Trafficking</td>\n",
       "      <td>Commercial Sex Acts</td>\n",
       "      <td>64</td>\n",
       "      <td>0.0</td>\n",
       "      <td>64</td>\n",
       "      <td>0</td>\n",
       "    </tr>\n",
       "    <tr>\n",
       "      <th>4</th>\n",
       "      <td>2013</td>\n",
       "      <td>TNMPD0000</td>\n",
       "      <td>Memphis</td>\n",
       "      <td>NaN</td>\n",
       "      <td>City</td>\n",
       "      <td>TN</td>\n",
       "      <td>Tennessee</td>\n",
       "      <td>East South Central</td>\n",
       "      <td>SHELBY</td>\n",
       "      <td>South</td>\n",
       "      <td>1B</td>\n",
       "      <td>Cities from 500,000 thru 999,999</td>\n",
       "      <td>HTCSA</td>\n",
       "      <td>Human Trafficking</td>\n",
       "      <td>Commercial Sex Acts</td>\n",
       "      <td>192</td>\n",
       "      <td>0.0</td>\n",
       "      <td>128</td>\n",
       "      <td>0</td>\n",
       "    </tr>\n",
       "    <tr>\n",
       "      <th>...</th>\n",
       "      <td>...</td>\n",
       "      <td>...</td>\n",
       "      <td>...</td>\n",
       "      <td>...</td>\n",
       "      <td>...</td>\n",
       "      <td>...</td>\n",
       "      <td>...</td>\n",
       "      <td>...</td>\n",
       "      <td>...</td>\n",
       "      <td>...</td>\n",
       "      <td>...</td>\n",
       "      <td>...</td>\n",
       "      <td>...</td>\n",
       "      <td>...</td>\n",
       "      <td>...</td>\n",
       "      <td>...</td>\n",
       "      <td>...</td>\n",
       "      <td>...</td>\n",
       "      <td>...</td>\n",
       "    </tr>\n",
       "    <tr>\n",
       "      <th>3093</th>\n",
       "      <td>2021</td>\n",
       "      <td>WY0010100</td>\n",
       "      <td>Laramie</td>\n",
       "      <td>NaN</td>\n",
       "      <td>City</td>\n",
       "      <td>WY</td>\n",
       "      <td>Wyoming</td>\n",
       "      <td>Mountain</td>\n",
       "      <td>ALBANY</td>\n",
       "      <td>West</td>\n",
       "      <td>4</td>\n",
       "      <td>Cities from 25,000 thru 49,999</td>\n",
       "      <td>HTCSA</td>\n",
       "      <td>Human Trafficking</td>\n",
       "      <td>Commercial Sex Acts</td>\n",
       "      <td>128</td>\n",
       "      <td>NaN</td>\n",
       "      <td>0</td>\n",
       "      <td>0</td>\n",
       "    </tr>\n",
       "    <tr>\n",
       "      <th>3094</th>\n",
       "      <td>2021</td>\n",
       "      <td>WY0010100</td>\n",
       "      <td>Laramie</td>\n",
       "      <td>NaN</td>\n",
       "      <td>City</td>\n",
       "      <td>WY</td>\n",
       "      <td>Wyoming</td>\n",
       "      <td>Mountain</td>\n",
       "      <td>ALBANY</td>\n",
       "      <td>West</td>\n",
       "      <td>4</td>\n",
       "      <td>Cities from 25,000 thru 49,999</td>\n",
       "      <td>HTIS</td>\n",
       "      <td>Human Trafficking</td>\n",
       "      <td>Involuntary Servitude</td>\n",
       "      <td>64</td>\n",
       "      <td>NaN</td>\n",
       "      <td>0</td>\n",
       "      <td>0</td>\n",
       "    </tr>\n",
       "    <tr>\n",
       "      <th>3095</th>\n",
       "      <td>2021</td>\n",
       "      <td>WY0050000</td>\n",
       "      <td>Converse</td>\n",
       "      <td>NaN</td>\n",
       "      <td>County</td>\n",
       "      <td>WY</td>\n",
       "      <td>Wyoming</td>\n",
       "      <td>Mountain</td>\n",
       "      <td>CONVERSE</td>\n",
       "      <td>West</td>\n",
       "      <td>8D</td>\n",
       "      <td>Non-MSA counties under 10,000</td>\n",
       "      <td>HTCSA</td>\n",
       "      <td>Human Trafficking</td>\n",
       "      <td>Commercial Sex Acts</td>\n",
       "      <td>128</td>\n",
       "      <td>NaN</td>\n",
       "      <td>128</td>\n",
       "      <td>0</td>\n",
       "    </tr>\n",
       "    <tr>\n",
       "      <th>3096</th>\n",
       "      <td>2021</td>\n",
       "      <td>WY0080100</td>\n",
       "      <td>Torrington</td>\n",
       "      <td>NaN</td>\n",
       "      <td>City</td>\n",
       "      <td>WY</td>\n",
       "      <td>Wyoming</td>\n",
       "      <td>Mountain</td>\n",
       "      <td>GOSHEN</td>\n",
       "      <td>West</td>\n",
       "      <td>6</td>\n",
       "      <td>Cities from 2,500 thru 9,999</td>\n",
       "      <td>HTIS</td>\n",
       "      <td>Human Trafficking</td>\n",
       "      <td>Involuntary Servitude</td>\n",
       "      <td>128</td>\n",
       "      <td>NaN</td>\n",
       "      <td>64</td>\n",
       "      <td>0</td>\n",
       "    </tr>\n",
       "    <tr>\n",
       "      <th>3097</th>\n",
       "      <td>2021</td>\n",
       "      <td>WY0110400</td>\n",
       "      <td>Wyoming Division of Criminal Investigation</td>\n",
       "      <td>NaN</td>\n",
       "      <td>Other State Agency</td>\n",
       "      <td>WY</td>\n",
       "      <td>Wyoming</td>\n",
       "      <td>Mountain</td>\n",
       "      <td>LARAMIE</td>\n",
       "      <td>West</td>\n",
       "      <td>9D</td>\n",
       "      <td>MSA counties under 10,000</td>\n",
       "      <td>HTIS</td>\n",
       "      <td>Human Trafficking</td>\n",
       "      <td>Involuntary Servitude</td>\n",
       "      <td>20</td>\n",
       "      <td>NaN</td>\n",
       "      <td>8</td>\n",
       "      <td>0</td>\n",
       "    </tr>\n",
       "  </tbody>\n",
       "</table></div>"
      ],
      "text/plain": [
       "      DATA_YEAR        ORI                             PUB_AGENCY_NAME  \\\n",
       "0          2013  MO0950000          St. Louis County Police Department   \n",
       "1          2013  OH0020000                                       Allen   \n",
       "2          2013  OH0020000                                       Allen   \n",
       "3          2013  TN0320100                                  Morristown   \n",
       "4          2013  TNMPD0000                                     Memphis   \n",
       "...         ...        ...                                         ...   \n",
       "3093       2021  WY0010100                                     Laramie   \n",
       "3094       2021  WY0010100                                     Laramie   \n",
       "3095       2021  WY0050000                                    Converse   \n",
       "3096       2021  WY0080100                                  Torrington   \n",
       "3097       2021  WY0110400  Wyoming Division of Criminal Investigation   \n",
       "\n",
       "     PUB_AGENCY_UNIT    AGENCY_TYPE_NAME STATE_ABBR STATE_NAME  \\\n",
       "0                NaN              County         MO   Missouri   \n",
       "1                NaN              County         OH       Ohio   \n",
       "2                NaN              County         OH       Ohio   \n",
       "3                NaN                City         TN  Tennessee   \n",
       "4                NaN                City         TN  Tennessee   \n",
       "...              ...                 ...        ...        ...   \n",
       "3093             NaN                City         WY    Wyoming   \n",
       "3094             NaN                City         WY    Wyoming   \n",
       "3095             NaN              County         WY    Wyoming   \n",
       "3096             NaN                City         WY    Wyoming   \n",
       "3097             NaN  Other State Agency         WY    Wyoming   \n",
       "\n",
       "           DIVISION_NAME         COUNTY_NAME REGION_NAME  \\\n",
       "0     West North Central            ST LOUIS     Midwest   \n",
       "1     East North Central               ALLEN     Midwest   \n",
       "2     East North Central               ALLEN     Midwest   \n",
       "3     East South Central  HAMBLEN, JEFFERSON       South   \n",
       "4     East South Central              SHELBY       South   \n",
       "...                  ...                 ...         ...   \n",
       "3093            Mountain              ALBANY        West   \n",
       "3094            Mountain              ALBANY        West   \n",
       "3095            Mountain            CONVERSE        West   \n",
       "3096            Mountain              GOSHEN        West   \n",
       "3097            Mountain             LARAMIE        West   \n",
       "\n",
       "     POPULATION_GROUP_CODE                 POPULATION_GROUP_DESC  \\\n",
       "0                       9A          MSA counties 100,000 or over   \n",
       "1                       9C  MSA counties from 10,000 thru 24,999   \n",
       "2                       9C  MSA counties from 10,000 thru 24,999   \n",
       "3                        4        Cities from 25,000 thru 49,999   \n",
       "4                       1B      Cities from 500,000 thru 999,999   \n",
       "...                    ...                                   ...   \n",
       "3093                     4        Cities from 25,000 thru 49,999   \n",
       "3094                     4        Cities from 25,000 thru 49,999   \n",
       "3095                    8D         Non-MSA counties under 10,000   \n",
       "3096                     6          Cities from 2,500 thru 9,999   \n",
       "3097                    9D             MSA counties under 10,000   \n",
       "\n",
       "     OFFENSE_SUBCAT_ID       OFFENSE_NAME    OFFENSE_SUBCAT_NAME  \\\n",
       "0                HTCSA  Human Trafficking    Commercial Sex Acts   \n",
       "1                HTCSA  Human Trafficking    Commercial Sex Acts   \n",
       "2                 HTIS  Human Trafficking  Involuntary Servitude   \n",
       "3                HTCSA  Human Trafficking    Commercial Sex Acts   \n",
       "4                HTCSA  Human Trafficking    Commercial Sex Acts   \n",
       "...                ...                ...                    ...   \n",
       "3093             HTCSA  Human Trafficking    Commercial Sex Acts   \n",
       "3094              HTIS  Human Trafficking  Involuntary Servitude   \n",
       "3095             HTCSA  Human Trafficking    Commercial Sex Acts   \n",
       "3096              HTIS  Human Trafficking  Involuntary Servitude   \n",
       "3097              HTIS  Human Trafficking  Involuntary Servitude   \n",
       "\n",
       "      ACTUAL_COUNT  UNFOUNDED_COUNT  CLEARED_COUNT  JUVENILE_CLEARED_COUNT  \n",
       "0              384              0.0            384                       0  \n",
       "1               64              0.0             64                       0  \n",
       "2               64              0.0              0                       0  \n",
       "3               64              0.0             64                       0  \n",
       "4              192              0.0            128                       0  \n",
       "...            ...              ...            ...                     ...  \n",
       "3093           128              NaN              0                       0  \n",
       "3094            64              NaN              0                       0  \n",
       "3095           128              NaN            128                       0  \n",
       "3096           128              NaN             64                       0  \n",
       "3097            20              NaN              8                       0  \n",
       "\n",
       "[3098 rows x 19 columns]"
      ]
     },
     "execution_count": 4,
     "metadata": {},
     "output_type": "execute_result"
    }
   ],
   "source": [
    "ht"
   ]
  },
  {
   "cell_type": "code",
   "execution_count": 5,
   "id": "ab356a96-b65a-4a77-9467-5dcff4754124",
   "metadata": {},
   "outputs": [
    {
     "data": {
      "text/html": [
       "<div><div id=768aa684-629c-4379-85f6-cbdf9c1fc6c3 style=\"display:none; background-color:#9D6CFF; color:white; width:200px; height:30px; padding-left:5px; border-radius:4px; flex-direction:row; justify-content:space-around; align-items:center;\" onmouseover=\"this.style.backgroundColor='#BA9BF8'\" onmouseout=\"this.style.backgroundColor='#9D6CFF'\" onclick=\"window.commands?.execute('create-mitosheet-from-dataframe-output');\">See Full Dataframe in Mito</div> <script> if (window.commands?.hasCommand('create-mitosheet-from-dataframe-output')) document.getElementById('768aa684-629c-4379-85f6-cbdf9c1fc6c3').style.display = 'flex' </script> <table border=\"1\" class=\"dataframe\">\n",
       "  <thead>\n",
       "    <tr style=\"text-align: right;\">\n",
       "      <th></th>\n",
       "      <th>DATA_YEAR</th>\n",
       "      <th>ORI</th>\n",
       "      <th>PUB_AGENCY_NAME</th>\n",
       "      <th>PUB_AGENCY_UNIT</th>\n",
       "      <th>AGENCY_TYPE_NAME</th>\n",
       "      <th>STATE_ABBR</th>\n",
       "      <th>STATE_NAME</th>\n",
       "      <th>DIVISION_NAME</th>\n",
       "      <th>COUNTY_NAME</th>\n",
       "      <th>REGION_NAME</th>\n",
       "      <th>POPULATION_GROUP_CODE</th>\n",
       "      <th>POPULATION_GROUP_DESC</th>\n",
       "      <th>OFFENSE_SUBCAT_ID</th>\n",
       "      <th>OFFENSE_NAME</th>\n",
       "      <th>OFFENSE_SUBCAT_NAME</th>\n",
       "      <th>ACTUAL_COUNT</th>\n",
       "      <th>UNFOUNDED_COUNT</th>\n",
       "      <th>CLEARED_COUNT</th>\n",
       "      <th>JUVENILE_CLEARED_COUNT</th>\n",
       "    </tr>\n",
       "  </thead>\n",
       "  <tbody>\n",
       "    <tr>\n",
       "      <th>0</th>\n",
       "      <td>2013</td>\n",
       "      <td>MO0950000</td>\n",
       "      <td>St. Louis County Police Department</td>\n",
       "      <td>NaN</td>\n",
       "      <td>County</td>\n",
       "      <td>MO</td>\n",
       "      <td>Missouri</td>\n",
       "      <td>West North Central</td>\n",
       "      <td>ST LOUIS</td>\n",
       "      <td>Midwest</td>\n",
       "      <td>9A</td>\n",
       "      <td>MSA counties 100,000 or over</td>\n",
       "      <td>HTCSA</td>\n",
       "      <td>Human Trafficking</td>\n",
       "      <td>Commercial Sex Acts</td>\n",
       "      <td>384</td>\n",
       "      <td>0.0</td>\n",
       "      <td>384</td>\n",
       "      <td>0</td>\n",
       "    </tr>\n",
       "    <tr>\n",
       "      <th>1</th>\n",
       "      <td>2013</td>\n",
       "      <td>OH0020000</td>\n",
       "      <td>Allen</td>\n",
       "      <td>NaN</td>\n",
       "      <td>County</td>\n",
       "      <td>OH</td>\n",
       "      <td>Ohio</td>\n",
       "      <td>East North Central</td>\n",
       "      <td>ALLEN</td>\n",
       "      <td>Midwest</td>\n",
       "      <td>9C</td>\n",
       "      <td>MSA counties from 10,000 thru 24,999</td>\n",
       "      <td>HTCSA</td>\n",
       "      <td>Human Trafficking</td>\n",
       "      <td>Commercial Sex Acts</td>\n",
       "      <td>64</td>\n",
       "      <td>0.0</td>\n",
       "      <td>64</td>\n",
       "      <td>0</td>\n",
       "    </tr>\n",
       "    <tr>\n",
       "      <th>2</th>\n",
       "      <td>2013</td>\n",
       "      <td>OH0020000</td>\n",
       "      <td>Allen</td>\n",
       "      <td>NaN</td>\n",
       "      <td>County</td>\n",
       "      <td>OH</td>\n",
       "      <td>Ohio</td>\n",
       "      <td>East North Central</td>\n",
       "      <td>ALLEN</td>\n",
       "      <td>Midwest</td>\n",
       "      <td>9C</td>\n",
       "      <td>MSA counties from 10,000 thru 24,999</td>\n",
       "      <td>HTIS</td>\n",
       "      <td>Human Trafficking</td>\n",
       "      <td>Involuntary Servitude</td>\n",
       "      <td>64</td>\n",
       "      <td>0.0</td>\n",
       "      <td>0</td>\n",
       "      <td>0</td>\n",
       "    </tr>\n",
       "    <tr>\n",
       "      <th>3</th>\n",
       "      <td>2013</td>\n",
       "      <td>TN0320100</td>\n",
       "      <td>Morristown</td>\n",
       "      <td>NaN</td>\n",
       "      <td>City</td>\n",
       "      <td>TN</td>\n",
       "      <td>Tennessee</td>\n",
       "      <td>East South Central</td>\n",
       "      <td>HAMBLEN, JEFFERSON</td>\n",
       "      <td>South</td>\n",
       "      <td>4</td>\n",
       "      <td>Cities from 25,000 thru 49,999</td>\n",
       "      <td>HTCSA</td>\n",
       "      <td>Human Trafficking</td>\n",
       "      <td>Commercial Sex Acts</td>\n",
       "      <td>64</td>\n",
       "      <td>0.0</td>\n",
       "      <td>64</td>\n",
       "      <td>0</td>\n",
       "    </tr>\n",
       "    <tr>\n",
       "      <th>4</th>\n",
       "      <td>2013</td>\n",
       "      <td>TNMPD0000</td>\n",
       "      <td>Memphis</td>\n",
       "      <td>NaN</td>\n",
       "      <td>City</td>\n",
       "      <td>TN</td>\n",
       "      <td>Tennessee</td>\n",
       "      <td>East South Central</td>\n",
       "      <td>SHELBY</td>\n",
       "      <td>South</td>\n",
       "      <td>1B</td>\n",
       "      <td>Cities from 500,000 thru 999,999</td>\n",
       "      <td>HTCSA</td>\n",
       "      <td>Human Trafficking</td>\n",
       "      <td>Commercial Sex Acts</td>\n",
       "      <td>192</td>\n",
       "      <td>0.0</td>\n",
       "      <td>128</td>\n",
       "      <td>0</td>\n",
       "    </tr>\n",
       "  </tbody>\n",
       "</table></div>"
      ],
      "text/plain": [
       "   DATA_YEAR        ORI                     PUB_AGENCY_NAME PUB_AGENCY_UNIT  \\\n",
       "0       2013  MO0950000  St. Louis County Police Department             NaN   \n",
       "1       2013  OH0020000                               Allen             NaN   \n",
       "2       2013  OH0020000                               Allen             NaN   \n",
       "3       2013  TN0320100                          Morristown             NaN   \n",
       "4       2013  TNMPD0000                             Memphis             NaN   \n",
       "\n",
       "  AGENCY_TYPE_NAME STATE_ABBR STATE_NAME       DIVISION_NAME  \\\n",
       "0           County         MO   Missouri  West North Central   \n",
       "1           County         OH       Ohio  East North Central   \n",
       "2           County         OH       Ohio  East North Central   \n",
       "3             City         TN  Tennessee  East South Central   \n",
       "4             City         TN  Tennessee  East South Central   \n",
       "\n",
       "          COUNTY_NAME REGION_NAME POPULATION_GROUP_CODE  \\\n",
       "0            ST LOUIS     Midwest                    9A   \n",
       "1               ALLEN     Midwest                    9C   \n",
       "2               ALLEN     Midwest                    9C   \n",
       "3  HAMBLEN, JEFFERSON       South                     4   \n",
       "4              SHELBY       South                    1B   \n",
       "\n",
       "                  POPULATION_GROUP_DESC OFFENSE_SUBCAT_ID       OFFENSE_NAME  \\\n",
       "0          MSA counties 100,000 or over             HTCSA  Human Trafficking   \n",
       "1  MSA counties from 10,000 thru 24,999             HTCSA  Human Trafficking   \n",
       "2  MSA counties from 10,000 thru 24,999              HTIS  Human Trafficking   \n",
       "3        Cities from 25,000 thru 49,999             HTCSA  Human Trafficking   \n",
       "4      Cities from 500,000 thru 999,999             HTCSA  Human Trafficking   \n",
       "\n",
       "     OFFENSE_SUBCAT_NAME  ACTUAL_COUNT  UNFOUNDED_COUNT  CLEARED_COUNT  \\\n",
       "0    Commercial Sex Acts           384              0.0            384   \n",
       "1    Commercial Sex Acts            64              0.0             64   \n",
       "2  Involuntary Servitude            64              0.0              0   \n",
       "3    Commercial Sex Acts            64              0.0             64   \n",
       "4    Commercial Sex Acts           192              0.0            128   \n",
       "\n",
       "   JUVENILE_CLEARED_COUNT  \n",
       "0                       0  \n",
       "1                       0  \n",
       "2                       0  \n",
       "3                       0  \n",
       "4                       0  "
      ]
     },
     "execution_count": 5,
     "metadata": {},
     "output_type": "execute_result"
    }
   ],
   "source": [
    "ht.head()"
   ]
  },
  {
   "cell_type": "markdown",
   "id": "7fa84dd7-7d1a-4e9c-88a6-c6cf37d24fc8",
   "metadata": {},
   "source": [
    "<hr style=\"height:10px;border-width:0;color:midnightblue;background-color:midnightblue\">\n",
    "\n",
    "# Page 4 - Take a Look at the Dataset<a class=\"anchor\" id=\"FBI_crime_page_1\"></a>\n",
    "\n",
    "[Back to Top](#FBI_crime_toc)\n",
    "\n",
    "<hr style=\"height:10px;border-width:0;color:midnightblue;background-color:midnightblue\">"
   ]
  },
  {
   "cell_type": "markdown",
   "id": "a9670cc8-d315-4c56-ab73-a9a5f2786b94",
   "metadata": {},
   "source": [
    "### Columns"
   ]
  },
  {
   "cell_type": "code",
   "execution_count": 6,
   "id": "cdece3f3-94fa-4864-8a51-e65faa944977",
   "metadata": {},
   "outputs": [
    {
     "data": {
      "text/plain": [
       "Index(['DATA_YEAR', 'ORI', 'PUB_AGENCY_NAME', 'PUB_AGENCY_UNIT',\n",
       "       'AGENCY_TYPE_NAME', 'STATE_ABBR', 'STATE_NAME', 'DIVISION_NAME',\n",
       "       'COUNTY_NAME', 'REGION_NAME', 'POPULATION_GROUP_CODE',\n",
       "       'POPULATION_GROUP_DESC', 'OFFENSE_SUBCAT_ID', 'OFFENSE_NAME',\n",
       "       'OFFENSE_SUBCAT_NAME', 'ACTUAL_COUNT', 'UNFOUNDED_COUNT',\n",
       "       'CLEARED_COUNT', 'JUVENILE_CLEARED_COUNT'],\n",
       "      dtype='object')"
      ]
     },
     "execution_count": 6,
     "metadata": {},
     "output_type": "execute_result"
    }
   ],
   "source": [
    "ht.columns"
   ]
  },
  {
   "cell_type": "markdown",
   "id": "5f8af112-017b-4e10-87f4-aa683c3f33bf",
   "metadata": {},
   "source": [
    "### Data Structure and Types"
   ]
  },
  {
   "cell_type": "code",
   "execution_count": 7,
   "id": "5806fa12-292b-4cb6-ad5e-d74e9ce6fa2b",
   "metadata": {},
   "outputs": [
    {
     "name": "stdout",
     "output_type": "stream",
     "text": [
      "<class 'pandas.core.frame.DataFrame'>\n",
      "RangeIndex: 3098 entries, 0 to 3097\n",
      "Data columns (total 19 columns):\n",
      " #   Column                  Non-Null Count  Dtype  \n",
      "---  ------                  --------------  -----  \n",
      " 0   DATA_YEAR               3098 non-null   int64  \n",
      " 1   ORI                     3098 non-null   object \n",
      " 2   PUB_AGENCY_NAME         3098 non-null   object \n",
      " 3   PUB_AGENCY_UNIT         231 non-null    object \n",
      " 4   AGENCY_TYPE_NAME        3098 non-null   object \n",
      " 5   STATE_ABBR              3098 non-null   object \n",
      " 6   STATE_NAME              3098 non-null   object \n",
      " 7   DIVISION_NAME           3098 non-null   object \n",
      " 8   COUNTY_NAME             3098 non-null   object \n",
      " 9   REGION_NAME             3098 non-null   object \n",
      " 10  POPULATION_GROUP_CODE   3095 non-null   object \n",
      " 11  POPULATION_GROUP_DESC   3095 non-null   object \n",
      " 12  OFFENSE_SUBCAT_ID       3098 non-null   object \n",
      " 13  OFFENSE_NAME            3098 non-null   object \n",
      " 14  OFFENSE_SUBCAT_NAME     3098 non-null   object \n",
      " 15  ACTUAL_COUNT            3098 non-null   int64  \n",
      " 16  UNFOUNDED_COUNT         1129 non-null   float64\n",
      " 17  CLEARED_COUNT           3098 non-null   int64  \n",
      " 18  JUVENILE_CLEARED_COUNT  3098 non-null   int64  \n",
      "dtypes: float64(1), int64(4), object(14)\n",
      "memory usage: 460.0+ KB\n"
     ]
    }
   ],
   "source": [
    "ht.info()"
   ]
  },
  {
   "cell_type": "markdown",
   "id": "13cc85e6-135e-4659-b976-917c4dbc2cf4",
   "metadata": {},
   "source": [
    "---\n",
    "## Descriptive Statistics:"
   ]
  },
  {
   "cell_type": "markdown",
   "id": "9029c7ab-37bf-48e3-8501-e8b184a8fd18",
   "metadata": {},
   "source": [
    "### Numeric Data"
   ]
  },
  {
   "cell_type": "code",
   "execution_count": 8,
   "id": "34ec466b-1f64-445a-818f-cb3778fd42a7",
   "metadata": {},
   "outputs": [
    {
     "data": {
      "text/html": [
       "<div><div id=c62a497c-b9a5-4741-a6ed-2821151f898e style=\"display:none; background-color:#9D6CFF; color:white; width:200px; height:30px; padding-left:5px; border-radius:4px; flex-direction:row; justify-content:space-around; align-items:center;\" onmouseover=\"this.style.backgroundColor='#BA9BF8'\" onmouseout=\"this.style.backgroundColor='#9D6CFF'\" onclick=\"window.commands?.execute('create-mitosheet-from-dataframe-output');\">See Full Dataframe in Mito</div> <script> if (window.commands?.hasCommand('create-mitosheet-from-dataframe-output')) document.getElementById('c62a497c-b9a5-4741-a6ed-2821151f898e').style.display = 'flex' </script> <table border=\"1\" class=\"dataframe\">\n",
       "  <thead>\n",
       "    <tr style=\"text-align: right;\">\n",
       "      <th></th>\n",
       "      <th>DATA_YEAR</th>\n",
       "      <th>ACTUAL_COUNT</th>\n",
       "      <th>UNFOUNDED_COUNT</th>\n",
       "      <th>CLEARED_COUNT</th>\n",
       "      <th>JUVENILE_CLEARED_COUNT</th>\n",
       "    </tr>\n",
       "  </thead>\n",
       "  <tbody>\n",
       "    <tr>\n",
       "      <th>count</th>\n",
       "      <td>3098.0</td>\n",
       "      <td>3098.0</td>\n",
       "      <td>1129.0</td>\n",
       "      <td>3098.0</td>\n",
       "      <td>3098.0</td>\n",
       "    </tr>\n",
       "    <tr>\n",
       "      <th>mean</th>\n",
       "      <td>2018.6</td>\n",
       "      <td>233.1</td>\n",
       "      <td>33.5</td>\n",
       "      <td>99.8</td>\n",
       "      <td>5.6</td>\n",
       "    </tr>\n",
       "    <tr>\n",
       "      <th>std</th>\n",
       "      <td>2.0</td>\n",
       "      <td>696.1</td>\n",
       "      <td>162.3</td>\n",
       "      <td>341.1</td>\n",
       "      <td>62.4</td>\n",
       "    </tr>\n",
       "    <tr>\n",
       "      <th>min</th>\n",
       "      <td>2013.0</td>\n",
       "      <td>-64.0</td>\n",
       "      <td>0.0</td>\n",
       "      <td>0.0</td>\n",
       "      <td>0.0</td>\n",
       "    </tr>\n",
       "    <tr>\n",
       "      <th>25%</th>\n",
       "      <td>2017.0</td>\n",
       "      <td>64.0</td>\n",
       "      <td>0.0</td>\n",
       "      <td>0.0</td>\n",
       "      <td>0.0</td>\n",
       "    </tr>\n",
       "    <tr>\n",
       "      <th>50%</th>\n",
       "      <td>2019.0</td>\n",
       "      <td>64.0</td>\n",
       "      <td>0.0</td>\n",
       "      <td>0.0</td>\n",
       "      <td>0.0</td>\n",
       "    </tr>\n",
       "    <tr>\n",
       "      <th>75%</th>\n",
       "      <td>2020.0</td>\n",
       "      <td>168.0</td>\n",
       "      <td>0.0</td>\n",
       "      <td>64.0</td>\n",
       "      <td>0.0</td>\n",
       "    </tr>\n",
       "    <tr>\n",
       "      <th>max</th>\n",
       "      <td>2021.0</td>\n",
       "      <td>13056.0</td>\n",
       "      <td>3264.0</td>\n",
       "      <td>6976.0</td>\n",
       "      <td>2176.0</td>\n",
       "    </tr>\n",
       "  </tbody>\n",
       "</table></div>"
      ],
      "text/plain": [
       "       DATA_YEAR  ACTUAL_COUNT  UNFOUNDED_COUNT  CLEARED_COUNT  \\\n",
       "count     3098.0        3098.0           1129.0         3098.0   \n",
       "mean      2018.6         233.1             33.5           99.8   \n",
       "std          2.0         696.1            162.3          341.1   \n",
       "min       2013.0         -64.0              0.0            0.0   \n",
       "25%       2017.0          64.0              0.0            0.0   \n",
       "50%       2019.0          64.0              0.0            0.0   \n",
       "75%       2020.0         168.0              0.0           64.0   \n",
       "max       2021.0       13056.0           3264.0         6976.0   \n",
       "\n",
       "       JUVENILE_CLEARED_COUNT  \n",
       "count                  3098.0  \n",
       "mean                      5.6  \n",
       "std                      62.4  \n",
       "min                       0.0  \n",
       "25%                       0.0  \n",
       "50%                       0.0  \n",
       "75%                       0.0  \n",
       "max                    2176.0  "
      ]
     },
     "execution_count": 8,
     "metadata": {},
     "output_type": "execute_result"
    }
   ],
   "source": [
    "round(ht.describe(),1)"
   ]
  },
  {
   "cell_type": "markdown",
   "id": "5cc3ca92-e620-4807-8bbf-c352a394e012",
   "metadata": {},
   "source": [
    "### Categorical Data"
   ]
  },
  {
   "cell_type": "code",
   "execution_count": 9,
   "id": "c47ca6b3-0392-4e1f-9473-896256f0a4cc",
   "metadata": {},
   "outputs": [
    {
     "data": {
      "text/html": [
       "<div><div id=0bda0e69-409c-4b75-83a8-007a0275523f style=\"display:none; background-color:#9D6CFF; color:white; width:200px; height:30px; padding-left:5px; border-radius:4px; flex-direction:row; justify-content:space-around; align-items:center;\" onmouseover=\"this.style.backgroundColor='#BA9BF8'\" onmouseout=\"this.style.backgroundColor='#9D6CFF'\" onclick=\"window.commands?.execute('create-mitosheet-from-dataframe-output');\">See Full Dataframe in Mito</div> <script> if (window.commands?.hasCommand('create-mitosheet-from-dataframe-output')) document.getElementById('0bda0e69-409c-4b75-83a8-007a0275523f').style.display = 'flex' </script> <table border=\"1\" class=\"dataframe\">\n",
       "  <thead>\n",
       "    <tr style=\"text-align: right;\">\n",
       "      <th></th>\n",
       "      <th>ORI</th>\n",
       "      <th>PUB_AGENCY_NAME</th>\n",
       "      <th>PUB_AGENCY_UNIT</th>\n",
       "      <th>AGENCY_TYPE_NAME</th>\n",
       "      <th>STATE_ABBR</th>\n",
       "      <th>STATE_NAME</th>\n",
       "      <th>DIVISION_NAME</th>\n",
       "      <th>COUNTY_NAME</th>\n",
       "      <th>REGION_NAME</th>\n",
       "      <th>POPULATION_GROUP_CODE</th>\n",
       "      <th>POPULATION_GROUP_DESC</th>\n",
       "      <th>OFFENSE_SUBCAT_ID</th>\n",
       "      <th>OFFENSE_NAME</th>\n",
       "      <th>OFFENSE_SUBCAT_NAME</th>\n",
       "    </tr>\n",
       "  </thead>\n",
       "  <tbody>\n",
       "    <tr>\n",
       "      <th>count</th>\n",
       "      <td>3098</td>\n",
       "      <td>3098</td>\n",
       "      <td>231</td>\n",
       "      <td>3098</td>\n",
       "      <td>3098</td>\n",
       "      <td>3098</td>\n",
       "      <td>3098</td>\n",
       "      <td>3098</td>\n",
       "      <td>3098</td>\n",
       "      <td>3095</td>\n",
       "      <td>3095</td>\n",
       "      <td>3098</td>\n",
       "      <td>3098</td>\n",
       "      <td>3098</td>\n",
       "    </tr>\n",
       "    <tr>\n",
       "      <th>unique</th>\n",
       "      <td>1460</td>\n",
       "      <td>1177</td>\n",
       "      <td>129</td>\n",
       "      <td>8</td>\n",
       "      <td>50</td>\n",
       "      <td>50</td>\n",
       "      <td>10</td>\n",
       "      <td>711</td>\n",
       "      <td>5</td>\n",
       "      <td>19</td>\n",
       "      <td>19</td>\n",
       "      <td>2</td>\n",
       "      <td>1</td>\n",
       "      <td>2</td>\n",
       "    </tr>\n",
       "    <tr>\n",
       "      <th>top</th>\n",
       "      <td>TXHPD0000</td>\n",
       "      <td>State Police:</td>\n",
       "      <td>Kent County</td>\n",
       "      <td>City</td>\n",
       "      <td>TX</td>\n",
       "      <td>Texas</td>\n",
       "      <td>South Atlantic</td>\n",
       "      <td>NOT SPECIFIED</td>\n",
       "      <td>South</td>\n",
       "      <td>2</td>\n",
       "      <td>Cities from 100,000 thru 249,999</td>\n",
       "      <td>HTCSA</td>\n",
       "      <td>Human Trafficking</td>\n",
       "      <td>Commercial Sex Acts</td>\n",
       "    </tr>\n",
       "    <tr>\n",
       "      <th>freq</th>\n",
       "      <td>16</td>\n",
       "      <td>221</td>\n",
       "      <td>7</td>\n",
       "      <td>1999</td>\n",
       "      <td>478</td>\n",
       "      <td>478</td>\n",
       "      <td>742</td>\n",
       "      <td>83</td>\n",
       "      <td>1560</td>\n",
       "      <td>378</td>\n",
       "      <td>378</td>\n",
       "      <td>2296</td>\n",
       "      <td>3098</td>\n",
       "      <td>2296</td>\n",
       "    </tr>\n",
       "  </tbody>\n",
       "</table></div>"
      ],
      "text/plain": [
       "              ORI PUB_AGENCY_NAME PUB_AGENCY_UNIT AGENCY_TYPE_NAME STATE_ABBR  \\\n",
       "count        3098            3098             231             3098       3098   \n",
       "unique       1460            1177             129                8         50   \n",
       "top     TXHPD0000   State Police:     Kent County             City         TX   \n",
       "freq           16             221               7             1999        478   \n",
       "\n",
       "       STATE_NAME   DIVISION_NAME    COUNTY_NAME REGION_NAME  \\\n",
       "count        3098            3098           3098        3098   \n",
       "unique         50              10            711           5   \n",
       "top         Texas  South Atlantic  NOT SPECIFIED       South   \n",
       "freq          478             742             83        1560   \n",
       "\n",
       "       POPULATION_GROUP_CODE             POPULATION_GROUP_DESC  \\\n",
       "count                   3095                              3095   \n",
       "unique                    19                                19   \n",
       "top                        2  Cities from 100,000 thru 249,999   \n",
       "freq                     378                               378   \n",
       "\n",
       "       OFFENSE_SUBCAT_ID       OFFENSE_NAME  OFFENSE_SUBCAT_NAME  \n",
       "count               3098               3098                 3098  \n",
       "unique                 2                  1                    2  \n",
       "top                HTCSA  Human Trafficking  Commercial Sex Acts  \n",
       "freq                2296               3098                 2296  "
      ]
     },
     "metadata": {},
     "output_type": "display_data"
    }
   ],
   "source": [
    "display(ht.describe(include = ['O']))"
   ]
  },
  {
   "cell_type": "markdown",
   "id": "3b207ea0-147c-4871-9018-5d966fde1431",
   "metadata": {},
   "source": [
    "---"
   ]
  },
  {
   "cell_type": "markdown",
   "id": "c503ab48-8833-43ae-bc1f-8047e74e9a6d",
   "metadata": {},
   "source": [
    "### Column Variables "
   ]
  },
  {
   "cell_type": "code",
   "execution_count": 10,
   "id": "67a381a3-a778-46bb-9da1-819cf3d67482",
   "metadata": {},
   "outputs": [
    {
     "data": {
      "text/html": [
       "<div><div id=e866f6fe-7937-4e4e-a7af-851b6cf0e8b1 style=\"display:none; background-color:#9D6CFF; color:white; width:200px; height:30px; padding-left:5px; border-radius:4px; flex-direction:row; justify-content:space-around; align-items:center;\" onmouseover=\"this.style.backgroundColor='#BA9BF8'\" onmouseout=\"this.style.backgroundColor='#9D6CFF'\" onclick=\"window.commands?.execute('create-mitosheet-from-dataframe-output');\">See Full Dataframe in Mito</div> <script> if (window.commands?.hasCommand('create-mitosheet-from-dataframe-output')) document.getElementById('e866f6fe-7937-4e4e-a7af-851b6cf0e8b1').style.display = 'flex' </script> <table border=\"1\" class=\"dataframe\">\n",
       "  <thead>\n",
       "    <tr style=\"text-align: right;\">\n",
       "      <th></th>\n",
       "      <th>DATA_YEAR</th>\n",
       "    </tr>\n",
       "  </thead>\n",
       "  <tbody>\n",
       "    <tr>\n",
       "      <th>2021</th>\n",
       "      <td>21.17</td>\n",
       "    </tr>\n",
       "    <tr>\n",
       "      <th>2020</th>\n",
       "      <td>20.63</td>\n",
       "    </tr>\n",
       "    <tr>\n",
       "      <th>2019</th>\n",
       "      <td>17.75</td>\n",
       "    </tr>\n",
       "    <tr>\n",
       "      <th>2018</th>\n",
       "      <td>12.75</td>\n",
       "    </tr>\n",
       "    <tr>\n",
       "      <th>2017</th>\n",
       "      <td>10.78</td>\n",
       "    </tr>\n",
       "    <tr>\n",
       "      <th>2016</th>\n",
       "      <td>8.17</td>\n",
       "    </tr>\n",
       "    <tr>\n",
       "      <th>2015</th>\n",
       "      <td>4.55</td>\n",
       "    </tr>\n",
       "    <tr>\n",
       "      <th>2014</th>\n",
       "      <td>4.00</td>\n",
       "    </tr>\n",
       "    <tr>\n",
       "      <th>2013</th>\n",
       "      <td>0.19</td>\n",
       "    </tr>\n",
       "  </tbody>\n",
       "</table></div>"
      ],
      "text/plain": [
       "      DATA_YEAR\n",
       "2021      21.17\n",
       "2020      20.63\n",
       "2019      17.75\n",
       "2018      12.75\n",
       "2017      10.78\n",
       "2016       8.17\n",
       "2015       4.55\n",
       "2014       4.00\n",
       "2013       0.19"
      ]
     },
     "metadata": {},
     "output_type": "display_data"
    },
    {
     "data": {
      "text/html": [
       "<div><div id=98710b48-de9e-4012-932e-e3e2c4c72487 style=\"display:none; background-color:#9D6CFF; color:white; width:200px; height:30px; padding-left:5px; border-radius:4px; flex-direction:row; justify-content:space-around; align-items:center;\" onmouseover=\"this.style.backgroundColor='#BA9BF8'\" onmouseout=\"this.style.backgroundColor='#9D6CFF'\" onclick=\"window.commands?.execute('create-mitosheet-from-dataframe-output');\">See Full Dataframe in Mito</div> <script> if (window.commands?.hasCommand('create-mitosheet-from-dataframe-output')) document.getElementById('98710b48-de9e-4012-932e-e3e2c4c72487').style.display = 'flex' </script> <table border=\"1\" class=\"dataframe\">\n",
       "  <thead>\n",
       "    <tr style=\"text-align: right;\">\n",
       "      <th></th>\n",
       "      <th>ORI</th>\n",
       "    </tr>\n",
       "  </thead>\n",
       "  <tbody>\n",
       "    <tr>\n",
       "      <th>TXHPD0000</th>\n",
       "      <td>0.52</td>\n",
       "    </tr>\n",
       "    <tr>\n",
       "      <th>TX2270100</th>\n",
       "      <td>0.52</td>\n",
       "    </tr>\n",
       "    <tr>\n",
       "      <th>TX1010000</th>\n",
       "      <td>0.48</td>\n",
       "    </tr>\n",
       "    <tr>\n",
       "      <th>TXSPD0000</th>\n",
       "      <td>0.48</td>\n",
       "    </tr>\n",
       "    <tr>\n",
       "      <th>TXDPD0000</th>\n",
       "      <td>0.48</td>\n",
       "    </tr>\n",
       "    <tr>\n",
       "      <th>...</th>\n",
       "      <td>...</td>\n",
       "    </tr>\n",
       "    <tr>\n",
       "      <th>IL0820400</th>\n",
       "      <td>0.03</td>\n",
       "    </tr>\n",
       "    <tr>\n",
       "      <th>IN0190200</th>\n",
       "      <td>0.03</td>\n",
       "    </tr>\n",
       "    <tr>\n",
       "      <th>IN0320300</th>\n",
       "      <td>0.03</td>\n",
       "    </tr>\n",
       "    <tr>\n",
       "      <th>IN0840100</th>\n",
       "      <td>0.03</td>\n",
       "    </tr>\n",
       "    <tr>\n",
       "      <th>WY0110400</th>\n",
       "      <td>0.03</td>\n",
       "    </tr>\n",
       "  </tbody>\n",
       "</table></div>"
      ],
      "text/plain": [
       "            ORI\n",
       "TXHPD0000  0.52\n",
       "TX2270100  0.52\n",
       "TX1010000  0.48\n",
       "TXSPD0000  0.48\n",
       "TXDPD0000  0.48\n",
       "...         ...\n",
       "IL0820400  0.03\n",
       "IN0190200  0.03\n",
       "IN0320300  0.03\n",
       "IN0840100  0.03\n",
       "WY0110400  0.03\n",
       "\n",
       "[1460 rows x 1 columns]"
      ]
     },
     "metadata": {},
     "output_type": "display_data"
    },
    {
     "data": {
      "text/html": [
       "<div><div id=95056feb-c11b-400d-a428-6b9e9dfb358d style=\"display:none; background-color:#9D6CFF; color:white; width:200px; height:30px; padding-left:5px; border-radius:4px; flex-direction:row; justify-content:space-around; align-items:center;\" onmouseover=\"this.style.backgroundColor='#BA9BF8'\" onmouseout=\"this.style.backgroundColor='#9D6CFF'\" onclick=\"window.commands?.execute('create-mitosheet-from-dataframe-output');\">See Full Dataframe in Mito</div> <script> if (window.commands?.hasCommand('create-mitosheet-from-dataframe-output')) document.getElementById('95056feb-c11b-400d-a428-6b9e9dfb358d').style.display = 'flex' </script> <table border=\"1\" class=\"dataframe\">\n",
       "  <thead>\n",
       "    <tr style=\"text-align: right;\">\n",
       "      <th></th>\n",
       "      <th>PUB_AGENCY_NAME</th>\n",
       "    </tr>\n",
       "  </thead>\n",
       "  <tbody>\n",
       "    <tr>\n",
       "      <th>State Police:</th>\n",
       "      <td>7.13</td>\n",
       "    </tr>\n",
       "    <tr>\n",
       "      <th>Greenville</th>\n",
       "      <td>0.65</td>\n",
       "    </tr>\n",
       "    <tr>\n",
       "      <th>Austin</th>\n",
       "      <td>0.61</td>\n",
       "    </tr>\n",
       "    <tr>\n",
       "      <th>Houston</th>\n",
       "      <td>0.55</td>\n",
       "    </tr>\n",
       "    <tr>\n",
       "      <th>Dallas</th>\n",
       "      <td>0.55</td>\n",
       "    </tr>\n",
       "    <tr>\n",
       "      <th>...</th>\n",
       "      <td>...</td>\n",
       "    </tr>\n",
       "    <tr>\n",
       "      <th>Minnetrista</th>\n",
       "      <td>0.03</td>\n",
       "    </tr>\n",
       "    <tr>\n",
       "      <th>Hubbard</th>\n",
       "      <td>0.03</td>\n",
       "    </tr>\n",
       "    <tr>\n",
       "      <th>Refugio</th>\n",
       "      <td>0.03</td>\n",
       "    </tr>\n",
       "    <tr>\n",
       "      <th>Pine</th>\n",
       "      <td>0.03</td>\n",
       "    </tr>\n",
       "    <tr>\n",
       "      <th>Wyoming Division of Criminal Investigation</th>\n",
       "      <td>0.03</td>\n",
       "    </tr>\n",
       "  </tbody>\n",
       "</table></div>"
      ],
      "text/plain": [
       "                                            PUB_AGENCY_NAME\n",
       "State Police:                                          7.13\n",
       "Greenville                                             0.65\n",
       "Austin                                                 0.61\n",
       "Houston                                                0.55\n",
       "Dallas                                                 0.55\n",
       "...                                                     ...\n",
       "Minnetrista                                            0.03\n",
       "Hubbard                                                0.03\n",
       "Refugio                                                0.03\n",
       "Pine                                                   0.03\n",
       "Wyoming Division of Criminal Investigation             0.03\n",
       "\n",
       "[1177 rows x 1 columns]"
      ]
     },
     "metadata": {},
     "output_type": "display_data"
    },
    {
     "data": {
      "text/html": [
       "<div><div id=558eec54-0529-432b-890c-64b2612e956e style=\"display:none; background-color:#9D6CFF; color:white; width:200px; height:30px; padding-left:5px; border-radius:4px; flex-direction:row; justify-content:space-around; align-items:center;\" onmouseover=\"this.style.backgroundColor='#BA9BF8'\" onmouseout=\"this.style.backgroundColor='#9D6CFF'\" onclick=\"window.commands?.execute('create-mitosheet-from-dataframe-output');\">See Full Dataframe in Mito</div> <script> if (window.commands?.hasCommand('create-mitosheet-from-dataframe-output')) document.getElementById('558eec54-0529-432b-890c-64b2612e956e').style.display = 'flex' </script> <table border=\"1\" class=\"dataframe\">\n",
       "  <thead>\n",
       "    <tr style=\"text-align: right;\">\n",
       "      <th></th>\n",
       "      <th>PUB_AGENCY_UNIT</th>\n",
       "    </tr>\n",
       "  </thead>\n",
       "  <tbody>\n",
       "    <tr>\n",
       "      <th>Kent County</th>\n",
       "      <td>3.03</td>\n",
       "    </tr>\n",
       "    <tr>\n",
       "      <th>Sussex County</th>\n",
       "      <td>3.03</td>\n",
       "    </tr>\n",
       "    <tr>\n",
       "      <th>New Castle County</th>\n",
       "      <td>2.16</td>\n",
       "    </tr>\n",
       "    <tr>\n",
       "      <th>Ingham County</th>\n",
       "      <td>2.16</td>\n",
       "    </tr>\n",
       "    <tr>\n",
       "      <th>Wayne County</th>\n",
       "      <td>1.73</td>\n",
       "    </tr>\n",
       "    <tr>\n",
       "      <th>...</th>\n",
       "      <td>...</td>\n",
       "    </tr>\n",
       "    <tr>\n",
       "      <th>Muskegon County</th>\n",
       "      <td>0.43</td>\n",
       "    </tr>\n",
       "    <tr>\n",
       "      <th>London</th>\n",
       "      <td>0.43</td>\n",
       "    </tr>\n",
       "    <tr>\n",
       "      <th>Huntington County</th>\n",
       "      <td>0.43</td>\n",
       "    </tr>\n",
       "    <tr>\n",
       "      <th>Clay County</th>\n",
       "      <td>0.43</td>\n",
       "    </tr>\n",
       "    <tr>\n",
       "      <th>Welch</th>\n",
       "      <td>0.43</td>\n",
       "    </tr>\n",
       "  </tbody>\n",
       "</table></div>"
      ],
      "text/plain": [
       "                   PUB_AGENCY_UNIT\n",
       "Kent County                   3.03\n",
       "Sussex County                 3.03\n",
       "New Castle County             2.16\n",
       "Ingham County                 2.16\n",
       "Wayne County                  1.73\n",
       "...                            ...\n",
       "Muskegon County               0.43\n",
       "London                        0.43\n",
       "Huntington County             0.43\n",
       "Clay County                   0.43\n",
       "Welch                         0.43\n",
       "\n",
       "[129 rows x 1 columns]"
      ]
     },
     "metadata": {},
     "output_type": "display_data"
    },
    {
     "data": {
      "text/html": [
       "<div><div id=2296793a-2182-4c4a-b12d-6ec326fe121f style=\"display:none; background-color:#9D6CFF; color:white; width:200px; height:30px; padding-left:5px; border-radius:4px; flex-direction:row; justify-content:space-around; align-items:center;\" onmouseover=\"this.style.backgroundColor='#BA9BF8'\" onmouseout=\"this.style.backgroundColor='#9D6CFF'\" onclick=\"window.commands?.execute('create-mitosheet-from-dataframe-output');\">See Full Dataframe in Mito</div> <script> if (window.commands?.hasCommand('create-mitosheet-from-dataframe-output')) document.getElementById('2296793a-2182-4c4a-b12d-6ec326fe121f').style.display = 'flex' </script> <table border=\"1\" class=\"dataframe\">\n",
       "  <thead>\n",
       "    <tr style=\"text-align: right;\">\n",
       "      <th></th>\n",
       "      <th>AGENCY_TYPE_NAME</th>\n",
       "    </tr>\n",
       "  </thead>\n",
       "  <tbody>\n",
       "    <tr>\n",
       "      <th>City</th>\n",
       "      <td>64.53</td>\n",
       "    </tr>\n",
       "    <tr>\n",
       "      <th>County</th>\n",
       "      <td>25.66</td>\n",
       "    </tr>\n",
       "    <tr>\n",
       "      <th>State Police</th>\n",
       "      <td>8.07</td>\n",
       "    </tr>\n",
       "    <tr>\n",
       "      <th>Other</th>\n",
       "      <td>0.61</td>\n",
       "    </tr>\n",
       "    <tr>\n",
       "      <th>Other State Agency</th>\n",
       "      <td>0.61</td>\n",
       "    </tr>\n",
       "    <tr>\n",
       "      <th>Tribal</th>\n",
       "      <td>0.32</td>\n",
       "    </tr>\n",
       "    <tr>\n",
       "      <th>University or College</th>\n",
       "      <td>0.10</td>\n",
       "    </tr>\n",
       "    <tr>\n",
       "      <th>Federal</th>\n",
       "      <td>0.10</td>\n",
       "    </tr>\n",
       "  </tbody>\n",
       "</table></div>"
      ],
      "text/plain": [
       "                       AGENCY_TYPE_NAME\n",
       "City                              64.53\n",
       "County                            25.66\n",
       "State Police                       8.07\n",
       "Other                              0.61\n",
       "Other State Agency                 0.61\n",
       "Tribal                             0.32\n",
       "University or College              0.10\n",
       "Federal                            0.10"
      ]
     },
     "metadata": {},
     "output_type": "display_data"
    },
    {
     "data": {
      "text/html": [
       "<div><div id=6b46363d-3a78-4c38-a772-061a64872531 style=\"display:none; background-color:#9D6CFF; color:white; width:200px; height:30px; padding-left:5px; border-radius:4px; flex-direction:row; justify-content:space-around; align-items:center;\" onmouseover=\"this.style.backgroundColor='#BA9BF8'\" onmouseout=\"this.style.backgroundColor='#9D6CFF'\" onclick=\"window.commands?.execute('create-mitosheet-from-dataframe-output');\">See Full Dataframe in Mito</div> <script> if (window.commands?.hasCommand('create-mitosheet-from-dataframe-output')) document.getElementById('6b46363d-3a78-4c38-a772-061a64872531').style.display = 'flex' </script> <table border=\"1\" class=\"dataframe\">\n",
       "  <thead>\n",
       "    <tr style=\"text-align: right;\">\n",
       "      <th></th>\n",
       "      <th>STATE_ABBR</th>\n",
       "    </tr>\n",
       "  </thead>\n",
       "  <tbody>\n",
       "    <tr>\n",
       "      <th>TX</th>\n",
       "      <td>15.43</td>\n",
       "    </tr>\n",
       "    <tr>\n",
       "      <th>MN</th>\n",
       "      <td>8.81</td>\n",
       "    </tr>\n",
       "    <tr>\n",
       "      <th>FL</th>\n",
       "      <td>5.36</td>\n",
       "    </tr>\n",
       "    <tr>\n",
       "      <th>WI</th>\n",
       "      <td>4.65</td>\n",
       "    </tr>\n",
       "    <tr>\n",
       "      <th>GA</th>\n",
       "      <td>4.42</td>\n",
       "    </tr>\n",
       "    <tr>\n",
       "      <th>...</th>\n",
       "      <td>...</td>\n",
       "    </tr>\n",
       "    <tr>\n",
       "      <th>MS</th>\n",
       "      <td>0.23</td>\n",
       "    </tr>\n",
       "    <tr>\n",
       "      <th>ID</th>\n",
       "      <td>0.23</td>\n",
       "    </tr>\n",
       "    <tr>\n",
       "      <th>NY</th>\n",
       "      <td>0.19</td>\n",
       "    </tr>\n",
       "    <tr>\n",
       "      <th>FS</th>\n",
       "      <td>0.10</td>\n",
       "    </tr>\n",
       "    <tr>\n",
       "      <th>KS</th>\n",
       "      <td>0.10</td>\n",
       "    </tr>\n",
       "  </tbody>\n",
       "</table></div>"
      ],
      "text/plain": [
       "    STATE_ABBR\n",
       "TX       15.43\n",
       "MN        8.81\n",
       "FL        5.36\n",
       "WI        4.65\n",
       "GA        4.42\n",
       "TN        3.78\n",
       "MI        3.71\n",
       "MA        3.65\n",
       "CO        3.58\n",
       "KY        3.49\n",
       "IL        3.23\n",
       "WV        3.07\n",
       "NC        3.03\n",
       "WA        2.91\n",
       "VA        2.87\n",
       "MO        2.78\n",
       "SC        2.58\n",
       "MD        1.84\n",
       "IN        1.68\n",
       "CT        1.48\n",
       "AZ        1.36\n",
       "LA        1.29\n",
       "OK        1.23\n",
       "OH        1.16\n",
       "ND        1.16\n",
       "NV        1.07\n",
       "OR        1.00\n",
       "RI        1.00\n",
       "DE        0.77\n",
       "AR        0.58\n",
       "NE        0.58\n",
       "WY        0.58\n",
       "UT        0.52\n",
       "NH        0.48\n",
       "AK        0.48\n",
       "MT        0.45\n",
       "NJ        0.45\n",
       "VT        0.39\n",
       "AL        0.39\n",
       "ME        0.36\n",
       "IA        0.32\n",
       "NM        0.32\n",
       "PA        0.29\n",
       "SD        0.29\n",
       "HI        0.29\n",
       "MS        0.23\n",
       "ID        0.23\n",
       "NY        0.19\n",
       "FS        0.10\n",
       "KS        0.10"
      ]
     },
     "metadata": {},
     "output_type": "display_data"
    },
    {
     "data": {
      "text/html": [
       "<div><div id=534bc63f-63ea-4a45-a63a-9ab025b26bdb style=\"display:none; background-color:#9D6CFF; color:white; width:200px; height:30px; padding-left:5px; border-radius:4px; flex-direction:row; justify-content:space-around; align-items:center;\" onmouseover=\"this.style.backgroundColor='#BA9BF8'\" onmouseout=\"this.style.backgroundColor='#9D6CFF'\" onclick=\"window.commands?.execute('create-mitosheet-from-dataframe-output');\">See Full Dataframe in Mito</div> <script> if (window.commands?.hasCommand('create-mitosheet-from-dataframe-output')) document.getElementById('534bc63f-63ea-4a45-a63a-9ab025b26bdb').style.display = 'flex' </script> <table border=\"1\" class=\"dataframe\">\n",
       "  <thead>\n",
       "    <tr style=\"text-align: right;\">\n",
       "      <th></th>\n",
       "      <th>STATE_NAME</th>\n",
       "    </tr>\n",
       "  </thead>\n",
       "  <tbody>\n",
       "    <tr>\n",
       "      <th>Texas</th>\n",
       "      <td>15.43</td>\n",
       "    </tr>\n",
       "    <tr>\n",
       "      <th>Minnesota</th>\n",
       "      <td>8.81</td>\n",
       "    </tr>\n",
       "    <tr>\n",
       "      <th>Florida</th>\n",
       "      <td>5.36</td>\n",
       "    </tr>\n",
       "    <tr>\n",
       "      <th>Wisconsin</th>\n",
       "      <td>4.65</td>\n",
       "    </tr>\n",
       "    <tr>\n",
       "      <th>Georgia</th>\n",
       "      <td>4.42</td>\n",
       "    </tr>\n",
       "    <tr>\n",
       "      <th>...</th>\n",
       "      <td>...</td>\n",
       "    </tr>\n",
       "    <tr>\n",
       "      <th>Mississippi</th>\n",
       "      <td>0.23</td>\n",
       "    </tr>\n",
       "    <tr>\n",
       "      <th>Idaho</th>\n",
       "      <td>0.23</td>\n",
       "    </tr>\n",
       "    <tr>\n",
       "      <th>New York</th>\n",
       "      <td>0.19</td>\n",
       "    </tr>\n",
       "    <tr>\n",
       "      <th>Federal</th>\n",
       "      <td>0.10</td>\n",
       "    </tr>\n",
       "    <tr>\n",
       "      <th>Kansas</th>\n",
       "      <td>0.10</td>\n",
       "    </tr>\n",
       "  </tbody>\n",
       "</table></div>"
      ],
      "text/plain": [
       "                STATE_NAME\n",
       "Texas                15.43\n",
       "Minnesota             8.81\n",
       "Florida               5.36\n",
       "Wisconsin             4.65\n",
       "Georgia               4.42\n",
       "Tennessee             3.78\n",
       "Michigan              3.71\n",
       "Massachusetts         3.65\n",
       "Colorado              3.58\n",
       "Kentucky              3.49\n",
       "Illinois              3.23\n",
       "West Virginia         3.07\n",
       "North Carolina        3.03\n",
       "Washington            2.91\n",
       "Virginia              2.87\n",
       "Missouri              2.78\n",
       "South Carolina        2.58\n",
       "Maryland              1.84\n",
       "Indiana               1.68\n",
       "Connecticut           1.48\n",
       "Arizona               1.36\n",
       "Louisiana             1.29\n",
       "Oklahoma              1.23\n",
       "Ohio                  1.16\n",
       "North Dakota          1.16\n",
       "Nevada                1.07\n",
       "Oregon                1.00\n",
       "Rhode Island          1.00\n",
       "Delaware              0.77\n",
       "Arkansas              0.58\n",
       "Nebraska              0.58\n",
       "Wyoming               0.58\n",
       "Utah                  0.52\n",
       "New Hampshire         0.48\n",
       "Alaska                0.48\n",
       "Montana               0.45\n",
       "New Jersey            0.45\n",
       "Vermont               0.39\n",
       "Alabama               0.39\n",
       "Maine                 0.36\n",
       "Iowa                  0.32\n",
       "New Mexico            0.32\n",
       "Pennsylvania          0.29\n",
       "South Dakota          0.29\n",
       "Hawaii                0.29\n",
       "Mississippi           0.23\n",
       "Idaho                 0.23\n",
       "New York              0.19\n",
       "Federal               0.10\n",
       "Kansas                0.10"
      ]
     },
     "metadata": {},
     "output_type": "display_data"
    },
    {
     "data": {
      "text/html": [
       "<div><div id=f3443b01-c1ca-434b-9e48-00f35955620d style=\"display:none; background-color:#9D6CFF; color:white; width:200px; height:30px; padding-left:5px; border-radius:4px; flex-direction:row; justify-content:space-around; align-items:center;\" onmouseover=\"this.style.backgroundColor='#BA9BF8'\" onmouseout=\"this.style.backgroundColor='#9D6CFF'\" onclick=\"window.commands?.execute('create-mitosheet-from-dataframe-output');\">See Full Dataframe in Mito</div> <script> if (window.commands?.hasCommand('create-mitosheet-from-dataframe-output')) document.getElementById('f3443b01-c1ca-434b-9e48-00f35955620d').style.display = 'flex' </script> <table border=\"1\" class=\"dataframe\">\n",
       "  <thead>\n",
       "    <tr style=\"text-align: right;\">\n",
       "      <th></th>\n",
       "      <th>DIVISION_NAME</th>\n",
       "    </tr>\n",
       "  </thead>\n",
       "  <tbody>\n",
       "    <tr>\n",
       "      <th>South Atlantic</th>\n",
       "      <td>23.95</td>\n",
       "    </tr>\n",
       "    <tr>\n",
       "      <th>West South Central</th>\n",
       "      <td>18.53</td>\n",
       "    </tr>\n",
       "    <tr>\n",
       "      <th>East North Central</th>\n",
       "      <td>14.43</td>\n",
       "    </tr>\n",
       "    <tr>\n",
       "      <th>West North Central</th>\n",
       "      <td>14.04</td>\n",
       "    </tr>\n",
       "    <tr>\n",
       "      <th>Mountain</th>\n",
       "      <td>8.10</td>\n",
       "    </tr>\n",
       "    <tr>\n",
       "      <th>East South Central</th>\n",
       "      <td>7.88</td>\n",
       "    </tr>\n",
       "    <tr>\n",
       "      <th>New England</th>\n",
       "      <td>7.36</td>\n",
       "    </tr>\n",
       "    <tr>\n",
       "      <th>Pacific</th>\n",
       "      <td>4.68</td>\n",
       "    </tr>\n",
       "    <tr>\n",
       "      <th>Middle Atlantic</th>\n",
       "      <td>0.94</td>\n",
       "    </tr>\n",
       "    <tr>\n",
       "      <th>Other</th>\n",
       "      <td>0.10</td>\n",
       "    </tr>\n",
       "  </tbody>\n",
       "</table></div>"
      ],
      "text/plain": [
       "                    DIVISION_NAME\n",
       "South Atlantic              23.95\n",
       "West South Central          18.53\n",
       "East North Central          14.43\n",
       "West North Central          14.04\n",
       "Mountain                     8.10\n",
       "East South Central           7.88\n",
       "New England                  7.36\n",
       "Pacific                      4.68\n",
       "Middle Atlantic              0.94\n",
       "Other                        0.10"
      ]
     },
     "metadata": {},
     "output_type": "display_data"
    },
    {
     "data": {
      "text/html": [
       "<div><div id=697679b5-34e3-432a-9908-bf38221576d1 style=\"display:none; background-color:#9D6CFF; color:white; width:200px; height:30px; padding-left:5px; border-radius:4px; flex-direction:row; justify-content:space-around; align-items:center;\" onmouseover=\"this.style.backgroundColor='#BA9BF8'\" onmouseout=\"this.style.backgroundColor='#9D6CFF'\" onclick=\"window.commands?.execute('create-mitosheet-from-dataframe-output');\">See Full Dataframe in Mito</div> <script> if (window.commands?.hasCommand('create-mitosheet-from-dataframe-output')) document.getElementById('697679b5-34e3-432a-9908-bf38221576d1').style.display = 'flex' </script> <table border=\"1\" class=\"dataframe\">\n",
       "  <thead>\n",
       "    <tr style=\"text-align: right;\">\n",
       "      <th></th>\n",
       "      <th>COUNTY_NAME</th>\n",
       "    </tr>\n",
       "  </thead>\n",
       "  <tbody>\n",
       "    <tr>\n",
       "      <th>NOT SPECIFIED</th>\n",
       "      <td>2.68</td>\n",
       "    </tr>\n",
       "    <tr>\n",
       "      <th>HENNEPIN</th>\n",
       "      <td>1.97</td>\n",
       "    </tr>\n",
       "    <tr>\n",
       "      <th>WASHINGTON</th>\n",
       "      <td>1.16</td>\n",
       "    </tr>\n",
       "    <tr>\n",
       "      <th>JEFFERSON</th>\n",
       "      <td>1.10</td>\n",
       "    </tr>\n",
       "    <tr>\n",
       "      <th>KING</th>\n",
       "      <td>1.10</td>\n",
       "    </tr>\n",
       "    <tr>\n",
       "      <th>...</th>\n",
       "      <td>...</td>\n",
       "    </tr>\n",
       "    <tr>\n",
       "      <th>COLORADO</th>\n",
       "      <td>0.03</td>\n",
       "    </tr>\n",
       "    <tr>\n",
       "      <th>CONCHO</th>\n",
       "      <td>0.03</td>\n",
       "    </tr>\n",
       "    <tr>\n",
       "      <th>DALLAS, ELLIS, TARRANT</th>\n",
       "      <td>0.03</td>\n",
       "    </tr>\n",
       "    <tr>\n",
       "      <th>SWISHER</th>\n",
       "      <td>0.03</td>\n",
       "    </tr>\n",
       "    <tr>\n",
       "      <th>GOSHEN</th>\n",
       "      <td>0.03</td>\n",
       "    </tr>\n",
       "  </tbody>\n",
       "</table></div>"
      ],
      "text/plain": [
       "                        COUNTY_NAME\n",
       "NOT SPECIFIED                  2.68\n",
       "HENNEPIN                       1.97\n",
       "WASHINGTON                     1.16\n",
       "JEFFERSON                      1.10\n",
       "KING                           1.10\n",
       "...                             ...\n",
       "COLORADO                       0.03\n",
       "CONCHO                         0.03\n",
       "DALLAS, ELLIS, TARRANT         0.03\n",
       "SWISHER                        0.03\n",
       "GOSHEN                         0.03\n",
       "\n",
       "[711 rows x 1 columns]"
      ]
     },
     "metadata": {},
     "output_type": "display_data"
    },
    {
     "data": {
      "text/html": [
       "<div><div id=e2e19b6c-3f6e-492e-8f06-a3de59212c63 style=\"display:none; background-color:#9D6CFF; color:white; width:200px; height:30px; padding-left:5px; border-radius:4px; flex-direction:row; justify-content:space-around; align-items:center;\" onmouseover=\"this.style.backgroundColor='#BA9BF8'\" onmouseout=\"this.style.backgroundColor='#9D6CFF'\" onclick=\"window.commands?.execute('create-mitosheet-from-dataframe-output');\">See Full Dataframe in Mito</div> <script> if (window.commands?.hasCommand('create-mitosheet-from-dataframe-output')) document.getElementById('e2e19b6c-3f6e-492e-8f06-a3de59212c63').style.display = 'flex' </script> <table border=\"1\" class=\"dataframe\">\n",
       "  <thead>\n",
       "    <tr style=\"text-align: right;\">\n",
       "      <th></th>\n",
       "      <th>REGION_NAME</th>\n",
       "    </tr>\n",
       "  </thead>\n",
       "  <tbody>\n",
       "    <tr>\n",
       "      <th>South</th>\n",
       "      <td>50.36</td>\n",
       "    </tr>\n",
       "    <tr>\n",
       "      <th>Midwest</th>\n",
       "      <td>28.47</td>\n",
       "    </tr>\n",
       "    <tr>\n",
       "      <th>West</th>\n",
       "      <td>12.78</td>\n",
       "    </tr>\n",
       "    <tr>\n",
       "      <th>Northeast</th>\n",
       "      <td>8.30</td>\n",
       "    </tr>\n",
       "    <tr>\n",
       "      <th>Other</th>\n",
       "      <td>0.10</td>\n",
       "    </tr>\n",
       "  </tbody>\n",
       "</table></div>"
      ],
      "text/plain": [
       "           REGION_NAME\n",
       "South            50.36\n",
       "Midwest          28.47\n",
       "West             12.78\n",
       "Northeast         8.30\n",
       "Other             0.10"
      ]
     },
     "metadata": {},
     "output_type": "display_data"
    },
    {
     "data": {
      "text/html": [
       "<div><div id=3fe56586-dd56-4749-99ba-136bf2522520 style=\"display:none; background-color:#9D6CFF; color:white; width:200px; height:30px; padding-left:5px; border-radius:4px; flex-direction:row; justify-content:space-around; align-items:center;\" onmouseover=\"this.style.backgroundColor='#BA9BF8'\" onmouseout=\"this.style.backgroundColor='#9D6CFF'\" onclick=\"window.commands?.execute('create-mitosheet-from-dataframe-output');\">See Full Dataframe in Mito</div> <script> if (window.commands?.hasCommand('create-mitosheet-from-dataframe-output')) document.getElementById('3fe56586-dd56-4749-99ba-136bf2522520').style.display = 'flex' </script> <table border=\"1\" class=\"dataframe\">\n",
       "  <thead>\n",
       "    <tr style=\"text-align: right;\">\n",
       "      <th></th>\n",
       "      <th>POPULATION_GROUP_CODE</th>\n",
       "    </tr>\n",
       "  </thead>\n",
       "  <tbody>\n",
       "    <tr>\n",
       "      <th>2</th>\n",
       "      <td>12.21</td>\n",
       "    </tr>\n",
       "    <tr>\n",
       "      <th>3</th>\n",
       "      <td>11.95</td>\n",
       "    </tr>\n",
       "    <tr>\n",
       "      <th>5</th>\n",
       "      <td>10.31</td>\n",
       "    </tr>\n",
       "    <tr>\n",
       "      <th>9A</th>\n",
       "      <td>10.08</td>\n",
       "    </tr>\n",
       "    <tr>\n",
       "      <th>4</th>\n",
       "      <td>9.11</td>\n",
       "    </tr>\n",
       "    <tr>\n",
       "      <th>...</th>\n",
       "      <td>...</td>\n",
       "    </tr>\n",
       "    <tr>\n",
       "      <th>8B</th>\n",
       "      <td>2.20</td>\n",
       "    </tr>\n",
       "    <tr>\n",
       "      <th>9C</th>\n",
       "      <td>1.62</td>\n",
       "    </tr>\n",
       "    <tr>\n",
       "      <th>8E</th>\n",
       "      <td>1.16</td>\n",
       "    </tr>\n",
       "    <tr>\n",
       "      <th>8A</th>\n",
       "      <td>0.36</td>\n",
       "    </tr>\n",
       "    <tr>\n",
       "      <th>9E</th>\n",
       "      <td>0.03</td>\n",
       "    </tr>\n",
       "  </tbody>\n",
       "</table></div>"
      ],
      "text/plain": [
       "    POPULATION_GROUP_CODE\n",
       "2                   12.21\n",
       "3                   11.95\n",
       "5                   10.31\n",
       "9A                  10.08\n",
       "4                    9.11\n",
       "6                    7.40\n",
       "9B                   6.79\n",
       "1C                   5.30\n",
       "1B                   4.56\n",
       "8D                   4.56\n",
       "9D                   4.46\n",
       "8C                   2.78\n",
       "7                    2.65\n",
       "1A                   2.49\n",
       "8B                   2.20\n",
       "9C                   1.62\n",
       "8E                   1.16\n",
       "8A                   0.36\n",
       "9E                   0.03"
      ]
     },
     "metadata": {},
     "output_type": "display_data"
    },
    {
     "data": {
      "text/html": [
       "<div><div id=48ce000d-d888-4676-a71c-1aacd0ff7787 style=\"display:none; background-color:#9D6CFF; color:white; width:200px; height:30px; padding-left:5px; border-radius:4px; flex-direction:row; justify-content:space-around; align-items:center;\" onmouseover=\"this.style.backgroundColor='#BA9BF8'\" onmouseout=\"this.style.backgroundColor='#9D6CFF'\" onclick=\"window.commands?.execute('create-mitosheet-from-dataframe-output');\">See Full Dataframe in Mito</div> <script> if (window.commands?.hasCommand('create-mitosheet-from-dataframe-output')) document.getElementById('48ce000d-d888-4676-a71c-1aacd0ff7787').style.display = 'flex' </script> <table border=\"1\" class=\"dataframe\">\n",
       "  <thead>\n",
       "    <tr style=\"text-align: right;\">\n",
       "      <th></th>\n",
       "      <th>POPULATION_GROUP_DESC</th>\n",
       "    </tr>\n",
       "  </thead>\n",
       "  <tbody>\n",
       "    <tr>\n",
       "      <th>Cities from 100,000 thru 249,999</th>\n",
       "      <td>12.21</td>\n",
       "    </tr>\n",
       "    <tr>\n",
       "      <th>Cities from 50,000 thru 99,999</th>\n",
       "      <td>11.95</td>\n",
       "    </tr>\n",
       "    <tr>\n",
       "      <th>Cities from 10,000 thru 24,999</th>\n",
       "      <td>10.31</td>\n",
       "    </tr>\n",
       "    <tr>\n",
       "      <th>MSA counties 100,000 or over</th>\n",
       "      <td>10.08</td>\n",
       "    </tr>\n",
       "    <tr>\n",
       "      <th>Cities from 25,000 thru 49,999</th>\n",
       "      <td>9.11</td>\n",
       "    </tr>\n",
       "    <tr>\n",
       "      <th>...</th>\n",
       "      <td>...</td>\n",
       "    </tr>\n",
       "    <tr>\n",
       "      <th>Non-MSA counties from 25,000 thru 99,999</th>\n",
       "      <td>2.20</td>\n",
       "    </tr>\n",
       "    <tr>\n",
       "      <th>MSA counties from 10,000 thru 24,999</th>\n",
       "      <td>1.62</td>\n",
       "    </tr>\n",
       "    <tr>\n",
       "      <th>Non-MSA State Police</th>\n",
       "      <td>1.16</td>\n",
       "    </tr>\n",
       "    <tr>\n",
       "      <th>Non-MSA counties 100,000 or over</th>\n",
       "      <td>0.36</td>\n",
       "    </tr>\n",
       "    <tr>\n",
       "      <th>MSA State Police</th>\n",
       "      <td>0.03</td>\n",
       "    </tr>\n",
       "  </tbody>\n",
       "</table></div>"
      ],
      "text/plain": [
       "                                          POPULATION_GROUP_DESC\n",
       "Cities from 100,000 thru 249,999                          12.21\n",
       "Cities from 50,000 thru 99,999                            11.95\n",
       "Cities from 10,000 thru 24,999                            10.31\n",
       "MSA counties 100,000 or over                              10.08\n",
       "Cities from 25,000 thru 49,999                             9.11\n",
       "Cities from 2,500 thru 9,999                               7.40\n",
       "MSA counties from 25,000 thru 99,999                       6.79\n",
       "Cities from 250,000 thru 499,999                           5.30\n",
       "Cities from 500,000 thru 999,999                           4.56\n",
       "Non-MSA counties under 10,000                              4.56\n",
       "MSA counties under 10,000                                  4.46\n",
       "Non-MSA counties from 10,000 thru 24,999                   2.78\n",
       "Cities under 2,500                                         2.65\n",
       "Cities 1,000,000 or over                                   2.49\n",
       "Non-MSA counties from 25,000 thru 99,999                   2.20\n",
       "MSA counties from 10,000 thru 24,999                       1.62\n",
       "Non-MSA State Police                                       1.16\n",
       "Non-MSA counties 100,000 or over                           0.36\n",
       "MSA State Police                                           0.03"
      ]
     },
     "metadata": {},
     "output_type": "display_data"
    },
    {
     "data": {
      "text/html": [
       "<div><div id=6cd0feb7-0fed-4f68-897c-1b274430425c style=\"display:none; background-color:#9D6CFF; color:white; width:200px; height:30px; padding-left:5px; border-radius:4px; flex-direction:row; justify-content:space-around; align-items:center;\" onmouseover=\"this.style.backgroundColor='#BA9BF8'\" onmouseout=\"this.style.backgroundColor='#9D6CFF'\" onclick=\"window.commands?.execute('create-mitosheet-from-dataframe-output');\">See Full Dataframe in Mito</div> <script> if (window.commands?.hasCommand('create-mitosheet-from-dataframe-output')) document.getElementById('6cd0feb7-0fed-4f68-897c-1b274430425c').style.display = 'flex' </script> <table border=\"1\" class=\"dataframe\">\n",
       "  <thead>\n",
       "    <tr style=\"text-align: right;\">\n",
       "      <th></th>\n",
       "      <th>OFFENSE_SUBCAT_ID</th>\n",
       "    </tr>\n",
       "  </thead>\n",
       "  <tbody>\n",
       "    <tr>\n",
       "      <th>HTCSA</th>\n",
       "      <td>74.11</td>\n",
       "    </tr>\n",
       "    <tr>\n",
       "      <th>HTIS</th>\n",
       "      <td>25.89</td>\n",
       "    </tr>\n",
       "  </tbody>\n",
       "</table></div>"
      ],
      "text/plain": [
       "       OFFENSE_SUBCAT_ID\n",
       "HTCSA              74.11\n",
       "HTIS               25.89"
      ]
     },
     "metadata": {},
     "output_type": "display_data"
    },
    {
     "data": {
      "text/html": [
       "<div><div id=efc3850d-7909-44a9-bf97-fce68741ea4a style=\"display:none; background-color:#9D6CFF; color:white; width:200px; height:30px; padding-left:5px; border-radius:4px; flex-direction:row; justify-content:space-around; align-items:center;\" onmouseover=\"this.style.backgroundColor='#BA9BF8'\" onmouseout=\"this.style.backgroundColor='#9D6CFF'\" onclick=\"window.commands?.execute('create-mitosheet-from-dataframe-output');\">See Full Dataframe in Mito</div> <script> if (window.commands?.hasCommand('create-mitosheet-from-dataframe-output')) document.getElementById('efc3850d-7909-44a9-bf97-fce68741ea4a').style.display = 'flex' </script> <table border=\"1\" class=\"dataframe\">\n",
       "  <thead>\n",
       "    <tr style=\"text-align: right;\">\n",
       "      <th></th>\n",
       "      <th>OFFENSE_NAME</th>\n",
       "    </tr>\n",
       "  </thead>\n",
       "  <tbody>\n",
       "    <tr>\n",
       "      <th>Human Trafficking</th>\n",
       "      <td>100.0</td>\n",
       "    </tr>\n",
       "  </tbody>\n",
       "</table></div>"
      ],
      "text/plain": [
       "                   OFFENSE_NAME\n",
       "Human Trafficking         100.0"
      ]
     },
     "metadata": {},
     "output_type": "display_data"
    },
    {
     "data": {
      "text/html": [
       "<div><div id=5f3c0090-1696-4d74-b7d4-125f63a854f1 style=\"display:none; background-color:#9D6CFF; color:white; width:200px; height:30px; padding-left:5px; border-radius:4px; flex-direction:row; justify-content:space-around; align-items:center;\" onmouseover=\"this.style.backgroundColor='#BA9BF8'\" onmouseout=\"this.style.backgroundColor='#9D6CFF'\" onclick=\"window.commands?.execute('create-mitosheet-from-dataframe-output');\">See Full Dataframe in Mito</div> <script> if (window.commands?.hasCommand('create-mitosheet-from-dataframe-output')) document.getElementById('5f3c0090-1696-4d74-b7d4-125f63a854f1').style.display = 'flex' </script> <table border=\"1\" class=\"dataframe\">\n",
       "  <thead>\n",
       "    <tr style=\"text-align: right;\">\n",
       "      <th></th>\n",
       "      <th>OFFENSE_SUBCAT_NAME</th>\n",
       "    </tr>\n",
       "  </thead>\n",
       "  <tbody>\n",
       "    <tr>\n",
       "      <th>Commercial Sex Acts</th>\n",
       "      <td>74.11</td>\n",
       "    </tr>\n",
       "    <tr>\n",
       "      <th>Involuntary Servitude</th>\n",
       "      <td>25.89</td>\n",
       "    </tr>\n",
       "  </tbody>\n",
       "</table></div>"
      ],
      "text/plain": [
       "                       OFFENSE_SUBCAT_NAME\n",
       "Commercial Sex Acts                  74.11\n",
       "Involuntary Servitude                25.89"
      ]
     },
     "metadata": {},
     "output_type": "display_data"
    },
    {
     "data": {
      "text/html": [
       "<div><div id=300ba882-970b-4315-9ee7-79b828e0f0f4 style=\"display:none; background-color:#9D6CFF; color:white; width:200px; height:30px; padding-left:5px; border-radius:4px; flex-direction:row; justify-content:space-around; align-items:center;\" onmouseover=\"this.style.backgroundColor='#BA9BF8'\" onmouseout=\"this.style.backgroundColor='#9D6CFF'\" onclick=\"window.commands?.execute('create-mitosheet-from-dataframe-output');\">See Full Dataframe in Mito</div> <script> if (window.commands?.hasCommand('create-mitosheet-from-dataframe-output')) document.getElementById('300ba882-970b-4315-9ee7-79b828e0f0f4').style.display = 'flex' </script> <table border=\"1\" class=\"dataframe\">\n",
       "  <thead>\n",
       "    <tr style=\"text-align: right;\">\n",
       "      <th></th>\n",
       "      <th>ACTUAL_COUNT</th>\n",
       "    </tr>\n",
       "  </thead>\n",
       "  <tbody>\n",
       "    <tr>\n",
       "      <th>64</th>\n",
       "      <td>40.28</td>\n",
       "    </tr>\n",
       "    <tr>\n",
       "      <th>128</th>\n",
       "      <td>11.10</td>\n",
       "    </tr>\n",
       "    <tr>\n",
       "      <th>192</th>\n",
       "      <td>5.78</td>\n",
       "    </tr>\n",
       "    <tr>\n",
       "      <th>0</th>\n",
       "      <td>5.00</td>\n",
       "    </tr>\n",
       "    <tr>\n",
       "      <th>256</th>\n",
       "      <td>3.03</td>\n",
       "    </tr>\n",
       "    <tr>\n",
       "      <th>...</th>\n",
       "      <td>...</td>\n",
       "    </tr>\n",
       "    <tr>\n",
       "      <th>116</th>\n",
       "      <td>0.03</td>\n",
       "    </tr>\n",
       "    <tr>\n",
       "      <th>600</th>\n",
       "      <td>0.03</td>\n",
       "    </tr>\n",
       "    <tr>\n",
       "      <th>7296</th>\n",
       "      <td>0.03</td>\n",
       "    </tr>\n",
       "    <tr>\n",
       "      <th>294</th>\n",
       "      <td>0.03</td>\n",
       "    </tr>\n",
       "    <tr>\n",
       "      <th>183</th>\n",
       "      <td>0.03</td>\n",
       "    </tr>\n",
       "  </tbody>\n",
       "</table></div>"
      ],
      "text/plain": [
       "      ACTUAL_COUNT\n",
       "64           40.28\n",
       "128          11.10\n",
       "192           5.78\n",
       "0             5.00\n",
       "256           3.03\n",
       "...            ...\n",
       "116           0.03\n",
       "600           0.03\n",
       "7296          0.03\n",
       "294           0.03\n",
       "183           0.03\n",
       "\n",
       "[197 rows x 1 columns]"
      ]
     },
     "metadata": {},
     "output_type": "display_data"
    },
    {
     "data": {
      "text/html": [
       "<div><div id=48cde3f7-f179-4fbd-bca5-689439c59318 style=\"display:none; background-color:#9D6CFF; color:white; width:200px; height:30px; padding-left:5px; border-radius:4px; flex-direction:row; justify-content:space-around; align-items:center;\" onmouseover=\"this.style.backgroundColor='#BA9BF8'\" onmouseout=\"this.style.backgroundColor='#9D6CFF'\" onclick=\"window.commands?.execute('create-mitosheet-from-dataframe-output');\">See Full Dataframe in Mito</div> <script> if (window.commands?.hasCommand('create-mitosheet-from-dataframe-output')) document.getElementById('48cde3f7-f179-4fbd-bca5-689439c59318').style.display = 'flex' </script> <table border=\"1\" class=\"dataframe\">\n",
       "  <thead>\n",
       "    <tr style=\"text-align: right;\">\n",
       "      <th></th>\n",
       "      <th>UNFOUNDED_COUNT</th>\n",
       "    </tr>\n",
       "  </thead>\n",
       "  <tbody>\n",
       "    <tr>\n",
       "      <th>0.0</th>\n",
       "      <td>86.80</td>\n",
       "    </tr>\n",
       "    <tr>\n",
       "      <th>64.0</th>\n",
       "      <td>4.78</td>\n",
       "    </tr>\n",
       "    <tr>\n",
       "      <th>128.0</th>\n",
       "      <td>2.30</td>\n",
       "    </tr>\n",
       "    <tr>\n",
       "      <th>192.0</th>\n",
       "      <td>1.06</td>\n",
       "    </tr>\n",
       "    <tr>\n",
       "      <th>512.0</th>\n",
       "      <td>0.80</td>\n",
       "    </tr>\n",
       "    <tr>\n",
       "      <th>...</th>\n",
       "      <td>...</td>\n",
       "    </tr>\n",
       "    <tr>\n",
       "      <th>10.0</th>\n",
       "      <td>0.09</td>\n",
       "    </tr>\n",
       "    <tr>\n",
       "      <th>1664.0</th>\n",
       "      <td>0.09</td>\n",
       "    </tr>\n",
       "    <tr>\n",
       "      <th>43.0</th>\n",
       "      <td>0.09</td>\n",
       "    </tr>\n",
       "    <tr>\n",
       "      <th>832.0</th>\n",
       "      <td>0.09</td>\n",
       "    </tr>\n",
       "    <tr>\n",
       "      <th>51.0</th>\n",
       "      <td>0.09</td>\n",
       "    </tr>\n",
       "  </tbody>\n",
       "</table></div>"
      ],
      "text/plain": [
       "        UNFOUNDED_COUNT\n",
       "0.0               86.80\n",
       "64.0               4.78\n",
       "128.0              2.30\n",
       "192.0              1.06\n",
       "512.0              0.80\n",
       "256.0              0.80\n",
       "448.0              0.44\n",
       "320.0              0.35\n",
       "384.0              0.27\n",
       "768.0              0.27\n",
       "5.0                0.18\n",
       "1216.0             0.09\n",
       "704.0              0.09\n",
       "896.0              0.09\n",
       "52.0               0.09\n",
       "3264.0             0.09\n",
       "1024.0             0.09\n",
       "1536.0             0.09\n",
       "9.0                0.09\n",
       "49.0               0.09\n",
       "30.0               0.09\n",
       "686.0              0.09\n",
       "25.0               0.09\n",
       "640.0              0.09\n",
       "47.0               0.09\n",
       "56.0               0.09\n",
       "1088.0             0.09\n",
       "960.0              0.09\n",
       "10.0               0.09\n",
       "1664.0             0.09\n",
       "43.0               0.09\n",
       "832.0              0.09\n",
       "51.0               0.09"
      ]
     },
     "metadata": {},
     "output_type": "display_data"
    },
    {
     "data": {
      "text/html": [
       "<div><div id=5225b81b-b32f-4849-a2ed-0029c28012ba style=\"display:none; background-color:#9D6CFF; color:white; width:200px; height:30px; padding-left:5px; border-radius:4px; flex-direction:row; justify-content:space-around; align-items:center;\" onmouseover=\"this.style.backgroundColor='#BA9BF8'\" onmouseout=\"this.style.backgroundColor='#9D6CFF'\" onclick=\"window.commands?.execute('create-mitosheet-from-dataframe-output');\">See Full Dataframe in Mito</div> <script> if (window.commands?.hasCommand('create-mitosheet-from-dataframe-output')) document.getElementById('5225b81b-b32f-4849-a2ed-0029c28012ba').style.display = 'flex' </script> <table border=\"1\" class=\"dataframe\">\n",
       "  <thead>\n",
       "    <tr style=\"text-align: right;\">\n",
       "      <th></th>\n",
       "      <th>CLEARED_COUNT</th>\n",
       "    </tr>\n",
       "  </thead>\n",
       "  <tbody>\n",
       "    <tr>\n",
       "      <th>0</th>\n",
       "      <td>54.36</td>\n",
       "    </tr>\n",
       "    <tr>\n",
       "      <th>64</th>\n",
       "      <td>19.59</td>\n",
       "    </tr>\n",
       "    <tr>\n",
       "      <th>128</th>\n",
       "      <td>5.49</td>\n",
       "    </tr>\n",
       "    <tr>\n",
       "      <th>192</th>\n",
       "      <td>2.42</td>\n",
       "    </tr>\n",
       "    <tr>\n",
       "      <th>256</th>\n",
       "      <td>1.78</td>\n",
       "    </tr>\n",
       "    <tr>\n",
       "      <th>...</th>\n",
       "      <td>...</td>\n",
       "    </tr>\n",
       "    <tr>\n",
       "      <th>300</th>\n",
       "      <td>0.03</td>\n",
       "    </tr>\n",
       "    <tr>\n",
       "      <th>104</th>\n",
       "      <td>0.03</td>\n",
       "    </tr>\n",
       "    <tr>\n",
       "      <th>1856</th>\n",
       "      <td>0.03</td>\n",
       "    </tr>\n",
       "    <tr>\n",
       "      <th>168</th>\n",
       "      <td>0.03</td>\n",
       "    </tr>\n",
       "    <tr>\n",
       "      <th>44</th>\n",
       "      <td>0.03</td>\n",
       "    </tr>\n",
       "  </tbody>\n",
       "</table></div>"
      ],
      "text/plain": [
       "      CLEARED_COUNT\n",
       "0             54.36\n",
       "64            19.59\n",
       "128            5.49\n",
       "192            2.42\n",
       "256            1.78\n",
       "...             ...\n",
       "300            0.03\n",
       "104            0.03\n",
       "1856           0.03\n",
       "168            0.03\n",
       "44             0.03\n",
       "\n",
       "[145 rows x 1 columns]"
      ]
     },
     "metadata": {},
     "output_type": "display_data"
    },
    {
     "data": {
      "text/html": [
       "<div><div id=3722f0f7-dbad-4a3c-93f5-e549df668e4c style=\"display:none; background-color:#9D6CFF; color:white; width:200px; height:30px; padding-left:5px; border-radius:4px; flex-direction:row; justify-content:space-around; align-items:center;\" onmouseover=\"this.style.backgroundColor='#BA9BF8'\" onmouseout=\"this.style.backgroundColor='#9D6CFF'\" onclick=\"window.commands?.execute('create-mitosheet-from-dataframe-output');\">See Full Dataframe in Mito</div> <script> if (window.commands?.hasCommand('create-mitosheet-from-dataframe-output')) document.getElementById('3722f0f7-dbad-4a3c-93f5-e549df668e4c').style.display = 'flex' </script> <table border=\"1\" class=\"dataframe\">\n",
       "  <thead>\n",
       "    <tr style=\"text-align: right;\">\n",
       "      <th></th>\n",
       "      <th>JUVENILE_CLEARED_COUNT</th>\n",
       "    </tr>\n",
       "  </thead>\n",
       "  <tbody>\n",
       "    <tr>\n",
       "      <th>0</th>\n",
       "      <td>96.68</td>\n",
       "    </tr>\n",
       "    <tr>\n",
       "      <th>64</th>\n",
       "      <td>1.97</td>\n",
       "    </tr>\n",
       "    <tr>\n",
       "      <th>128</th>\n",
       "      <td>0.32</td>\n",
       "    </tr>\n",
       "    <tr>\n",
       "      <th>192</th>\n",
       "      <td>0.13</td>\n",
       "    </tr>\n",
       "    <tr>\n",
       "      <th>448</th>\n",
       "      <td>0.06</td>\n",
       "    </tr>\n",
       "    <tr>\n",
       "      <th>...</th>\n",
       "      <td>...</td>\n",
       "    </tr>\n",
       "    <tr>\n",
       "      <th>1088</th>\n",
       "      <td>0.03</td>\n",
       "    </tr>\n",
       "    <tr>\n",
       "      <th>768</th>\n",
       "      <td>0.03</td>\n",
       "    </tr>\n",
       "    <tr>\n",
       "      <th>2176</th>\n",
       "      <td>0.03</td>\n",
       "    </tr>\n",
       "    <tr>\n",
       "      <th>53</th>\n",
       "      <td>0.03</td>\n",
       "    </tr>\n",
       "    <tr>\n",
       "      <th>45</th>\n",
       "      <td>0.03</td>\n",
       "    </tr>\n",
       "  </tbody>\n",
       "</table></div>"
      ],
      "text/plain": [
       "      JUVENILE_CLEARED_COUNT\n",
       "0                      96.68\n",
       "64                      1.97\n",
       "128                     0.32\n",
       "192                     0.13\n",
       "448                     0.06\n",
       "22                      0.06\n",
       "960                     0.06\n",
       "320                     0.06\n",
       "32                      0.03\n",
       "48                      0.03\n",
       "256                     0.03\n",
       "25                      0.03\n",
       "15                      0.03\n",
       "49                      0.03\n",
       "264                     0.03\n",
       "50                      0.03\n",
       "7                       0.03\n",
       "42                      0.03\n",
       "512                     0.03\n",
       "51                      0.03\n",
       "1024                    0.03\n",
       "686                     0.03\n",
       "832                     0.03\n",
       "1088                    0.03\n",
       "768                     0.03\n",
       "2176                    0.03\n",
       "53                      0.03\n",
       "45                      0.03"
      ]
     },
     "metadata": {},
     "output_type": "display_data"
    }
   ],
   "source": [
    "for i in ht.columns:\n",
    "    display(pd.DataFrame(round(ht[i].value_counts(normalize=True)*100,2))) "
   ]
  },
  {
   "cell_type": "markdown",
   "id": "8d840010-765a-4111-8572-44e8ea522281",
   "metadata": {},
   "source": [
    "# OR"
   ]
  },
  {
   "cell_type": "code",
   "execution_count": null,
   "id": "6937dc83-99f0-4944-9012-37654adb0bae",
   "metadata": {},
   "outputs": [],
   "source": [
    "# DATA_YEAR \n",
    "# The year in which the incident occurred.\n",
    "\n",
    "ht[\"DATA_YEAR\"].value_counts()"
   ]
  },
  {
   "cell_type": "code",
   "execution_count": null,
   "id": "7ddb6161-dd0b-4468-b151-c1ecb9cfaa64",
   "metadata": {},
   "outputs": [],
   "source": [
    "# ORI – ORIGINATING AGENCY IDENTIFIER (ORI) \n",
    "# This identifies the agency in which the offense occurred.\n",
    "\n",
    "ht[\"ORI\"].value_counts()"
   ]
  },
  {
   "cell_type": "code",
   "execution_count": null,
   "id": "28b3973f-1ff8-41fc-b693-41a943aaeb50",
   "metadata": {},
   "outputs": [],
   "source": [
    "# PUB_AGENCY_NAME\n",
    "# Agency name as it appears in FBI UCR Publications.\n",
    "\n",
    "ht[\"PUB_AGENCY_NAME\"].value_counts()"
   ]
  },
  {
   "cell_type": "code",
   "execution_count": null,
   "id": "74f7d1f4-a7fe-4e03-8dce-b09534a5fd8d",
   "metadata": {},
   "outputs": [],
   "source": [
    "ht.groupby('PUB_AGENCY_NAME')['ACTUAL_COUNT'].sum() "
   ]
  },
  {
   "cell_type": "code",
   "execution_count": null,
   "id": "9dff48d2-01f1-4f76-bd65-d356246a729e",
   "metadata": {},
   "outputs": [],
   "source": [
    "# PUB_AGENCY_UNIT \n",
    "# The specific unit name for which a Publication Agency report UCR data as.\n",
    "\n",
    "ht[\"PUB_AGENCY_UNIT\"].value_counts()"
   ]
  },
  {
   "cell_type": "code",
   "execution_count": null,
   "id": "418300b0-0471-400b-b256-b39405557081",
   "metadata": {},
   "outputs": [],
   "source": [
    "ht.groupby('PUB_AGENCY_UNIT')['ACTUAL_COUNT'].sum() "
   ]
  },
  {
   "cell_type": "code",
   "execution_count": null,
   "id": "d1a094da-5537-4210-b727-49f86748e8de",
   "metadata": {},
   "outputs": [],
   "source": [
    "# AGENCY_TYPE_NAME \n",
    "# Type of agency that reports UCR data (city/county/federal agency, etc).\n",
    "\n",
    "ht[\"AGENCY_TYPE_NAME\"].value_counts()"
   ]
  },
  {
   "cell_type": "code",
   "execution_count": null,
   "id": "e4be325c-92f2-4df0-a58e-89dc29b79c36",
   "metadata": {},
   "outputs": [],
   "source": [
    "ht.groupby('AGENCY_TYPE_NAME')['ACTUAL_COUNT'].sum() "
   ]
  },
  {
   "cell_type": "code",
   "execution_count": null,
   "id": "b65f3ad4-8664-4821-a970-db2a063df468",
   "metadata": {},
   "outputs": [],
   "source": [
    "# STATE_ABBR \n",
    "# This is the state abbreviation.\n",
    "\n",
    "ht[\"STATE_ABBR\"].value_counts()"
   ]
  },
  {
   "cell_type": "code",
   "execution_count": null,
   "id": "8598925e-dbbf-43a4-a409-5ac9e34fc4ac",
   "metadata": {},
   "outputs": [],
   "source": [
    "ht.groupby('STATE_ABBR')['ACTUAL_COUNT'].sum() "
   ]
  },
  {
   "cell_type": "code",
   "execution_count": null,
   "id": "0642ba86-e4fe-4c87-9a1f-3a438f177819",
   "metadata": {},
   "outputs": [],
   "source": [
    "# STATE_NAME \n",
    "# Full name of the state.\n",
    "\n",
    "ht[\"STATE_NAME\"].value_counts()"
   ]
  },
  {
   "cell_type": "code",
   "execution_count": null,
   "id": "5a3952f6-5a4f-4a61-821a-d77ffbee133f",
   "metadata": {},
   "outputs": [],
   "source": [
    "ht.groupby('STATE_NAME')['ACTUAL_COUNT'].sum()"
   ]
  },
  {
   "cell_type": "code",
   "execution_count": null,
   "id": "ce76186f-1513-4a80-bc12-338aa0e1a790",
   "metadata": {},
   "outputs": [],
   "source": [
    "# DIVISION_NAME \n",
    "# The geographic division in which the agency is located.\n",
    "\n",
    "ht[\"DIVISION_NAME\"].value_counts()"
   ]
  },
  {
   "cell_type": "code",
   "execution_count": null,
   "id": "188d9bb2-5e2c-499a-9f75-603b939e8e8c",
   "metadata": {},
   "outputs": [],
   "source": [
    "# COUNTY_NAME \n",
    "# The name of the county within the state.\n",
    "\n",
    "ht[\"COUNTY_NAME\"].value_counts()"
   ]
  },
  {
   "cell_type": "code",
   "execution_count": null,
   "id": "d9af70dc-cfea-4542-9d93-b14065535604",
   "metadata": {},
   "outputs": [],
   "source": [
    "ht.groupby('COUNTY_NAME')['ACTUAL_COUNT'].sum() "
   ]
  },
  {
   "cell_type": "code",
   "execution_count": null,
   "id": "da971f42-85aa-4576-a8d5-01864dc2fc61",
   "metadata": {},
   "outputs": [],
   "source": [
    "# REGION_NAME \n",
    "# Geographic region in which the agency is located.\n",
    "\n",
    "ht[\"REGION_NAME\"].value_counts()"
   ]
  },
  {
   "cell_type": "code",
   "execution_count": null,
   "id": "7d329c1b-6261-4c69-9592-8aa12fef3d81",
   "metadata": {},
   "outputs": [],
   "source": [
    "# POPULATION_GROUP_CODE \n",
    "# Group 0 is possessions; 1-7 are cities; 8-9 are counties. \n",
    "\n",
    "ht[\"POPULATION_GROUP_CODE\"].value_counts()"
   ]
  },
  {
   "cell_type": "code",
   "execution_count": null,
   "id": "e4677b9b-b5a3-400d-b470-749a9293406a",
   "metadata": {},
   "outputs": [],
   "source": [
    "# POPULATION_GROUP_DESC \n",
    "# The name of the population groups.  \n",
    "\n",
    "ht[\"POPULATION_GROUP_DESC\"].value_counts()"
   ]
  },
  {
   "cell_type": "code",
   "execution_count": null,
   "id": "94319f49-d0d7-41e7-85f8-8b426c27d218",
   "metadata": {},
   "outputs": [],
   "source": [
    "# OFFENSE_SUBCAT_ID \n",
    "# A numeric code assigned to the Offense_Subcat_Name.\n",
    "\n",
    "ht[\"OFFENSE_SUBCAT_ID\"].value_counts()"
   ]
  },
  {
   "cell_type": "code",
   "execution_count": null,
   "id": "3ddd56b1-705a-46c2-bd16-8b804ed8c54b",
   "metadata": {},
   "outputs": [],
   "source": [
    "# OFFENSE_SUBCAT_NAME \n",
    "# Commercial Sex Acts \n",
    "# Human trafficking commercial sex acts is defined as inducing a person by force, fraud, or coercion \n",
    "# to participate in commercial sex acts, or in which the person induced to perform such act(s) \n",
    "# has not attained 18 years of age.\n",
    "\n",
    "ht[\"OFFENSE_SUBCAT_NAME\"].value_counts()"
   ]
  },
  {
   "cell_type": "code",
   "execution_count": null,
   "id": "59789912-6b6b-4716-b8b0-b300171caed7",
   "metadata": {},
   "outputs": [],
   "source": [
    "# OFFENSE_NAME\n",
    "# Human Trafficking: Involuntary Servitude \n",
    "# Human trafficking involuntary servitude is defined as the obtaining of a person(s) \n",
    "# through recruitment, harboring, transportation, or provision, and subjecting such persons \n",
    "# by force, fraud, or coercion into involuntary servitude, peonage, debt bondage, or slavery \n",
    "# (not to include commercial sex acts).\n",
    "\n",
    "ht[\"OFFENSE_NAME\"].value_counts()"
   ]
  },
  {
   "cell_type": "code",
   "execution_count": null,
   "id": "df49100d-a78e-428c-8cdb-d4ccb9824c7c",
   "metadata": {},
   "outputs": [],
   "source": [
    "# ACTUAL_COUNT \n",
    "# Total number of Human Trafficking offenses reported to the UCR Program.\n",
    "\n",
    "ht[\"ACTUAL_COUNT\"].value_counts()"
   ]
  },
  {
   "cell_type": "code",
   "execution_count": null,
   "id": "c73713f5-57c8-458b-ba6e-e0d41d844d53",
   "metadata": {},
   "outputs": [],
   "source": [
    "# UNFOUNDED_COUNT \n",
    "# Total number of false or baseless complaints reported to the UCR Program from law enforcement agencies. \n",
    "\n",
    "ht[\"UNFOUNDED_COUNT\"].value_counts()"
   ]
  },
  {
   "cell_type": "code",
   "execution_count": null,
   "id": "6f961194-9884-4647-b87d-f81dc2e7a030",
   "metadata": {},
   "outputs": [],
   "source": [
    "# CLEARED_COUNT \n",
    "# Total number of Human Trafficking offenses that were cleared or closed.\n",
    "\n",
    "ht[\"CLEARED_COUNT\"].value_counts()"
   ]
  },
  {
   "cell_type": "code",
   "execution_count": null,
   "id": "dac2f75b-7671-4406-8b18-0b9759e6b68f",
   "metadata": {},
   "outputs": [],
   "source": [
    "# JUVENILE_CLEARED_COUNT \n",
    "# Total number of Human Trafficking offenses that involved a juvenile offender that were cleared or closed.\n",
    "\n",
    "ht[\"JUVENILE_CLEARED_COUNT\"].value_counts()"
   ]
  },
  {
   "cell_type": "markdown",
   "id": "2c7e8523-d0a7-4c0d-9658-80eeb4eb1c7c",
   "metadata": {},
   "source": [
    "<hr style=\"height:10px;border-width:0;color:midnightblue;background-color:midnightblue\">\n",
    "\n",
    "# Page 5 - Data Wrangling/Cleaning<a class=\"anchor\" id=\"FBI_crime_page_1\"></a>\n",
    "\n",
    "[Back to Top](#FBI_crime_toc)\n",
    "\n",
    "<hr style=\"height:10px;border-width:0;color:midnightblue;background-color:midnightblue\">"
   ]
  },
  {
   "cell_type": "markdown",
   "id": "50308437-8e38-42b9-bbb1-6b2c071ed7bc",
   "metadata": {},
   "source": [
    "# Missing Data"
   ]
  },
  {
   "cell_type": "code",
   "execution_count": 11,
   "id": "27363851-b1ea-4e39-8dee-d15fce70fa17",
   "metadata": {},
   "outputs": [
    {
     "name": "stdout",
     "output_type": "stream",
     "text": [
      "(3098, 19)\n"
     ]
    }
   ],
   "source": [
    "# look at the dataset dimensions\n",
    "print(ht.shape)"
   ]
  },
  {
   "cell_type": "code",
   "execution_count": 12,
   "id": "dd192d5d-d596-4be7-85df-52d30b194e83",
   "metadata": {},
   "outputs": [
    {
     "data": {
      "text/plain": [
       "DATA_YEAR                    0\n",
       "ORI                          0\n",
       "PUB_AGENCY_NAME              0\n",
       "PUB_AGENCY_UNIT           2867\n",
       "AGENCY_TYPE_NAME             0\n",
       "STATE_ABBR                   0\n",
       "STATE_NAME                   0\n",
       "DIVISION_NAME                0\n",
       "COUNTY_NAME                  0\n",
       "REGION_NAME                  0\n",
       "POPULATION_GROUP_CODE        3\n",
       "POPULATION_GROUP_DESC        3\n",
       "OFFENSE_SUBCAT_ID            0\n",
       "OFFENSE_NAME                 0\n",
       "OFFENSE_SUBCAT_NAME          0\n",
       "ACTUAL_COUNT                 0\n",
       "UNFOUNDED_COUNT           1969\n",
       "CLEARED_COUNT                0\n",
       "JUVENILE_CLEARED_COUNT       0\n",
       "dtype: int64"
      ]
     },
     "execution_count": 12,
     "metadata": {},
     "output_type": "execute_result"
    }
   ],
   "source": [
    "# these columns are missing data\n",
    "ht.isnull().sum()"
   ]
  },
  {
   "cell_type": "code",
   "execution_count": 13,
   "id": "28dd772b-a7e0-43d4-a527-687fb986eac6",
   "metadata": {},
   "outputs": [
    {
     "data": {
      "text/plain": [
       "DATA_YEAR                 0.000000\n",
       "ORI                       0.000000\n",
       "PUB_AGENCY_NAME           0.000000\n",
       "PUB_AGENCY_UNIT           0.925436\n",
       "AGENCY_TYPE_NAME          0.000000\n",
       "STATE_ABBR                0.000000\n",
       "STATE_NAME                0.000000\n",
       "DIVISION_NAME             0.000000\n",
       "COUNTY_NAME               0.000000\n",
       "REGION_NAME               0.000000\n",
       "POPULATION_GROUP_CODE     0.000968\n",
       "POPULATION_GROUP_DESC     0.000968\n",
       "OFFENSE_SUBCAT_ID         0.000000\n",
       "OFFENSE_NAME              0.000000\n",
       "OFFENSE_SUBCAT_NAME       0.000000\n",
       "ACTUAL_COUNT              0.000000\n",
       "UNFOUNDED_COUNT           0.635571\n",
       "CLEARED_COUNT             0.000000\n",
       "JUVENILE_CLEARED_COUNT    0.000000\n",
       "dtype: float64"
      ]
     },
     "execution_count": 13,
     "metadata": {},
     "output_type": "execute_result"
    }
   ],
   "source": [
    "# this will give us the percentage of missing data per row\n",
    "ht.isnull().sum()/len(ht)"
   ]
  },
  {
   "cell_type": "code",
   "execution_count": 14,
   "id": "48f93154-ba55-4f40-8fa6-49933f60d886",
   "metadata": {},
   "outputs": [],
   "source": [
    "# double checking missing values\n",
    "# variable in data, looking at the columns with missing data, greater than 0, representing missing data, O= object for categoricals\n",
    "missing_data_categorical = [var for var in ht.columns if ht[var].isnull().mean()> 0\n",
    "                            and ht[var].dtypes == \"O\"]"
   ]
  },
  {
   "cell_type": "code",
   "execution_count": 15,
   "id": "155546f5-e080-4a2e-9ca4-a6f0d69b0ffe",
   "metadata": {},
   "outputs": [
    {
     "data": {
      "text/plain": [
       "['PUB_AGENCY_UNIT', 'POPULATION_GROUP_CODE', 'POPULATION_GROUP_DESC']"
      ]
     },
     "execution_count": 15,
     "metadata": {},
     "output_type": "execute_result"
    }
   ],
   "source": [
    "missing_data_categorical"
   ]
  },
  {
   "cell_type": "code",
   "execution_count": 16,
   "id": "2fa2ff7f-b80b-46ca-89be-8e5c4f3b8d57",
   "metadata": {},
   "outputs": [
    {
     "name": "stdout",
     "output_type": "stream",
     "text": [
      "\u001b[1mPercent Total of Nulls Values:\u001b[0m\n",
      "\n",
      "PUB_AGENCY_UNIT 0.925 %\n",
      "POPULATION_GROUP_CODE 0.001 %\n",
      "POPULATION_GROUP_DESC 0.001 %\n",
      "UNFOUNDED_COUNT 0.636 %\n"
     ]
    }
   ],
   "source": [
    "print (\"\\033[1mPercent Total of Nulls Values:\\033[0m\\n\")\n",
    "for i in ht.columns:\n",
    "    if ht[i].isna().sum():\n",
    "        print (i, round(ht[i].isna().sum()/len(ht),3), \"%\")"
   ]
  },
  {
   "cell_type": "markdown",
   "id": "a947bdad-0cd8-4797-96b8-54d941a96883",
   "metadata": {},
   "source": [
    "---\n",
    "### PUB_AGENCY_UNIT"
   ]
  },
  {
   "cell_type": "code",
   "execution_count": 17,
   "id": "df4ae3bb-959c-431d-972c-f703394fc80d",
   "metadata": {},
   "outputs": [
    {
     "data": {
      "text/plain": [
       "0.9254357650096837"
      ]
     },
     "execution_count": 17,
     "metadata": {},
     "output_type": "execute_result"
    }
   ],
   "source": [
    "# double check percentages\n",
    "ht['PUB_AGENCY_UNIT'].isnull().mean()"
   ]
  },
  {
   "cell_type": "code",
   "execution_count": 18,
   "id": "8792ce49-769a-4d33-b5fa-dbfe6a362f13",
   "metadata": {},
   "outputs": [
    {
     "data": {
      "text/plain": [
       "2867"
      ]
     },
     "execution_count": 18,
     "metadata": {},
     "output_type": "execute_result"
    }
   ],
   "source": [
    "# double check percentages\n",
    "ht['PUB_AGENCY_UNIT'].isnull().sum()"
   ]
  },
  {
   "cell_type": "markdown",
   "id": "0ebabe96-e487-456f-b963-261f99496719",
   "metadata": {},
   "source": [
    "#### Delete Column, Misssing 93% of data "
   ]
  },
  {
   "cell_type": "markdown",
   "id": "ea859e0f-e340-437c-a96a-1e2cd6538953",
   "metadata": {
    "tags": []
   },
   "source": [
    "---\n",
    "### UNFOUNDED_COUNT"
   ]
  },
  {
   "cell_type": "code",
   "execution_count": 19,
   "id": "7564466b-c0fa-4845-ba9e-c0e5238e0db2",
   "metadata": {},
   "outputs": [
    {
     "data": {
      "text/plain": [
       "0.6355713363460297"
      ]
     },
     "execution_count": 19,
     "metadata": {},
     "output_type": "execute_result"
    }
   ],
   "source": [
    "# double check percentages\n",
    "ht['UNFOUNDED_COUNT'].isnull().mean()"
   ]
  },
  {
   "cell_type": "code",
   "execution_count": 20,
   "id": "ca8e606f-d3f1-47ec-9b41-07e75265bad8",
   "metadata": {},
   "outputs": [
    {
     "data": {
      "text/plain": [
       "1969"
      ]
     },
     "execution_count": 20,
     "metadata": {},
     "output_type": "execute_result"
    }
   ],
   "source": [
    "# double check percentages\n",
    "ht['UNFOUNDED_COUNT'].isnull().sum()"
   ]
  },
  {
   "cell_type": "markdown",
   "id": "b4b2a468-6783-46f1-81f8-91e973336607",
   "metadata": {},
   "source": [
    "#### Delete Column, Misssing 64% of Data"
   ]
  },
  {
   "cell_type": "markdown",
   "id": "4b9d186f-3546-4731-9bdc-2b5ed3e34c03",
   "metadata": {},
   "source": [
    "---\n",
    "### POPULATION_GROUP_CODE and POPULATION_GROUP_DESC (same info, different column names and renames variables)"
   ]
  },
  {
   "cell_type": "code",
   "execution_count": 21,
   "id": "db4e694e-3095-4bba-81e4-3e65265afaac",
   "metadata": {},
   "outputs": [
    {
     "data": {
      "text/plain": [
       "0.0009683666881859264"
      ]
     },
     "execution_count": 21,
     "metadata": {},
     "output_type": "execute_result"
    }
   ],
   "source": [
    "# double check percentages\n",
    "ht['POPULATION_GROUP_CODE'].isnull().mean()"
   ]
  },
  {
   "cell_type": "code",
   "execution_count": 22,
   "id": "3063565e-8ad6-4725-86af-594bce150f57",
   "metadata": {},
   "outputs": [
    {
     "data": {
      "text/plain": [
       "0.0009683666881859264"
      ]
     },
     "execution_count": 22,
     "metadata": {},
     "output_type": "execute_result"
    }
   ],
   "source": [
    "# double check percentages\n",
    "ht['POPULATION_GROUP_DESC'].isnull().mean()"
   ]
  },
  {
   "cell_type": "code",
   "execution_count": 23,
   "id": "40f39949-ce89-49d7-987a-946686edac43",
   "metadata": {},
   "outputs": [
    {
     "data": {
      "text/plain": [
       "3"
      ]
     },
     "execution_count": 23,
     "metadata": {},
     "output_type": "execute_result"
    }
   ],
   "source": [
    "# double check percentages\n",
    "ht['POPULATION_GROUP_CODE'].isnull().sum()"
   ]
  },
  {
   "cell_type": "code",
   "execution_count": 24,
   "id": "fc4b2c4d-24a8-43f9-8845-917eaefe9ea8",
   "metadata": {},
   "outputs": [
    {
     "data": {
      "text/plain": [
       "3"
      ]
     },
     "execution_count": 24,
     "metadata": {},
     "output_type": "execute_result"
    }
   ],
   "source": [
    "# double check percentages\n",
    "ht['POPULATION_GROUP_DESC'].isnull().sum()"
   ]
  },
  {
   "cell_type": "markdown",
   "id": "073d84d4-88ec-40d6-9838-b89a537b1652",
   "metadata": {
    "tags": []
   },
   "source": [
    "#### Keep Column: Imputate use the mode OR machine learning to predict and fill. \n",
    "#### Misssing < 1% of data "
   ]
  },
  {
   "cell_type": "markdown",
   "id": "336ff44e-aa24-4929-80cd-1e01f380bc36",
   "metadata": {},
   "source": [
    "---\n",
    "## Looking at the Missing Data"
   ]
  },
  {
   "cell_type": "code",
   "execution_count": 25,
   "id": "44dd97c4-a12a-4b97-8266-01bdb0df48ab",
   "metadata": {},
   "outputs": [],
   "source": [
    "import pandas as pd\n",
    "import numpy as np\n",
    "import matplotlib.pyplot as plt\n",
    "import seaborn as sns\n",
    "%matplotlib inline"
   ]
  },
  {
   "cell_type": "code",
   "execution_count": 26,
   "id": "00ebc738-e6ce-4140-a526-9ab2d59a2b9d",
   "metadata": {},
   "outputs": [
    {
     "data": {
      "text/plain": [
       "<BarContainer object of 19 artists>"
      ]
     },
     "execution_count": 26,
     "metadata": {},
     "output_type": "execute_result"
    },
    {
     "data": {
      "image/png": "[encoded data removed]",
      "text/plain": [
       "<Figure size 1152x576 with 1 Axes>"
      ]
     },
     "metadata": {
      "needs_background": "light"
     },
     "output_type": "display_data"
    }
   ],
   "source": [
    "null_counts = ht.isnull().sum()/len(ht)\n",
    "plt.figure(figsize=(16,8))\n",
    "plt.xticks(np.arange(len(null_counts))+0.5,null_counts.index,rotation='vertical')\n",
    "plt.ylabel('fraction of rows with missing data')\n",
    "plt.bar(np.arange(len(null_counts)),null_counts)"
   ]
  },
  {
   "cell_type": "code",
   "execution_count": 27,
   "id": "3f04c171-eacc-403a-9151-c2d92c1cfddf",
   "metadata": {},
   "outputs": [
    {
     "data": {
      "text/plain": [
       "<AxesSubplot:>"
      ]
     },
     "execution_count": 27,
     "metadata": {},
     "output_type": "execute_result"
    },
    {
     "data": {
      "image/png": "[encoded data removed]",
      "text/plain": [
       "<Figure size 432x288 with 1 Axes>"
      ]
     },
     "metadata": {
      "needs_background": "light"
     },
     "output_type": "display_data"
    }
   ],
   "source": [
    "# looking at where the missing data is, but I do not know what those numbers represent\n",
    "ht['PUB_AGENCY_UNIT'].value_counts().plot.bar()"
   ]
  },
  {
   "cell_type": "code",
   "execution_count": 28,
   "id": "4e7d688e-4c72-4f1f-8393-5985ff185f2d",
   "metadata": {},
   "outputs": [
    {
     "data": {
      "text/plain": [
       "<AxesSubplot:>"
      ]
     },
     "execution_count": 28,
     "metadata": {},
     "output_type": "execute_result"
    },
    {
     "data": {
      "image/png": "[encoded data removed]",
      "text/plain": [
       "<Figure size 432x288 with 1 Axes>"
      ]
     },
     "metadata": {
      "needs_background": "light"
     },
     "output_type": "display_data"
    }
   ],
   "source": [
    "# looking at where the missing data is, but I do not know what those numbers represent\n",
    "ht['UNFOUNDED_COUNT'].value_counts().plot.bar()"
   ]
  },
  {
   "cell_type": "code",
   "execution_count": 29,
   "id": "79d1ff74-e816-41cf-ad66-dc7642d2ec74",
   "metadata": {},
   "outputs": [
    {
     "data": {
      "text/plain": [
       "<AxesSubplot:>"
      ]
     },
     "execution_count": 29,
     "metadata": {},
     "output_type": "execute_result"
    },
    {
     "data": {
      "image/png": "[encoded data removed]",
      "text/plain": [
       "<Figure size 432x288 with 1 Axes>"
      ]
     },
     "metadata": {
      "needs_background": "light"
     },
     "output_type": "display_data"
    }
   ],
   "source": [
    "# looking where the missing value are\n",
    "ht['POPULATION_GROUP_DESC'].value_counts().plot.bar()"
   ]
  },
  {
   "cell_type": "code",
   "execution_count": 30,
   "id": "dbccf3a1-729d-4509-96f5-dff71707c4de",
   "metadata": {},
   "outputs": [
    {
     "data": {
      "text/plain": [
       "<AxesSubplot:>"
      ]
     },
     "execution_count": 30,
     "metadata": {},
     "output_type": "execute_result"
    },
    {
     "data": {
      "image/png": "[encoded data removed]",
      "text/plain": [
       "<Figure size 432x288 with 1 Axes>"
      ]
     },
     "metadata": {
      "needs_background": "light"
     },
     "output_type": "display_data"
    }
   ],
   "source": [
    "# looking where the missing value are\n",
    "ht['POPULATION_GROUP_CODE'].value_counts().plot.bar()"
   ]
  },
  {
   "cell_type": "markdown",
   "id": "a037f863-d04a-42b6-af5f-05e47c0a7b48",
   "metadata": {},
   "source": [
    "---\n",
    "## Imputating Missing Data"
   ]
  },
  {
   "cell_type": "code",
   "execution_count": 31,
   "id": "9a730ce5-c4b5-4053-ac3a-6a619c813e79",
   "metadata": {},
   "outputs": [],
   "source": [
    "from sklearn.experimental import enable_iterative_imputer\n",
    "from sklearn.impute import IterativeImputer"
   ]
  },
  {
   "cell_type": "markdown",
   "id": "6c752b40-edc2-49ba-8bfd-2933de23cac5",
   "metadata": {},
   "source": [
    "## Recoding to Numeric for Imputation"
   ]
  },
  {
   "cell_type": "code",
   "execution_count": 32,
   "id": "f02a945c-16dc-45d2-8027-a9149686aa32",
   "metadata": {},
   "outputs": [
    {
     "data": {
      "text/plain": [
       "2     378\n",
       "3     370\n",
       "5     319\n",
       "9A    312\n",
       "4     282\n",
       "6     229\n",
       "9B    210\n",
       "1C    164\n",
       "1B    141\n",
       "8D    141\n",
       "9D    138\n",
       "8C     86\n",
       "7      82\n",
       "1A     77\n",
       "8B     68\n",
       "9C     50\n",
       "8E     36\n",
       "8A     11\n",
       "9E      1\n",
       "Name: POPULATION_GROUP_CODE, dtype: int64"
      ]
     },
     "execution_count": 32,
     "metadata": {},
     "output_type": "execute_result"
    }
   ],
   "source": [
    "ht['POPULATION_GROUP_CODE'].value_counts()"
   ]
  },
  {
   "cell_type": "code",
   "execution_count": 33,
   "id": "5c7f015a-fa1e-4e33-a5d8-8ee3415075bf",
   "metadata": {},
   "outputs": [],
   "source": [
    "ht['population_group_code'] = ht['POPULATION_GROUP_CODE'].replace([\"9A\", \"9B\", \"1C\", \"1B\", \"8D\", \"9D\", \"8C\", \"1A\", \"8B\", \"9C\", \"8E\", \"8A\", \"9E\"],[901 ,902, 103, 102, 804, 904, 803, 101, 802, 903, 805, 801, 905])\n"
   ]
  },
  {
   "cell_type": "code",
   "execution_count": 34,
   "id": "bc92c3d8-28da-4144-941d-a52e1155784e",
   "metadata": {},
   "outputs": [],
   "source": [
    "ht_mice = ht.copy(deep=True)\n",
    "\n",
    "mice_imputer = IterativeImputer()\n",
    "ht_mice['population_group_code'] = mice_imputer.fit_transform(ht_mice[['population_group_code']])"
   ]
  },
  {
   "cell_type": "code",
   "execution_count": 35,
   "id": "81d2d139-4213-40ee-b2b9-3114b19b7fab",
   "metadata": {},
   "outputs": [
    {
     "data": {
      "text/html": [
       "<div><div id=b4b86ac3-da23-456c-91f8-3f1f5e57f09d style=\"display:none; background-color:#9D6CFF; color:white; width:200px; height:30px; padding-left:5px; border-radius:4px; flex-direction:row; justify-content:space-around; align-items:center;\" onmouseover=\"this.style.backgroundColor='#BA9BF8'\" onmouseout=\"this.style.backgroundColor='#9D6CFF'\" onclick=\"window.commands?.execute('create-mitosheet-from-dataframe-output');\">See Full Dataframe in Mito</div> <script> if (window.commands?.hasCommand('create-mitosheet-from-dataframe-output')) document.getElementById('b4b86ac3-da23-456c-91f8-3f1f5e57f09d').style.display = 'flex' </script> <table border=\"1\" class=\"dataframe\">\n",
       "  <thead>\n",
       "    <tr style=\"text-align: right;\">\n",
       "      <th></th>\n",
       "      <th>DATA_YEAR</th>\n",
       "      <th>ORI</th>\n",
       "      <th>PUB_AGENCY_NAME</th>\n",
       "      <th>PUB_AGENCY_UNIT</th>\n",
       "      <th>AGENCY_TYPE_NAME</th>\n",
       "      <th>STATE_ABBR</th>\n",
       "      <th>STATE_NAME</th>\n",
       "      <th>DIVISION_NAME</th>\n",
       "      <th>COUNTY_NAME</th>\n",
       "      <th>REGION_NAME</th>\n",
       "      <th>POPULATION_GROUP_CODE</th>\n",
       "      <th>POPULATION_GROUP_DESC</th>\n",
       "      <th>OFFENSE_SUBCAT_ID</th>\n",
       "      <th>OFFENSE_NAME</th>\n",
       "      <th>OFFENSE_SUBCAT_NAME</th>\n",
       "      <th>ACTUAL_COUNT</th>\n",
       "      <th>UNFOUNDED_COUNT</th>\n",
       "      <th>CLEARED_COUNT</th>\n",
       "      <th>JUVENILE_CLEARED_COUNT</th>\n",
       "      <th>population_group_code</th>\n",
       "    </tr>\n",
       "  </thead>\n",
       "  <tbody>\n",
       "    <tr>\n",
       "      <th>0</th>\n",
       "      <td>2013</td>\n",
       "      <td>MO0950000</td>\n",
       "      <td>St. Louis County Police Department</td>\n",
       "      <td>NaN</td>\n",
       "      <td>County</td>\n",
       "      <td>MO</td>\n",
       "      <td>Missouri</td>\n",
       "      <td>West North Central</td>\n",
       "      <td>ST LOUIS</td>\n",
       "      <td>Midwest</td>\n",
       "      <td>9A</td>\n",
       "      <td>MSA counties 100,000 or over</td>\n",
       "      <td>HTCSA</td>\n",
       "      <td>Human Trafficking</td>\n",
       "      <td>Commercial Sex Acts</td>\n",
       "      <td>384</td>\n",
       "      <td>0.0</td>\n",
       "      <td>384</td>\n",
       "      <td>0</td>\n",
       "      <td>901.0</td>\n",
       "    </tr>\n",
       "    <tr>\n",
       "      <th>1</th>\n",
       "      <td>2013</td>\n",
       "      <td>OH0020000</td>\n",
       "      <td>Allen</td>\n",
       "      <td>NaN</td>\n",
       "      <td>County</td>\n",
       "      <td>OH</td>\n",
       "      <td>Ohio</td>\n",
       "      <td>East North Central</td>\n",
       "      <td>ALLEN</td>\n",
       "      <td>Midwest</td>\n",
       "      <td>9C</td>\n",
       "      <td>MSA counties from 10,000 thru 24,999</td>\n",
       "      <td>HTCSA</td>\n",
       "      <td>Human Trafficking</td>\n",
       "      <td>Commercial Sex Acts</td>\n",
       "      <td>64</td>\n",
       "      <td>0.0</td>\n",
       "      <td>64</td>\n",
       "      <td>0</td>\n",
       "      <td>903.0</td>\n",
       "    </tr>\n",
       "    <tr>\n",
       "      <th>2</th>\n",
       "      <td>2013</td>\n",
       "      <td>OH0020000</td>\n",
       "      <td>Allen</td>\n",
       "      <td>NaN</td>\n",
       "      <td>County</td>\n",
       "      <td>OH</td>\n",
       "      <td>Ohio</td>\n",
       "      <td>East North Central</td>\n",
       "      <td>ALLEN</td>\n",
       "      <td>Midwest</td>\n",
       "      <td>9C</td>\n",
       "      <td>MSA counties from 10,000 thru 24,999</td>\n",
       "      <td>HTIS</td>\n",
       "      <td>Human Trafficking</td>\n",
       "      <td>Involuntary Servitude</td>\n",
       "      <td>64</td>\n",
       "      <td>0.0</td>\n",
       "      <td>0</td>\n",
       "      <td>0</td>\n",
       "      <td>903.0</td>\n",
       "    </tr>\n",
       "    <tr>\n",
       "      <th>3</th>\n",
       "      <td>2013</td>\n",
       "      <td>TN0320100</td>\n",
       "      <td>Morristown</td>\n",
       "      <td>NaN</td>\n",
       "      <td>City</td>\n",
       "      <td>TN</td>\n",
       "      <td>Tennessee</td>\n",
       "      <td>East South Central</td>\n",
       "      <td>HAMBLEN, JEFFERSON</td>\n",
       "      <td>South</td>\n",
       "      <td>4</td>\n",
       "      <td>Cities from 25,000 thru 49,999</td>\n",
       "      <td>HTCSA</td>\n",
       "      <td>Human Trafficking</td>\n",
       "      <td>Commercial Sex Acts</td>\n",
       "      <td>64</td>\n",
       "      <td>0.0</td>\n",
       "      <td>64</td>\n",
       "      <td>0</td>\n",
       "      <td>4.0</td>\n",
       "    </tr>\n",
       "    <tr>\n",
       "      <th>4</th>\n",
       "      <td>2013</td>\n",
       "      <td>TNMPD0000</td>\n",
       "      <td>Memphis</td>\n",
       "      <td>NaN</td>\n",
       "      <td>City</td>\n",
       "      <td>TN</td>\n",
       "      <td>Tennessee</td>\n",
       "      <td>East South Central</td>\n",
       "      <td>SHELBY</td>\n",
       "      <td>South</td>\n",
       "      <td>1B</td>\n",
       "      <td>Cities from 500,000 thru 999,999</td>\n",
       "      <td>HTCSA</td>\n",
       "      <td>Human Trafficking</td>\n",
       "      <td>Commercial Sex Acts</td>\n",
       "      <td>192</td>\n",
       "      <td>0.0</td>\n",
       "      <td>128</td>\n",
       "      <td>0</td>\n",
       "      <td>102.0</td>\n",
       "    </tr>\n",
       "    <tr>\n",
       "      <th>...</th>\n",
       "      <td>...</td>\n",
       "      <td>...</td>\n",
       "      <td>...</td>\n",
       "      <td>...</td>\n",
       "      <td>...</td>\n",
       "      <td>...</td>\n",
       "      <td>...</td>\n",
       "      <td>...</td>\n",
       "      <td>...</td>\n",
       "      <td>...</td>\n",
       "      <td>...</td>\n",
       "      <td>...</td>\n",
       "      <td>...</td>\n",
       "      <td>...</td>\n",
       "      <td>...</td>\n",
       "      <td>...</td>\n",
       "      <td>...</td>\n",
       "      <td>...</td>\n",
       "      <td>...</td>\n",
       "      <td>...</td>\n",
       "    </tr>\n",
       "    <tr>\n",
       "      <th>3093</th>\n",
       "      <td>2021</td>\n",
       "      <td>WY0010100</td>\n",
       "      <td>Laramie</td>\n",
       "      <td>NaN</td>\n",
       "      <td>City</td>\n",
       "      <td>WY</td>\n",
       "      <td>Wyoming</td>\n",
       "      <td>Mountain</td>\n",
       "      <td>ALBANY</td>\n",
       "      <td>West</td>\n",
       "      <td>4</td>\n",
       "      <td>Cities from 25,000 thru 49,999</td>\n",
       "      <td>HTCSA</td>\n",
       "      <td>Human Trafficking</td>\n",
       "      <td>Commercial Sex Acts</td>\n",
       "      <td>128</td>\n",
       "      <td>NaN</td>\n",
       "      <td>0</td>\n",
       "      <td>0</td>\n",
       "      <td>4.0</td>\n",
       "    </tr>\n",
       "    <tr>\n",
       "      <th>3094</th>\n",
       "      <td>2021</td>\n",
       "      <td>WY0010100</td>\n",
       "      <td>Laramie</td>\n",
       "      <td>NaN</td>\n",
       "      <td>City</td>\n",
       "      <td>WY</td>\n",
       "      <td>Wyoming</td>\n",
       "      <td>Mountain</td>\n",
       "      <td>ALBANY</td>\n",
       "      <td>West</td>\n",
       "      <td>4</td>\n",
       "      <td>Cities from 25,000 thru 49,999</td>\n",
       "      <td>HTIS</td>\n",
       "      <td>Human Trafficking</td>\n",
       "      <td>Involuntary Servitude</td>\n",
       "      <td>64</td>\n",
       "      <td>NaN</td>\n",
       "      <td>0</td>\n",
       "      <td>0</td>\n",
       "      <td>4.0</td>\n",
       "    </tr>\n",
       "    <tr>\n",
       "      <th>3095</th>\n",
       "      <td>2021</td>\n",
       "      <td>WY0050000</td>\n",
       "      <td>Converse</td>\n",
       "      <td>NaN</td>\n",
       "      <td>County</td>\n",
       "      <td>WY</td>\n",
       "      <td>Wyoming</td>\n",
       "      <td>Mountain</td>\n",
       "      <td>CONVERSE</td>\n",
       "      <td>West</td>\n",
       "      <td>8D</td>\n",
       "      <td>Non-MSA counties under 10,000</td>\n",
       "      <td>HTCSA</td>\n",
       "      <td>Human Trafficking</td>\n",
       "      <td>Commercial Sex Acts</td>\n",
       "      <td>128</td>\n",
       "      <td>NaN</td>\n",
       "      <td>128</td>\n",
       "      <td>0</td>\n",
       "      <td>804.0</td>\n",
       "    </tr>\n",
       "    <tr>\n",
       "      <th>3096</th>\n",
       "      <td>2021</td>\n",
       "      <td>WY0080100</td>\n",
       "      <td>Torrington</td>\n",
       "      <td>NaN</td>\n",
       "      <td>City</td>\n",
       "      <td>WY</td>\n",
       "      <td>Wyoming</td>\n",
       "      <td>Mountain</td>\n",
       "      <td>GOSHEN</td>\n",
       "      <td>West</td>\n",
       "      <td>6</td>\n",
       "      <td>Cities from 2,500 thru 9,999</td>\n",
       "      <td>HTIS</td>\n",
       "      <td>Human Trafficking</td>\n",
       "      <td>Involuntary Servitude</td>\n",
       "      <td>128</td>\n",
       "      <td>NaN</td>\n",
       "      <td>64</td>\n",
       "      <td>0</td>\n",
       "      <td>6.0</td>\n",
       "    </tr>\n",
       "    <tr>\n",
       "      <th>3097</th>\n",
       "      <td>2021</td>\n",
       "      <td>WY0110400</td>\n",
       "      <td>Wyoming Division of Criminal Investigation</td>\n",
       "      <td>NaN</td>\n",
       "      <td>Other State Agency</td>\n",
       "      <td>WY</td>\n",
       "      <td>Wyoming</td>\n",
       "      <td>Mountain</td>\n",
       "      <td>LARAMIE</td>\n",
       "      <td>West</td>\n",
       "      <td>9D</td>\n",
       "      <td>MSA counties under 10,000</td>\n",
       "      <td>HTIS</td>\n",
       "      <td>Human Trafficking</td>\n",
       "      <td>Involuntary Servitude</td>\n",
       "      <td>20</td>\n",
       "      <td>NaN</td>\n",
       "      <td>8</td>\n",
       "      <td>0</td>\n",
       "      <td>904.0</td>\n",
       "    </tr>\n",
       "  </tbody>\n",
       "</table></div>"
      ],
      "text/plain": [
       "      DATA_YEAR        ORI                             PUB_AGENCY_NAME  \\\n",
       "0          2013  MO0950000          St. Louis County Police Department   \n",
       "1          2013  OH0020000                                       Allen   \n",
       "2          2013  OH0020000                                       Allen   \n",
       "3          2013  TN0320100                                  Morristown   \n",
       "4          2013  TNMPD0000                                     Memphis   \n",
       "...         ...        ...                                         ...   \n",
       "3093       2021  WY0010100                                     Laramie   \n",
       "3094       2021  WY0010100                                     Laramie   \n",
       "3095       2021  WY0050000                                    Converse   \n",
       "3096       2021  WY0080100                                  Torrington   \n",
       "3097       2021  WY0110400  Wyoming Division of Criminal Investigation   \n",
       "\n",
       "     PUB_AGENCY_UNIT    AGENCY_TYPE_NAME STATE_ABBR STATE_NAME  \\\n",
       "0                NaN              County         MO   Missouri   \n",
       "1                NaN              County         OH       Ohio   \n",
       "2                NaN              County         OH       Ohio   \n",
       "3                NaN                City         TN  Tennessee   \n",
       "4                NaN                City         TN  Tennessee   \n",
       "...              ...                 ...        ...        ...   \n",
       "3093             NaN                City         WY    Wyoming   \n",
       "3094             NaN                City         WY    Wyoming   \n",
       "3095             NaN              County         WY    Wyoming   \n",
       "3096             NaN                City         WY    Wyoming   \n",
       "3097             NaN  Other State Agency         WY    Wyoming   \n",
       "\n",
       "           DIVISION_NAME         COUNTY_NAME REGION_NAME  \\\n",
       "0     West North Central            ST LOUIS     Midwest   \n",
       "1     East North Central               ALLEN     Midwest   \n",
       "2     East North Central               ALLEN     Midwest   \n",
       "3     East South Central  HAMBLEN, JEFFERSON       South   \n",
       "4     East South Central              SHELBY       South   \n",
       "...                  ...                 ...         ...   \n",
       "3093            Mountain              ALBANY        West   \n",
       "3094            Mountain              ALBANY        West   \n",
       "3095            Mountain            CONVERSE        West   \n",
       "3096            Mountain              GOSHEN        West   \n",
       "3097            Mountain             LARAMIE        West   \n",
       "\n",
       "     POPULATION_GROUP_CODE                 POPULATION_GROUP_DESC  \\\n",
       "0                       9A          MSA counties 100,000 or over   \n",
       "1                       9C  MSA counties from 10,000 thru 24,999   \n",
       "2                       9C  MSA counties from 10,000 thru 24,999   \n",
       "3                        4        Cities from 25,000 thru 49,999   \n",
       "4                       1B      Cities from 500,000 thru 999,999   \n",
       "...                    ...                                   ...   \n",
       "3093                     4        Cities from 25,000 thru 49,999   \n",
       "3094                     4        Cities from 25,000 thru 49,999   \n",
       "3095                    8D         Non-MSA counties under 10,000   \n",
       "3096                     6          Cities from 2,500 thru 9,999   \n",
       "3097                    9D             MSA counties under 10,000   \n",
       "\n",
       "     OFFENSE_SUBCAT_ID       OFFENSE_NAME    OFFENSE_SUBCAT_NAME  \\\n",
       "0                HTCSA  Human Trafficking    Commercial Sex Acts   \n",
       "1                HTCSA  Human Trafficking    Commercial Sex Acts   \n",
       "2                 HTIS  Human Trafficking  Involuntary Servitude   \n",
       "3                HTCSA  Human Trafficking    Commercial Sex Acts   \n",
       "4                HTCSA  Human Trafficking    Commercial Sex Acts   \n",
       "...                ...                ...                    ...   \n",
       "3093             HTCSA  Human Trafficking    Commercial Sex Acts   \n",
       "3094              HTIS  Human Trafficking  Involuntary Servitude   \n",
       "3095             HTCSA  Human Trafficking    Commercial Sex Acts   \n",
       "3096              HTIS  Human Trafficking  Involuntary Servitude   \n",
       "3097              HTIS  Human Trafficking  Involuntary Servitude   \n",
       "\n",
       "      ACTUAL_COUNT  UNFOUNDED_COUNT  CLEARED_COUNT  JUVENILE_CLEARED_COUNT  \\\n",
       "0              384              0.0            384                       0   \n",
       "1               64              0.0             64                       0   \n",
       "2               64              0.0              0                       0   \n",
       "3               64              0.0             64                       0   \n",
       "4              192              0.0            128                       0   \n",
       "...            ...              ...            ...                     ...   \n",
       "3093           128              NaN              0                       0   \n",
       "3094            64              NaN              0                       0   \n",
       "3095           128              NaN            128                       0   \n",
       "3096           128              NaN             64                       0   \n",
       "3097            20              NaN              8                       0   \n",
       "\n",
       "      population_group_code  \n",
       "0                     901.0  \n",
       "1                     903.0  \n",
       "2                     903.0  \n",
       "3                       4.0  \n",
       "4                     102.0  \n",
       "...                     ...  \n",
       "3093                    4.0  \n",
       "3094                    4.0  \n",
       "3095                  804.0  \n",
       "3096                    6.0  \n",
       "3097                  904.0  \n",
       "\n",
       "[3098 rows x 20 columns]"
      ]
     },
     "execution_count": 35,
     "metadata": {},
     "output_type": "execute_result"
    }
   ],
   "source": [
    "ht_mice"
   ]
  },
  {
   "cell_type": "markdown",
   "id": "b31ab2ba-26ac-4609-b7b6-46ce1d4e6f96",
   "metadata": {},
   "source": [
    "---"
   ]
  },
  {
   "cell_type": "markdown",
   "id": "7d0c7be8-d476-4042-bb79-36b7eaaa7b1f",
   "metadata": {},
   "source": [
    "## Recoding for Analysis"
   ]
  },
  {
   "cell_type": "code",
   "execution_count": null,
   "id": "b90d7551-51e2-4bb9-9d5c-a0f29d14152c",
   "metadata": {},
   "outputs": [],
   "source": []
  },
  {
   "cell_type": "markdown",
   "id": "a63e0d17-88f6-4700-a2e2-199f4db44739",
   "metadata": {},
   "source": [
    "---"
   ]
  },
  {
   "cell_type": "markdown",
   "id": "8bdf2999-6f5d-4ba9-a44f-52e8960fb3e3",
   "metadata": {},
   "source": [
    "## Deleting Columns"
   ]
  },
  {
   "cell_type": "markdown",
   "id": "a6a38835-ba52-4a26-bbda-ceac5104b2c0",
   "metadata": {},
   "source": [
    "- \"PUB_AGENCY_UNIT\"\n",
    "- \"UNFOUNDED_COUNT\"\n",
    "- \"ORI\"\n",
    "- \"REGION_NAME\" (missing east coast)\n",
    "- \"OFFENSE_NAME\" (all human trafficing) \n",
    "- \"OFFENSE_SUBCAT_NAME\"\n",
    "- \"POPULATION_GROUP_CODE\" (repeative and recoded)\n",
    "- \"DIVISION_NAME\""
   ]
  },
  {
   "cell_type": "code",
   "execution_count": 36,
   "id": "f1023874-b95f-4b94-ac8e-5a814f9c0102",
   "metadata": {},
   "outputs": [],
   "source": [
    "ht.drop([\"PUB_AGENCY_UNIT\",\"UNFOUNDED_COUNT\",\"ORI\",\"OFFENSE_SUBCAT_NAME\",\"POPULATION_GROUP_CODE\", \"DIVISION_NAME\"], axis=1, inplace=True)\n"
   ]
  },
  {
   "cell_type": "code",
   "execution_count": 37,
   "id": "ff5c9513-3994-4014-ac88-0958630b1a27",
   "metadata": {},
   "outputs": [
    {
     "data": {
      "text/html": [
       "<div><div id=b178267b-5423-481e-9435-c6db4bfc40bf style=\"display:none; background-color:#9D6CFF; color:white; width:200px; height:30px; padding-left:5px; border-radius:4px; flex-direction:row; justify-content:space-around; align-items:center;\" onmouseover=\"this.style.backgroundColor='#BA9BF8'\" onmouseout=\"this.style.backgroundColor='#9D6CFF'\" onclick=\"window.commands?.execute('create-mitosheet-from-dataframe-output');\">See Full Dataframe in Mito</div> <script> if (window.commands?.hasCommand('create-mitosheet-from-dataframe-output')) document.getElementById('b178267b-5423-481e-9435-c6db4bfc40bf').style.display = 'flex' </script> <table border=\"1\" class=\"dataframe\">\n",
       "  <thead>\n",
       "    <tr style=\"text-align: right;\">\n",
       "      <th></th>\n",
       "      <th>DATA_YEAR</th>\n",
       "      <th>PUB_AGENCY_NAME</th>\n",
       "      <th>AGENCY_TYPE_NAME</th>\n",
       "      <th>STATE_ABBR</th>\n",
       "      <th>STATE_NAME</th>\n",
       "      <th>COUNTY_NAME</th>\n",
       "      <th>REGION_NAME</th>\n",
       "      <th>POPULATION_GROUP_DESC</th>\n",
       "      <th>OFFENSE_SUBCAT_ID</th>\n",
       "      <th>OFFENSE_NAME</th>\n",
       "      <th>ACTUAL_COUNT</th>\n",
       "      <th>CLEARED_COUNT</th>\n",
       "      <th>JUVENILE_CLEARED_COUNT</th>\n",
       "      <th>population_group_code</th>\n",
       "    </tr>\n",
       "  </thead>\n",
       "  <tbody>\n",
       "    <tr>\n",
       "      <th>0</th>\n",
       "      <td>2013</td>\n",
       "      <td>St. Louis County Police Department</td>\n",
       "      <td>County</td>\n",
       "      <td>MO</td>\n",
       "      <td>Missouri</td>\n",
       "      <td>ST LOUIS</td>\n",
       "      <td>Midwest</td>\n",
       "      <td>MSA counties 100,000 or over</td>\n",
       "      <td>HTCSA</td>\n",
       "      <td>Human Trafficking</td>\n",
       "      <td>384</td>\n",
       "      <td>384</td>\n",
       "      <td>0</td>\n",
       "      <td>901</td>\n",
       "    </tr>\n",
       "    <tr>\n",
       "      <th>1</th>\n",
       "      <td>2013</td>\n",
       "      <td>Allen</td>\n",
       "      <td>County</td>\n",
       "      <td>OH</td>\n",
       "      <td>Ohio</td>\n",
       "      <td>ALLEN</td>\n",
       "      <td>Midwest</td>\n",
       "      <td>MSA counties from 10,000 thru 24,999</td>\n",
       "      <td>HTCSA</td>\n",
       "      <td>Human Trafficking</td>\n",
       "      <td>64</td>\n",
       "      <td>64</td>\n",
       "      <td>0</td>\n",
       "      <td>903</td>\n",
       "    </tr>\n",
       "    <tr>\n",
       "      <th>2</th>\n",
       "      <td>2013</td>\n",
       "      <td>Allen</td>\n",
       "      <td>County</td>\n",
       "      <td>OH</td>\n",
       "      <td>Ohio</td>\n",
       "      <td>ALLEN</td>\n",
       "      <td>Midwest</td>\n",
       "      <td>MSA counties from 10,000 thru 24,999</td>\n",
       "      <td>HTIS</td>\n",
       "      <td>Human Trafficking</td>\n",
       "      <td>64</td>\n",
       "      <td>0</td>\n",
       "      <td>0</td>\n",
       "      <td>903</td>\n",
       "    </tr>\n",
       "    <tr>\n",
       "      <th>3</th>\n",
       "      <td>2013</td>\n",
       "      <td>Morristown</td>\n",
       "      <td>City</td>\n",
       "      <td>TN</td>\n",
       "      <td>Tennessee</td>\n",
       "      <td>HAMBLEN, JEFFERSON</td>\n",
       "      <td>South</td>\n",
       "      <td>Cities from 25,000 thru 49,999</td>\n",
       "      <td>HTCSA</td>\n",
       "      <td>Human Trafficking</td>\n",
       "      <td>64</td>\n",
       "      <td>64</td>\n",
       "      <td>0</td>\n",
       "      <td>4</td>\n",
       "    </tr>\n",
       "    <tr>\n",
       "      <th>4</th>\n",
       "      <td>2013</td>\n",
       "      <td>Memphis</td>\n",
       "      <td>City</td>\n",
       "      <td>TN</td>\n",
       "      <td>Tennessee</td>\n",
       "      <td>SHELBY</td>\n",
       "      <td>South</td>\n",
       "      <td>Cities from 500,000 thru 999,999</td>\n",
       "      <td>HTCSA</td>\n",
       "      <td>Human Trafficking</td>\n",
       "      <td>192</td>\n",
       "      <td>128</td>\n",
       "      <td>0</td>\n",
       "      <td>102</td>\n",
       "    </tr>\n",
       "  </tbody>\n",
       "</table></div>"
      ],
      "text/plain": [
       "   DATA_YEAR                     PUB_AGENCY_NAME AGENCY_TYPE_NAME STATE_ABBR  \\\n",
       "0       2013  St. Louis County Police Department           County         MO   \n",
       "1       2013                               Allen           County         OH   \n",
       "2       2013                               Allen           County         OH   \n",
       "3       2013                          Morristown             City         TN   \n",
       "4       2013                             Memphis             City         TN   \n",
       "\n",
       "  STATE_NAME         COUNTY_NAME REGION_NAME  \\\n",
       "0   Missouri            ST LOUIS     Midwest   \n",
       "1       Ohio               ALLEN     Midwest   \n",
       "2       Ohio               ALLEN     Midwest   \n",
       "3  Tennessee  HAMBLEN, JEFFERSON       South   \n",
       "4  Tennessee              SHELBY       South   \n",
       "\n",
       "                  POPULATION_GROUP_DESC OFFENSE_SUBCAT_ID       OFFENSE_NAME  \\\n",
       "0          MSA counties 100,000 or over             HTCSA  Human Trafficking   \n",
       "1  MSA counties from 10,000 thru 24,999             HTCSA  Human Trafficking   \n",
       "2  MSA counties from 10,000 thru 24,999              HTIS  Human Trafficking   \n",
       "3        Cities from 25,000 thru 49,999             HTCSA  Human Trafficking   \n",
       "4      Cities from 500,000 thru 999,999             HTCSA  Human Trafficking   \n",
       "\n",
       "   ACTUAL_COUNT  CLEARED_COUNT  JUVENILE_CLEARED_COUNT population_group_code  \n",
       "0           384            384                       0                   901  \n",
       "1            64             64                       0                   903  \n",
       "2            64              0                       0                   903  \n",
       "3            64             64                       0                     4  \n",
       "4           192            128                       0                   102  "
      ]
     },
     "execution_count": 37,
     "metadata": {},
     "output_type": "execute_result"
    }
   ],
   "source": [
    "ht.head()"
   ]
  },
  {
   "cell_type": "code",
   "execution_count": 38,
   "id": "0518f6f8-334b-415f-bfc4-8b842bfbf313",
   "metadata": {},
   "outputs": [
    {
     "data": {
      "text/plain": [
       "Index(['DATA_YEAR', 'PUB_AGENCY_NAME', 'AGENCY_TYPE_NAME', 'STATE_ABBR',\n",
       "       'STATE_NAME', 'COUNTY_NAME', 'REGION_NAME', 'POPULATION_GROUP_DESC',\n",
       "       'OFFENSE_SUBCAT_ID', 'OFFENSE_NAME', 'ACTUAL_COUNT', 'CLEARED_COUNT',\n",
       "       'JUVENILE_CLEARED_COUNT', 'population_group_code'],\n",
       "      dtype='object')"
      ]
     },
     "execution_count": 38,
     "metadata": {},
     "output_type": "execute_result"
    }
   ],
   "source": [
    "ht.columns"
   ]
  },
  {
   "cell_type": "markdown",
   "id": "48edd6ef-0a05-486f-bd6d-280bb3209ffc",
   "metadata": {},
   "source": [
    "---\n",
    "## Tranforming Data\n",
    "Pros and Cons to Transforming Your Data\n",
    "Pros:\n",
    "\n",
    "Makes your distribution normal\n",
    "Helps fix issues with homoscedasticity (even variance) and non-linearity\n",
    "Improves the accuracy of the results\n",
    "There is only one major con. In transforming your data, you change the scale, which means that interpretation, especially for regressions, can be much more difficult."
   ]
  },
  {
   "cell_type": "code",
   "execution_count": 39,
   "id": "c561683a-b87e-4125-88a0-491d216158f9",
   "metadata": {},
   "outputs": [
    {
     "data": {
      "text/plain": [
       "<seaborn.axisgrid.PairGrid at 0x11f521c40>"
      ]
     },
     "execution_count": 39,
     "metadata": {},
     "output_type": "execute_result"
    },
    {
     "data": {
      "image/png": "[encoded data removed]",
      "text/plain": [
       "<Figure size 720x720 with 20 Axes>"
      ]
     },
     "metadata": {
      "needs_background": "light"
     },
     "output_type": "display_data"
    }
   ],
   "source": [
    "sns.pairplot(ht)"
   ]
  },
  {
   "cell_type": "markdown",
   "id": "8990b4a2-ffcb-4e45-8e40-e2bdaddad484",
   "metadata": {},
   "source": [
    "### Tranform Actual_Count"
   ]
  },
  {
   "cell_type": "code",
   "execution_count": 40,
   "id": "44f22401-03c9-485e-afe7-f86b5fa2a50f",
   "metadata": {},
   "outputs": [
    {
     "name": "stderr",
     "output_type": "stream",
     "text": [
      "/opt/homebrew/lib/python3.9/site-packages/seaborn/distributions.py:2619: FutureWarning: `distplot` is a deprecated function and will be removed in a future version. Please adapt your code to use either `displot` (a figure-level function with similar flexibility) or `histplot` (an axes-level function for histograms).\n",
      "  warnings.warn(msg, FutureWarning)\n"
     ]
    },
    {
     "data": {
      "text/plain": [
       "<AxesSubplot:xlabel='ACTUAL_COUNT', ylabel='Density'>"
      ]
     },
     "execution_count": 40,
     "metadata": {},
     "output_type": "execute_result"
    },
    {
     "data": {
      "image/png": "[encoded data removed]",
      "text/plain": [
       "<Figure size 432x288 with 1 Axes>"
      ]
     },
     "metadata": {
      "needs_background": "light"
     },
     "output_type": "display_data"
    }
   ],
   "source": [
    "sns.distplot(ht['ACTUAL_COUNT'])"
   ]
  },
  {
   "cell_type": "code",
   "execution_count": 41,
   "id": "441d4768-4f50-4e9d-ab08-8c498670ea89",
   "metadata": {},
   "outputs": [
    {
     "name": "stderr",
     "output_type": "stream",
     "text": [
      "/opt/homebrew/lib/python3.9/site-packages/pandas/core/arraylike.py:364: RuntimeWarning: invalid value encountered in sqrt\n",
      "  result = getattr(ufunc, method)(*inputs, **kwargs)\n"
     ]
    }
   ],
   "source": [
    "ht['ACTUAL_COUNT_SQRT'] = np.sqrt(ht['ACTUAL_COUNT'])"
   ]
  },
  {
   "cell_type": "code",
   "execution_count": 42,
   "id": "65c5c7ad-47d8-47ba-8dd9-871e72a77412",
   "metadata": {},
   "outputs": [
    {
     "name": "stderr",
     "output_type": "stream",
     "text": [
      "/opt/homebrew/lib/python3.9/site-packages/seaborn/distributions.py:2619: FutureWarning: `distplot` is a deprecated function and will be removed in a future version. Please adapt your code to use either `displot` (a figure-level function with similar flexibility) or `histplot` (an axes-level function for histograms).\n",
      "  warnings.warn(msg, FutureWarning)\n"
     ]
    },
    {
     "data": {
      "text/plain": [
       "<AxesSubplot:xlabel='ACTUAL_COUNT_SQRT', ylabel='Density'>"
      ]
     },
     "execution_count": 42,
     "metadata": {},
     "output_type": "execute_result"
    },
    {
     "data": {
      "image/png": "[encoded data removed]",
      "text/plain": [
       "<Figure size 432x288 with 1 Axes>"
      ]
     },
     "metadata": {
      "needs_background": "light"
     },
     "output_type": "display_data"
    }
   ],
   "source": [
    "sns.distplot(ht['ACTUAL_COUNT_SQRT'])"
   ]
  },
  {
   "cell_type": "markdown",
   "id": "790aa198-b05b-488a-89b9-dfa09223fb44",
   "metadata": {},
   "source": [
    "### Transform Cleared_Count"
   ]
  },
  {
   "cell_type": "code",
   "execution_count": 43,
   "id": "4461cace-313c-4dbc-a0db-185fc41d8a43",
   "metadata": {},
   "outputs": [
    {
     "name": "stderr",
     "output_type": "stream",
     "text": [
      "/opt/homebrew/lib/python3.9/site-packages/seaborn/distributions.py:2619: FutureWarning: `distplot` is a deprecated function and will be removed in a future version. Please adapt your code to use either `displot` (a figure-level function with similar flexibility) or `histplot` (an axes-level function for histograms).\n",
      "  warnings.warn(msg, FutureWarning)\n"
     ]
    },
    {
     "data": {
      "text/plain": [
       "<AxesSubplot:xlabel='CLEARED_COUNT', ylabel='Density'>"
      ]
     },
     "execution_count": 43,
     "metadata": {},
     "output_type": "execute_result"
    },
    {
     "data": {
      "image/png": "[encoded data removed]",
      "text/plain": [
       "<Figure size 432x288 with 1 Axes>"
      ]
     },
     "metadata": {
      "needs_background": "light"
     },
     "output_type": "display_data"
    }
   ],
   "source": [
    "sns.distplot(ht['CLEARED_COUNT'])"
   ]
  },
  {
   "cell_type": "code",
   "execution_count": 44,
   "id": "4b960809-452a-4a31-9b82-666407442d26",
   "metadata": {},
   "outputs": [],
   "source": [
    "ht['CLEARED_COUNT_SQRT'] = np.sqrt(ht['CLEARED_COUNT'])"
   ]
  },
  {
   "cell_type": "code",
   "execution_count": 45,
   "id": "65218155-23e2-4b67-b173-d1d9b5cde671",
   "metadata": {},
   "outputs": [
    {
     "name": "stderr",
     "output_type": "stream",
     "text": [
      "/opt/homebrew/lib/python3.9/site-packages/seaborn/distributions.py:2619: FutureWarning: `distplot` is a deprecated function and will be removed in a future version. Please adapt your code to use either `displot` (a figure-level function with similar flexibility) or `histplot` (an axes-level function for histograms).\n",
      "  warnings.warn(msg, FutureWarning)\n"
     ]
    },
    {
     "data": {
      "text/plain": [
       "<AxesSubplot:xlabel='CLEARED_COUNT_SQRT', ylabel='Density'>"
      ]
     },
     "execution_count": 45,
     "metadata": {},
     "output_type": "execute_result"
    },
    {
     "data": {
      "image/png": "[encoded data removed]",
      "text/plain": [
       "<Figure size 432x288 with 1 Axes>"
      ]
     },
     "metadata": {
      "needs_background": "light"
     },
     "output_type": "display_data"
    }
   ],
   "source": [
    "sns.distplot(ht['CLEARED_COUNT_SQRT'])"
   ]
  },
  {
   "cell_type": "markdown",
   "id": "7c06b001-ec98-4f0f-ab09-839cd1185fe7",
   "metadata": {},
   "source": [
    "### Transform Juvie Count"
   ]
  },
  {
   "cell_type": "code",
   "execution_count": 46,
   "id": "06d63612-0b9f-4768-832e-9ce0b8fe7323",
   "metadata": {},
   "outputs": [
    {
     "name": "stderr",
     "output_type": "stream",
     "text": [
      "/opt/homebrew/lib/python3.9/site-packages/seaborn/distributions.py:2619: FutureWarning: `distplot` is a deprecated function and will be removed in a future version. Please adapt your code to use either `displot` (a figure-level function with similar flexibility) or `histplot` (an axes-level function for histograms).\n",
      "  warnings.warn(msg, FutureWarning)\n"
     ]
    },
    {
     "data": {
      "text/plain": [
       "<AxesSubplot:xlabel='JUVENILE_CLEARED_COUNT', ylabel='Density'>"
      ]
     },
     "execution_count": 46,
     "metadata": {},
     "output_type": "execute_result"
    },
    {
     "data": {
      "image/png": "[encoded data removed]",
      "text/plain": [
       "<Figure size 432x288 with 1 Axes>"
      ]
     },
     "metadata": {
      "needs_background": "light"
     },
     "output_type": "display_data"
    }
   ],
   "source": [
    "sns.distplot(ht['JUVENILE_CLEARED_COUNT'])"
   ]
  },
  {
   "cell_type": "code",
   "execution_count": 47,
   "id": "b041149a-58f8-4dd7-b223-a9845042385f",
   "metadata": {},
   "outputs": [],
   "source": [
    "ht['JUVENILE_CLEARED_COUNT_SQRT'] = np.sqrt(ht['JUVENILE_CLEARED_COUNT'])"
   ]
  },
  {
   "cell_type": "code",
   "execution_count": 48,
   "id": "fd026c42-7434-4195-9759-912825bef508",
   "metadata": {},
   "outputs": [
    {
     "name": "stderr",
     "output_type": "stream",
     "text": [
      "/opt/homebrew/lib/python3.9/site-packages/seaborn/distributions.py:2619: FutureWarning: `distplot` is a deprecated function and will be removed in a future version. Please adapt your code to use either `displot` (a figure-level function with similar flexibility) or `histplot` (an axes-level function for histograms).\n",
      "  warnings.warn(msg, FutureWarning)\n"
     ]
    },
    {
     "data": {
      "text/plain": [
       "<AxesSubplot:xlabel='JUVENILE_CLEARED_COUNT_SQRT', ylabel='Density'>"
      ]
     },
     "execution_count": 48,
     "metadata": {},
     "output_type": "execute_result"
    },
    {
     "data": {
      "image/png": "[encoded data removed]",
      "text/plain": [
       "<Figure size 432x288 with 1 Axes>"
      ]
     },
     "metadata": {
      "needs_background": "light"
     },
     "output_type": "display_data"
    }
   ],
   "source": [
    "sns.distplot(ht['JUVENILE_CLEARED_COUNT_SQRT'])"
   ]
  },
  {
   "cell_type": "markdown",
   "id": "603a8042-6ac9-42a0-ba08-459e1c937a20",
   "metadata": {},
   "source": [
    "<hr style=\"height:10px;border-width:0;color:midnightblue;background-color:midnightblue\">\n",
    "\n",
    "# Page 6 - Visualizations<a class=\"anchor\" id=\"FBI_crime_page_1\"></a>\n",
    "\n",
    "[Back to Top](#FBI_crime_toc)\n",
    "\n",
    "<hr style=\"height:10px;border-width:0;color:midnightblue;background-color:midnightblue\">"
   ]
  },
  {
   "cell_type": "code",
   "execution_count": 49,
   "id": "b14700f7-4021-4293-b74f-8f51847530e5",
   "metadata": {},
   "outputs": [],
   "source": [
    "import seaborn as sns\n",
    "from matplotlib import pyplot as plt\n",
    "import matplotlib.mlab as mlab"
   ]
  },
  {
   "cell_type": "markdown",
   "id": "8c94d0b5-0f59-44b0-bcde-dcb94d971afd",
   "metadata": {},
   "source": [
    "---\n",
    "# Numeric Data\n"
   ]
  },
  {
   "cell_type": "markdown",
   "id": "101bbc46-1af1-4023-ad73-d82431c6589b",
   "metadata": {},
   "source": [
    "\n",
    "### Actual Count over the Years  Graph"
   ]
  },
  {
   "cell_type": "code",
   "execution_count": 61,
   "id": "2f4324f3-8870-429c-b828-446641b36cea",
   "metadata": {},
   "outputs": [
    {
     "data": {
      "image/png": "[encoded data removed]",
      "text/plain": [
       "<Figure size 720x576 with 1 Axes>"
      ]
     },
     "metadata": {},
     "output_type": "display_data"
    }
   ],
   "source": [
    "ht.groupby('DATA_YEAR')\n",
    "plt.subplots(figsize=(10,8))\n",
    "plt.plot(ht.groupby('DATA_YEAR').sum().ACTUAL_COUNT.index, ht.groupby('DATA_YEAR').sum().ACTUAL_COUNT.values)\n",
    "plt.title (\"Aggregated Reported Cases by Year\")         \n",
    "plt.show()"
   ]
  },
  {
   "cell_type": "code",
   "execution_count": 54,
   "id": "7dbedd6a-67cc-44eb-a4ad-34b248e44703",
   "metadata": {},
   "outputs": [],
   "source": [
    "ht_sorted = ht.sort_values('ACTUAL_COUNT_SQRT', ascending = False)"
   ]
  },
  {
   "cell_type": "code",
   "execution_count": 58,
   "id": "f5ca6794-4d6b-4527-a9f9-a359a9d75a5e",
   "metadata": {},
   "outputs": [
    {
     "data": {
      "text/plain": [
       "<BarContainer object of 100 artists>"
      ]
     },
     "execution_count": 58,
     "metadata": {},
     "output_type": "execute_result"
    },
    {
     "data": {
      "image/png": "[encoded data removed]",
      "text/plain": [
       "<Figure size 720x576 with 1 Axes>"
      ]
     },
     "metadata": {},
     "output_type": "display_data"
    }
   ],
   "source": [
    "plt.style.use(\"fivethirtyeight\")\n",
    "plt.subplots(figsize=(10,8))\n",
    "plt.xticks(rotation =45)\n",
    "plt.title(f\"Actual Count over the Years\")\n",
    "plt.bar(ht_sorted[\"DATA_YEAR\"][:top_count], ht_sorted[\"ACTUAL_COUNT_SQRT\"][:top_count])"
   ]
  },
  {
   "cell_type": "code",
   "execution_count": 59,
   "id": "64e4cad0-084c-4d10-94bd-da2c7fd2e616",
   "metadata": {},
   "outputs": [
    {
     "data": {
      "text/plain": [
       "<seaborn.axisgrid.FacetGrid at 0x14fccc1f0>"
      ]
     },
     "execution_count": 59,
     "metadata": {},
     "output_type": "execute_result"
    },
    {
     "data": {
      "image/png": "[encoded data removed]",
      "text/plain": [
       "<Figure size 720x576 with 1 Axes>"
      ]
     },
     "metadata": {},
     "output_type": "display_data"
    }
   ],
   "source": [
    "sns.catplot(data=ht, x='DATA_YEAR', y='ACTUAL_COUNT_SQRT', kind= \"box\", height=8, aspect=10/8)"
   ]
  },
  {
   "cell_type": "markdown",
   "id": "13662308-851e-42a3-aa4e-b99cd6db8918",
   "metadata": {},
   "source": [
    "---"
   ]
  },
  {
   "cell_type": "markdown",
   "id": "97cec890-73eb-4d41-80ef-225040f72338",
   "metadata": {},
   "source": [
    "### Clear Count over Data Year Graph"
   ]
  },
  {
   "cell_type": "code",
   "execution_count": 67,
   "id": "e2508b65-af45-4b6f-bc6a-76782f4b0482",
   "metadata": {},
   "outputs": [
    {
     "data": {
      "image/png": "[encoded data removed]",
      "text/plain": [
       "<Figure size 720x576 with 1 Axes>"
      ]
     },
     "metadata": {},
     "output_type": "display_data"
    }
   ],
   "source": [
    "ht.groupby('DATA_YEAR')\n",
    "plt.subplots(figsize=(10,8))\n",
    "plt.plot(ht.groupby('DATA_YEAR').sum().CLEARED_COUNT.index, ht.groupby('DATA_YEAR').sum().CLEARED_COUNT.values)\n",
    "plt.title (\"Aggregated Reported Cases Cleared by the Year\")         \n",
    "plt.show()"
   ]
  },
  {
   "cell_type": "code",
   "execution_count": 64,
   "id": "fc161d07-89b1-4587-82c4-396def72ed2b",
   "metadata": {},
   "outputs": [
    {
     "data": {
      "text/plain": [
       "<BarContainer object of 100 artists>"
      ]
     },
     "execution_count": 64,
     "metadata": {},
     "output_type": "execute_result"
    },
    {
     "data": {
      "image/png": "[encoded data removed]",
      "text/plain": [
       "<Figure size 720x576 with 1 Axes>"
      ]
     },
     "metadata": {},
     "output_type": "display_data"
    }
   ],
   "source": [
    "top_clear_count = 100\n",
    "\n",
    "plt.style.use(\"fivethirtyeight\")\n",
    "plt.subplots(figsize=(10,8))\n",
    "plt.xticks(rotation =45)\n",
    "plt.title(f\"Clear Count over the Years\")\n",
    "plt.bar(ht_sorted[\"DATA_YEAR\"][:top_clear_count], ht_sorted[\"CLEARED_COUNT_SQRT\"][:top_clear_count])"
   ]
  },
  {
   "cell_type": "code",
   "execution_count": 63,
   "id": "1c6695e7-1fd6-4317-ab19-11ae18b121f7",
   "metadata": {},
   "outputs": [],
   "source": [
    "ht_sorted = ht.sort_values('CLEARED_COUNT_SQRT', ascending = False)"
   ]
  },
  {
   "cell_type": "code",
   "execution_count": 62,
   "id": "0b1a7288-4b60-4fce-a9a6-c25ef55a2cc8",
   "metadata": {},
   "outputs": [
    {
     "data": {
      "text/plain": [
       "<seaborn.axisgrid.FacetGrid at 0x14faaa7f0>"
      ]
     },
     "execution_count": 62,
     "metadata": {},
     "output_type": "execute_result"
    },
    {
     "data": {
      "image/png": "[encoded data removed]",
      "text/plain": [
       "<Figure size 720x576 with 1 Axes>"
      ]
     },
     "metadata": {},
     "output_type": "display_data"
    }
   ],
   "source": [
    "sns.catplot(data=ht, x='DATA_YEAR', y='CLEARED_COUNT_SQRT', kind= \"box\", height=8, aspect=10/8)"
   ]
  },
  {
   "cell_type": "markdown",
   "id": "e279381c-822b-435d-875e-6daf77a6aeed",
   "metadata": {},
   "source": [
    "---"
   ]
  },
  {
   "cell_type": "markdown",
   "id": "59d7eab4-0c21-4fb9-901c-37612e3ba90d",
   "metadata": {},
   "source": [
    "### Juvie Count over Data Year Graph"
   ]
  },
  {
   "cell_type": "code",
   "execution_count": null,
   "id": "959ba1fc-c705-4d6d-b396-c3ccc5af6daf",
   "metadata": {},
   "outputs": [],
   "source": [
    "ht['JUVENILE_CLEARED_COUNT_SQRT'].value_counts().plot(kind='bar')"
   ]
  },
  {
   "cell_type": "code",
   "execution_count": null,
   "id": "a15128e8-2cb6-4fe2-ad0b-89ac80777f6d",
   "metadata": {},
   "outputs": [],
   "source": [
    "ht_sorted = ht.sort_values('JUVENILE_CLEARED_COUNT', ascending = False)"
   ]
  },
  {
   "cell_type": "code",
   "execution_count": null,
   "id": "83cf752c-483b-4229-80a2-7414b3e4f697",
   "metadata": {},
   "outputs": [],
   "source": [
    "clear_over_year = 800\n",
    "\n",
    "plt.style.use(\"fivethirtyeight\")\n",
    "plt.subplots(figsize=(10,8))\n",
    "plt.xticks(rotation =45)\n",
    "plt.title(f\"Juvie Cleared Count over the Years\")\n",
    "plt.xlabel('Juvie Count')\n",
    "plt.ylabel('Year')\n",
    "plt.scatter(ht_sorted['JUVENILE_CLEARED_COUNT'][:clear_over_year], ht_sorted['DATA_YEAR'][:clear_over_year])"
   ]
  },
  {
   "cell_type": "markdown",
   "id": "d0e77c51-14a5-474c-8b4b-7d55e436b4bd",
   "metadata": {},
   "source": [
    "---\n",
    "# Categorical Data\n"
   ]
  },
  {
   "cell_type": "markdown",
   "id": "fc59ed36-c6a8-4426-9508-21d8b428c221",
   "metadata": {},
   "source": [
    "### Agency Type Name with Actual Count Graph"
   ]
  },
  {
   "cell_type": "code",
   "execution_count": null,
   "id": "91af2bf6-0802-4ce7-999d-70bef66b9765",
   "metadata": {},
   "outputs": [],
   "source": [
    "ht['AGENCY_TYPE_NAME'].value_counts().plot(kind='bar')"
   ]
  },
  {
   "cell_type": "code",
   "execution_count": null,
   "id": "5c4e8f9f-1e5d-4817-b7ec-66766f4fbba3",
   "metadata": {},
   "outputs": [],
   "source": [
    "sns.catplot(data=ht, x='DATA_YEAR', y='AGENCY_TYPE_NAME', kind= \"box\", height=8, aspect=20/8)"
   ]
  },
  {
   "cell_type": "code",
   "execution_count": null,
   "id": "e333b2b2-63a5-48f5-851a-ca38c5164cfd",
   "metadata": {},
   "outputs": [],
   "source": [
    "sns.catplot(data=ht, x='ACTUAL_COUNT', y='AGENCY_TYPE_NAME', kind= \"bar\", height=8, aspect=20/8)"
   ]
  },
  {
   "cell_type": "markdown",
   "id": "2fb65769-8ae8-4abd-b493-df24aa346362",
   "metadata": {},
   "source": [
    "---\n",
    "### States with Actual Count Graph"
   ]
  },
  {
   "cell_type": "code",
   "execution_count": null,
   "id": "f2fe479b-8434-40f0-8cf3-b1f92362ac83",
   "metadata": {},
   "outputs": [],
   "source": [
    "ht_sorted = ht.sort_values('ACTUAL_COUNT_SQRT', ascending = False)"
   ]
  },
  {
   "cell_type": "code",
   "execution_count": null,
   "id": "cd7692c5-3bdb-4d32-8414-0373dfdcca56",
   "metadata": {},
   "outputs": [],
   "source": [
    "plt.style.use(\"fivethirtyeight\")\n",
    "plt.subplots(figsize=(20,8))\n",
    "plt.xticks(rotation =75)\n",
    "plt.title(\"Reported Cases by State\")\n",
    "plt.bar(ht_sorted[\"STATE_ABBR\"], ht_sorted[\"ACTUAL_COUNT_SQRT\"])"
   ]
  },
  {
   "cell_type": "code",
   "execution_count": null,
   "id": "9d0bf9df-e5d8-495f-b23c-b304dc51d9c1",
   "metadata": {},
   "outputs": [],
   "source": [
    "sns.catplot(data=ht, x='ACTUAL_COUNT_SQRT', y='STATE_ABBR', kind= \"box\", height=8, aspect=20/8)"
   ]
  },
  {
   "cell_type": "code",
   "execution_count": null,
   "id": "29d8b43f-b77c-4552-975a-dbf0299501ca",
   "metadata": {},
   "outputs": [],
   "source": [
    "sns.catplot(data=ht, x='ACTUAL_COUNT_SQRT', y='STATE_ABBR', kind= \"bar\" ,height=8.27, aspect=20/8)"
   ]
  },
  {
   "cell_type": "markdown",
   "id": "843be187-b2d0-4954-b4b8-101ebdb3a8ac",
   "metadata": {},
   "source": [
    "---\n",
    "### Top Counties with Actual Count Graph"
   ]
  },
  {
   "cell_type": "code",
   "execution_count": null,
   "id": "6632d8b6-4027-41e1-9b4b-d567d8c64c5e",
   "metadata": {},
   "outputs": [],
   "source": [
    "top_counties = 100\n",
    "\n",
    "plt.style.use(\"fivethirtyeight\")\n",
    "plt.subplots(figsize=(20,8))\n",
    "plt.xticks(rotation =85)\n",
    "plt.title(f\"Top {top_counties} Counties\")\n",
    "plt.bar(ht_sorted[\"COUNTY_NAME\"][:top_counties], ht_sorted[\"ACTUAL_COUNT\"][:top_counties])"
   ]
  },
  {
   "cell_type": "markdown",
   "id": "7ac02514-87c5-4e1e-8efd-13602607bed1",
   "metadata": {},
   "source": [
    "---\n",
    "### Offense of Actual Count Graph"
   ]
  },
  {
   "cell_type": "code",
   "execution_count": null,
   "id": "d5e4cb31-996a-46e2-8767-d7ff6aef6fb7",
   "metadata": {},
   "outputs": [],
   "source": [
    "ht['OFFENSE_SUBCAT_ID'].value_counts().plot(kind='bar')"
   ]
  },
  {
   "cell_type": "code",
   "execution_count": null,
   "id": "47a09825-d726-464f-a5ef-2e348ad4e38c",
   "metadata": {},
   "outputs": [],
   "source": [
    "crosstab_df_ACTUAL_COUNT = pd.crosstab(ht['DATA_YEAR'], ht['OFFENSE_SUBCAT_ID'])\n",
    "crosstab_df_ACTUAL_COUNT.plot.bar(stacked=True)"
   ]
  },
  {
   "cell_type": "code",
   "execution_count": null,
   "id": "26bf23f0-ec4d-4218-9014-21b5d1df77ff",
   "metadata": {},
   "outputs": [],
   "source": [
    "sns.catplot(data=ht, x='OFFENSE_SUBCAT_ID', y='ACTUAL_COUNT_SQRT', kind= \"box\")"
   ]
  },
  {
   "cell_type": "markdown",
   "id": "e7464211-a8db-4acb-b8fe-b58b513913b4",
   "metadata": {},
   "source": [
    "<hr style=\"height:10px;border-width:0;color:midnightblue;background-color:midnightblue\">\n",
    "\n",
    "# Page 7 -  Statistics and Outliers<a class=\"anchor\" id=\"FBI_crime_page_1\"></a>\n",
    "\n",
    "[Back to Top](#FBI_crime_toc)\n",
    "\n",
    "<hr style=\"height:10px;border-width:0;color:midnightblue;background-color:midnightblue\">"
   ]
  },
  {
   "cell_type": "markdown",
   "id": "9178a263-cc33-459a-add1-54a89bdc3ccc",
   "metadata": {},
   "source": [
    "What are the criteria to identify an outlier?\n",
    "\n",
    "- Data point that falls outside of 1.5 times of an interquartile range above the 3rd quartile and below the 1st quartile\n",
    "- Data point that falls outside of 3 standard deviations. we can use a z score and if the z score falls outside of 2 standard deviation\n",
    "\n",
    "How can we identify an outlier?\n",
    "\n",
    "- using scatter plots\n",
    "- using Z score\n",
    "- \n",
    "using the IQR interquartile range"
   ]
  },
  {
   "cell_type": "code",
   "execution_count": null,
   "id": "40e8e95c-9637-4b20-b0df-37abfadbe459",
   "metadata": {},
   "outputs": [],
   "source": [
    "ht.columns"
   ]
  },
  {
   "cell_type": "code",
   "execution_count": null,
   "id": "67bbe7ac-77e0-48b4-98f7-0d8aa9bb17cc",
   "metadata": {},
   "outputs": [],
   "source": [
    "ht.info()"
   ]
  },
  {
   "cell_type": "markdown",
   "id": "e9f9e892-bc6f-4fe4-b23c-fd8cd269c7a5",
   "metadata": {},
   "source": [
    "---\n",
    "# Numeric Data"
   ]
  },
  {
   "cell_type": "code",
   "execution_count": null,
   "id": "c4d6250a-5e24-4770-8c4c-3d24bb24b063",
   "metadata": {},
   "outputs": [],
   "source": [
    "round(ht.describe(),1)"
   ]
  },
  {
   "cell_type": "markdown",
   "id": "c3263e20-cebc-4665-8b4d-2b66bafc4676",
   "metadata": {},
   "source": [
    "---\n",
    "### Data Year Outliers"
   ]
  },
  {
   "cell_type": "code",
   "execution_count": null,
   "id": "133e41ac-3009-49b1-aa03-541eefb1c8b2",
   "metadata": {},
   "outputs": [],
   "source": [
    "# iqr\n",
    "iqr = 2020-2017\n",
    "iqr"
   ]
  },
  {
   "cell_type": "code",
   "execution_count": null,
   "id": "f2574e0b-4ce1-421a-ae17-bbbef90b7ecf",
   "metadata": {},
   "outputs": [],
   "source": [
    "# iqr * 1.5 = x\n",
    "x = iqr * 1.5\n",
    "x"
   ]
  },
  {
   "cell_type": "code",
   "execution_count": null,
   "id": "cda1b9a6-e8af-439c-8c04-69d09485bf93",
   "metadata": {},
   "outputs": [],
   "source": [
    "# x + 3rd = Upper Outlier\n",
    "upper = x + 2020\n",
    "upper"
   ]
  },
  {
   "cell_type": "code",
   "execution_count": null,
   "id": "3a1811b5-ed7e-4847-b1c9-e032c4826dc6",
   "metadata": {},
   "outputs": [],
   "source": [
    "# 1st - x = Lower Outlier\n",
    "lower = 2017 - x\n",
    "lower"
   ]
  },
  {
   "cell_type": "markdown",
   "id": "329c8eb6-570b-4e33-a209-05ae42e14d6e",
   "metadata": {},
   "source": [
    "### Actual Count Outliers"
   ]
  },
  {
   "cell_type": "code",
   "execution_count": null,
   "id": "a42b24a1-462c-4a2a-a35a-ad42c74e90a1",
   "metadata": {},
   "outputs": [],
   "source": [
    "# iqr\n",
    "iqr = 168-64\n",
    "iqr"
   ]
  },
  {
   "cell_type": "code",
   "execution_count": null,
   "id": "b80d9c0a-b229-4830-a994-5505c3bad54e",
   "metadata": {},
   "outputs": [],
   "source": [
    "# iqr * 1.5 = x\n",
    "x = iqr * 1.5\n",
    "x"
   ]
  },
  {
   "cell_type": "code",
   "execution_count": null,
   "id": "41d03841-a57f-4a46-8b1d-63bccc7230de",
   "metadata": {},
   "outputs": [],
   "source": [
    "# x + 3rd = Upper Outlier\n",
    "upper = x + 168\n",
    "upper"
   ]
  },
  {
   "cell_type": "code",
   "execution_count": null,
   "id": "842a06e1-f24b-448a-bae0-8ee59cf975c1",
   "metadata": {},
   "outputs": [],
   "source": [
    "# 1st - x = Lower Outlier\n",
    "lower = 64 - x\n",
    "lower"
   ]
  },
  {
   "cell_type": "markdown",
   "id": "2721e206-c7a2-44f9-afd5-597158cb0930",
   "metadata": {},
   "source": [
    "### Data Year and Actual Count Graph"
   ]
  },
  {
   "cell_type": "code",
   "execution_count": null,
   "id": "c025bed1-128a-4644-813d-8b8ae39234ba",
   "metadata": {},
   "outputs": [],
   "source": [
    "ht_sorted = ht.sort_values('ACTUAL_COUNT_SQRT', ascending = False)"
   ]
  },
  {
   "cell_type": "code",
   "execution_count": null,
   "id": "381ca87c-e8d3-4e66-ab68-e085f1f8ed6f",
   "metadata": {},
   "outputs": [],
   "source": [
    "top_count = 100\n",
    "\n",
    "plt.style.use(\"fivethirtyeight\")\n",
    "plt.subplots(figsize=(25,8))\n",
    "plt.xticks(rotation =45)\n",
    "plt.title(f\"Actual Count over the Years\")\n",
    "plt.scatter(ht_sorted[\"DATA_YEAR\"][:top_count], ht_sorted[\"ACTUAL_COUNT_SQRT\"][:top_count])"
   ]
  },
  {
   "cell_type": "markdown",
   "id": "f2f8949c-9796-4190-8337-a5db2a1087b2",
   "metadata": {},
   "source": [
    "---"
   ]
  },
  {
   "cell_type": "markdown",
   "id": "ad8994b1-902b-4134-af80-6921fcbcaa65",
   "metadata": {},
   "source": [
    "### Cleared Count Outliers"
   ]
  },
  {
   "cell_type": "code",
   "execution_count": null,
   "id": "5b551ada-3657-428b-aeb6-8352ef673306",
   "metadata": {},
   "outputs": [],
   "source": [
    "# iqr\n",
    "iqr = 64-0\n",
    "iqr"
   ]
  },
  {
   "cell_type": "code",
   "execution_count": null,
   "id": "c6fcc990-d66e-44e4-a146-370ad8a2f687",
   "metadata": {},
   "outputs": [],
   "source": [
    "# iqr * 1.5 = x\n",
    "x = iqr * 1.5\n",
    "x"
   ]
  },
  {
   "cell_type": "code",
   "execution_count": null,
   "id": "0ae67979-b4a3-4313-917e-079fff4d62f7",
   "metadata": {},
   "outputs": [],
   "source": [
    "# x + 3rd = Upper Outlier\n",
    "upper = x + 64\n",
    "upper"
   ]
  },
  {
   "cell_type": "code",
   "execution_count": null,
   "id": "db5bdf61-c2c3-4d65-8595-c90abb8acd56",
   "metadata": {},
   "outputs": [],
   "source": [
    "# 1st - x = Lower Outlier\n",
    "lower = 0 - x\n",
    "lower"
   ]
  },
  {
   "cell_type": "markdown",
   "id": "5c95a49c-65ed-46df-9972-5d539b535484",
   "metadata": {},
   "source": [
    "### Clear Count vs Actual Count Graph"
   ]
  },
  {
   "cell_type": "code",
   "execution_count": null,
   "id": "a803e61c-0c26-4a9c-b273-2aec79e91b43",
   "metadata": {},
   "outputs": [],
   "source": [
    "ht_sorted = ht.sort_values('CLEARED_COUNT', ascending = False)"
   ]
  },
  {
   "cell_type": "code",
   "execution_count": null,
   "id": "9b8fd80d-71f0-4b5f-b9ec-50ff7602d152",
   "metadata": {},
   "outputs": [],
   "source": [
    "clear_vs_actual = 800\n",
    "\n",
    "plt.style.use(\"fivethirtyeight\")\n",
    "plt.subplots(figsize=(25,8))\n",
    "plt.xticks(rotation =45)\n",
    "plt.title(f\"Clear vs Actual\")\n",
    "plt.xlabel('CLEARED COUNT')\n",
    "plt.ylabel('ACTUAL COUNT')\n",
    "plt.scatter(ht_sorted[\"CLEARED_COUNT\"][:clear_vs_actual], ht_sorted[\"ACTUAL_COUNT_SQRT\"][:clear_vs_actual])"
   ]
  },
  {
   "cell_type": "markdown",
   "id": "77170481-5eee-4e36-a178-634e1469c6d0",
   "metadata": {},
   "source": [
    "---"
   ]
  },
  {
   "cell_type": "markdown",
   "id": "f7db21f0-2f52-4fb5-b689-d726d5d380f5",
   "metadata": {},
   "source": [
    "### Juvenile Cleared Outliers"
   ]
  },
  {
   "cell_type": "code",
   "execution_count": null,
   "id": "0056feed-81a5-41c5-9ab2-362d1be098a7",
   "metadata": {},
   "outputs": [],
   "source": [
    "# iqr\n",
    "iqr = 0-0\n",
    "iqr"
   ]
  },
  {
   "cell_type": "code",
   "execution_count": null,
   "id": "5a3bdb56-5349-4c02-8235-c75502fb6937",
   "metadata": {},
   "outputs": [],
   "source": [
    "# iqr * 1.5 = x\n",
    "x = iqr * 1.5\n",
    "x"
   ]
  },
  {
   "cell_type": "code",
   "execution_count": null,
   "id": "f0f9dfb7-63a3-4592-836b-fef16345593b",
   "metadata": {},
   "outputs": [],
   "source": [
    "# x + 3rd = Upper Outlier\n",
    "upper = x + 0\n",
    "upper"
   ]
  },
  {
   "cell_type": "code",
   "execution_count": null,
   "id": "7be16179-9b0d-4de0-8d90-5555adbd0d73",
   "metadata": {},
   "outputs": [],
   "source": [
    "# 1st - x = Lower Outlier\n",
    "lower = 0 - x\n",
    "lower"
   ]
  },
  {
   "cell_type": "markdown",
   "id": "b0b46505-816f-4b28-8826-04c25e6bb690",
   "metadata": {},
   "source": [
    "### Juvie Count vs Actual Count Graph"
   ]
  },
  {
   "cell_type": "code",
   "execution_count": null,
   "id": "79e075d2-95de-4241-b7a8-e5ded9503b95",
   "metadata": {},
   "outputs": [],
   "source": [
    "ht_sorted = ht.sort_values('JUVENILE_CLEARED_COUNT', ascending = False)"
   ]
  },
  {
   "cell_type": "code",
   "execution_count": null,
   "id": "eb188bd7-1758-4542-a52e-6210155bad75",
   "metadata": {},
   "outputs": [],
   "source": [
    "clear_vs_actual = 800\n",
    "\n",
    "plt.style.use(\"fivethirtyeight\")\n",
    "plt.subplots(figsize=(25,8))\n",
    "plt.xticks(rotation =45)\n",
    "plt.title(f\"Juvie Cleared Count vs Actual Count\")\n",
    "plt.xlabel('Cleared Count')\n",
    "plt.ylabel('Actual Count')\n",
    "plt.scatter(ht_sorted['JUVENILE_CLEARED_COUNT'][:clear_vs_actual], ht_sorted['ACTUAL_COUNT_SQRT'][:clear_vs_actual])"
   ]
  },
  {
   "cell_type": "markdown",
   "id": "e8327355-f97d-4da2-a9cc-67dc806c53b7",
   "metadata": {},
   "source": [
    "---\n",
    "# Categorical Data"
   ]
  },
  {
   "cell_type": "code",
   "execution_count": null,
   "id": "39451574-fdb5-4a2b-a6a9-4bf711ff4a47",
   "metadata": {},
   "outputs": [],
   "source": [
    "display(ht.describe(include = ['O']))"
   ]
  },
  {
   "cell_type": "markdown",
   "id": "84ed01bc-be24-4372-9068-a6fd4e5af22d",
   "metadata": {},
   "source": [
    "---\n",
    "### Agency Type Name"
   ]
  },
  {
   "cell_type": "code",
   "execution_count": null,
   "id": "b8ffc1c3-6b32-4d62-94c4-0fbea592d833",
   "metadata": {},
   "outputs": [],
   "source": [
    "ht_sorted = ht.sort_values('AGENCY_TYPE_NAME', ascending = False)"
   ]
  },
  {
   "cell_type": "code",
   "execution_count": null,
   "id": "c7c5c0eb-7aea-4437-be91-6d6c2f0b6fb7",
   "metadata": {},
   "outputs": [],
   "source": [
    "top_agency_name = 1000\n",
    "\n",
    "plt.style.use(\"fivethirtyeight\")\n",
    "plt.subplots(figsize=(25,8))\n",
    "plt.xticks(rotation =45)\n",
    "plt.title(f\"Agency Names\")\n",
    "plt.scatter(ht_sorted[\"ACTUAL_COUNT_SQRT\"][:top_agency_name], ht_sorted[\"AGENCY_TYPE_NAME\"][:top_agency_name])"
   ]
  },
  {
   "cell_type": "markdown",
   "id": "59894650-633b-45c3-91dc-f363c812c111",
   "metadata": {},
   "source": [
    "---\n",
    "### State Name"
   ]
  },
  {
   "cell_type": "code",
   "execution_count": null,
   "id": "f6136d31-7e88-4977-a5a0-966eb54b77ff",
   "metadata": {},
   "outputs": [],
   "source": [
    "ht_sorted = ht.sort_values('ACTUAL_COUNT', ascending = False)"
   ]
  },
  {
   "cell_type": "code",
   "execution_count": null,
   "id": "0b7b4461-4790-4c84-8a74-3d5a36b55287",
   "metadata": {},
   "outputs": [],
   "source": [
    "top_states = 200\n",
    "\n",
    "plt.style.use(\"fivethirtyeight\")\n",
    "plt.subplots(figsize=(25,8))\n",
    "plt.xticks(rotation =45)\n",
    "plt.title(f\"Top 25 States\")\n",
    "plt.scatter(ht_sorted[\"STATE_ABBR\"][:top_states], ht_sorted[\"ACTUAL_COUNT\"][:top_states])"
   ]
  },
  {
   "cell_type": "markdown",
   "id": "794c11d3-2ede-404c-bff7-7676b693179e",
   "metadata": {},
   "source": [
    "---\n",
    "### County Name"
   ]
  },
  {
   "cell_type": "code",
   "execution_count": null,
   "id": "f7382bf8-4417-44ac-924d-27b26127d9cb",
   "metadata": {},
   "outputs": [],
   "source": [
    "top_counties = 150\n",
    "\n",
    "plt.style.use(\"fivethirtyeight\")\n",
    "plt.subplots(figsize=(25,8))\n",
    "plt.xticks(rotation =85)\n",
    "plt.title(f\"Top {top_counties} Counties\")\n",
    "plt.scatter(ht_sorted[\"COUNTY_NAME\"][:top_counties], ht_sorted[\"ACTUAL_COUNT_SQRT\"][:top_counties])"
   ]
  },
  {
   "cell_type": "markdown",
   "id": "04e9ffdb-c24f-4f06-90c4-5663bc9776b8",
   "metadata": {
    "tags": []
   },
   "source": [
    "---\n",
    "### Offense ID"
   ]
  },
  {
   "cell_type": "code",
   "execution_count": null,
   "id": "6de4e03b-05de-410b-a827-5a8d4df83b7d",
   "metadata": {},
   "outputs": [],
   "source": [
    "ht_sorted = ht.sort_values('OFFENSE_SUBCAT_ID', ascending = False)"
   ]
  },
  {
   "cell_type": "code",
   "execution_count": null,
   "id": "93512ff9-aaa4-4b63-a525-f6d5d9058f43",
   "metadata": {},
   "outputs": [],
   "source": [
    "offense = 900\n",
    "\n",
    "plt.style.use(\"fivethirtyeight\")\n",
    "plt.subplots(figsize=(25,8))\n",
    "plt.xticks(rotation =45)\n",
    "plt.title(f\"Actual Count type of Offense\")\n",
    "plt.scatter(ht_sorted['OFFENSE_SUBCAT_ID'][:offense], ht_sorted[\"ACTUAL_COUNT_SQRT\"][:offense])"
   ]
  },
  {
   "cell_type": "markdown",
   "id": "f0649f24-8758-4bf9-9855-1b72b872634f",
   "metadata": {},
   "source": [
    "<hr style=\"height:10px;border-width:0;color:midnightblue;background-color:midnightblue\">\n",
    "\n",
    "# Page 7 -  Statistical Analysis<a class=\"anchor\" id=\"FBI_crime_page_1\"></a>\n",
    "\n",
    "[Back to Top](#FBI_crime_toc)\n",
    "\n",
    "<hr style=\"height:10px;border-width:0;color:midnightblue;background-color:midnightblue\">"
   ]
  },
  {
   "cell_type": "markdown",
   "id": "f42ef43e-2f86-41ae-bbe8-81986b0097da",
   "metadata": {},
   "source": [
    "# Top 20 States Total Count for Human Trafficking "
   ]
  },
  {
   "cell_type": "code",
   "execution_count": null,
   "id": "fa95e80c-f956-4c11-b633-5b1647c1897e",
   "metadata": {},
   "outputs": [],
   "source": [
    "ht[['STATE_ABBR','ACTUAL_COUNT']].groupby('STATE_ABBR').sum().sort_values(by=['ACTUAL_COUNT'], ascending = False).head(20)\n"
   ]
  },
  {
   "cell_type": "markdown",
   "id": "6f161cac-b47f-42e3-b0f0-67912160d78c",
   "metadata": {},
   "source": [
    "# Top 10 States with Commerical Sex Acts"
   ]
  },
  {
   "cell_type": "code",
   "execution_count": null,
   "id": "034bdb1b-9a69-4a19-927c-c408f65b3a84",
   "metadata": {},
   "outputs": [],
   "source": [
    "ht_sorted_state = ht.loc[(ht.STATE_ABBR.isin(['NV','TX','LA','FL','UT','AZ','WI','MI','MN','OK'])) & (ht.OFFENSE_SUBCAT_ID == 'HTCSA'), ['DATA_YEAR', 'STATE_ABBR','ACTUAL_COUNT']].sort_values(by='ACTUAL_COUNT', ascending = False)\n",
    "ht_sorted_state.head(20)"
   ]
  },
  {
   "cell_type": "code",
   "execution_count": null,
   "id": "3d38ce61-c6b6-4585-9f98-6efba33a66dd",
   "metadata": {},
   "outputs": [],
   "source": [
    "sns.relplot(data=ht, x=\"STATE_ABBR\", y=\"ACTUAL_COUNT\", hue=\"OFFENSE_SUBCAT_ID\", linewidth=.5,height=15)\n",
    "#plt.xticks(rotation=45)"
   ]
  },
  {
   "cell_type": "code",
   "execution_count": null,
   "id": "687ab07e-c3fa-43ba-a6a4-c5807e95401e",
   "metadata": {},
   "outputs": [],
   "source": [
    "#eee = (ht.groupby([\"STATE_ABBR\",\"OFFENSE_SUBCAT_ID\"])[\"OFFENSE_SUBCAT_ID\"].count()/ht.groupby([\"STATE_ABBR\"])[\"OFFENSE_SUBCAT_ID\"].count())\n",
    "#eee.unstack().plot.bar(stacked=True)\n",
    "#plt.legend([\"HTCSA\",\"HTIS\"])\n",
    "#plt.xlabel(\"STATE_ABBR\")\n"
   ]
  },
  {
   "cell_type": "code",
   "execution_count": null,
   "id": "5371b10c-a300-4631-8d0b-212c747363be",
   "metadata": {},
   "outputs": [],
   "source": [
    "#sns.histplot(\n",
    "#    data=ht,\n",
    "#    x=\"STATE_ABBR\", hue=\"OFFENSE_SUBCAT_ID\",\n",
    "#    multiple=\"fill\", stat=\"proportion\",\n",
    "#    discrete=True, shrink=.8\n",
    "#)"
   ]
  },
  {
   "cell_type": "code",
   "execution_count": null,
   "id": "eaa880fa-7a11-4107-b988-13ae4ed22af6",
   "metadata": {},
   "outputs": [],
   "source": [
    "#sns.catplot(\n",
    "#    data=ht, x=\"STATE_ABBR\" , hue=\"OFFENSE_SUBCAT_ID\", kind=\"count\",\n",
    "#    palette=\"pastel\", edgecolor=\".6\"\n",
    "#)"
   ]
  },
  {
   "cell_type": "code",
   "execution_count": null,
   "id": "d339ce26-69e0-4768-b745-6295b425b7e1",
   "metadata": {},
   "outputs": [],
   "source": [
    "#plt.figure(figsize=(10,10))\n",
    "#plt.title(\"Reported Offenses in each State\")\n",
    "#sns.stripplot(x=\"STATE_ABBR\", y=\"ACTUAL_COUNT\", data=ht, hue= \"OFFENSE_SUBCAT_ID\", linewidth=.5,size=5)\n",
    "#plt.show()"
   ]
  },
  {
   "cell_type": "markdown",
   "id": "4b3af8b3-faaa-4e59-abc0-53a9719280a0",
   "metadata": {},
   "source": [
    "# Actual Count Reported Offenses involving Commerical Sex Acts and Involuntary Servitude"
   ]
  },
  {
   "cell_type": "code",
   "execution_count": null,
   "id": "451a970e-bdbc-452e-ac95-514e7588ce20",
   "metadata": {},
   "outputs": [],
   "source": [
    "plt.figure(figsize=(10,10))\n",
    "plt.title(\"Breakdown of Reported Offenses involving Sex Acts or Not\")\n",
    "sns.stripplot(x=\"OFFENSE_SUBCAT_ID\", y=\"ACTUAL_COUNT\", data=ht, hue= \"OFFENSE_SUBCAT_ID\", linewidth=2,size=10)\n",
    "plt.show()"
   ]
  },
  {
   "cell_type": "markdown",
   "id": "fe8e077b-95dc-444c-b252-f68393f1288f",
   "metadata": {},
   "source": [
    "# Total and Percentage Breakdown on Offense Type"
   ]
  },
  {
   "cell_type": "code",
   "execution_count": null,
   "id": "55198832-476f-4658-8ada-6e44533e6302",
   "metadata": {},
   "outputs": [],
   "source": [
    "ht[\"OFFENSE_SUBCAT_ID\"].value_counts(),ht[\"OFFENSE_SUBCAT_ID\"].value_counts(normalize = True)*100"
   ]
  },
  {
   "cell_type": "markdown",
   "id": "6b8abf8c-9817-44f3-967d-acb370960778",
   "metadata": {},
   "source": [
    "# Overall Findings"
   ]
  },
  {
   "cell_type": "code",
   "execution_count": null,
   "id": "5c8b9641-f275-40e0-ad47-c50e20a54d99",
   "metadata": {},
   "outputs": [],
   "source": [
    "print (\" \")\n",
    "\n",
    "max_county_name = ht['COUNTY_NAME'].value_counts().index[1] #first occurrence was \"Unspecified\"\n",
    "max_state_crime = ht['STATE_ABBR'].value_counts().index[0]\n",
    "max_POPULATION_GROUP_DESC = ht['population_group_code'].value_counts().index[0]\n",
    "\n",
    "print('County with highest occurrence of human trafficking', max_county_name)\n",
    "print('State with highest occurrence of human trafficking:', max_state_crime)\n",
    "print('Metropolitan size with highest occurrence:', max_POPULATION_GROUP_DESC)\n"
   ]
  },
  {
   "cell_type": "code",
   "execution_count": null,
   "id": "e22af2fe-bebb-4bc1-9567-52af969314c6",
   "metadata": {},
   "outputs": [],
   "source": []
  }
 ],
 "metadata": {
  "kernelspec": {
   "display_name": "Python 3 (ipykernel)",
   "language": "python",
   "name": "python3"
  },
  "language_info": {
   "codemirror_mode": {
    "name": "ipython",
    "version": 3
   },
   "file_extension": ".py",
   "mimetype": "text/x-python",
   "name": "python",
   "nbconvert_exporter": "python",
   "pygments_lexer": "ipython3",
   "version": "3.9.13"
  }
 },
 "nbformat": 4,
 "nbformat_minor": 5
}
