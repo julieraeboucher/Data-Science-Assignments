{
 "cells": [
  {
   "cell_type": "code",
   "execution_count": 3,
   "id": "6c455553-b865-4c36-b586-6123b2ef3ef1",
   "metadata": {},
   "outputs": [],
   "source": [
    "#Load in Libraries\n",
    "library(readr)\n",
    "library(car)\n",
    "library(caret)\n",
    "library(gvlma)\n",
    "library(predictmeans)"
   ]
  },
  {
   "cell_type": "code",
   "execution_count": 4,
   "id": "9230e8e2-9d96-4c2f-aaf4-e45388b9a226",
   "metadata": {},
   "outputs": [
    {
     "name": "stderr",
     "output_type": "stream",
     "text": [
      "\u001b[1mRows: \u001b[22m\u001b[34m41\u001b[39m \u001b[1mColumns: \u001b[22m\u001b[34m2\u001b[39m\n",
      "\u001b[36m──\u001b[39m \u001b[1mColumn specification\u001b[22m \u001b[36m────────────────────────────────────────────────────────\u001b[39m\n",
      "\u001b[1mDelimiter:\u001b[22m \",\"\n",
      "\u001b[32mdbl\u001b[39m (2): AM_Height, PM_Height\n",
      "\n",
      "\u001b[36mℹ\u001b[39m Use `spec()` to retrieve the full column specification for this data.\n",
      "\u001b[36mℹ\u001b[39m Specify the column types or set `show_col_types = FALSE` to quiet this message.\n"
     ]
    }
   ],
   "source": [
    "heights <- read_csv(\"/Users/julieraeboucher/Desktop/Datasets/heights.csv\")"
   ]
  },
  {
   "cell_type": "code",
   "execution_count": 5,
   "id": "726e9dad-1308-4cd8-89fb-246775493ea3",
   "metadata": {},
   "outputs": [
    {
     "data": {
      "text/html": [
       "<table class=\"dataframe\">\n",
       "<caption>A tibble: 6 × 2</caption>\n",
       "<thead>\n",
       "\t<tr><th scope=col>AM_Height</th><th scope=col>PM_Height</th></tr>\n",
       "\t<tr><th scope=col>&lt;dbl&gt;</th><th scope=col>&lt;dbl&gt;</th></tr>\n",
       "</thead>\n",
       "<tbody>\n",
       "\t<tr><td>1728.75</td><td>1720.25</td></tr>\n",
       "\t<tr><td>1538.25</td><td>1528.50</td></tr>\n",
       "\t<tr><td>1462.25</td><td>1452.50</td></tr>\n",
       "\t<tr><td>1782.50</td><td>1776.50</td></tr>\n",
       "\t<tr><td>1671.00</td><td>1667.00</td></tr>\n",
       "\t<tr><td>1581.75</td><td>1571.00</td></tr>\n",
       "</tbody>\n",
       "</table>\n"
      ],
      "text/latex": [
       "A tibble: 6 × 2\n",
       "\\begin{tabular}{ll}\n",
       " AM\\_Height & PM\\_Height\\\\\n",
       " <dbl> & <dbl>\\\\\n",
       "\\hline\n",
       "\t 1728.75 & 1720.25\\\\\n",
       "\t 1538.25 & 1528.50\\\\\n",
       "\t 1462.25 & 1452.50\\\\\n",
       "\t 1782.50 & 1776.50\\\\\n",
       "\t 1671.00 & 1667.00\\\\\n",
       "\t 1581.75 & 1571.00\\\\\n",
       "\\end{tabular}\n"
      ],
      "text/markdown": [
       "\n",
       "A tibble: 6 × 2\n",
       "\n",
       "| AM_Height &lt;dbl&gt; | PM_Height &lt;dbl&gt; |\n",
       "|---|---|\n",
       "| 1728.75 | 1720.25 |\n",
       "| 1538.25 | 1528.50 |\n",
       "| 1462.25 | 1452.50 |\n",
       "| 1782.50 | 1776.50 |\n",
       "| 1671.00 | 1667.00 |\n",
       "| 1581.75 | 1571.00 |\n",
       "\n"
      ],
      "text/plain": [
       "  AM_Height PM_Height\n",
       "1 1728.75   1720.25  \n",
       "2 1538.25   1528.50  \n",
       "3 1462.25   1452.50  \n",
       "4 1782.50   1776.50  \n",
       "5 1671.00   1667.00  \n",
       "6 1581.75   1571.00  "
      ]
     },
     "metadata": {},
     "output_type": "display_data"
    }
   ],
   "source": [
    "head(heights)"
   ]
  },
  {
   "cell_type": "markdown",
   "id": "ee2a67f6-0b52-4fe9-a517-c929d5d3947d",
   "metadata": {},
   "source": [
    "# Simple Linear Regression in R"
   ]
  },
  {
   "cell_type": "code",
   "execution_count": null,
   "id": "d16f4275-58f9-4f78-8212-ac0c24adf749",
   "metadata": {},
   "outputs": [],
   "source": []
  }
 ],
 "metadata": {
  "kernelspec": {
   "display_name": "R",
   "language": "R",
   "name": "ir"
  },
  "language_info": {
   "codemirror_mode": "r",
   "file_extension": ".r",
   "mimetype": "text/x-r-source",
   "name": "R",
   "pygments_lexer": "r",
   "version": "4.2.1"
  }
 },
 "nbformat": 4,
 "nbformat_minor": 5
}
