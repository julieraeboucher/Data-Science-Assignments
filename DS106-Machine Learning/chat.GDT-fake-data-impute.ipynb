{
 "cells": [
  {
   "cell_type": "code",
   "execution_count": 1,
   "id": "62b13e93-f1fd-4d29-b82e-db3ecada0a0e",
   "metadata": {},
   "outputs": [],
   "source": [
    "import numpy as np\n",
    "import pandas as pd\n",
    "import matplotlib.pyplot as plt\n",
    "from sklearn.impute import SimpleImputer"
   ]
  },
  {
   "cell_type": "code",
   "execution_count": 2,
   "id": "db83f739-c4f9-48fb-b1d3-81b7e597dd4a",
   "metadata": {},
   "outputs": [],
   "source": [
    "# Create a fake dataset with 10 columns and 100 rows\n",
    "np.random.seed(0)\n",
    "data = np.random.randn(100, 10)"
   ]
  },
  {
   "cell_type": "code",
   "execution_count": 3,
   "id": "e6518a7c-37c3-4091-a47a-7aaa0e43510e",
   "metadata": {},
   "outputs": [],
   "source": [
    "# Introduce missing values in the dataset\n",
    "for i in range(10):\n",
    "    missing_rows = np.random.randint(0, 100, size=int(100*0.05)) # 5% of rows\n",
    "    data[missing_rows, i] = np.nan"
   ]
  },
  {
   "cell_type": "code",
   "execution_count": 4,
   "id": "42d08431-f532-446c-8b0c-8afa2071be63",
   "metadata": {},
   "outputs": [],
   "source": [
    "# Create a DataFrame from the data\n",
    "df = pd.DataFrame(data, columns=['col_'+str(i) for i in range(10)])"
   ]
  },
  {
   "cell_type": "code",
   "execution_count": 5,
   "id": "491be039-6d86-4533-b769-b259f6de7da3",
   "metadata": {},
   "outputs": [
    {
     "name": "stdout",
     "output_type": "stream",
     "text": [
      "      col_0     col_1     col_2     col_3     col_4     col_5     col_6  \\\n",
      "0  1.764052  0.400157  0.978738  2.240893       NaN -0.977278  0.950088   \n",
      "1  0.144044  1.454274  0.761038  0.121675  0.443863  0.333674  1.494079   \n",
      "2 -2.552990  0.653619  0.864436 -0.742165  2.269755 -1.454366  0.045759   \n",
      "3  0.154947  0.378163 -0.887786 -1.980796 -0.347912  0.156349  1.230291   \n",
      "4 -1.048553 -1.420018 -1.706270  1.950775 -0.509652 -0.438074 -1.252795   \n",
      "\n",
      "      col_7     col_8     col_9  \n",
      "0 -0.151357 -0.103219  0.410599  \n",
      "1 -0.205158  0.313068 -0.854096  \n",
      "2 -0.187184  1.532779  1.469359  \n",
      "3  1.202380 -0.387327 -0.302303  \n",
      "4  0.777490 -1.613898 -0.212740  \n"
     ]
    }
   ],
   "source": [
    "# Show the first 5 rows of the DataFrame\n",
    "print(df.head())"
   ]
  },
  {
   "cell_type": "code",
   "execution_count": 6,
   "id": "eaabc94c-b12f-4673-bcd7-8d0153cbbd02",
   "metadata": {},
   "outputs": [
    {
     "data": {
      "image/png": "[encoded data removed]",
      "text/plain": [
       "<Figure size 432x288 with 1 Axes>"
      ]
     },
     "metadata": {
      "needs_background": "light"
     },
     "output_type": "display_data"
    }
   ],
   "source": [
    "# Plot the distribution of each column\n",
    "df.plot(kind='box')\n",
    "plt.show()"
   ]
  },
  {
   "cell_type": "code",
   "execution_count": 7,
   "id": "a628da63-a6e3-48ac-b213-db85fd17c095",
   "metadata": {},
   "outputs": [],
   "source": [
    "# Impute missing values with the mean of the feature\n",
    "imputer = SimpleImputer(strategy='mean')\n",
    "imputer.fit(df)\n",
    "df = imputer.transform(df)"
   ]
  },
  {
   "cell_type": "code",
   "execution_count": 10,
   "id": "066f4723-8c3f-4d45-bb55-e42414336065",
   "metadata": {},
   "outputs": [],
   "source": [
    "# Convert the dataframe to csv\n",
    "# df.to_csv(\"imputed_data.csv\", index=False)\n",
    "\n",
    "# I apologize for the confusion, the error message is correct. After the imputation step df = imputer.transform(df) the variable df is no longer a dataframe, it's a numpy array, so it doesn't have the .to_csv() method.\n",
    "# To fix this, you can simply convert the numpy array back to a DataFrame and then save it as a csv:"
   ]
  },
  {
   "cell_type": "code",
   "execution_count": 9,
   "id": "5cbfc329-05fa-4227-9d14-b1ff8012552f",
   "metadata": {},
   "outputs": [],
   "source": [
    "# Convert array the dataframe to csv\n",
    "df = pd.DataFrame(df, columns=['col_'+str(i) for i in range(10)])\n",
    "df.to_csv(\"imputed_data.csv\", index=False)"
   ]
  },
  {
   "cell_type": "code",
   "execution_count": null,
   "id": "a60f9c61-819a-451a-b71a-1c9bcdabe563",
   "metadata": {},
   "outputs": [],
   "source": []
  }
 ],
 "metadata": {
  "kernelspec": {
   "display_name": "Python 3 (ipykernel)",
   "language": "python",
   "name": "python3"
  },
  "language_info": {
   "codemirror_mode": {
    "name": "ipython",
    "version": 3
   },
   "file_extension": ".py",
   "mimetype": "text/x-python",
   "name": "python",
   "nbconvert_exporter": "python",
   "pygments_lexer": "ipython3",
   "version": "3.9.13"
  }
 },
 "nbformat": 4,
 "nbformat_minor": 5
}
